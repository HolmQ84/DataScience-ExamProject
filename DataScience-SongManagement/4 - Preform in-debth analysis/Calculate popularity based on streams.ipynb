{
 "cells": [
  {
   "cell_type": "markdown",
   "id": "3771b5e8",
   "metadata": {},
   "source": [
    "# Calculate Popularity based on streams"
   ]
  },
  {
   "cell_type": "markdown",
   "id": "c7b45808",
   "metadata": {},
   "source": [
    "### Import libraries"
   ]
  },
  {
   "cell_type": "code",
   "execution_count": 1,
   "id": "ac081ec3",
   "metadata": {},
   "outputs": [],
   "source": [
    "import pandas as pd\n",
    "import numpy as np\n",
    "import matplotlib.pyplot as plt\n",
    "import seaborn as sns\n",
    "%matplotlib inline\n",
    "import random\n",
    "import time\n",
    "from pandas.plotting import scatter_matrix\n",
    "from sklearn import datasets, svm, tree, preprocessing, metrics\n",
    "\n",
    "from sklearn.metrics import confusion_matrix\n",
    "from sklearn.naive_bayes import MultinomialNB\n",
    "from sklearn.linear_model import LogisticRegression\n",
    "from sklearn.decomposition import PCA\n",
    "from sklearn.preprocessing import StandardScaler"
   ]
  },
  {
   "cell_type": "code",
   "execution_count": 3,
   "id": "69151570",
   "metadata": {},
   "outputs": [],
   "source": [
    "# Import tha data set.\n",
    "data = pd.read_csv(\"../data/cleanedDataSetWithGenres.csv\")"
   ]
  },
  {
   "cell_type": "code",
   "execution_count": 4,
   "id": "e5ae9309",
   "metadata": {},
   "outputs": [
    {
     "data": {
      "text/html": [
       "<div>\n",
       "<style scoped>\n",
       "    .dataframe tbody tr th:only-of-type {\n",
       "        vertical-align: middle;\n",
       "    }\n",
       "\n",
       "    .dataframe tbody tr th {\n",
       "        vertical-align: top;\n",
       "    }\n",
       "\n",
       "    .dataframe thead th {\n",
       "        text-align: right;\n",
       "    }\n",
       "</style>\n",
       "<table border=\"1\" class=\"dataframe\">\n",
       "  <thead>\n",
       "    <tr style=\"text-align: right;\">\n",
       "      <th></th>\n",
       "      <th>Unnamed: 0</th>\n",
       "      <th>title</th>\n",
       "      <th>rank</th>\n",
       "      <th>date</th>\n",
       "      <th>artist</th>\n",
       "      <th>url</th>\n",
       "      <th>region</th>\n",
       "      <th>streams</th>\n",
       "      <th>danceability</th>\n",
       "      <th>energy</th>\n",
       "      <th>key</th>\n",
       "      <th>loudness</th>\n",
       "      <th>speechiness</th>\n",
       "      <th>acousticness</th>\n",
       "      <th>instrumentalness</th>\n",
       "      <th>liveness</th>\n",
       "      <th>valence</th>\n",
       "      <th>tempo</th>\n",
       "      <th>duration_ms</th>\n",
       "      <th>genre</th>\n",
       "    </tr>\n",
       "  </thead>\n",
       "  <tbody>\n",
       "    <tr>\n",
       "      <th>0</th>\n",
       "      <td>1</td>\n",
       "      <td>Despacito (Featuring Daddy Yankee)</td>\n",
       "      <td>1</td>\n",
       "      <td>2017-04-07</td>\n",
       "      <td>Luis Fonsi</td>\n",
       "      <td>https://open.spotify.com/track/4aWmUDTfIPGksMN...</td>\n",
       "      <td>Dominican Republic</td>\n",
       "      <td>11681.0</td>\n",
       "      <td>0.660</td>\n",
       "      <td>0.786</td>\n",
       "      <td>2.0</td>\n",
       "      <td>-4.757</td>\n",
       "      <td>0.1700</td>\n",
       "      <td>0.209</td>\n",
       "      <td>0.000000</td>\n",
       "      <td>0.1120</td>\n",
       "      <td>0.8460</td>\n",
       "      <td>177.833</td>\n",
       "      <td>228200.0</td>\n",
       "      <td>Pop</td>\n",
       "    </tr>\n",
       "    <tr>\n",
       "      <th>1</th>\n",
       "      <td>4</td>\n",
       "      <td>Binibini</td>\n",
       "      <td>1</td>\n",
       "      <td>2021-04-16</td>\n",
       "      <td>Zack Tabudlo</td>\n",
       "      <td>https://open.spotify.com/track/2X5AFygz5SDYlXa...</td>\n",
       "      <td>Philippines</td>\n",
       "      <td>401678.0</td>\n",
       "      <td>0.642</td>\n",
       "      <td>0.374</td>\n",
       "      <td>5.0</td>\n",
       "      <td>-10.606</td>\n",
       "      <td>0.0320</td>\n",
       "      <td>0.423</td>\n",
       "      <td>0.000002</td>\n",
       "      <td>0.4350</td>\n",
       "      <td>0.0979</td>\n",
       "      <td>129.863</td>\n",
       "      <td>221538.0</td>\n",
       "      <td>Pop</td>\n",
       "    </tr>\n",
       "    <tr>\n",
       "      <th>2</th>\n",
       "      <td>5</td>\n",
       "      <td>7 rings</td>\n",
       "      <td>1</td>\n",
       "      <td>2019-03-16</td>\n",
       "      <td>Ariana Grande</td>\n",
       "      <td>https://open.spotify.com/track/6ocbgoVGwYJhOv1...</td>\n",
       "      <td>Indonesia</td>\n",
       "      <td>125837.0</td>\n",
       "      <td>0.778</td>\n",
       "      <td>0.317</td>\n",
       "      <td>1.0</td>\n",
       "      <td>-10.732</td>\n",
       "      <td>0.3340</td>\n",
       "      <td>0.592</td>\n",
       "      <td>0.000000</td>\n",
       "      <td>0.0881</td>\n",
       "      <td>0.3270</td>\n",
       "      <td>140.048</td>\n",
       "      <td>178627.0</td>\n",
       "      <td>Rap</td>\n",
       "    </tr>\n",
       "    <tr>\n",
       "      <th>3</th>\n",
       "      <td>6</td>\n",
       "      <td>Shape of You</td>\n",
       "      <td>1</td>\n",
       "      <td>2017-03-08</td>\n",
       "      <td>Ed Sheeran</td>\n",
       "      <td>https://open.spotify.com/track/7qiZfU4dY1lWllz...</td>\n",
       "      <td>Portugal</td>\n",
       "      <td>55132.0</td>\n",
       "      <td>0.825</td>\n",
       "      <td>0.652</td>\n",
       "      <td>1.0</td>\n",
       "      <td>-3.183</td>\n",
       "      <td>0.0802</td>\n",
       "      <td>0.581</td>\n",
       "      <td>0.000000</td>\n",
       "      <td>0.0931</td>\n",
       "      <td>0.9310</td>\n",
       "      <td>95.977</td>\n",
       "      <td>233713.0</td>\n",
       "      <td>R&amp;B</td>\n",
       "    </tr>\n",
       "    <tr>\n",
       "      <th>4</th>\n",
       "      <td>9</td>\n",
       "      <td>Someone You Loved</td>\n",
       "      <td>1</td>\n",
       "      <td>2019-03-16</td>\n",
       "      <td>Lewis Capaldi</td>\n",
       "      <td>https://open.spotify.com/track/2TIlqbIneP0ZY1O...</td>\n",
       "      <td>Ireland</td>\n",
       "      <td>63074.0</td>\n",
       "      <td>0.501</td>\n",
       "      <td>0.405</td>\n",
       "      <td>1.0</td>\n",
       "      <td>-5.679</td>\n",
       "      <td>0.0319</td>\n",
       "      <td>0.751</td>\n",
       "      <td>0.000000</td>\n",
       "      <td>0.1050</td>\n",
       "      <td>0.4460</td>\n",
       "      <td>109.891</td>\n",
       "      <td>182161.0</td>\n",
       "      <td>Pop</td>\n",
       "    </tr>\n",
       "  </tbody>\n",
       "</table>\n",
       "</div>"
      ],
      "text/plain": [
       "   Unnamed: 0                               title  rank        date  \\\n",
       "0           1  Despacito (Featuring Daddy Yankee)     1  2017-04-07   \n",
       "1           4                            Binibini     1  2021-04-16   \n",
       "2           5                             7 rings     1  2019-03-16   \n",
       "3           6                        Shape of You     1  2017-03-08   \n",
       "4           9                   Someone You Loved     1  2019-03-16   \n",
       "\n",
       "          artist                                                url  \\\n",
       "0     Luis Fonsi  https://open.spotify.com/track/4aWmUDTfIPGksMN...   \n",
       "1   Zack Tabudlo  https://open.spotify.com/track/2X5AFygz5SDYlXa...   \n",
       "2  Ariana Grande  https://open.spotify.com/track/6ocbgoVGwYJhOv1...   \n",
       "3     Ed Sheeran  https://open.spotify.com/track/7qiZfU4dY1lWllz...   \n",
       "4  Lewis Capaldi  https://open.spotify.com/track/2TIlqbIneP0ZY1O...   \n",
       "\n",
       "               region   streams  danceability  energy  key  loudness  \\\n",
       "0  Dominican Republic   11681.0         0.660   0.786  2.0    -4.757   \n",
       "1         Philippines  401678.0         0.642   0.374  5.0   -10.606   \n",
       "2           Indonesia  125837.0         0.778   0.317  1.0   -10.732   \n",
       "3            Portugal   55132.0         0.825   0.652  1.0    -3.183   \n",
       "4             Ireland   63074.0         0.501   0.405  1.0    -5.679   \n",
       "\n",
       "   speechiness  acousticness  instrumentalness  liveness  valence    tempo  \\\n",
       "0       0.1700         0.209          0.000000    0.1120   0.8460  177.833   \n",
       "1       0.0320         0.423          0.000002    0.4350   0.0979  129.863   \n",
       "2       0.3340         0.592          0.000000    0.0881   0.3270  140.048   \n",
       "3       0.0802         0.581          0.000000    0.0931   0.9310   95.977   \n",
       "4       0.0319         0.751          0.000000    0.1050   0.4460  109.891   \n",
       "\n",
       "   duration_ms genre  \n",
       "0     228200.0   Pop  \n",
       "1     221538.0   Pop  \n",
       "2     178627.0   Rap  \n",
       "3     233713.0   R&B  \n",
       "4     182161.0   Pop  "
      ]
     },
     "execution_count": 4,
     "metadata": {},
     "output_type": "execute_result"
    }
   ],
   "source": [
    "data.head()"
   ]
  },
  {
   "cell_type": "code",
   "execution_count": 5,
   "id": "4c53a3c8",
   "metadata": {},
   "outputs": [],
   "source": [
    "# Drop unnamed column with old index.\n",
    "data.drop('Unnamed: 0', inplace=True, axis=1)"
   ]
  },
  {
   "cell_type": "code",
   "execution_count": 6,
   "id": "ff0cb3a8",
   "metadata": {},
   "outputs": [
    {
     "data": {
      "text/plain": [
       "title               0\n",
       "rank                0\n",
       "date                0\n",
       "artist              0\n",
       "url                 0\n",
       "region              0\n",
       "streams             0\n",
       "danceability        6\n",
       "energy              6\n",
       "key                 6\n",
       "loudness            6\n",
       "speechiness         6\n",
       "acousticness        6\n",
       "instrumentalness    6\n",
       "liveness            6\n",
       "valence             6\n",
       "tempo               6\n",
       "duration_ms         6\n",
       "genre               0\n",
       "dtype: int64"
      ]
     },
     "execution_count": 6,
     "metadata": {},
     "output_type": "execute_result"
    }
   ],
   "source": [
    "data.isna().sum()"
   ]
  },
  {
   "cell_type": "code",
   "execution_count": 7,
   "id": "cbfc6064",
   "metadata": {},
   "outputs": [],
   "source": [
    "data = data.dropna()"
   ]
  },
  {
   "cell_type": "code",
   "execution_count": 8,
   "id": "97ae742d",
   "metadata": {},
   "outputs": [
    {
     "data": {
      "text/plain": [
       "count    5.736600e+04\n",
       "mean     8.557899e+04\n",
       "std      1.930815e+05\n",
       "min      1.001000e+03\n",
       "25%      7.566000e+03\n",
       "50%      2.900900e+04\n",
       "75%      7.874475e+04\n",
       "max      8.611591e+06\n",
       "Name: streams, dtype: float64"
      ]
     },
     "execution_count": 8,
     "metadata": {},
     "output_type": "execute_result"
    }
   ],
   "source": [
    "# Show quantiles of streams.\n",
    "data['streams'].describe()"
   ]
  },
  {
   "cell_type": "code",
   "execution_count": 9,
   "id": "6ba09c18",
   "metadata": {},
   "outputs": [
    {
     "data": {
      "text/plain": [
       "0.0       1001.0\n",
       "0.7      63696.0\n",
       "1.0    8611591.0\n",
       "Name: streams, dtype: float64"
      ]
     },
     "execution_count": 9,
     "metadata": {},
     "output_type": "execute_result"
    }
   ],
   "source": [
    "quantiles = data[\"streams\"].quantile([0, 0.7, 1])\n",
    "quantiles"
   ]
  },
  {
   "cell_type": "code",
   "execution_count": 10,
   "id": "7cf6a09e",
   "metadata": {},
   "outputs": [
    {
     "name": "stdout",
     "output_type": "stream",
     "text": [
      "Added new rows from external links in 6.3148 seconds\n"
     ]
    }
   ],
   "source": [
    "tic = time.perf_counter()\n",
    "counter = 0\n",
    "\n",
    "for index, row in data.iterrows():\n",
    "  \n",
    "    if (row[\"streams\"] >= quantiles[0.7]):\n",
    "        data.at[index, 'Popularity'] = 'Popular'\n",
    "\n",
    "    elif (row[\"streams\"] < quantiles[0.7]):\n",
    "        data.at[index, 'Popularity'] = 'Not Popular'\n",
    "        \n",
    "    counter = counter+1\n",
    "                \n",
    "toc = time.perf_counter()\n",
    "print(f\"Added new rows from external links in {toc - tic:0.4f} seconds\")"
   ]
  },
  {
   "cell_type": "code",
   "execution_count": 11,
   "id": "8a2cc483",
   "metadata": {},
   "outputs": [
    {
     "data": {
      "text/html": [
       "<div>\n",
       "<style scoped>\n",
       "    .dataframe tbody tr th:only-of-type {\n",
       "        vertical-align: middle;\n",
       "    }\n",
       "\n",
       "    .dataframe tbody tr th {\n",
       "        vertical-align: top;\n",
       "    }\n",
       "\n",
       "    .dataframe thead th {\n",
       "        text-align: right;\n",
       "    }\n",
       "</style>\n",
       "<table border=\"1\" class=\"dataframe\">\n",
       "  <thead>\n",
       "    <tr style=\"text-align: right;\">\n",
       "      <th></th>\n",
       "      <th>title</th>\n",
       "      <th>rank</th>\n",
       "      <th>date</th>\n",
       "      <th>artist</th>\n",
       "      <th>url</th>\n",
       "      <th>region</th>\n",
       "      <th>streams</th>\n",
       "      <th>danceability</th>\n",
       "      <th>energy</th>\n",
       "      <th>key</th>\n",
       "      <th>loudness</th>\n",
       "      <th>speechiness</th>\n",
       "      <th>acousticness</th>\n",
       "      <th>instrumentalness</th>\n",
       "      <th>liveness</th>\n",
       "      <th>valence</th>\n",
       "      <th>tempo</th>\n",
       "      <th>duration_ms</th>\n",
       "      <th>genre</th>\n",
       "      <th>Popularity</th>\n",
       "    </tr>\n",
       "  </thead>\n",
       "  <tbody>\n",
       "    <tr>\n",
       "      <th>0</th>\n",
       "      <td>Despacito (Featuring Daddy Yankee)</td>\n",
       "      <td>1</td>\n",
       "      <td>2017-04-07</td>\n",
       "      <td>Luis Fonsi</td>\n",
       "      <td>https://open.spotify.com/track/4aWmUDTfIPGksMN...</td>\n",
       "      <td>Dominican Republic</td>\n",
       "      <td>11681.0</td>\n",
       "      <td>0.660</td>\n",
       "      <td>0.786</td>\n",
       "      <td>2.0</td>\n",
       "      <td>-4.757</td>\n",
       "      <td>0.1700</td>\n",
       "      <td>0.2090</td>\n",
       "      <td>0.000000</td>\n",
       "      <td>0.1120</td>\n",
       "      <td>0.8460</td>\n",
       "      <td>177.833</td>\n",
       "      <td>228200.0</td>\n",
       "      <td>Pop</td>\n",
       "      <td>Not Popular</td>\n",
       "    </tr>\n",
       "    <tr>\n",
       "      <th>1</th>\n",
       "      <td>Binibini</td>\n",
       "      <td>1</td>\n",
       "      <td>2021-04-16</td>\n",
       "      <td>Zack Tabudlo</td>\n",
       "      <td>https://open.spotify.com/track/2X5AFygz5SDYlXa...</td>\n",
       "      <td>Philippines</td>\n",
       "      <td>401678.0</td>\n",
       "      <td>0.642</td>\n",
       "      <td>0.374</td>\n",
       "      <td>5.0</td>\n",
       "      <td>-10.606</td>\n",
       "      <td>0.0320</td>\n",
       "      <td>0.4230</td>\n",
       "      <td>0.000002</td>\n",
       "      <td>0.4350</td>\n",
       "      <td>0.0979</td>\n",
       "      <td>129.863</td>\n",
       "      <td>221538.0</td>\n",
       "      <td>Pop</td>\n",
       "      <td>Popular</td>\n",
       "    </tr>\n",
       "    <tr>\n",
       "      <th>2</th>\n",
       "      <td>7 rings</td>\n",
       "      <td>1</td>\n",
       "      <td>2019-03-16</td>\n",
       "      <td>Ariana Grande</td>\n",
       "      <td>https://open.spotify.com/track/6ocbgoVGwYJhOv1...</td>\n",
       "      <td>Indonesia</td>\n",
       "      <td>125837.0</td>\n",
       "      <td>0.778</td>\n",
       "      <td>0.317</td>\n",
       "      <td>1.0</td>\n",
       "      <td>-10.732</td>\n",
       "      <td>0.3340</td>\n",
       "      <td>0.5920</td>\n",
       "      <td>0.000000</td>\n",
       "      <td>0.0881</td>\n",
       "      <td>0.3270</td>\n",
       "      <td>140.048</td>\n",
       "      <td>178627.0</td>\n",
       "      <td>Rap</td>\n",
       "      <td>Popular</td>\n",
       "    </tr>\n",
       "    <tr>\n",
       "      <th>3</th>\n",
       "      <td>Shape of You</td>\n",
       "      <td>1</td>\n",
       "      <td>2017-03-08</td>\n",
       "      <td>Ed Sheeran</td>\n",
       "      <td>https://open.spotify.com/track/7qiZfU4dY1lWllz...</td>\n",
       "      <td>Portugal</td>\n",
       "      <td>55132.0</td>\n",
       "      <td>0.825</td>\n",
       "      <td>0.652</td>\n",
       "      <td>1.0</td>\n",
       "      <td>-3.183</td>\n",
       "      <td>0.0802</td>\n",
       "      <td>0.5810</td>\n",
       "      <td>0.000000</td>\n",
       "      <td>0.0931</td>\n",
       "      <td>0.9310</td>\n",
       "      <td>95.977</td>\n",
       "      <td>233713.0</td>\n",
       "      <td>R&amp;B</td>\n",
       "      <td>Not Popular</td>\n",
       "    </tr>\n",
       "    <tr>\n",
       "      <th>4</th>\n",
       "      <td>Someone You Loved</td>\n",
       "      <td>1</td>\n",
       "      <td>2019-03-16</td>\n",
       "      <td>Lewis Capaldi</td>\n",
       "      <td>https://open.spotify.com/track/2TIlqbIneP0ZY1O...</td>\n",
       "      <td>Ireland</td>\n",
       "      <td>63074.0</td>\n",
       "      <td>0.501</td>\n",
       "      <td>0.405</td>\n",
       "      <td>1.0</td>\n",
       "      <td>-5.679</td>\n",
       "      <td>0.0319</td>\n",
       "      <td>0.7510</td>\n",
       "      <td>0.000000</td>\n",
       "      <td>0.1050</td>\n",
       "      <td>0.4460</td>\n",
       "      <td>109.891</td>\n",
       "      <td>182161.0</td>\n",
       "      <td>Pop</td>\n",
       "      <td>Not Popular</td>\n",
       "    </tr>\n",
       "    <tr>\n",
       "      <th>...</th>\n",
       "      <td>...</td>\n",
       "      <td>...</td>\n",
       "      <td>...</td>\n",
       "      <td>...</td>\n",
       "      <td>...</td>\n",
       "      <td>...</td>\n",
       "      <td>...</td>\n",
       "      <td>...</td>\n",
       "      <td>...</td>\n",
       "      <td>...</td>\n",
       "      <td>...</td>\n",
       "      <td>...</td>\n",
       "      <td>...</td>\n",
       "      <td>...</td>\n",
       "      <td>...</td>\n",
       "      <td>...</td>\n",
       "      <td>...</td>\n",
       "      <td>...</td>\n",
       "      <td>...</td>\n",
       "      <td>...</td>\n",
       "    </tr>\n",
       "    <tr>\n",
       "      <th>57367</th>\n",
       "      <td>One More I Love You</td>\n",
       "      <td>200</td>\n",
       "      <td>2021-06-14</td>\n",
       "      <td>Alex Warren</td>\n",
       "      <td>https://open.spotify.com/track/3v9IFz7EikDfXXf...</td>\n",
       "      <td>Norway</td>\n",
       "      <td>9369.0</td>\n",
       "      <td>0.631</td>\n",
       "      <td>0.381</td>\n",
       "      <td>8.0</td>\n",
       "      <td>-8.232</td>\n",
       "      <td>0.0386</td>\n",
       "      <td>0.7680</td>\n",
       "      <td>0.002180</td>\n",
       "      <td>0.2610</td>\n",
       "      <td>0.5460</td>\n",
       "      <td>92.951</td>\n",
       "      <td>216935.0</td>\n",
       "      <td>Pop</td>\n",
       "      <td>Not Popular</td>\n",
       "    </tr>\n",
       "    <tr>\n",
       "      <th>57368</th>\n",
       "      <td>Tomara</td>\n",
       "      <td>200</td>\n",
       "      <td>2021-05-14</td>\n",
       "      <td>Mumuzinho, Matheus &amp; Kauan</td>\n",
       "      <td>https://open.spotify.com/track/5ZcxuXjK5PmMoMc...</td>\n",
       "      <td>Brazil</td>\n",
       "      <td>93709.0</td>\n",
       "      <td>0.688</td>\n",
       "      <td>0.685</td>\n",
       "      <td>7.0</td>\n",
       "      <td>-7.699</td>\n",
       "      <td>0.0379</td>\n",
       "      <td>0.5040</td>\n",
       "      <td>0.000000</td>\n",
       "      <td>0.0984</td>\n",
       "      <td>0.8090</td>\n",
       "      <td>143.081</td>\n",
       "      <td>176298.0</td>\n",
       "      <td>Pop</td>\n",
       "      <td>Popular</td>\n",
       "    </tr>\n",
       "    <tr>\n",
       "      <th>57369</th>\n",
       "      <td>Seribu Racun</td>\n",
       "      <td>200</td>\n",
       "      <td>2019-03-08</td>\n",
       "      <td>Barasuara</td>\n",
       "      <td>https://open.spotify.com/track/39g77d5bDuayJ0H...</td>\n",
       "      <td>Indonesia</td>\n",
       "      <td>17762.0</td>\n",
       "      <td>0.553</td>\n",
       "      <td>0.853</td>\n",
       "      <td>0.0</td>\n",
       "      <td>-4.307</td>\n",
       "      <td>0.0367</td>\n",
       "      <td>0.0010</td>\n",
       "      <td>0.011000</td>\n",
       "      <td>0.1150</td>\n",
       "      <td>0.4850</td>\n",
       "      <td>126.056</td>\n",
       "      <td>211814.0</td>\n",
       "      <td>Rock</td>\n",
       "      <td>Not Popular</td>\n",
       "    </tr>\n",
       "    <tr>\n",
       "      <th>57370</th>\n",
       "      <td>Denk Maar Niet</td>\n",
       "      <td>200</td>\n",
       "      <td>2019-04-26</td>\n",
       "      <td>Sarita Lorena</td>\n",
       "      <td>https://open.spotify.com/track/5G1okMhYARR41Eq...</td>\n",
       "      <td>Netherlands</td>\n",
       "      <td>27670.0</td>\n",
       "      <td>0.801</td>\n",
       "      <td>0.488</td>\n",
       "      <td>11.0</td>\n",
       "      <td>-12.174</td>\n",
       "      <td>0.1020</td>\n",
       "      <td>0.0282</td>\n",
       "      <td>0.000277</td>\n",
       "      <td>0.1120</td>\n",
       "      <td>0.7330</td>\n",
       "      <td>106.071</td>\n",
       "      <td>169811.0</td>\n",
       "      <td>Rap</td>\n",
       "      <td>Not Popular</td>\n",
       "    </tr>\n",
       "    <tr>\n",
       "      <th>57371</th>\n",
       "      <td>Ik Heb Je</td>\n",
       "      <td>200</td>\n",
       "      <td>2018-10-26</td>\n",
       "      <td>Maan</td>\n",
       "      <td>https://open.spotify.com/track/2Xqs5ozueApOYZm...</td>\n",
       "      <td>Netherlands</td>\n",
       "      <td>25204.0</td>\n",
       "      <td>0.845</td>\n",
       "      <td>0.559</td>\n",
       "      <td>6.0</td>\n",
       "      <td>-5.171</td>\n",
       "      <td>0.1680</td>\n",
       "      <td>0.3370</td>\n",
       "      <td>0.001710</td>\n",
       "      <td>0.0758</td>\n",
       "      <td>0.6280</td>\n",
       "      <td>100.242</td>\n",
       "      <td>176404.0</td>\n",
       "      <td>Pop</td>\n",
       "      <td>Not Popular</td>\n",
       "    </tr>\n",
       "  </tbody>\n",
       "</table>\n",
       "<p>57366 rows × 20 columns</p>\n",
       "</div>"
      ],
      "text/plain": [
       "                                    title  rank        date  \\\n",
       "0      Despacito (Featuring Daddy Yankee)     1  2017-04-07   \n",
       "1                                Binibini     1  2021-04-16   \n",
       "2                                 7 rings     1  2019-03-16   \n",
       "3                            Shape of You     1  2017-03-08   \n",
       "4                       Someone You Loved     1  2019-03-16   \n",
       "...                                   ...   ...         ...   \n",
       "57367                 One More I Love You   200  2021-06-14   \n",
       "57368                              Tomara   200  2021-05-14   \n",
       "57369                        Seribu Racun   200  2019-03-08   \n",
       "57370                      Denk Maar Niet   200  2019-04-26   \n",
       "57371                           Ik Heb Je   200  2018-10-26   \n",
       "\n",
       "                           artist  \\\n",
       "0                      Luis Fonsi   \n",
       "1                    Zack Tabudlo   \n",
       "2                   Ariana Grande   \n",
       "3                      Ed Sheeran   \n",
       "4                   Lewis Capaldi   \n",
       "...                           ...   \n",
       "57367                 Alex Warren   \n",
       "57368  Mumuzinho, Matheus & Kauan   \n",
       "57369                   Barasuara   \n",
       "57370               Sarita Lorena   \n",
       "57371                        Maan   \n",
       "\n",
       "                                                     url              region  \\\n",
       "0      https://open.spotify.com/track/4aWmUDTfIPGksMN...  Dominican Republic   \n",
       "1      https://open.spotify.com/track/2X5AFygz5SDYlXa...         Philippines   \n",
       "2      https://open.spotify.com/track/6ocbgoVGwYJhOv1...           Indonesia   \n",
       "3      https://open.spotify.com/track/7qiZfU4dY1lWllz...            Portugal   \n",
       "4      https://open.spotify.com/track/2TIlqbIneP0ZY1O...             Ireland   \n",
       "...                                                  ...                 ...   \n",
       "57367  https://open.spotify.com/track/3v9IFz7EikDfXXf...              Norway   \n",
       "57368  https://open.spotify.com/track/5ZcxuXjK5PmMoMc...              Brazil   \n",
       "57369  https://open.spotify.com/track/39g77d5bDuayJ0H...           Indonesia   \n",
       "57370  https://open.spotify.com/track/5G1okMhYARR41Eq...         Netherlands   \n",
       "57371  https://open.spotify.com/track/2Xqs5ozueApOYZm...         Netherlands   \n",
       "\n",
       "        streams  danceability  energy   key  loudness  speechiness  \\\n",
       "0       11681.0         0.660   0.786   2.0    -4.757       0.1700   \n",
       "1      401678.0         0.642   0.374   5.0   -10.606       0.0320   \n",
       "2      125837.0         0.778   0.317   1.0   -10.732       0.3340   \n",
       "3       55132.0         0.825   0.652   1.0    -3.183       0.0802   \n",
       "4       63074.0         0.501   0.405   1.0    -5.679       0.0319   \n",
       "...         ...           ...     ...   ...       ...          ...   \n",
       "57367    9369.0         0.631   0.381   8.0    -8.232       0.0386   \n",
       "57368   93709.0         0.688   0.685   7.0    -7.699       0.0379   \n",
       "57369   17762.0         0.553   0.853   0.0    -4.307       0.0367   \n",
       "57370   27670.0         0.801   0.488  11.0   -12.174       0.1020   \n",
       "57371   25204.0         0.845   0.559   6.0    -5.171       0.1680   \n",
       "\n",
       "       acousticness  instrumentalness  liveness  valence    tempo  \\\n",
       "0            0.2090          0.000000    0.1120   0.8460  177.833   \n",
       "1            0.4230          0.000002    0.4350   0.0979  129.863   \n",
       "2            0.5920          0.000000    0.0881   0.3270  140.048   \n",
       "3            0.5810          0.000000    0.0931   0.9310   95.977   \n",
       "4            0.7510          0.000000    0.1050   0.4460  109.891   \n",
       "...             ...               ...       ...      ...      ...   \n",
       "57367        0.7680          0.002180    0.2610   0.5460   92.951   \n",
       "57368        0.5040          0.000000    0.0984   0.8090  143.081   \n",
       "57369        0.0010          0.011000    0.1150   0.4850  126.056   \n",
       "57370        0.0282          0.000277    0.1120   0.7330  106.071   \n",
       "57371        0.3370          0.001710    0.0758   0.6280  100.242   \n",
       "\n",
       "       duration_ms genre   Popularity  \n",
       "0         228200.0   Pop  Not Popular  \n",
       "1         221538.0   Pop      Popular  \n",
       "2         178627.0   Rap      Popular  \n",
       "3         233713.0   R&B  Not Popular  \n",
       "4         182161.0   Pop  Not Popular  \n",
       "...            ...   ...          ...  \n",
       "57367     216935.0   Pop  Not Popular  \n",
       "57368     176298.0   Pop      Popular  \n",
       "57369     211814.0  Rock  Not Popular  \n",
       "57370     169811.0   Rap  Not Popular  \n",
       "57371     176404.0   Pop  Not Popular  \n",
       "\n",
       "[57366 rows x 20 columns]"
      ]
     },
     "execution_count": 11,
     "metadata": {},
     "output_type": "execute_result"
    }
   ],
   "source": [
    "# Check to see if the column \n",
    "data"
   ]
  },
  {
   "cell_type": "code",
   "execution_count": 12,
   "id": "864b206c",
   "metadata": {},
   "outputs": [],
   "source": [
    "# Drop unmeasurable columns with strings.\n",
    "data.drop('title', inplace=True, axis=1)\n",
    "data.drop('date', inplace=True, axis=1)\n",
    "data.drop('artist', inplace=True, axis=1)\n",
    "data.drop('url', inplace=True, axis=1)\n",
    "data.drop('region', inplace=True, axis=1)\n",
    "data.drop('genre', inplace=True, axis=1)\n",
    "data.drop('rank', inplace=True, axis=1)\n",
    "data.drop('duration_ms', inplace=True, axis=1)"
   ]
  },
  {
   "cell_type": "code",
   "execution_count": 13,
   "id": "78d5e3f7",
   "metadata": {},
   "outputs": [],
   "source": [
    "data.drop('streams', inplace=True, axis=1)"
   ]
  },
  {
   "cell_type": "code",
   "execution_count": 14,
   "id": "bcbeca99",
   "metadata": {},
   "outputs": [
    {
     "data": {
      "text/html": [
       "<div>\n",
       "<style scoped>\n",
       "    .dataframe tbody tr th:only-of-type {\n",
       "        vertical-align: middle;\n",
       "    }\n",
       "\n",
       "    .dataframe tbody tr th {\n",
       "        vertical-align: top;\n",
       "    }\n",
       "\n",
       "    .dataframe thead th {\n",
       "        text-align: right;\n",
       "    }\n",
       "</style>\n",
       "<table border=\"1\" class=\"dataframe\">\n",
       "  <thead>\n",
       "    <tr style=\"text-align: right;\">\n",
       "      <th></th>\n",
       "      <th>danceability</th>\n",
       "      <th>energy</th>\n",
       "      <th>key</th>\n",
       "      <th>loudness</th>\n",
       "      <th>speechiness</th>\n",
       "      <th>acousticness</th>\n",
       "      <th>instrumentalness</th>\n",
       "      <th>liveness</th>\n",
       "      <th>valence</th>\n",
       "      <th>tempo</th>\n",
       "      <th>Popularity</th>\n",
       "    </tr>\n",
       "  </thead>\n",
       "  <tbody>\n",
       "    <tr>\n",
       "      <th>0</th>\n",
       "      <td>0.660</td>\n",
       "      <td>0.786</td>\n",
       "      <td>2.0</td>\n",
       "      <td>-4.757</td>\n",
       "      <td>0.1700</td>\n",
       "      <td>0.209</td>\n",
       "      <td>0.000000</td>\n",
       "      <td>0.1120</td>\n",
       "      <td>0.8460</td>\n",
       "      <td>177.833</td>\n",
       "      <td>Not Popular</td>\n",
       "    </tr>\n",
       "    <tr>\n",
       "      <th>1</th>\n",
       "      <td>0.642</td>\n",
       "      <td>0.374</td>\n",
       "      <td>5.0</td>\n",
       "      <td>-10.606</td>\n",
       "      <td>0.0320</td>\n",
       "      <td>0.423</td>\n",
       "      <td>0.000002</td>\n",
       "      <td>0.4350</td>\n",
       "      <td>0.0979</td>\n",
       "      <td>129.863</td>\n",
       "      <td>Popular</td>\n",
       "    </tr>\n",
       "    <tr>\n",
       "      <th>2</th>\n",
       "      <td>0.778</td>\n",
       "      <td>0.317</td>\n",
       "      <td>1.0</td>\n",
       "      <td>-10.732</td>\n",
       "      <td>0.3340</td>\n",
       "      <td>0.592</td>\n",
       "      <td>0.000000</td>\n",
       "      <td>0.0881</td>\n",
       "      <td>0.3270</td>\n",
       "      <td>140.048</td>\n",
       "      <td>Popular</td>\n",
       "    </tr>\n",
       "    <tr>\n",
       "      <th>3</th>\n",
       "      <td>0.825</td>\n",
       "      <td>0.652</td>\n",
       "      <td>1.0</td>\n",
       "      <td>-3.183</td>\n",
       "      <td>0.0802</td>\n",
       "      <td>0.581</td>\n",
       "      <td>0.000000</td>\n",
       "      <td>0.0931</td>\n",
       "      <td>0.9310</td>\n",
       "      <td>95.977</td>\n",
       "      <td>Not Popular</td>\n",
       "    </tr>\n",
       "    <tr>\n",
       "      <th>4</th>\n",
       "      <td>0.501</td>\n",
       "      <td>0.405</td>\n",
       "      <td>1.0</td>\n",
       "      <td>-5.679</td>\n",
       "      <td>0.0319</td>\n",
       "      <td>0.751</td>\n",
       "      <td>0.000000</td>\n",
       "      <td>0.1050</td>\n",
       "      <td>0.4460</td>\n",
       "      <td>109.891</td>\n",
       "      <td>Not Popular</td>\n",
       "    </tr>\n",
       "  </tbody>\n",
       "</table>\n",
       "</div>"
      ],
      "text/plain": [
       "   danceability  energy  key  loudness  speechiness  acousticness  \\\n",
       "0         0.660   0.786  2.0    -4.757       0.1700         0.209   \n",
       "1         0.642   0.374  5.0   -10.606       0.0320         0.423   \n",
       "2         0.778   0.317  1.0   -10.732       0.3340         0.592   \n",
       "3         0.825   0.652  1.0    -3.183       0.0802         0.581   \n",
       "4         0.501   0.405  1.0    -5.679       0.0319         0.751   \n",
       "\n",
       "   instrumentalness  liveness  valence    tempo   Popularity  \n",
       "0          0.000000    0.1120   0.8460  177.833  Not Popular  \n",
       "1          0.000002    0.4350   0.0979  129.863      Popular  \n",
       "2          0.000000    0.0881   0.3270  140.048      Popular  \n",
       "3          0.000000    0.0931   0.9310   95.977  Not Popular  \n",
       "4          0.000000    0.1050   0.4460  109.891  Not Popular  "
      ]
     },
     "execution_count": 14,
     "metadata": {},
     "output_type": "execute_result"
    }
   ],
   "source": [
    "data.head()"
   ]
  },
  {
   "cell_type": "code",
   "execution_count": 15,
   "id": "4bc471be",
   "metadata": {},
   "outputs": [],
   "source": [
    "# Convert the dataset into two arrays\n",
    "array = data.values\n",
    "# Create two (sub) arrays from it\n",
    "X = array[:,0:10] # data without class\n",
    "y = array[:,10]   # just class"
   ]
  },
  {
   "cell_type": "code",
   "execution_count": 16,
   "id": "50b66966",
   "metadata": {},
   "outputs": [],
   "source": [
    "from sklearn import model_selection\n",
    "\n",
    "# Split the dataset into two: \n",
    "#   80% of it as training data\n",
    "#   20% as a validation dataset\n",
    "# Let Python split the set into four, we tell the proportion of splitting\n",
    "test_set_size = 0.2\n",
    "\n",
    "# Initial value for randomization\n",
    "seed = 10\n",
    "\n",
    "X_train, X_test, y_train, y_test = model_selection.train_test_split(X, y, test_size=test_set_size, random_state=seed)\n"
   ]
  },
  {
   "cell_type": "code",
   "execution_count": 17,
   "id": "c1563f55",
   "metadata": {},
   "outputs": [
    {
     "data": {
      "text/plain": [
       "array([0.879, 0.425, 0.0, -9.034, 0.253, 0.202, 0.0, 0.097, 0.348,\n",
       "       126.984], dtype=object)"
      ]
     },
     "execution_count": 17,
     "metadata": {},
     "output_type": "execute_result"
    }
   ],
   "source": [
    "X_test[0]"
   ]
  },
  {
   "cell_type": "markdown",
   "id": "a4fc4693",
   "metadata": {},
   "source": [
    "### <span style=\"color: green\">GaussianNB</span>"
   ]
  },
  {
   "cell_type": "code",
   "execution_count": 18,
   "id": "3695895a",
   "metadata": {},
   "outputs": [
    {
     "name": "stdout",
     "output_type": "stream",
     "text": [
      "Completed the fit in 0.179208 seconds\n"
     ]
    }
   ],
   "source": [
    "import time\n",
    "from sklearn.naive_bayes import GaussianNB\n",
    "\n",
    "# Time the event.\n",
    "tic = time.perf_counter()\n",
    "\n",
    "# Choose a model for fitting the data.\n",
    "gaussian_model = GaussianNB()\n",
    "gaussian_model.fit(X_train, y_train)\n",
    "\n",
    "toc = time.perf_counter()\n",
    "print(f\"Completed the fit in {toc - tic:0.6f} seconds\")"
   ]
  },
  {
   "cell_type": "code",
   "execution_count": 19,
   "id": "6652d23d",
   "metadata": {},
   "outputs": [
    {
     "data": {
      "text/plain": [
       "0.6714460036607688"
      ]
     },
     "execution_count": 19,
     "metadata": {},
     "output_type": "execute_result"
    }
   ],
   "source": [
    "# Check how good the fit of the model is on the train data.\n",
    "train_accuracy = gaussian_model.score(X_train, y_train)\n",
    "train_accuracy"
   ]
  },
  {
   "cell_type": "code",
   "execution_count": 20,
   "id": "9f8687ec",
   "metadata": {},
   "outputs": [
    {
     "data": {
      "text/plain": [
       "0.6732612863866132"
      ]
     },
     "execution_count": 20,
     "metadata": {},
     "output_type": "execute_result"
    }
   ],
   "source": [
    "# Check how good the fit of the model is on the test data.\n",
    "test_accuracy = gaussian_model.score(X_test, y_test)\n",
    "test_accuracy"
   ]
  },
  {
   "cell_type": "code",
   "execution_count": 21,
   "id": "82c5a319",
   "metadata": {},
   "outputs": [
    {
     "data": {
      "text/plain": [
       "array(['Popular', 'Popular', 'Not Popular', ..., 'Popular', 'Not Popular',\n",
       "       'Not Popular'], dtype='<U11')"
      ]
     },
     "execution_count": 21,
     "metadata": {},
     "output_type": "execute_result"
    }
   ],
   "source": [
    "# Test on the test data, try prediction\n",
    "gaussian_model_prediction = gaussian_model.predict(X_test)\n",
    "gaussian_model_prediction"
   ]
  },
  {
   "cell_type": "code",
   "execution_count": 22,
   "id": "4f5eda02",
   "metadata": {},
   "outputs": [
    {
     "data": {
      "image/png": "[encoded data removed]",
      "text/plain": [
       "<Figure size 432x288 with 2 Axes>"
      ]
     },
     "metadata": {
      "needs_background": "light"
     },
     "output_type": "display_data"
    }
   ],
   "source": [
    "import matplotlib.pyplot as plt\n",
    "from sklearn.datasets import make_classification\n",
    "from sklearn.metrics import confusion_matrix, ConfusionMatrixDisplay\n",
    "from sklearn.model_selection import train_test_split\n",
    "\n",
    "cm = confusion_matrix(y_test, gaussian_model_prediction, labels=gaussian_model.classes_)\n",
    "disp = ConfusionMatrixDisplay(confusion_matrix=cm, display_labels=gaussian_model.classes_)\n",
    "disp.plot()\n",
    "plt.rcParams[\"figure.figsize\"] = (15,10)"
   ]
  },
  {
   "cell_type": "markdown",
   "id": "74ae9781",
   "metadata": {},
   "source": [
    "#### Save the model for future usage"
   ]
  },
  {
   "cell_type": "code",
   "execution_count": 23,
   "id": "5a401a78",
   "metadata": {},
   "outputs": [],
   "source": [
    "#Spotify\n",
    "import spotipy\n",
    "from spotipy.oauth2 import SpotifyClientCredentials\n",
    "\n",
    "spotify_client_id = \"3a2f65eb20164b24b59b7fdd6876bb51\"\n",
    "spotify_client_secret = \"9f6d3a070cdf4eb8adda14a794d60469\"\n",
    "\n",
    "#Genius credentials\n",
    "genius_token = \"4SoLPv5UHyFZyAe5T-PhxS-bRCRrdNIgMNpeqjjIaWvnRbUmTpoGxd9knxBtlQyg\"\n",
    "\n",
    "#Authentication spotify - without user\n",
    "client_credentials_manager = SpotifyClientCredentials(client_id=\"3a2f65eb20164b24b59b7fdd6876bb51\", client_secret=\"9f6d3a070cdf4eb8adda14a794d60469\")\n",
    "sp = spotipy.Spotify(client_credentials_manager = client_credentials_manager)"
   ]
  },
  {
   "cell_type": "code",
   "execution_count": 26,
   "id": "07150326",
   "metadata": {},
   "outputs": [
    {
     "data": {
      "text/plain": [
       "['../data/popularity_prediction_model.pkl']"
      ]
     },
     "execution_count": 26,
     "metadata": {},
     "output_type": "execute_result"
    }
   ],
   "source": [
    "# For serialization and deserialization of data from/to file\n",
    "\n",
    "# from sklearn.externals import joblib\n",
    "\n",
    "import joblib\n",
    "\n",
    "joblib.dump(gaussian_model, '../data/popularity_prediction_model.pkl')"
   ]
  },
  {
   "cell_type": "markdown",
   "id": "d3c2784b",
   "metadata": {},
   "source": [
    "***\n",
    "### K-Nearest Neighbors"
   ]
  },
  {
   "cell_type": "code",
   "execution_count": 27,
   "id": "6ca9f475",
   "metadata": {},
   "outputs": [],
   "source": [
    "from sklearn.model_selection import train_test_split\n",
    "\n",
    "# Split both X and y into the new training and test sets.\n",
    "# This takes advantage of Pythons powerful assignment chaining and implicit tuple unpacking.\n",
    "\n",
    "X_train, X_test, y_train, y_test = train_test_split(X, y, test_size=0.2, random_state=10, stratify=y)"
   ]
  },
  {
   "cell_type": "code",
   "execution_count": 28,
   "id": "0f5d5f3a",
   "metadata": {},
   "outputs": [
    {
     "data": {
      "text/plain": [
       "KNeighborsClassifier(n_neighbors=100)"
      ]
     },
     "execution_count": 28,
     "metadata": {},
     "output_type": "execute_result"
    }
   ],
   "source": [
    "# note that 'stratify' is set to yes - this ensures that the sets contain the correct amount of each possible\n",
    "# target value. A stratified sample helps to ensure precision \n",
    "\n",
    "# The next step is to build our model - we are using the scikit learn KNN classifier\n",
    "from sklearn.neighbors import KNeighborsClassifier\n",
    "\n",
    "scikit_knn = KNeighborsClassifier(n_neighbors = 100)\n",
    "\n",
    "# now need to fit the classifier to the data\n",
    "#\n",
    "scikit_knn.fit(X_train,y_train)"
   ]
  },
  {
   "cell_type": "markdown",
   "id": "581c8420",
   "metadata": {},
   "source": [
    "#### The n_neighbours parameter sets the number of items nearest to the new data we are trying to predict.\n",
    "#### KNN then classifies the new point based on a majority vote system - whichever category gets at least 2 votes \n",
    "#### is the category the item will fall into. The neighbours are decided by distance from the new data point"
   ]
  },
  {
   "cell_type": "code",
   "execution_count": 29,
   "id": "1eb478c8",
   "metadata": {},
   "outputs": [
    {
     "data": {
      "text/plain": [
       "array(['Not Popular', 'Not Popular', 'Not Popular', 'Not Popular',\n",
       "       'Not Popular'], dtype=object)"
      ]
     },
     "execution_count": 29,
     "metadata": {},
     "output_type": "execute_result"
    }
   ],
   "source": [
    "# Now we have trained our model we can see how it performs on our test data \n",
    "# Start by looking at the first few predictions\n",
    "\n",
    "#show first 5 model predictions on the test data\n",
    "scikit_knn.predict(X_test)[0:5]"
   ]
  },
  {
   "cell_type": "markdown",
   "id": "b631aa09",
   "metadata": {},
   "source": [
    "#### Now we can check the accuracy of our model on the test data.\n",
    "#### Remember we have the real data so we can compare actual results against our predictions."
   ]
  },
  {
   "cell_type": "code",
   "execution_count": 30,
   "id": "e3a9c36a",
   "metadata": {},
   "outputs": [
    {
     "data": {
      "text/plain": [
       "0.699668816454593"
      ]
     },
     "execution_count": 30,
     "metadata": {},
     "output_type": "execute_result"
    }
   ],
   "source": [
    "# Check accuracy of our model on the test data\n",
    "scikit_knn.score(X_test, y_test)"
   ]
  },
  {
   "cell_type": "markdown",
   "id": "1d0b391a",
   "metadata": {},
   "source": [
    "#### So our model predicts the outcome with an accuracy of 69%\n",
    "#### Which is a little disappointing... it could be that we need more neighbors.\n",
    "\n",
    "#### First of all we do some cross-validation - randomly split the data into different groups and then run the process on each of those groups (we split into k groups which we then run as training and test sets)\n",
    "#### This means that each of our k-folds gets to be the test set."
   ]
  },
  {
   "cell_type": "code",
   "execution_count": 32,
   "id": "b20733cc",
   "metadata": {},
   "outputs": [
    {
     "name": "stdout",
     "output_type": "stream",
     "text": [
      "[0.69958166 0.6997298  0.70007845 0.69990412 0.69981696]\n",
      "cv_scores mean:0.6998221985241369\n"
     ]
    }
   ],
   "source": [
    "from sklearn.model_selection import cross_val_score\n",
    "\n",
    "# Instead of the train_test_split method which is very blunt we can use cross validation to generate k number\n",
    "# of accuracy scores and get the mean of them.\n",
    "\n",
    "#create a new KNN model\n",
    "knn_cv = KNeighborsClassifier(n_neighbors=100)\n",
    "\n",
    "#train model with cv of 5 \n",
    "cv_scores = cross_val_score(knn_cv, X, y, cv=5)\n",
    "# Print each cv score (accuracy) and average them\n",
    "print(cv_scores)\n",
    "print('cv_scores mean:{}'.format(np.mean(cv_scores)))"
   ]
  },
  {
   "cell_type": "markdown",
   "id": "adc4c8e1",
   "metadata": {},
   "source": [
    "#### This shows that each fold produced a different set of predictions but the average of them is 53.9% accurate.\n",
    "\n",
    "The original number of neighbors used was 100, but was random.\\\n",
    "These types of hyperparameters can be tuned so that optimum value is found.\\\n",
    "This can be done using grid search techniques - where a range of parameters is tried ona cross validation model - so not only are the test and training data tuned the number of neighbors will also bevaried."
   ]
  },
  {
   "cell_type": "code",
   "execution_count": null,
   "id": "d4bba78a",
   "metadata": {},
   "outputs": [],
   "source": [
    "from sklearn.model_selection import GridSearchCV\n",
    "\n",
    "#create new a knn model\n",
    "scikit_knn2 = KNeighborsClassifier()\n",
    "\n",
    "#create a dictionary of all values we want to test for n_neighbors using a numpy array\n",
    "param_grid = {'n_neighbors': np.arange(1, 100)}\n",
    "\n",
    "#use gridsearch to test all values for n_neighbors\n",
    "\n",
    "scikit_knn_gscv = GridSearchCV(scikit_knn2, param_grid, cv=5)\n",
    "\n",
    "#fit this new model to our data\n",
    "scikit_knn_gscv.fit(X, y)\n",
    "\n",
    "# we can find out what the best number of neighbours by using the 'best params' function\n",
    "scikit_knn_gscv.best_params_"
   ]
  },
  {
   "cell_type": "code",
   "execution_count": null,
   "id": "e846a10d",
   "metadata": {},
   "outputs": [],
   "source": [
    "scikit_knn_gscv.best_params_['n_neighbors']"
   ]
  },
  {
   "cell_type": "code",
   "execution_count": null,
   "id": "0b1960fd",
   "metadata": {},
   "outputs": [],
   "source": [
    "# So if we set n_neighbours to 14 our model will have the best accuracy for this data\n",
    "# can check the score under this constraint\n",
    "\n",
    "scikit_knn_gscv.best_score_"
   ]
  },
  {
   "cell_type": "code",
   "execution_count": null,
   "id": "04c007e7",
   "metadata": {},
   "outputs": [],
   "source": [
    "# Can validate this easily enough by rerunning the origianl cv model\n",
    "\n",
    "opt_neighbors = scikit_knn_gscv.best_params_['n_neighbors']\n",
    "\n",
    "scikit_knn_cv = KNeighborsClassifier(n_neighbors=opt_neighbors)\n",
    "\n",
    "#train model with cv of 5 (ie 5 groups)\n",
    "cv_scores = cross_val_score(scikit_knn_cv, X, y, cv=5)\n",
    "\n",
    "#print each cross validation score (accuracy) and find the mean\n",
    "print(cv_scores)\n",
    "print('cv_scores mean:{}'.format(np.mean(cv_scores)))"
   ]
  },
  {
   "cell_type": "code",
   "execution_count": null,
   "id": "1b22a22b",
   "metadata": {},
   "outputs": [],
   "source": [
    "# Create a heatmap\n",
    "\n",
    "df_corr = data.corr()\n",
    "fig, ax = plt.subplots(figsize=(15,10))\n",
    "sns.heatmap(df_corr, annot=True, cmap=\"YlGnBu\")"
   ]
  },
  {
   "cell_type": "code",
   "execution_count": null,
   "id": "215a74f6",
   "metadata": {},
   "outputs": [],
   "source": [
    "# For serialization and deserialization of data from/to file\n",
    "# from sklearn.externals import joblib\n",
    "import joblib\n",
    "joblib.dump(base, '../../saved_models/popularity_prediction.pkl')"
   ]
  },
  {
   "cell_type": "code",
   "execution_count": null,
   "id": "378d818b",
   "metadata": {},
   "outputs": [],
   "source": []
  }
 ],
 "metadata": {
  "kernelspec": {
   "display_name": "Python 3 (ipykernel)",
   "language": "python",
   "name": "python3"
  },
  "language_info": {
   "codemirror_mode": {
    "name": "ipython",
    "version": 3
   },
   "file_extension": ".py",
   "mimetype": "text/x-python",
   "name": "python",
   "nbconvert_exporter": "python",
   "pygments_lexer": "ipython3",
   "version": "3.10.2"
  }
 },
 "nbformat": 4,
 "nbformat_minor": 5
}
