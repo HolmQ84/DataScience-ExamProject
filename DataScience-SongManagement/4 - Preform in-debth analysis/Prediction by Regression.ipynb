{
 "cells": [
  {
   "cell_type": "code",
   "execution_count": 2,
   "id": "18129628",
   "metadata": {},
   "outputs": [],
   "source": [
    "import pandas as pd\n",
    "import numpy as np\n",
    "import seaborn as sns\n",
    "import matplotlib.pyplot as plt\n",
    "\n",
    "\n",
    "from sklearn.preprocessing import PolynomialFeatures\n",
    "from sklearn.linear_model import LinearRegression \n",
    "from sklearn.tree import DecisionTreeRegressor\n",
    "from sklearn.metrics import r2_score, mean_absolute_error, mean_squared_error\n",
    "from sklearn.model_selection import train_test_split\n",
    "\n",
    "\n",
    "# Load the data  import pandas as pd \n",
    "df = pd.read_csv(\"../data/cleanedDataset.csv\")"
   ]
  },
  {
   "cell_type": "markdown",
   "id": "e27ca696",
   "metadata": {},
   "source": [
    "## Exploring the data"
   ]
  },
  {
   "cell_type": "code",
   "execution_count": 2,
   "id": "0b59846b",
   "metadata": {},
   "outputs": [
    {
     "data": {
      "text/html": [
       "<div>\n",
       "<style scoped>\n",
       "    .dataframe tbody tr th:only-of-type {\n",
       "        vertical-align: middle;\n",
       "    }\n",
       "\n",
       "    .dataframe tbody tr th {\n",
       "        vertical-align: top;\n",
       "    }\n",
       "\n",
       "    .dataframe thead th {\n",
       "        text-align: right;\n",
       "    }\n",
       "</style>\n",
       "<table border=\"1\" class=\"dataframe\">\n",
       "  <thead>\n",
       "    <tr style=\"text-align: right;\">\n",
       "      <th></th>\n",
       "      <th>Unnamed: 0</th>\n",
       "      <th>title</th>\n",
       "      <th>rank</th>\n",
       "      <th>date</th>\n",
       "      <th>artist</th>\n",
       "      <th>url</th>\n",
       "      <th>region</th>\n",
       "      <th>streams</th>\n",
       "    </tr>\n",
       "  </thead>\n",
       "  <tbody>\n",
       "    <tr>\n",
       "      <th>0</th>\n",
       "      <td>0</td>\n",
       "      <td>Chantaje (feat. Maluma)</td>\n",
       "      <td>1</td>\n",
       "      <td>2017-01-01</td>\n",
       "      <td>Shakira</td>\n",
       "      <td>https://open.spotify.com/track/6mICuAdrwEjh6Y6...</td>\n",
       "      <td>Argentina</td>\n",
       "      <td>253019.0</td>\n",
       "    </tr>\n",
       "    <tr>\n",
       "      <th>1</th>\n",
       "      <td>10123748</td>\n",
       "      <td>Despacito (Featuring Daddy Yankee)</td>\n",
       "      <td>1</td>\n",
       "      <td>2017-04-07</td>\n",
       "      <td>Luis Fonsi</td>\n",
       "      <td>https://open.spotify.com/track/4aWmUDTfIPGksMN...</td>\n",
       "      <td>Dominican Republic</td>\n",
       "      <td>11681.0</td>\n",
       "    </tr>\n",
       "    <tr>\n",
       "      <th>2</th>\n",
       "      <td>1305825</td>\n",
       "      <td>ภาพจำ</td>\n",
       "      <td>1</td>\n",
       "      <td>2018-04-12</td>\n",
       "      <td>Pop Pongkool</td>\n",
       "      <td>https://open.spotify.com/track/4YRpjJaJpiI36HM...</td>\n",
       "      <td>Thailand</td>\n",
       "      <td>15477.0</td>\n",
       "    </tr>\n",
       "    <tr>\n",
       "      <th>3</th>\n",
       "      <td>2943946</td>\n",
       "      <td>Te Boté - Remix</td>\n",
       "      <td>1</td>\n",
       "      <td>2018-04-27</td>\n",
       "      <td>Nio Garcia, Casper Magico, Bad Bunny, Darell, ...</td>\n",
       "      <td>https://open.spotify.com/track/3V8UKqhEK5zBkBb...</td>\n",
       "      <td>Honduras</td>\n",
       "      <td>12869.0</td>\n",
       "    </tr>\n",
       "    <tr>\n",
       "      <th>4</th>\n",
       "      <td>19131998</td>\n",
       "      <td>Binibini</td>\n",
       "      <td>1</td>\n",
       "      <td>2021-04-16</td>\n",
       "      <td>Zack Tabudlo</td>\n",
       "      <td>https://open.spotify.com/track/2X5AFygz5SDYlXa...</td>\n",
       "      <td>Philippines</td>\n",
       "      <td>401678.0</td>\n",
       "    </tr>\n",
       "  </tbody>\n",
       "</table>\n",
       "</div>"
      ],
      "text/plain": [
       "   Unnamed: 0                               title  rank        date  \\\n",
       "0           0             Chantaje (feat. Maluma)     1  2017-01-01   \n",
       "1    10123748  Despacito (Featuring Daddy Yankee)     1  2017-04-07   \n",
       "2     1305825                               ภาพจำ     1  2018-04-12   \n",
       "3     2943946                     Te Boté - Remix     1  2018-04-27   \n",
       "4    19131998                            Binibini     1  2021-04-16   \n",
       "\n",
       "                                              artist  \\\n",
       "0                                            Shakira   \n",
       "1                                         Luis Fonsi   \n",
       "2                                       Pop Pongkool   \n",
       "3  Nio Garcia, Casper Magico, Bad Bunny, Darell, ...   \n",
       "4                                       Zack Tabudlo   \n",
       "\n",
       "                                                 url              region  \\\n",
       "0  https://open.spotify.com/track/6mICuAdrwEjh6Y6...           Argentina   \n",
       "1  https://open.spotify.com/track/4aWmUDTfIPGksMN...  Dominican Republic   \n",
       "2  https://open.spotify.com/track/4YRpjJaJpiI36HM...            Thailand   \n",
       "3  https://open.spotify.com/track/3V8UKqhEK5zBkBb...            Honduras   \n",
       "4  https://open.spotify.com/track/2X5AFygz5SDYlXa...         Philippines   \n",
       "\n",
       "    streams  \n",
       "0  253019.0  \n",
       "1   11681.0  \n",
       "2   15477.0  \n",
       "3   12869.0  \n",
       "4  401678.0  "
      ]
     },
     "execution_count": 2,
     "metadata": {},
     "output_type": "execute_result"
    }
   ],
   "source": [
    "df.head()"
   ]
  },
  {
   "cell_type": "code",
   "execution_count": 3,
   "id": "f2d7ccd9",
   "metadata": {},
   "outputs": [
    {
     "data": {
      "text/html": [
       "<div>\n",
       "<style scoped>\n",
       "    .dataframe tbody tr th:only-of-type {\n",
       "        vertical-align: middle;\n",
       "    }\n",
       "\n",
       "    .dataframe tbody tr th {\n",
       "        vertical-align: top;\n",
       "    }\n",
       "\n",
       "    .dataframe thead th {\n",
       "        text-align: right;\n",
       "    }\n",
       "</style>\n",
       "<table border=\"1\" class=\"dataframe\">\n",
       "  <thead>\n",
       "    <tr style=\"text-align: right;\">\n",
       "      <th></th>\n",
       "      <th>count</th>\n",
       "      <th>mean</th>\n",
       "      <th>std</th>\n",
       "      <th>min</th>\n",
       "      <th>25%</th>\n",
       "      <th>50%</th>\n",
       "      <th>75%</th>\n",
       "      <th>max</th>\n",
       "    </tr>\n",
       "  </thead>\n",
       "  <tbody>\n",
       "    <tr>\n",
       "      <th>Unnamed: 0</th>\n",
       "      <td>104561.0</td>\n",
       "      <td>1.186794e+07</td>\n",
       "      <td>7.547610e+06</td>\n",
       "      <td>0.0</td>\n",
       "      <td>5158617.0</td>\n",
       "      <td>10628993.0</td>\n",
       "      <td>18360865.0</td>\n",
       "      <td>25275499.0</td>\n",
       "    </tr>\n",
       "    <tr>\n",
       "      <th>rank</th>\n",
       "      <td>104561.0</td>\n",
       "      <td>8.284056e+01</td>\n",
       "      <td>5.817908e+01</td>\n",
       "      <td>1.0</td>\n",
       "      <td>31.0</td>\n",
       "      <td>75.0</td>\n",
       "      <td>130.0</td>\n",
       "      <td>200.0</td>\n",
       "    </tr>\n",
       "    <tr>\n",
       "      <th>streams</th>\n",
       "      <td>104561.0</td>\n",
       "      <td>6.872181e+04</td>\n",
       "      <td>1.666553e+05</td>\n",
       "      <td>1001.0</td>\n",
       "      <td>5254.0</td>\n",
       "      <td>20679.0</td>\n",
       "      <td>62233.0</td>\n",
       "      <td>8611591.0</td>\n",
       "    </tr>\n",
       "  </tbody>\n",
       "</table>\n",
       "</div>"
      ],
      "text/plain": [
       "               count          mean           std     min        25%  \\\n",
       "Unnamed: 0  104561.0  1.186794e+07  7.547610e+06     0.0  5158617.0   \n",
       "rank        104561.0  8.284056e+01  5.817908e+01     1.0       31.0   \n",
       "streams     104561.0  6.872181e+04  1.666553e+05  1001.0     5254.0   \n",
       "\n",
       "                   50%         75%         max  \n",
       "Unnamed: 0  10628993.0  18360865.0  25275499.0  \n",
       "rank              75.0       130.0       200.0  \n",
       "streams        20679.0     62233.0   8611591.0  "
      ]
     },
     "execution_count": 3,
     "metadata": {},
     "output_type": "execute_result"
    }
   ],
   "source": [
    "df.describe().transpose()"
   ]
  },
  {
   "cell_type": "code",
   "execution_count": 4,
   "id": "3c528047",
   "metadata": {},
   "outputs": [
    {
     "data": {
      "text/plain": [
       "Unnamed: 0      int64\n",
       "title          object\n",
       "rank            int64\n",
       "date           object\n",
       "artist         object\n",
       "url            object\n",
       "region         object\n",
       "streams       float64\n",
       "dtype: object"
      ]
     },
     "execution_count": 4,
     "metadata": {},
     "output_type": "execute_result"
    }
   ],
   "source": [
    "df.dtypes"
   ]
  },
  {
   "cell_type": "code",
   "execution_count": 5,
   "id": "549af0f0",
   "metadata": {},
   "outputs": [
    {
     "data": {
      "text/plain": [
       "Unnamed: 0    0\n",
       "title         0\n",
       "rank          0\n",
       "date          0\n",
       "artist        0\n",
       "url           0\n",
       "region        0\n",
       "streams       0\n",
       "dtype: int64"
      ]
     },
     "execution_count": 5,
     "metadata": {},
     "output_type": "execute_result"
    }
   ],
   "source": [
    "# check if there are any Null values\n",
    "df.isnull().sum()"
   ]
  },
  {
   "cell_type": "markdown",
   "id": "81764e5b",
   "metadata": {},
   "source": [
    "## Plotting a couple of features"
   ]
  },
  {
   "cell_type": "code",
   "execution_count": 7,
   "id": "8ddffc9d",
   "metadata": {},
   "outputs": [
    {
     "name": "stderr",
     "output_type": "stream",
     "text": [
      "C:\\Users\\patr5\\anaconda3\\lib\\site-packages\\seaborn\\distributions.py:2619: FutureWarning: `distplot` is a deprecated function and will be removed in a future version. Please adapt your code to use either `displot` (a figure-level function with similar flexibility) or `histplot` (an axes-level function for histograms).\n",
      "  warnings.warn(msg, FutureWarning)\n",
      "C:\\Users\\patr5\\anaconda3\\lib\\site-packages\\seaborn\\_decorators.py:36: FutureWarning: Pass the following variable as a keyword arg: x. From version 0.12, the only valid positional argument will be `data`, and passing other arguments without an explicit keyword will result in an error or misinterpretation.\n",
      "  warnings.warn(\n"
     ]
    },
    {
     "data": {
      "image/png": "[encoded data removed]",
      "text/plain": [
       "<Figure size 720x504 with 2 Axes>"
      ]
     },
     "metadata": {
      "needs_background": "light"
     },
     "output_type": "display_data"
    }
   ],
   "source": [
    "fig = plt.figure(figsize=(10,7))\n",
    "fig.add_subplot(2,1,1)\n",
    "sns.distplot(df['rank'])\n",
    "fig.add_subplot(2,1,2)\n",
    "sns.boxplot(df['streams'])\n",
    "plt.tight_layout()"
   ]
  },
  {
   "cell_type": "code",
   "execution_count": 3,
   "id": "d562e5c2",
   "metadata": {},
   "outputs": [
    {
     "data": {
      "text/plain": [
       "Text(0.5, 1.0, 'Strams vs Rank')"
      ]
     },
     "execution_count": 3,
     "metadata": {},
     "output_type": "execute_result"
    },
    {
     "data": {
      "image/png": "[encoded data removed]",
      "text/plain": [
       "<Figure size 432x288 with 1 Axes>"
      ]
     },
     "metadata": {
      "needs_background": "light"
     },
     "output_type": "display_data"
    }
   ],
   "source": [
    "X = df.iloc[:, 2:3].values # Rank\n",
    "y = df.iloc[:, 7].values # Streams\n",
    "\n",
    "plt.scatter(X, y)\n",
    "plt.title(\"Strams vs Rank\")"
   ]
  },
  {
   "cell_type": "markdown",
   "id": "9394224d",
   "metadata": {},
   "source": [
    "# Trying models"
   ]
  },
  {
   "cell_type": "markdown",
   "id": "7fe9b5d7",
   "metadata": {},
   "source": [
    "Well. Its clearly not linear"
   ]
  },
  {
   "cell_type": "code",
   "execution_count": 4,
   "id": "ff7e5c71",
   "metadata": {},
   "outputs": [],
   "source": [
    "#Feature Selection \n",
    "#X = df.iloc[:, 2:3].values # Rank\n",
    "singleArtistDF =df.loc[df['artist'] == \"Ed Sheeran\"]\n",
    "\n",
    "y = singleArtistDF.iloc[:, 7].values  # Rank\n",
    "X = singleArtistDF.iloc[:, 2:3].values # Streams"
   ]
  },
  {
   "cell_type": "code",
   "execution_count": 8,
   "id": "0c84c01a",
   "metadata": {},
   "outputs": [
    {
     "data": {
      "image/png": "[encoded data removed]",
      "text/plain": [
       "<Figure size 432x288 with 1 Axes>"
      ]
     },
     "metadata": {
      "needs_background": "light"
     },
     "output_type": "display_data"
    }
   ],
   "source": [
    "poly = PolynomialFeatures(2)\n",
    "X_poly = poly.fit_transform(X)\n",
    " \n",
    "poly.fit(X_poly, y)\n",
    "lin2 = LinearRegression()\n",
    "lin2.fit(X_poly, y)\n",
    "\n",
    "# Visualising the Polynomial Regression results\n",
    "plt.scatter(X, y, color = 'blue')\n",
    " \n",
    "plt.plot(X, lin2.predict(poly.fit_transform(X)), color = 'red')\n",
    "plt.title('Polynomial Regression')\n",
    "plt.xlabel('Rank')\n",
    "plt.ylabel('Streams')\n",
    " \n",
    "plt.show()"
   ]
  },
  {
   "cell_type": "code",
   "execution_count": 9,
   "id": "6e7c59e9",
   "metadata": {},
   "outputs": [
    {
     "name": "stdout",
     "output_type": "stream",
     "text": [
      "0.25343770385234266\n"
     ]
    }
   ],
   "source": [
    "y_pred = lin2.predict(X_poly)\n",
    "print(r2_score(y, y_pred))\n"
   ]
  },
  {
   "cell_type": "code",
   "execution_count": 10,
   "id": "1179cc28",
   "metadata": {},
   "outputs": [
    {
     "data": {
      "text/plain": [
       "Text(0, 0.5, 'rank')"
      ]
     },
     "execution_count": 10,
     "metadata": {},
     "output_type": "execute_result"
    },
    {
     "data": {
      "image/png": "[encoded data removed]",
      "text/plain": [
       "<Figure size 1080x720 with 1 Axes>"
      ]
     },
     "metadata": {
      "needs_background": "light"
     },
     "output_type": "display_data"
    }
   ],
   "source": [
    "# Create a exponential regression model\n",
    "\n",
    "ekspo_fit = np.polyfit(singleArtistDF['streams'], np.log(singleArtistDF['rank']), 1)\n",
    "\n",
    "y_predicted = np.exp(ekspo_fit[1]) * np.exp(ekspo_fit[0]*singleArtistDF['streams'])\n",
    "plt.figure(figsize=(15, 10))\n",
    "plt.plot(singleArtistDF['streams'], singleArtistDF['rank'], \"o\")\n",
    "plt.plot(singleArtistDF['streams'], y_predicted)\n",
    "plt.xlabel('streams')\n",
    "plt.ylabel('rank')"
   ]
  },
  {
   "cell_type": "markdown",
   "id": "625002ce",
   "metadata": {},
   "source": [
    "## Number of songs in a specifc year"
   ]
  },
  {
   "cell_type": "code",
   "execution_count": 11,
   "id": "a6c36455",
   "metadata": {},
   "outputs": [],
   "source": [
    "singleArtistDF = df.loc[df['artist'] == \"Ed Sheeran\"] # eddy BOII i choose youu!"
   ]
  },
  {
   "cell_type": "code",
   "execution_count": 12,
   "id": "594e9423",
   "metadata": {},
   "outputs": [],
   "source": [
    "dataForEachMonthOfYear = []\n",
    "yearAndMonth = []\n",
    "formattedDateForGraph = []\n",
    "\n",
    "year = 2017\n",
    "month = 1\n",
    "\n",
    "searchString = \"\"\n",
    "\n",
    "for i in range(60):\n",
    "    \n",
    "    if (i == 11 or i == 22 or i == 33 or i == 44 or i == 55): \n",
    "        searchString = str(year) + '-' + str(month)\n",
    "        dataForEachMonthOfYear.append(singleArtistDF.loc[singleArtistDF['date'].str.contains(pat = searchString)])\n",
    "        yearAndMonth.append(str(year) + '.' + str(month))\n",
    "        #print(searchString)\n",
    "        year = year + 1 #Changes the year\n",
    "        month = 1 \n",
    "    if month < 10:    \n",
    "        searchString = str(year) + '-' + '0' +str(month)\n",
    "    else:\n",
    "        searchString = str(year) + '-' + str(month)\n",
    "    \n",
    "    #print(searchString)\n",
    "    dataForEachMonthOfYear.append(singleArtistDF.loc[singleArtistDF['date'].str.contains(pat = searchString)])\n",
    "    yearAndMonth.append(str(year) + '.' + str(month))\n",
    "    \n",
    "    month = month + 1\n",
    "    i + 1\n",
    "    "
   ]
  },
  {
   "cell_type": "code",
   "execution_count": 13,
   "id": "a604478a",
   "metadata": {},
   "outputs": [
    {
     "data": {
      "text/plain": [
       "['2017.1',\n",
       " '2017.2',\n",
       " '2017.3',\n",
       " '2017.4',\n",
       " '2017.5',\n",
       " '2017.6',\n",
       " '2017.7',\n",
       " '2017.8',\n",
       " '2017.9',\n",
       " '2017.10',\n",
       " '2017.11',\n",
       " '2017.12',\n",
       " '2018.1',\n",
       " '2018.2',\n",
       " '2018.3',\n",
       " '2018.4',\n",
       " '2018.5',\n",
       " '2018.6',\n",
       " '2018.7',\n",
       " '2018.8',\n",
       " '2018.9',\n",
       " '2018.10',\n",
       " '2018.11',\n",
       " '2018.12',\n",
       " '2019.1',\n",
       " '2019.2',\n",
       " '2019.3',\n",
       " '2019.4',\n",
       " '2019.5',\n",
       " '2019.6',\n",
       " '2019.7',\n",
       " '2019.8',\n",
       " '2019.9',\n",
       " '2019.10',\n",
       " '2019.11',\n",
       " '2019.12',\n",
       " '2020.1',\n",
       " '2020.2',\n",
       " '2020.3',\n",
       " '2020.4',\n",
       " '2020.5',\n",
       " '2020.6',\n",
       " '2020.7',\n",
       " '2020.8',\n",
       " '2020.9',\n",
       " '2020.10',\n",
       " '2020.11',\n",
       " '2020.12',\n",
       " '2021.1',\n",
       " '2021.2',\n",
       " '2021.3',\n",
       " '2021.4',\n",
       " '2021.5',\n",
       " '2021.6',\n",
       " '2021.7',\n",
       " '2021.8',\n",
       " '2021.9',\n",
       " '2021.10',\n",
       " '2021.11',\n",
       " '2021.12',\n",
       " '2022.1',\n",
       " '2022.2',\n",
       " '2022.3',\n",
       " '2022.4',\n",
       " '2022.5']"
      ]
     },
     "execution_count": 13,
     "metadata": {},
     "output_type": "execute_result"
    }
   ],
   "source": [
    "yearAndMonth"
   ]
  },
  {
   "cell_type": "code",
   "execution_count": 14,
   "id": "87dd23bc",
   "metadata": {},
   "outputs": [],
   "source": [
    "# Feature Selection \n",
    "#X = df.iloc[:, 2:3].values # Rank\n",
    "singleArtistDF = df.loc[df['artist'] == \"Ed Sheeran\"]\n",
    "\n",
    "#y = [allSongsFrom2017['title'].count(), allSongsFrom2018['title'].count(), allSongsFrom2019['title'].count(), allSongsFrom2020['title'].count(), allSongsFrom2021['title'].count()]  # Rank\n",
    "#X = [2017, 2018, 2019, 2020, 2021] # Streams\n",
    "y = dataForEachMonthOfYear\n",
    "X = yearAndMonth \n",
    "\n"
   ]
  },
  {
   "cell_type": "code",
   "execution_count": 15,
   "id": "d6e43102",
   "metadata": {},
   "outputs": [
    {
     "name": "stdout",
     "output_type": "stream",
     "text": [
      "[11, 5, 18, 1, 3, 2, 0, 0, 0, 0, 4, 4, 0, 0, 0, 1, 1, 1, 1, 0, 0, 0, 0, 0, 0, 0, 0, 2, 0, 3, 14, 13, 1, 2, 1, 1, 0, 1, 0, 0, 0, 0, 0, 0, 0, 0, 0, 1, 0, 0, 0, 0, 0, 0, 2, 3, 0, 13, 2, 0, 0, 0, 0, 0, 0]\n"
     ]
    },
    {
     "data": {
      "text/plain": [
       "Text(0.5, 1.0, 'Numbers of published songs pr year')"
      ]
     },
     "execution_count": 15,
     "metadata": {},
     "output_type": "execute_result"
    },
    {
     "data": {
      "image/png": "[encoded data removed]",
      "text/plain": [
       "<Figure size 432x288 with 1 Axes>"
      ]
     },
     "metadata": {
      "needs_background": "light"
     },
     "output_type": "display_data"
    }
   ],
   "source": [
    "#X = [float(i) for i in X]\n",
    "y[1]['title'].count()\n",
    "newy = []\n",
    "\n",
    "for i in range(len(y)):\n",
    "    newy.append(y[i]['title'].count())\n",
    "\n",
    "print(newy)    \n",
    "plt.scatter(newy, X)\n",
    "plt.title(\"Numbers of published songs pr year\")"
   ]
  },
  {
   "cell_type": "markdown",
   "id": "bba0c819",
   "metadata": {},
   "source": [
    "## Polynomral with data pr year"
   ]
  },
  {
   "cell_type": "code",
   "execution_count": 16,
   "id": "1341fec2",
   "metadata": {},
   "outputs": [
    {
     "data": {
      "text/plain": [
       "48"
      ]
     },
     "execution_count": 16,
     "metadata": {},
     "output_type": "execute_result"
    }
   ],
   "source": [
    "# Fetching all songs from specific year from eddy Boiiii\n",
    "allSongsFrom2017 =  singleArtistDF.loc[singleArtistDF['date'].str.contains(pat = '2017')]\n",
    "allSongsFrom2018 =  singleArtistDF.loc[singleArtistDF['date'].str.contains(pat = '2018')]\n",
    "allSongsFrom2019 =  singleArtistDF.loc[singleArtistDF['date'].str.contains(pat = '2019')]\n",
    "allSongsFrom2020 =  singleArtistDF.loc[singleArtistDF['date'].str.contains(pat = '2020')]\n",
    "allSongsFrom2021 =  singleArtistDF.loc[singleArtistDF['date'].str.contains(pat = '2021')]\n",
    "\n",
    "allSongsFrom2017['title'].count()"
   ]
  },
  {
   "cell_type": "code",
   "execution_count": 20,
   "id": "7c42e6af",
   "metadata": {},
   "outputs": [
    {
     "data": {
      "image/png": "[encoded data removed]",
      "text/plain": [
       "<Figure size 432x288 with 1 Axes>"
      ]
     },
     "metadata": {
      "needs_background": "light"
     },
     "output_type": "display_data"
    },
    {
     "name": "stdout",
     "output_type": "stream",
     "text": [
      "mean_squared_error:  202.18715303993613\n",
      "0.37933707932239635\n"
     ]
    }
   ],
   "source": [
    "X = [2017, 2018, 2019, 2020, 2021]\n",
    "y = [allSongsFrom2017['title'].count(), allSongsFrom2018['title'].count(), allSongsFrom2019['title'].count(), allSongsFrom2020['title'].count(), allSongsFrom2021['title'].count()]\n",
    "\n",
    "X = np.array(X) # Reshaping 1d array to 2d\n",
    "y = np.array(y) # Reshaping 1d array to 2d\n",
    "X = X.reshape(-1, 1)\n",
    "y = y.reshape(-1, 1)\n",
    "\n",
    "\n",
    "\n",
    "poly = PolynomialFeatures(4)\n",
    "X_poly = poly.fit_transform(X)\n",
    " \n",
    "poly.fit(X_poly, y)\n",
    "lin2 = LinearRegression()\n",
    "lin2.fit(X_poly, y)\n",
    "\n",
    "# Visualising the Polynomial Regression results\n",
    "plt.scatter(X, y, color = 'blue')\n",
    " \n",
    "plt.plot(X, lin2.predict(poly.fit_transform(X)), color = 'red')\n",
    "plt.title('Polynomial Regression')\n",
    "plt.xlabel('Year')\n",
    "plt.ylabel('nr of songs published')\n",
    " \n",
    "plt.show()\n",
    "y_pred = lin2.predict(X_poly)\n",
    "from sklearn.metrics import mean_squared_error\n",
    "print(\"mean_squared_error:\", mean_squared_error(y, y_pred))\n",
    "\n",
    "\n",
    "print(r2_score(y, y_pred))"
   ]
  },
  {
   "cell_type": "markdown",
   "id": "9d0efa7d",
   "metadata": {},
   "source": [
    "## Using the predictive model"
   ]
  },
  {
   "cell_type": "code",
   "execution_count": 332,
   "id": "0cc44fc5",
   "metadata": {},
   "outputs": [
    {
     "data": {
      "text/plain": [
       "'44'"
      ]
     },
     "execution_count": 332,
     "metadata": {},
     "output_type": "execute_result"
    }
   ],
   "source": [
    "yearToPredict = 2017\n",
    "\n",
    "poly_reg = PolynomialFeatures(degree=4)\n",
    "temp = lin2.predict(poly_reg.fit_transform([[yearToPredict]]))\n",
    "\n",
    "\"{:.0f}\".format(float(temp))\n",
    "\n",
    "\n"
   ]
  },
  {
   "cell_type": "code",
   "execution_count": 344,
   "id": "3951b915",
   "metadata": {},
   "outputs": [
    {
     "data": {
      "text/plain": [
       "['../5 - Communicate results/regressionPredictor.pkl']"
      ]
     },
     "execution_count": 344,
     "metadata": {},
     "output_type": "execute_result"
    }
   ],
   "source": [
    "import joblib\n",
    "joblib.dump(lin2, '../5 - Communicate results/regressionPredictor.pkl')"
   ]
  },
  {
   "cell_type": "code",
   "execution_count": 351,
   "id": "cf9ba42e",
   "metadata": {},
   "outputs": [
    {
     "data": {
      "text/plain": [
       "array([[-0.79264736]])"
      ]
     },
     "execution_count": 351,
     "metadata": {},
     "output_type": "execute_result"
    }
   ],
   "source": []
  },
  {
   "cell_type": "markdown",
   "id": "41f0e464",
   "metadata": {},
   "source": [
    "## converting the model "
   ]
  },
  {
   "cell_type": "code",
   "execution_count": 336,
   "id": "a9f88562",
   "metadata": {},
   "outputs": [
    {
     "ename": "AttributeError",
     "evalue": "'PolynomialFeatures' object has no attribute 'predict'",
     "output_type": "error",
     "traceback": [
      "\u001b[1;31m---------------------------------------------------------------------------\u001b[0m",
      "\u001b[1;31mAttributeError\u001b[0m                            Traceback (most recent call last)",
      "\u001b[1;32m~\\AppData\\Local\\Temp/ipykernel_18480/2745686435.py\u001b[0m in \u001b[0;36m<module>\u001b[1;34m\u001b[0m\n\u001b[0;32m      5\u001b[0m \u001b[0mmodel\u001b[0m\u001b[1;33m.\u001b[0m\u001b[0mfit\u001b[0m\u001b[1;33m(\u001b[0m\u001b[0mX\u001b[0m\u001b[1;33m,\u001b[0m \u001b[0my\u001b[0m\u001b[1;33m)\u001b[0m\u001b[1;33m\u001b[0m\u001b[1;33m\u001b[0m\u001b[0m\n\u001b[0;32m      6\u001b[0m \u001b[1;33m\u001b[0m\u001b[0m\n\u001b[1;32m----> 7\u001b[1;33m \u001b[0mmodel\u001b[0m\u001b[1;33m.\u001b[0m\u001b[0mpredict\u001b[0m\u001b[1;33m(\u001b[0m\u001b[1;33m[\u001b[0m\u001b[1;33m[\u001b[0m\u001b[1;36m5000\u001b[0m\u001b[1;33m]\u001b[0m\u001b[1;33m]\u001b[0m\u001b[1;33m)\u001b[0m\u001b[1;33m\u001b[0m\u001b[1;33m\u001b[0m\u001b[0m\n\u001b[0m",
      "\u001b[1;31mAttributeError\u001b[0m: 'PolynomialFeatures' object has no attribute 'predict'"
     ]
    }
   ],
   "source": [
    "# creating the model object\n",
    "model = PolynomialFeatures(degree=4)\n",
    "\n",
    "# fitting model with X_train - area, y_train - price\n",
    "model.fit(X, y)\n",
    "\n",
    "model.predict([[5000]])"
   ]
  },
  {
   "cell_type": "markdown",
   "id": "f6643a39",
   "metadata": {},
   "source": [
    "## Linear regression"
   ]
  },
  {
   "cell_type": "code",
   "execution_count": 334,
   "id": "43d11029",
   "metadata": {},
   "outputs": [
    {
     "data": {
      "text/plain": [
       "Text(0, 0.5, 'nr of songs published')"
      ]
     },
     "execution_count": 334,
     "metadata": {},
     "output_type": "execute_result"
    },
    {
     "data": {
      "image/png": "[encoded data removed]",
      "text/plain": [
       "<Figure size 1080x720 with 1 Axes>"
      ]
     },
     "metadata": {
      "needs_background": "light"
     },
     "output_type": "display_data"
    }
   ],
   "source": [
    "X = [allSongsFrom2017['title'].count(), allSongsFrom2018['title'].count(), allSongsFrom2019['title'].count(), allSongsFrom2020['title'].count(), allSongsFrom2021['title'].count()]\n",
    "y = [2017, 2018, 2019, 2020, 2021]\n",
    "\n",
    "X = np.array(X) # Reshaping 1d array to 2d\n",
    "y = np.array(y) # Reshaping 1d array to 2d\n",
    "X = X.reshape(-1, 1)\n",
    "y = y.reshape(-1, 1)\n",
    "\n",
    "# Create a linear regression model.\n",
    "regressor = LinearRegression()\n",
    "\n",
    "#Train the model using the dataset.\n",
    "regressor.fit(X, y)\n",
    "\n",
    "values_predicted = regressor.predict(X)\n",
    "\n",
    "plt.figure(figsize=(15,10))\n",
    "plt.scatter(X, y,)\n",
    "plt.plot(X, values_predicted, color='orange')\n",
    "plt.xlabel('Year')\n",
    "plt.ylabel('nr of songs published')"
   ]
  }
 ],
 "metadata": {
  "kernelspec": {
   "display_name": "Python 3 (ipykernel)",
   "language": "python",
   "name": "python3"
  },
  "language_info": {
   "codemirror_mode": {
    "name": "ipython",
    "version": 3
   },
   "file_extension": ".py",
   "mimetype": "text/x-python",
   "name": "python",
   "nbconvert_exporter": "python",
   "pygments_lexer": "ipython3",
   "version": "3.10.2"
  }
 },
 "nbformat": 4,
 "nbformat_minor": 5
}
