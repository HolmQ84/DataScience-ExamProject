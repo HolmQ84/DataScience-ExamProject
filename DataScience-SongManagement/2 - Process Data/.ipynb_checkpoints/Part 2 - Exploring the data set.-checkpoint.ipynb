{
 "cells": [
  {
   "cell_type": "markdown",
   "id": "c20b705d",
   "metadata": {},
   "source": [
    "# <center style=\"color: blue\" >Part 2 - Exploring the dataset (Cleaned Version)</center>"
   ]
  },
  {
   "cell_type": "markdown",
   "id": "45204ab2",
   "metadata": {},
   "source": [
    "***\n",
    "## <center style=\"color: blue\" >Imports needed for data exploration </center>"
   ]
  },
  {
   "cell_type": "code",
   "execution_count": 6,
   "id": "2ad67183",
   "metadata": {},
   "outputs": [],
   "source": [
    "import numpy as np\n",
    "import pandas as pd\n",
    "import matplotlib.pyplot as plt\n",
    "import seaborn as sns\n"
   ]
  },
  {
   "cell_type": "code",
   "execution_count": 7,
   "id": "aa39b998",
   "metadata": {},
   "outputs": [],
   "source": [
    "music_df = pd.read_csv('../data/Data sets (Martins stages)/Stage 1 - Cleaned dataset.csv')"
   ]
  },
  {
   "cell_type": "code",
   "execution_count": 8,
   "id": "2adde768",
   "metadata": {},
   "outputs": [
    {
     "data": {
      "text/html": [
       "<div>\n",
       "<style scoped>\n",
       "    .dataframe tbody tr th:only-of-type {\n",
       "        vertical-align: middle;\n",
       "    }\n",
       "\n",
       "    .dataframe tbody tr th {\n",
       "        vertical-align: top;\n",
       "    }\n",
       "\n",
       "    .dataframe thead th {\n",
       "        text-align: right;\n",
       "    }\n",
       "</style>\n",
       "<table border=\"1\" class=\"dataframe\">\n",
       "  <thead>\n",
       "    <tr style=\"text-align: right;\">\n",
       "      <th></th>\n",
       "      <th>Unnamed: 0</th>\n",
       "      <th>title</th>\n",
       "      <th>rank</th>\n",
       "      <th>date</th>\n",
       "      <th>artist</th>\n",
       "      <th>url</th>\n",
       "      <th>region</th>\n",
       "      <th>streams</th>\n",
       "    </tr>\n",
       "  </thead>\n",
       "  <tbody>\n",
       "    <tr>\n",
       "      <th>0</th>\n",
       "      <td>0</td>\n",
       "      <td>Chantaje (feat. Maluma)</td>\n",
       "      <td>1</td>\n",
       "      <td>2017-01-01</td>\n",
       "      <td>Shakira</td>\n",
       "      <td>https://open.spotify.com/track/6mICuAdrwEjh6Y6...</td>\n",
       "      <td>Argentina</td>\n",
       "      <td>253019</td>\n",
       "    </tr>\n",
       "    <tr>\n",
       "      <th>1</th>\n",
       "      <td>1</td>\n",
       "      <td>Waterval</td>\n",
       "      <td>1</td>\n",
       "      <td>2021-11-28</td>\n",
       "      <td>K3</td>\n",
       "      <td>https://open.spotify.com/track/6Y3VGa2XlHkuJnS...</td>\n",
       "      <td>Belgium</td>\n",
       "      <td>73917</td>\n",
       "    </tr>\n",
       "    <tr>\n",
       "      <th>2</th>\n",
       "      <td>2</td>\n",
       "      <td>Kafamda kentsel dönüşümler</td>\n",
       "      <td>1</td>\n",
       "      <td>2020-08-01</td>\n",
       "      <td>İkiye On Kala</td>\n",
       "      <td>https://open.spotify.com/track/7iEfRnNqAcTse7A...</td>\n",
       "      <td>Turkey</td>\n",
       "      <td>140603</td>\n",
       "    </tr>\n",
       "    <tr>\n",
       "      <th>3</th>\n",
       "      <td>3</td>\n",
       "      <td>POLSKIE TANGO</td>\n",
       "      <td>1</td>\n",
       "      <td>2020-08-01</td>\n",
       "      <td>Taco Hemingway, Lanek</td>\n",
       "      <td>https://open.spotify.com/track/2fNLY6Ks5tKg2e4...</td>\n",
       "      <td>Poland</td>\n",
       "      <td>157811</td>\n",
       "    </tr>\n",
       "    <tr>\n",
       "      <th>4</th>\n",
       "      <td>4</td>\n",
       "      <td>Bir İhtimal Biliyorum</td>\n",
       "      <td>1</td>\n",
       "      <td>2019-01-01</td>\n",
       "      <td>Gülşen</td>\n",
       "      <td>https://open.spotify.com/track/24mpJgP2YZUBif9...</td>\n",
       "      <td>Turkey</td>\n",
       "      <td>108528</td>\n",
       "    </tr>\n",
       "  </tbody>\n",
       "</table>\n",
       "</div>"
      ],
      "text/plain": [
       "   Unnamed: 0                       title  rank        date  \\\n",
       "0           0     Chantaje (feat. Maluma)     1  2017-01-01   \n",
       "1           1                    Waterval     1  2021-11-28   \n",
       "2           2  Kafamda kentsel dönüşümler     1  2020-08-01   \n",
       "3           3               POLSKIE TANGO     1  2020-08-01   \n",
       "4           4       Bir İhtimal Biliyorum     1  2019-01-01   \n",
       "\n",
       "                  artist                                                url  \\\n",
       "0                Shakira  https://open.spotify.com/track/6mICuAdrwEjh6Y6...   \n",
       "1                     K3  https://open.spotify.com/track/6Y3VGa2XlHkuJnS...   \n",
       "2          İkiye On Kala  https://open.spotify.com/track/7iEfRnNqAcTse7A...   \n",
       "3  Taco Hemingway, Lanek  https://open.spotify.com/track/2fNLY6Ks5tKg2e4...   \n",
       "4                 Gülşen  https://open.spotify.com/track/24mpJgP2YZUBif9...   \n",
       "\n",
       "      region  streams  \n",
       "0  Argentina   253019  \n",
       "1    Belgium    73917  \n",
       "2     Turkey   140603  \n",
       "3     Poland   157811  \n",
       "4     Turkey   108528  "
      ]
     },
     "execution_count": 8,
     "metadata": {},
     "output_type": "execute_result"
    }
   ],
   "source": [
    "music_df.head()"
   ]
  },
  {
   "cell_type": "code",
   "execution_count": null,
   "id": "e0110f4b",
   "metadata": {},
   "outputs": [],
   "source": []
  }
 ],
 "metadata": {
  "kernelspec": {
   "display_name": "Python 3 (ipykernel)",
   "language": "python",
   "name": "python3"
  },
  "language_info": {
   "codemirror_mode": {
    "name": "ipython",
    "version": 3
   },
   "file_extension": ".py",
   "mimetype": "text/x-python",
   "name": "python",
   "nbconvert_exporter": "python",
   "pygments_lexer": "ipython3",
   "version": "3.10.2"
  }
 },
 "nbformat": 4,
 "nbformat_minor": 5
}
