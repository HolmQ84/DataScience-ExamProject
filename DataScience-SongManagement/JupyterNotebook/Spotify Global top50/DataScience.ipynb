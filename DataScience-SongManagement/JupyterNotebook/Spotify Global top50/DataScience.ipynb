{
 "cells": [
  {
   "cell_type": "markdown",
   "id": "37913668",
   "metadata": {},
   "source": [
    "# Spotify data api application"
   ]
  },
  {
   "cell_type": "markdown",
   "id": "ed125c5c",
   "metadata": {},
   "source": [
    "## Imports"
   ]
  },
  {
   "cell_type": "code",
   "execution_count": 1,
   "id": "0802f133",
   "metadata": {},
   "outputs": [],
   "source": [
    "#!pip install spotipy\n",
    "#!pip install lyricsgenius\n",
    "\n",
    "import pandas as pd\n",
    "import spotipy\n",
    "from spotipy.oauth2 import SpotifyClientCredentials\n",
    "from lyricsgenius import Genius\n",
    "from bs4 import BeautifulSoup\n",
    "import requests"
   ]
  },
  {
   "cell_type": "markdown",
   "id": "11176fab",
   "metadata": {},
   "source": [
    "## Spotify api credentials"
   ]
  },
  {
   "cell_type": "code",
   "execution_count": 2,
   "id": "ab350082",
   "metadata": {},
   "outputs": [],
   "source": [
    "#Spotify credentials\n",
    "spotify_client_id = \"3a2f65eb20164b24b59b7fdd6876bb51\"\n",
    "spotify_client_secret = \"9f6d3a070cdf4eb8adda14a794d60469\"\n",
    "\n",
    "#Genius credentials\n",
    "genius_token = \"4SoLPv5UHyFZyAe5T-PhxS-bRCRrdNIgMNpeqjjIaWvnRbUmTpoGxd9knxBtlQyg\"\n",
    "\n",
    "#Authentication spotify - without user\n",
    "client_credentials_manager = SpotifyClientCredentials(client_id=\"3a2f65eb20164b24b59b7fdd6876bb51\", client_secret=\"9f6d3a070cdf4eb8adda14a794d60469\")\n",
    "sp = spotipy.Spotify(client_credentials_manager = client_credentials_manager)\n"
   ]
  },
  {
   "cell_type": "markdown",
   "id": "bca207ae",
   "metadata": {},
   "source": [
    "## Exploring the spotify API"
   ]
  },
  {
   "cell_type": "code",
   "execution_count": 3,
   "id": "a0fc0054",
   "metadata": {},
   "outputs": [],
   "source": [
    "#playlist_link = \"https://open.spotify.com/playlist/37i9dQZEVXbMDoHDwVN2tF?si=d0773fb69e964222\"\n",
    "playlist_link =\"https://open.spotify.com/playlist/4XDFklOPJOJp3geewWo6vo?si=97b4324becef4027\"\n",
    "playlist_URI = playlist_link.split(\"/\")[-1].split(\"?\")[0]\n",
    "track_uris = [x[\"track\"][\"uri\"] for x in sp.playlist_tracks(playlist_URI)[\"items\"]]"
   ]
  },
  {
   "cell_type": "code",
   "execution_count": 4,
   "id": "c7fca1cf",
   "metadata": {},
   "outputs": [
    {
     "name": "stdout",
     "output_type": "stream",
     "text": [
      "Goddess \n",
      " Jaira Burns \n",
      " spotify:track:6sOrImz4sRva0mZOrzD6G3\n",
      "Love Like Mine \n",
      " Stela Cole \n",
      " spotify:track:77qTofvKEVEcG49lhRhii4\n",
      "911 \n",
      " Ellise \n",
      " spotify:track:23KVefoON2iEz1dh940quQ\n",
      "Looking at Me \n",
      " Sabrina Carpenter \n",
      " spotify:track:59tskctgqUmjCWAwhzYAFm\n",
      "Don't Matter \n",
      " Derik Fein \n",
      " spotify:track:34MWcFztBH1V2hwzkmuvA6\n"
     ]
    }
   ],
   "source": [
    "for track in sp.playlist_tracks(playlist_URI)[\"items\"]:\n",
    "    \n",
    "    #URI\n",
    "    track_uri = track[\"track\"][\"uri\"]\n",
    "    \n",
    "    #Track name\n",
    "    track_name = track[\"track\"][\"name\"]\n",
    "    \n",
    "    #Main Artist\n",
    "    artist_uri = track[\"track\"][\"artists\"][0][\"uri\"]\n",
    "    artist_info = sp.artist(artist_uri)\n",
    "    \n",
    "    #Name, popularity, genre\n",
    "    artist_name = track[\"track\"][\"artists\"][0][\"name\"]\n",
    "    artist_pop = artist_info[\"popularity\"]\n",
    "    artist_genres = artist_info[\"genres\"]\n",
    "    \n",
    "    #Album\n",
    "    album = track[\"track\"][\"album\"][\"name\"]\n",
    "    \n",
    "    \n",
    "    \n",
    "    #Popularity of the track\n",
    "    track_pop = track[\"track\"][\"popularity\"]\n",
    "    \n",
    "    #print(track[\"track\"])\n",
    "    #Printin details\n",
    "    print(track_name,\"\\n\", \n",
    "          artist_name,\"\\n\",\n",
    "          #sp.audio_features(track_uri)[0], \"\\n\", \n",
    "          track_uri\n",
    "         )\n",
    "    "
   ]
  },
  {
   "cell_type": "markdown",
   "id": "fc695ba0",
   "metadata": {},
   "source": [
    "## Fetching song metrics"
   ]
  },
  {
   "cell_type": "code",
   "execution_count": 5,
   "id": "0cdb1126",
   "metadata": {},
   "outputs": [
    {
     "data": {
      "text/plain": [
       "{'danceability': 0.706,\n",
       " 'energy': 0.544,\n",
       " 'key': 1,\n",
       " 'loudness': -8.062,\n",
       " 'mode': 0,\n",
       " 'speechiness': 0.0502,\n",
       " 'acousticness': 0.406,\n",
       " 'instrumentalness': 0,\n",
       " 'liveness': 0.165,\n",
       " 'valence': 0.567,\n",
       " 'tempo': 98.892,\n",
       " 'type': 'audio_features',\n",
       " 'id': '34MWcFztBH1V2hwzkmuvA6',\n",
       " 'uri': 'spotify:track:34MWcFztBH1V2hwzkmuvA6',\n",
       " 'track_href': 'https://api.spotify.com/v1/tracks/34MWcFztBH1V2hwzkmuvA6',\n",
       " 'analysis_url': 'https://api.spotify.com/v1/audio-analysis/34MWcFztBH1V2hwzkmuvA6',\n",
       " 'duration_ms': 200447,\n",
       " 'time_signature': 4}"
      ]
     },
     "execution_count": 5,
     "metadata": {},
     "output_type": "execute_result"
    }
   ],
   "source": [
    "sp.audio_features(track_uri)[0]"
   ]
  },
  {
   "cell_type": "markdown",
   "id": "a0e9466f",
   "metadata": {},
   "source": [
    "# Saving info to Dataframe"
   ]
  },
  {
   "cell_type": "code",
   "execution_count": null,
   "id": "62a0c6d2",
   "metadata": {},
   "outputs": [],
   "source": []
  },
  {
   "cell_type": "markdown",
   "id": "09dfd5a1",
   "metadata": {},
   "source": [
    "## Fetching lyrics from Genius"
   ]
  },
  {
   "cell_type": "code",
   "execution_count": 29,
   "id": "7610821f",
   "metadata": {},
   "outputs": [],
   "source": [
    "import lyricsgenius\n",
    "LyricsGenius = lyricsgenius.Genius(genius_token)\n",
    "LyricsGenius.remove_section_headers = True"
   ]
  },
  {
   "cell_type": "code",
   "execution_count": 30,
   "id": "7ec63ed4",
   "metadata": {},
   "outputs": [
    {
     "name": "stdout",
     "output_type": "stream",
     "text": [
      "Searching for \"Enemy\" by Imagine Dragons...\n",
      "Done.\n",
      "Enemy Lyrics\n",
      "Look out for yourself\n",
      "\n",
      "I wake up to the sounds of the silence that allows\n",
      "For my mind to run around, with my ear up to the ground\n",
      "I'm searching to behold the stories that are told\n",
      "When my back is to the world that was smiling when I turned\n",
      "\n",
      "Tell you you're the greatest\n",
      "But once you turn, they hate us\n",
      "\n",
      "Oh, the misery\n",
      "Everybody wants to be my enemy\n",
      "Spare the sympathy\n",
      "Everybody wants to be my enemy-y-y-y-y\n",
      "(Look out for yourself)\n",
      "My enemy-y-y-y-y (Look, look, look, look)\n",
      "(Look out for yourself)\n",
      "But I'm ready\n",
      "Your words up on thе wall as you're prayin' for my fall\n",
      "And the laughter in thе halls and the names that I've been called\n",
      "I stack it in my mind, and I'm waiting for the time\n",
      "When I show you what it's like to be words spit in a mic\n",
      "\n",
      "Tell you you're the greatest\n",
      "But once you turn, they hate us (Ha)\n",
      "\n",
      "Oh, the misery\n",
      "Everybody wants to be my enemy\n",
      "Spare the sympathy\n",
      "Everybody wants to be my enemy-y-y-y-y (Look, look, look, look)\n",
      "(Look out for yourself)\n",
      "My enemy-y-y-y-y (Look, look, look, look; yeah)\n",
      "(Look out for yourself)\n",
      "Uh, look, okay\n",
      "\n",
      "I'm hopin' that somebody pray for me\n",
      "I'm prayin' that somebody hope for me\n",
      "I'm stayin' where nobody 'posed to be p-p-posted\n",
      "Being a wreck of emotions\n",
      "Ready to go whenever, just let me know\n",
      "The road is long, so put the pedal into the floor\n",
      "The enemy on my trail, my energy unavailable\n",
      "I'ma tell 'em, \"Hasta luego\"\n",
      "They wanna plot on my trot to the top\n",
      "I been outta shape, thinkin' out the box, I'm an astronaut\n",
      "I blasted off the planet rock to cause catastrophe\n",
      "And it matters more because I had it not\n",
      "Had I thought about wreaking havoc\n",
      "On an opposition, kinda shockin' they wanted static\n",
      "With precision, I'm automatic quarterback\n",
      "I ain't talkin' sackin', pack it\n",
      "Pack it up, I don't panic, batter-batter up\n",
      "Who the baddest? It don't matter 'cause we at your throat\n",
      "Everybody wants to be my enemy\n",
      "Spare the sympathy (Ah)\n",
      "Everybody wants to be my enemy\n",
      "Oh, the misery (Ah)\n",
      "Everybody wants to be my enemy\n",
      "Spare the sympathy (Ah)\n",
      "Everybody wants to be my enemy\n",
      "\n",
      "Pray it away, I swear I'll never be a saint, no way\n",
      "My enemy\n",
      "Pray it away, I swear I'll never be a saint\n",
      "(Look out for yourself)58Embed\n"
     ]
    }
   ],
   "source": [
    "lyric = LyricsGenius.search_song(\"Enemy\", \"Imagine Dragons\").lyrics\n",
    "print(lyric)"
   ]
  },
  {
   "cell_type": "code",
   "execution_count": 8,
   "id": "0a6e8c1d",
   "metadata": {},
   "outputs": [
    {
     "name": "stdout",
     "output_type": "stream",
     "text": [
      "Goddess \n",
      " Jaira Burns \n",
      " spotify:track:6sOrImz4sRva0mZOrzD6G3\n",
      "Love Like Mine \n",
      " Stela Cole \n",
      " spotify:track:77qTofvKEVEcG49lhRhii4\n",
      "911 \n",
      " Ellise \n",
      " spotify:track:23KVefoON2iEz1dh940quQ\n",
      "Looking at Me \n",
      " Sabrina Carpenter \n",
      " spotify:track:59tskctgqUmjCWAwhzYAFm\n",
      "Don't Matter \n",
      " Derik Fein \n",
      " spotify:track:34MWcFztBH1V2hwzkmuvA6\n"
     ]
    }
   ],
   "source": [
    "for track in sp.playlist_tracks(playlist_URI)[\"items\"]:\n",
    "    \n",
    "    #URI\n",
    "    track_uri = track[\"track\"][\"uri\"]\n",
    "    \n",
    "    #Track name\n",
    "    track_name = track[\"track\"][\"name\"]\n",
    "    \n",
    "    #Main Artist\n",
    "    artist_uri = track[\"track\"][\"artists\"][0][\"uri\"]\n",
    "    artist_info = sp.artist(artist_uri)\n",
    "    \n",
    "    #Name, popularity, genre\n",
    "    artist_name = track[\"track\"][\"artists\"][0][\"name\"]\n",
    "    artist_pop = artist_info[\"popularity\"]\n",
    "    artist_genres = artist_info[\"genres\"]\n",
    "    \n",
    "    #Album\n",
    "    album = track[\"track\"][\"album\"][\"name\"]\n",
    "    \n",
    "    \n",
    "    \n",
    "    #Popularity of the track\n",
    "    track_pop = track[\"track\"][\"popularity\"]\n",
    "    \n",
    "    #print(track[\"track\"])\n",
    "    #Printin details\n",
    "    print(track_name,\"\\n\", \n",
    "          artist_name,\"\\n\",\n",
    "          #sp.audio_features(track_uri)[0], \"\\n\", \n",
    "          track_uri\n",
    "         )"
   ]
  },
  {
   "cell_type": "code",
   "execution_count": 17,
   "id": "dc6a2482",
   "metadata": {},
   "outputs": [],
   "source": [
    "def combineSongAndLyric():\n",
    "    trackName = []\n",
    "    artistName = []\n",
    "    lyrics = []\n",
    "    \n",
    "    \n",
    "    for track in sp.playlist_tracks(playlist_URI)[\"items\"]:\n",
    "    \n",
    "        #Track name\n",
    "        track_name = track[\"track\"][\"name\"]\n",
    "        #print(track_name)\n",
    "        \n",
    "        #Artist name\n",
    "        artist_name = track[\"track\"][\"artists\"][0][\"name\"]\n",
    "        #print(artist_name)\n",
    "        \n",
    "        #Songs Lyrics\n",
    "        song_lyric = LyricsGenius.search_song(track_name, artist_name).lyrics\n",
    "        #print(song_lyric)\n",
    "        \n",
    "        trackName.append(track_name)\n",
    "        artistName.append(artist_name)\n",
    "        lyrics.append(song_lyric)\n",
    "        \n",
    "        print(str(track+1) + ' of ' + str() + ' songs iterated.', end='\\r')\n",
    "    \n",
    "    tempDf = pd.DataFrame({\n",
    "    'track':trackName,\n",
    "    'artist':artistName,\n",
    "    'lyrics':lyrics    \n",
    "    })\n",
    "    \n",
    "    \n",
    "    return tempDf"
   ]
  },
  {
   "cell_type": "code",
   "execution_count": 25,
   "id": "54672f9d",
   "metadata": {},
   "outputs": [
    {
     "ename": "TypeError",
     "evalue": "unsupported operand type(s) for +: 'dict' and 'int'",
     "output_type": "error",
     "traceback": [
      "\u001b[1;31m---------------------------------------------------------------------------\u001b[0m",
      "\u001b[1;31mTypeError\u001b[0m                                 Traceback (most recent call last)",
      "Input \u001b[1;32mIn [25]\u001b[0m, in \u001b[0;36m<module>\u001b[1;34m\u001b[0m\n\u001b[1;32m----> 1\u001b[0m df \u001b[38;5;241m=\u001b[39m \u001b[43mcombineSongAndLyric\u001b[49m\u001b[43m(\u001b[49m\u001b[43m)\u001b[49m\n\u001b[0;32m      2\u001b[0m df\n",
      "Input \u001b[1;32mIn [17]\u001b[0m, in \u001b[0;36mcombineSongAndLyric\u001b[1;34m()\u001b[0m\n\u001b[0;32m     14\u001b[0m artist_name \u001b[38;5;241m=\u001b[39m track[\u001b[38;5;124m\"\u001b[39m\u001b[38;5;124mtrack\u001b[39m\u001b[38;5;124m\"\u001b[39m][\u001b[38;5;124m\"\u001b[39m\u001b[38;5;124martists\u001b[39m\u001b[38;5;124m\"\u001b[39m][\u001b[38;5;241m0\u001b[39m][\u001b[38;5;124m\"\u001b[39m\u001b[38;5;124mname\u001b[39m\u001b[38;5;124m\"\u001b[39m]\n\u001b[0;32m     15\u001b[0m \u001b[38;5;66;03m#print(artist_name)\u001b[39;00m\n\u001b[1;32m---> 17\u001b[0m \u001b[38;5;28mprint\u001b[39m(\u001b[38;5;28mstr\u001b[39m(\u001b[43mtrack\u001b[49m\u001b[38;5;241;43m+\u001b[39;49m\u001b[38;5;241;43m1\u001b[39;49m) \u001b[38;5;241m+\u001b[39m \u001b[38;5;124m'\u001b[39m\u001b[38;5;124m of \u001b[39m\u001b[38;5;124m'\u001b[39m \u001b[38;5;241m+\u001b[39m \u001b[38;5;28mstr\u001b[39m() \u001b[38;5;241m+\u001b[39m \u001b[38;5;124m'\u001b[39m\u001b[38;5;124m songs iterated.\u001b[39m\u001b[38;5;124m'\u001b[39m, end\u001b[38;5;241m=\u001b[39m\u001b[38;5;124m'\u001b[39m\u001b[38;5;130;01m\\r\u001b[39;00m\u001b[38;5;124m'\u001b[39m)\n\u001b[0;32m     18\u001b[0m \u001b[38;5;66;03m#Songs Lyrics\u001b[39;00m\n\u001b[0;32m     19\u001b[0m song_lyric \u001b[38;5;241m=\u001b[39m LyricsGenius\u001b[38;5;241m.\u001b[39msearch_song(track_name, artist_name)\u001b[38;5;241m.\u001b[39mlyrics\n",
      "\u001b[1;31mTypeError\u001b[0m: unsupported operand type(s) for +: 'dict' and 'int'"
     ]
    }
   ],
   "source": [
    "df = combineSongAndLyric()\n",
    "df"
   ]
  },
  {
   "cell_type": "code",
   "execution_count": 28,
   "id": "30ccab04",
   "metadata": {},
   "outputs": [
    {
     "name": "stdout",
     "output_type": "stream",
     "text": [
      "Collected lyrics from external links in 2.6282 seconds\n"
     ]
    },
    {
     "data": {
      "text/html": [
       "<div>\n",
       "<style scoped>\n",
       "    .dataframe tbody tr th:only-of-type {\n",
       "        vertical-align: middle;\n",
       "    }\n",
       "\n",
       "    .dataframe tbody tr th {\n",
       "        vertical-align: top;\n",
       "    }\n",
       "\n",
       "    .dataframe thead th {\n",
       "        text-align: right;\n",
       "    }\n",
       "</style>\n",
       "<table border=\"1\" class=\"dataframe\">\n",
       "  <thead>\n",
       "    <tr style=\"text-align: right;\">\n",
       "      <th></th>\n",
       "      <th>track</th>\n",
       "      <th>artist</th>\n",
       "      <th>lyrics</th>\n",
       "    </tr>\n",
       "  </thead>\n",
       "  <tbody>\n",
       "    <tr>\n",
       "      <th>0</th>\n",
       "      <td>Goddess</td>\n",
       "      <td>Jaira Burns</td>\n",
       "      <td>Goddess Lyrics[Verse 1]\\nYou don't gotta be ge...</td>\n",
       "    </tr>\n",
       "    <tr>\n",
       "      <th>1</th>\n",
       "      <td>Love Like Mine</td>\n",
       "      <td>Stela Cole</td>\n",
       "      <td>Love Like Mine Lyrics[Verse 1]\\nYou better tre...</td>\n",
       "    </tr>\n",
       "    <tr>\n",
       "      <th>2</th>\n",
       "      <td>911</td>\n",
       "      <td>Ellise</td>\n",
       "      <td>911 Lyrics[Intro]\\n(dial's 9-1-1)\\n9-1-1 what’...</td>\n",
       "    </tr>\n",
       "    <tr>\n",
       "      <th>3</th>\n",
       "      <td>Looking at Me</td>\n",
       "      <td>Sabrina Carpenter</td>\n",
       "      <td>Looking at Me Lyrics[Intro]\\nOh\\nOh, yeah\\n\\n[...</td>\n",
       "    </tr>\n",
       "    <tr>\n",
       "      <th>4</th>\n",
       "      <td>Don't Matter</td>\n",
       "      <td>Derik Fein</td>\n",
       "      <td>Don’t Matter LyricsWhen I was young my father ...</td>\n",
       "    </tr>\n",
       "  </tbody>\n",
       "</table>\n",
       "</div>"
      ],
      "text/plain": [
       "            track             artist  \\\n",
       "0         Goddess        Jaira Burns   \n",
       "1  Love Like Mine         Stela Cole   \n",
       "2             911             Ellise   \n",
       "3   Looking at Me  Sabrina Carpenter   \n",
       "4    Don't Matter         Derik Fein   \n",
       "\n",
       "                                              lyrics  \n",
       "0  Goddess Lyrics[Verse 1]\\nYou don't gotta be ge...  \n",
       "1  Love Like Mine Lyrics[Verse 1]\\nYou better tre...  \n",
       "2  911 Lyrics[Intro]\\n(dial's 9-1-1)\\n9-1-1 what’...  \n",
       "3  Looking at Me Lyrics[Intro]\\nOh\\nOh, yeah\\n\\n[...  \n",
       "4  Don’t Matter LyricsWhen I was young my father ...  "
      ]
     },
     "execution_count": 28,
     "metadata": {},
     "output_type": "execute_result"
    }
   ],
   "source": [
    "playlist = sp.playlist_tracks(playlist_URI)[\"items\"]\n",
    "\n",
    "LyricsGenius.verbose = False\n",
    "import time\n",
    "\n",
    "\n",
    "def testSongAndLyric():\n",
    "    import time\n",
    "    # Start timer.\n",
    "    tic = time.perf_counter()\n",
    "    # End timer.\n",
    "    toc = time.perf_counter()\n",
    "    print(f\"Collected lyrics from external links in {toc - tic:0.4f} seconds\")\n",
    "    \n",
    "    trackName = []\n",
    "    artistName = []\n",
    "    lyrics = []\n",
    "    \n",
    "    \n",
    "    for i, track in enumerate(playlist):\n",
    "        \n",
    "        #Track name\n",
    "        track_name = track[\"track\"][\"name\"]\n",
    "        \n",
    "        #Artist name\n",
    "        artist_name = track[\"track\"][\"artists\"][0][\"name\"]\n",
    "                \n",
    "        #Songs Lyrics\n",
    "        song_lyric = LyricsGenius.search_song(track_name, artist_name).lyrics\n",
    "        #print(song_lyric)\n",
    "        \n",
    "        trackName.append(track_name)\n",
    "        artistName.append(artist_name)\n",
    "        lyrics.append(song_lyric)\n",
    "        \n",
    "       \n",
    "        print(str(i+1) + ' of ' + str(len(playlist)) + ' songs iterated.', end='\\r')\n",
    "                \n",
    "    tempDf = pd.DataFrame({\n",
    "    'track':trackName,\n",
    "    'artist':artistName,\n",
    "    'lyrics':lyrics    \n",
    "    })\n",
    "    \n",
    "    toc = time.perf_counter()\n",
    "    print(f\"Collected lyrics from external links in {toc - tic:0.4f} seconds\")\n",
    "    \n",
    "    return tempDf\n",
    "\n",
    "testSongAndLyric()"
   ]
  },
  {
   "cell_type": "code",
   "execution_count": null,
   "id": "416d8b79",
   "metadata": {},
   "outputs": [],
   "source": []
  }
 ],
 "metadata": {
  "kernelspec": {
   "display_name": "Python 3 (ipykernel)",
   "language": "python",
   "name": "python3"
  },
  "language_info": {
   "codemirror_mode": {
    "name": "ipython",
    "version": 3
   },
   "file_extension": ".py",
   "mimetype": "text/x-python",
   "name": "python",
   "nbconvert_exporter": "python",
   "pygments_lexer": "ipython3",
   "version": "3.10.2"
  }
 },
 "nbformat": 4,
 "nbformat_minor": 5
}
