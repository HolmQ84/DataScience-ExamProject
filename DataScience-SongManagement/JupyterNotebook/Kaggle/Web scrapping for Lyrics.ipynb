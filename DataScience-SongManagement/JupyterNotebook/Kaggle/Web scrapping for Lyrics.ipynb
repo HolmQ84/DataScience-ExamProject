{
 "cells": [
  {
   "cell_type": "markdown",
   "id": "29bcb3f2",
   "metadata": {},
   "source": [
    "## Web scrapping for lyrics"
   ]
  },
  {
   "cell_type": "code",
   "execution_count": 1,
   "id": "cb8fa585",
   "metadata": {},
   "outputs": [],
   "source": [
    "import numpy as np\n",
    "import pandas as pd\n",
    "import matplotlib.pyplot as plt\n",
    "import seaborn as sns\n",
    "\n",
    "from sklearn.linear_model import LinearRegression\n",
    "from sklearn import linear_model\n",
    "from sklearn.preprocessing import PolynomialFeatures\n",
    "import sklearn.metrics as sm\n",
    "\n",
    "import time\n",
    "\n",
    "#Genius\n",
    "from lyricsgenius import Genius\n",
    "import lyricsgenius\n",
    "\n",
    "genius_token = \"4SoLPv5UHyFZyAe5T-PhxS-bRCRrdNIgMNpeqjjIaWvnRbUmTpoGxd9knxBtlQyg\" # Genius credentials\n",
    "LyricsGenius = lyricsgenius.Genius(genius_token)\n"
   ]
  },
  {
   "cell_type": "markdown",
   "id": "c4ecbe07",
   "metadata": {},
   "source": [
    "### Importing data set"
   ]
  },
  {
   "cell_type": "code",
   "execution_count": 2,
   "id": "60d5cff2",
   "metadata": {},
   "outputs": [],
   "source": [
    "#data = pd.read_csv('../../data/music-subset.csv')\n",
    "data = pd.read_csv('../../data/cleanedDataSetWithFeatures.csv')"
   ]
  },
  {
   "cell_type": "markdown",
   "id": "c7c59e7e",
   "metadata": {},
   "source": [
    "### Preparing data set."
   ]
  },
  {
   "cell_type": "code",
   "execution_count": 3,
   "id": "9deb5947",
   "metadata": {},
   "outputs": [
    {
     "data": {
      "text/plain": [
       "(104561, 20)"
      ]
     },
     "execution_count": 3,
     "metadata": {},
     "output_type": "execute_result"
    }
   ],
   "source": [
    "data.shape"
   ]
  },
  {
   "cell_type": "code",
   "execution_count": 4,
   "id": "a82e4fb7",
   "metadata": {},
   "outputs": [
    {
     "data": {
      "text/html": [
       "<div>\n",
       "<style scoped>\n",
       "    .dataframe tbody tr th:only-of-type {\n",
       "        vertical-align: middle;\n",
       "    }\n",
       "\n",
       "    .dataframe tbody tr th {\n",
       "        vertical-align: top;\n",
       "    }\n",
       "\n",
       "    .dataframe thead th {\n",
       "        text-align: right;\n",
       "    }\n",
       "</style>\n",
       "<table border=\"1\" class=\"dataframe\">\n",
       "  <thead>\n",
       "    <tr style=\"text-align: right;\">\n",
       "      <th></th>\n",
       "      <th>Unnamed: 0.1</th>\n",
       "      <th>Unnamed: 0</th>\n",
       "      <th>title</th>\n",
       "      <th>rank</th>\n",
       "      <th>date</th>\n",
       "      <th>artist</th>\n",
       "      <th>url</th>\n",
       "      <th>region</th>\n",
       "      <th>streams</th>\n",
       "      <th>danceability</th>\n",
       "      <th>energy</th>\n",
       "      <th>key</th>\n",
       "      <th>loudness</th>\n",
       "      <th>speechiness</th>\n",
       "      <th>acousticness</th>\n",
       "      <th>instrumentalness</th>\n",
       "      <th>liveness</th>\n",
       "      <th>valence</th>\n",
       "      <th>tempo</th>\n",
       "      <th>duration_ms</th>\n",
       "    </tr>\n",
       "  </thead>\n",
       "  <tbody>\n",
       "    <tr>\n",
       "      <th>0</th>\n",
       "      <td>0</td>\n",
       "      <td>0</td>\n",
       "      <td>Chantaje (feat. Maluma)</td>\n",
       "      <td>1</td>\n",
       "      <td>2017-01-01</td>\n",
       "      <td>Shakira</td>\n",
       "      <td>https://open.spotify.com/track/6mICuAdrwEjh6Y6...</td>\n",
       "      <td>Argentina</td>\n",
       "      <td>253019.0</td>\n",
       "      <td>0.852</td>\n",
       "      <td>0.773</td>\n",
       "      <td>8.0</td>\n",
       "      <td>-2.921</td>\n",
       "      <td>0.0776</td>\n",
       "      <td>0.187</td>\n",
       "      <td>0.000030</td>\n",
       "      <td>0.1590</td>\n",
       "      <td>0.9070</td>\n",
       "      <td>102.034</td>\n",
       "      <td>195840.0</td>\n",
       "    </tr>\n",
       "    <tr>\n",
       "      <th>1</th>\n",
       "      <td>1</td>\n",
       "      <td>10123748</td>\n",
       "      <td>Despacito (Featuring Daddy Yankee)</td>\n",
       "      <td>1</td>\n",
       "      <td>2017-04-07</td>\n",
       "      <td>Luis Fonsi</td>\n",
       "      <td>https://open.spotify.com/track/4aWmUDTfIPGksMN...</td>\n",
       "      <td>Dominican Republic</td>\n",
       "      <td>11681.0</td>\n",
       "      <td>0.660</td>\n",
       "      <td>0.786</td>\n",
       "      <td>2.0</td>\n",
       "      <td>-4.757</td>\n",
       "      <td>0.1700</td>\n",
       "      <td>0.209</td>\n",
       "      <td>0.000000</td>\n",
       "      <td>0.1120</td>\n",
       "      <td>0.8460</td>\n",
       "      <td>177.833</td>\n",
       "      <td>228200.0</td>\n",
       "    </tr>\n",
       "    <tr>\n",
       "      <th>2</th>\n",
       "      <td>2</td>\n",
       "      <td>1305825</td>\n",
       "      <td>ภาพจำ</td>\n",
       "      <td>1</td>\n",
       "      <td>2018-04-12</td>\n",
       "      <td>Pop Pongkool</td>\n",
       "      <td>https://open.spotify.com/track/4YRpjJaJpiI36HM...</td>\n",
       "      <td>Thailand</td>\n",
       "      <td>15477.0</td>\n",
       "      <td>0.557</td>\n",
       "      <td>0.585</td>\n",
       "      <td>5.0</td>\n",
       "      <td>-7.559</td>\n",
       "      <td>0.0470</td>\n",
       "      <td>0.426</td>\n",
       "      <td>0.000001</td>\n",
       "      <td>0.1440</td>\n",
       "      <td>0.4640</td>\n",
       "      <td>81.922</td>\n",
       "      <td>274000.0</td>\n",
       "    </tr>\n",
       "    <tr>\n",
       "      <th>3</th>\n",
       "      <td>3</td>\n",
       "      <td>2943946</td>\n",
       "      <td>Te Boté - Remix</td>\n",
       "      <td>1</td>\n",
       "      <td>2018-04-27</td>\n",
       "      <td>Nio Garcia, Casper Magico, Bad Bunny, Darell, ...</td>\n",
       "      <td>https://open.spotify.com/track/3V8UKqhEK5zBkBb...</td>\n",
       "      <td>Honduras</td>\n",
       "      <td>12869.0</td>\n",
       "      <td>0.903</td>\n",
       "      <td>0.675</td>\n",
       "      <td>11.0</td>\n",
       "      <td>-3.445</td>\n",
       "      <td>0.2140</td>\n",
       "      <td>0.542</td>\n",
       "      <td>0.000013</td>\n",
       "      <td>0.0595</td>\n",
       "      <td>0.4420</td>\n",
       "      <td>96.507</td>\n",
       "      <td>417920.0</td>\n",
       "    </tr>\n",
       "    <tr>\n",
       "      <th>4</th>\n",
       "      <td>4</td>\n",
       "      <td>19131998</td>\n",
       "      <td>Binibini</td>\n",
       "      <td>1</td>\n",
       "      <td>2021-04-16</td>\n",
       "      <td>Zack Tabudlo</td>\n",
       "      <td>https://open.spotify.com/track/2X5AFygz5SDYlXa...</td>\n",
       "      <td>Philippines</td>\n",
       "      <td>401678.0</td>\n",
       "      <td>0.642</td>\n",
       "      <td>0.374</td>\n",
       "      <td>5.0</td>\n",
       "      <td>-10.606</td>\n",
       "      <td>0.0320</td>\n",
       "      <td>0.423</td>\n",
       "      <td>0.000002</td>\n",
       "      <td>0.4350</td>\n",
       "      <td>0.0979</td>\n",
       "      <td>129.863</td>\n",
       "      <td>221538.0</td>\n",
       "    </tr>\n",
       "  </tbody>\n",
       "</table>\n",
       "</div>"
      ],
      "text/plain": [
       "   Unnamed: 0.1  Unnamed: 0                               title  rank  \\\n",
       "0             0           0             Chantaje (feat. Maluma)     1   \n",
       "1             1    10123748  Despacito (Featuring Daddy Yankee)     1   \n",
       "2             2     1305825                               ภาพจำ     1   \n",
       "3             3     2943946                     Te Boté - Remix     1   \n",
       "4             4    19131998                            Binibini     1   \n",
       "\n",
       "         date                                             artist  \\\n",
       "0  2017-01-01                                            Shakira   \n",
       "1  2017-04-07                                         Luis Fonsi   \n",
       "2  2018-04-12                                       Pop Pongkool   \n",
       "3  2018-04-27  Nio Garcia, Casper Magico, Bad Bunny, Darell, ...   \n",
       "4  2021-04-16                                       Zack Tabudlo   \n",
       "\n",
       "                                                 url              region  \\\n",
       "0  https://open.spotify.com/track/6mICuAdrwEjh6Y6...           Argentina   \n",
       "1  https://open.spotify.com/track/4aWmUDTfIPGksMN...  Dominican Republic   \n",
       "2  https://open.spotify.com/track/4YRpjJaJpiI36HM...            Thailand   \n",
       "3  https://open.spotify.com/track/3V8UKqhEK5zBkBb...            Honduras   \n",
       "4  https://open.spotify.com/track/2X5AFygz5SDYlXa...         Philippines   \n",
       "\n",
       "    streams  danceability  energy   key  loudness  speechiness  acousticness  \\\n",
       "0  253019.0         0.852   0.773   8.0    -2.921       0.0776         0.187   \n",
       "1   11681.0         0.660   0.786   2.0    -4.757       0.1700         0.209   \n",
       "2   15477.0         0.557   0.585   5.0    -7.559       0.0470         0.426   \n",
       "3   12869.0         0.903   0.675  11.0    -3.445       0.2140         0.542   \n",
       "4  401678.0         0.642   0.374   5.0   -10.606       0.0320         0.423   \n",
       "\n",
       "   instrumentalness  liveness  valence    tempo  duration_ms  \n",
       "0          0.000030    0.1590   0.9070  102.034     195840.0  \n",
       "1          0.000000    0.1120   0.8460  177.833     228200.0  \n",
       "2          0.000001    0.1440   0.4640   81.922     274000.0  \n",
       "3          0.000013    0.0595   0.4420   96.507     417920.0  \n",
       "4          0.000002    0.4350   0.0979  129.863     221538.0  "
      ]
     },
     "execution_count": 4,
     "metadata": {},
     "output_type": "execute_result"
    }
   ],
   "source": [
    "data.head()"
   ]
  },
  {
   "cell_type": "code",
   "execution_count": 5,
   "id": "a967ce00",
   "metadata": {},
   "outputs": [
    {
     "data": {
      "text/plain": [
       "Index(['Unnamed: 0.1', 'Unnamed: 0', 'title', 'rank', 'date', 'artist', 'url',\n",
       "       'region', 'streams', 'danceability', 'energy', 'key', 'loudness',\n",
       "       'speechiness', 'acousticness', 'instrumentalness', 'liveness',\n",
       "       'valence', 'tempo', 'duration_ms'],\n",
       "      dtype='object')"
      ]
     },
     "execution_count": 5,
     "metadata": {},
     "output_type": "execute_result"
    }
   ],
   "source": [
    "data.columns"
   ]
  },
  {
   "cell_type": "code",
   "execution_count": 6,
   "id": "4b7fb391",
   "metadata": {},
   "outputs": [],
   "source": [
    "data.drop('Unnamed: 0', inplace=True, axis=1)\n",
    "data.drop('Unnamed: 0.1', inplace=True, axis=1)"
   ]
  },
  {
   "cell_type": "code",
   "execution_count": 7,
   "id": "6827515f",
   "metadata": {},
   "outputs": [
    {
     "data": {
      "text/plain": [
       "title                0\n",
       "rank                 0\n",
       "date                 0\n",
       "artist               0\n",
       "url                  0\n",
       "region               0\n",
       "streams              0\n",
       "danceability        17\n",
       "energy              17\n",
       "key                 17\n",
       "loudness            17\n",
       "speechiness         17\n",
       "acousticness        17\n",
       "instrumentalness    17\n",
       "liveness            17\n",
       "valence             17\n",
       "tempo               17\n",
       "duration_ms         17\n",
       "dtype: int64"
      ]
     },
     "execution_count": 7,
     "metadata": {},
     "output_type": "execute_result"
    }
   ],
   "source": [
    "data.isnull().sum()"
   ]
  },
  {
   "cell_type": "code",
   "execution_count": 8,
   "id": "d9354d25",
   "metadata": {},
   "outputs": [],
   "source": [
    "data = data.dropna()"
   ]
  },
  {
   "cell_type": "markdown",
   "id": "b1446109",
   "metadata": {},
   "source": [
    "***\n",
    "### Creating a subset"
   ]
  },
  {
   "cell_type": "code",
   "execution_count": 9,
   "id": "22b24b89",
   "metadata": {},
   "outputs": [],
   "source": [
    "# Set the amount of rows in sub set.\n",
    "reduced_data = data.iloc[0:2000]"
   ]
  },
  {
   "cell_type": "code",
   "execution_count": 10,
   "id": "e801cc0f",
   "metadata": {},
   "outputs": [
    {
     "data": {
      "text/plain": [
       "(2000, 18)"
      ]
     },
     "execution_count": 10,
     "metadata": {},
     "output_type": "execute_result"
    }
   ],
   "source": [
    "# Check the shape of the dataset.\n",
    "reduced_data.shape"
   ]
  },
  {
   "cell_type": "code",
   "execution_count": 11,
   "id": "b19d2982",
   "metadata": {},
   "outputs": [
    {
     "data": {
      "text/plain": [
       "'https://open.spotify.com/track/6mICuAdrwEjh6Y6lroV2Kg'"
      ]
     },
     "execution_count": 11,
     "metadata": {},
     "output_type": "execute_result"
    }
   ],
   "source": [
    "# Find link for accessing data for each song.\n",
    "reduced_data['url'][0]"
   ]
  },
  {
   "cell_type": "markdown",
   "id": "78bf1eb9",
   "metadata": {},
   "source": [
    "***\n",
    "### Adding lyrics to the list"
   ]
  },
  {
   "cell_type": "code",
   "execution_count": 12,
   "id": "5724249c",
   "metadata": {},
   "outputs": [],
   "source": [
    "LyricsGenius.remove_section_headers = True\n",
    "LyricsGenius.verbose = False\n",
    "\n",
    "def combineSongAndLyric(dataset):\n",
    "    # Start timer.\n",
    "    starttimer = time.perf_counter()\n",
    " \n",
    "    errors = 0\n",
    "\n",
    "    lyrics = []\n",
    "    index = []\n",
    "    \n",
    "    for i, row in dataset.iterrows():\n",
    "        try:\n",
    "            #Track name\n",
    "            track_name = row['title']\n",
    "            #Artist name\n",
    "            artist_name = row['artist']\n",
    "\n",
    "            removeFeaturedArtist = track_name.find(\" (\") \n",
    "            removeMultipleArtist = artist_name.find(\", \")\n",
    "\n",
    "            if (removeFeaturedArtist > 0): track_name = track_name[:removeFeaturedArtist]\n",
    "            if (removeMultipleArtist > 0): artist_name = artist_name[:removeMultipleArtist]    \n",
    "\n",
    "            #Songs Lyrics\n",
    "            try:\n",
    "                song_lyric = LyricsGenius.search_song(track_name, artist_name).lyrics\n",
    "            except:\n",
    "                errors = errors+1\n",
    "                pass\n",
    "            \n",
    "            dataset.at[i,'lyrics'] = song_lyric\n",
    "            print(str(int(((i+1)/dataset.shape[0])*100)) + '% done - ' + str(i+1) + ' of ' + str(dataset.shape[0]) + ' songs iterated - Errors found: ' + str(errors), end='\\r')\n",
    "            \n",
    "        except KeyboardInterrupt:\n",
    "            print('Interrupted')\n",
    "            try:\n",
    "                sys.exit(0)\n",
    "            except SystemExit:\n",
    "                os._exit(0)"
   ]
  },
  {
   "cell_type": "code",
   "execution_count": 13,
   "id": "05e5d43d",
   "metadata": {
    "scrolled": true
   },
   "outputs": [
    {
     "name": "stderr",
     "output_type": "stream",
     "text": [
      "C:\\Users\\marti\\AppData\\Local\\Temp\\ipykernel_18464\\2367422047.py:33: SettingWithCopyWarning: \n",
      "A value is trying to be set on a copy of a slice from a DataFrame.\n",
      "Try using .loc[row_indexer,col_indexer] = value instead\n",
      "\n",
      "See the caveats in the documentation: https://pandas.pydata.org/pandas-docs/stable/user_guide/indexing.html#returning-a-view-versus-a-copy\n",
      "  dataset.at[i,'lyrics'] = song_lyric\n"
     ]
    },
    {
     "name": "stdout",
     "output_type": "stream",
     "text": [
      "100% done - 2000 of 2000 songs iterated - Errors found: 120\r"
     ]
    }
   ],
   "source": [
    "combineSongAndLyric(reduced_data)"
   ]
  },
  {
   "cell_type": "code",
   "execution_count": 14,
   "id": "bbc0b25d",
   "metadata": {},
   "outputs": [],
   "source": [
    "#Saving found data to csv file\n",
    "from pathlib import Path  \n",
    "path = Path('../../data/2000songWithLyrics.csv')  \n",
    "path.parent.mkdir(parents=True, exist_ok=True)  \n",
    "reduced_data.to_csv(path)"
   ]
  },
  {
   "cell_type": "code",
   "execution_count": null,
   "id": "21b8e0ec",
   "metadata": {},
   "outputs": [],
   "source": []
  }
 ],
 "metadata": {
  "kernelspec": {
   "display_name": "Python 3 (ipykernel)",
   "language": "python",
   "name": "python3"
  },
  "language_info": {
   "codemirror_mode": {
    "name": "ipython",
    "version": 3
   },
   "file_extension": ".py",
   "mimetype": "text/x-python",
   "name": "python",
   "nbconvert_exporter": "python",
   "pygments_lexer": "ipython3",
   "version": "3.10.4"
  }
 },
 "nbformat": 4,
 "nbformat_minor": 5
}
