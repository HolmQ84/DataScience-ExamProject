{
 "cells": [
  {
   "cell_type": "markdown",
   "metadata": {},
   "source": [
    "# Exercise 4:  Reusing Stored Model in Web App"
   ]
  },
  {
   "cell_type": "markdown",
   "metadata": {},
   "source": [
    "## Load and Test the Model from a File"
   ]
  },
  {
   "cell_type": "code",
   "execution_count": 171,
   "metadata": {},
   "outputs": [],
   "source": [
    "# For serialization and deserialization of data from/to file\n",
    "# from sklearn.externals \n",
    "import joblib\n",
    "import pandas as pd\n",
    "import numpy as np"
   ]
  },
  {
   "cell_type": "markdown",
   "metadata": {},
   "source": [
    "## Install Flask"
   ]
  },
  {
   "cell_type": "code",
   "execution_count": 172,
   "metadata": {},
   "outputs": [],
   "source": [
    "# !pip install flask-bootstrap\n",
    "# !pip install wtforms"
   ]
  },
  {
   "cell_type": "markdown",
   "metadata": {},
   "source": [
    "### Import model"
   ]
  },
  {
   "cell_type": "code",
   "execution_count": 173,
   "metadata": {},
   "outputs": [],
   "source": [
    "gaussian_model = joblib.load('../../saved_models/popularity_prediction_model.pkl')"
   ]
  },
  {
   "cell_type": "markdown",
   "metadata": {},
   "source": [
    "### Spotify feature import"
   ]
  },
  {
   "cell_type": "code",
   "execution_count": 174,
   "metadata": {},
   "outputs": [],
   "source": [
    "#Spotify\n",
    "import spotipy\n",
    "from spotipy.oauth2 import SpotifyClientCredentials\n",
    "\n",
    "spotify_client_id = \"3a2f65eb20164b24b59b7fdd6876bb51\"\n",
    "spotify_client_secret = \"9f6d3a070cdf4eb8adda14a794d60469\"\n",
    "\n",
    "#Genius credentials\n",
    "genius_token = \"4SoLPv5UHyFZyAe5T-PhxS-bRCRrdNIgMNpeqjjIaWvnRbUmTpoGxd9knxBtlQyg\"\n",
    "\n",
    "#Authentication spotify - without user\n",
    "client_credentials_manager = SpotifyClientCredentials(client_id=\"3a2f65eb20164b24b59b7fdd6876bb51\", client_secret=\"9f6d3a070cdf4eb8adda14a794d60469\")\n",
    "sp = spotipy.Spotify(client_credentials_manager = client_credentials_manager)"
   ]
  },
  {
   "cell_type": "markdown",
   "metadata": {},
   "source": [
    "### Define a function for making predictions on songs popularity."
   ]
  },
  {
   "cell_type": "code",
   "execution_count": 186,
   "metadata": {},
   "outputs": [],
   "source": [
    "def analyseSongPopularity(songUrl):\n",
    "    # Get song by songUrl.\n",
    "    features = sp.audio_features(songUrl)[0]\n",
    "    # Convert to dataframe.\n",
    "    df = pd.DataFrame(features, index=['i',])\n",
    "    # Get values and remove unwanted columns.\n",
    "    final_set = df.values[:,0:10]\n",
    "    # Predict popularity of song\n",
    "    return gaussian_model.predict(final_set)"
   ]
  },
  {
   "cell_type": "markdown",
   "metadata": {},
   "source": [
    "### Try the function with songs"
   ]
  },
  {
   "cell_type": "code",
   "execution_count": 193,
   "metadata": {},
   "outputs": [
    {
     "name": "stdout",
     "output_type": "stream",
     "text": [
      "[[0.634 0.69 6 -7.804 1 0.052 0.0771 0 0.132 0.645]]\n"
     ]
    },
    {
     "data": {
      "text/plain": [
       "array(['Popular'], dtype='<U11')"
      ]
     },
     "execution_count": 193,
     "metadata": {},
     "output_type": "execute_result"
    }
   ],
   "source": [
    "analyseSongPopularity('https://open.spotify.com/track/6OtCIsQZ64Vs1EbzztvAv4?si=2f482142d5ca42b5')"
   ]
  },
  {
   "cell_type": "code",
   "execution_count": 194,
   "metadata": {},
   "outputs": [
    {
     "name": "stdout",
     "output_type": "stream",
     "text": [
      "[[0.567 0.622 11 -6.713 0 0.0356 0.0119 2.31e-05 0.108 0.297]]\n"
     ]
    },
    {
     "data": {
      "text/plain": [
       "array(['Not Popular'], dtype='<U11')"
      ]
     },
     "execution_count": 194,
     "metadata": {},
     "output_type": "execute_result"
    }
   ],
   "source": [
    "analyseSongPopularity('https://open.spotify.com/track/0HcTnHDZH8tmf2YbUiMgO2?si=25c97d0c35914864')"
   ]
  },
  {
   "cell_type": "markdown",
   "metadata": {},
   "source": [
    "## Create Flask Web Server"
   ]
  },
  {
   "cell_type": "code",
   "execution_count": 191,
   "metadata": {},
   "outputs": [
    {
     "name": "stdout",
     "output_type": "stream",
     "text": [
      "Overwriting mswebapp.py\n"
     ]
    }
   ],
   "source": [
    "%%writefile mswebapp.py\n",
    "\n",
    "# Import libraries\n",
    "import numpy as np\n",
    "\n",
    "# from sklearn.externals \n",
    "import joblib\n",
    "import pickle\n",
    "from flask import Flask, request, jsonify, render_template\n",
    "import pandas as pd\n",
    "import json\n",
    "import plotly\n",
    "import plotly.express as px\n",
    "from sklearn.decomposition import PCA\n",
    "\n",
    "# Create An Instance (Of the application)\n",
    "app = Flask(__name__, template_folder='./templates')\n",
    "\n",
    "@app.route('/barchart')\n",
    "def barchart():\n",
    "   df = pd.DataFrame({\n",
    "      'Fruit': ['Apples', 'Oranges', 'Bananas', 'Apples', 'Oranges', \n",
    "      'Bananas'],\n",
    "      'Amount': [4, 1, 2, 2, 4, 5],\n",
    "      'City': ['SF', 'SF', 'SF', 'Montreal', 'Montreal', 'Montreal']\n",
    "   })\n",
    "   fig = px.bar(df, x='Fruit', y='Amount', color='City', \n",
    "      barmode='group')\n",
    "   graphJSON = json.dumps(fig, cls=plotly.utils.PlotlyJSONEncoder)\n",
    "   return render_template('visual.html', graphJSON=graphJSON)\n",
    "\n",
    "@app.route('/piechart')\n",
    "def piechart():\n",
    "   df = pd.DataFrame({\n",
    "      'Fruit': ['Apples', 'Oranges', 'Bananas', 'Melons', 'Cherries', \n",
    "      'Pinapples'],\n",
    "      'Amount': [4, 1, 2, 2, 4, 5],\n",
    "   })\n",
    "   fig = px.pie(df, names='Fruit', values='Amount')\n",
    "   graphJSON = json.dumps(fig, cls=plotly.utils.PlotlyJSONEncoder)\n",
    "   return render_template('visual.html', graphJSON=graphJSON)\n",
    "\n",
    "@app.route('/scatterplot')\n",
    "def scatterplot():\n",
    "   df = pd.DataFrame({\n",
    "      'x': [0, 1, 2, 5, 7, 10, 12, 15, 19, 24],\n",
    "      'y': [4, 2, 7, 15, 11, 19, 3, 5, 9, 8]\n",
    "   })\n",
    "   fig = px.scatter(df, x='x', y='y')\n",
    "   graphJSON = json.dumps(fig, cls=plotly.utils.PlotlyJSONEncoder)\n",
    "   return render_template('visual.html', graphJSON=graphJSON)\n",
    "\n",
    "@app.route('/pcascatter')\n",
    "def pcascatter():\n",
    "    df = px.data.iris()\n",
    "    X = df[['sepal_length', 'sepal_width', 'petal_length', 'petal_width']]\n",
    "\n",
    "    pca = PCA(n_components=2)\n",
    "    components = pca.fit_transform(X)\n",
    "\n",
    "    fig = px.scatter(components, x=0, y=1, color=df['species'], labels={'0': 'X-Value', '1': 'Y-Value'})\n",
    "    graphJSON = json.dumps(fig, cls=plotly.utils.PlotlyJSONEncoder)\n",
    "    return render_template('visual.html', graphJSON=graphJSON)\n",
    "\n",
    "if __name__ == '__main__':\n",
    "    app.run(debug=True)"
   ]
  },
  {
   "cell_type": "code",
   "execution_count": null,
   "metadata": {},
   "outputs": [],
   "source": [
    "!python mswebapp.py"
   ]
  },
  {
   "cell_type": "code",
   "execution_count": null,
   "metadata": {},
   "outputs": [],
   "source": []
  }
 ],
 "metadata": {
  "kernelspec": {
   "display_name": "Python 3 (ipykernel)",
   "language": "python",
   "name": "python3"
  },
  "language_info": {
   "codemirror_mode": {
    "name": "ipython",
    "version": 3
   },
   "file_extension": ".py",
   "mimetype": "text/x-python",
   "name": "python",
   "nbconvert_exporter": "python",
   "pygments_lexer": "ipython3",
   "version": "3.10.2"
  }
 },
 "nbformat": 4,
 "nbformat_minor": 2
}
