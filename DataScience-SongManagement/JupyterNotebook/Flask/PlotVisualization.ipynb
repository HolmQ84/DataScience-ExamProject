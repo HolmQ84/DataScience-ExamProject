{
 "cells": [
  {
   "cell_type": "markdown",
   "metadata": {},
   "source": [
    "# Exercise 4:  Reusing Stored Model in Web App"
   ]
  },
  {
   "cell_type": "markdown",
   "metadata": {},
   "source": [
    "## Load and Test the Model from a File"
   ]
  },
  {
   "cell_type": "code",
   "execution_count": 1,
   "metadata": {},
   "outputs": [],
   "source": [
    "# For serialization and deserialization of data from/to file\n",
    "# from sklearn.externals \n",
    "import joblib"
   ]
  },
  {
   "cell_type": "markdown",
   "metadata": {},
   "source": [
    "## Install Flask"
   ]
  },
  {
   "cell_type": "code",
   "execution_count": 2,
   "metadata": {},
   "outputs": [],
   "source": [
    "# !pip install flask-bootstrap\n",
    "# !pip install wtforms"
   ]
  },
  {
   "cell_type": "markdown",
   "metadata": {},
   "source": [
    "## Create Flask Web Server"
   ]
  },
  {
   "cell_type": "code",
   "execution_count": 3,
   "metadata": {},
   "outputs": [
    {
     "name": "stdout",
     "output_type": "stream",
     "text": [
      "Overwriting mswebapp.py\n"
     ]
    }
   ],
   "source": [
    "%%writefile mswebapp.py\n",
    "\n",
    "# Import libraries\n",
    "import numpy as np\n",
    "\n",
    "# from sklearn.externals \n",
    "import joblib\n",
    "import pickle\n",
    "from flask import Flask, request, jsonify, render_template\n",
    "import pandas as pd\n",
    "import json\n",
    "import plotly\n",
    "import plotly.express as px\n",
    "from sklearn.decomposition import PCA\n",
    "\n",
    "# Create An Instance (Of the application)\n",
    "app = Flask(__name__, template_folder='./templates')\n",
    "\n",
    "@app.route('/barchart')\n",
    "def barchart():\n",
    "   df = pd.DataFrame({\n",
    "      'Fruit': ['Apples', 'Oranges', 'Bananas', 'Apples', 'Oranges', \n",
    "      'Bananas'],\n",
    "      'Amount': [4, 1, 2, 2, 4, 5],\n",
    "      'City': ['SF', 'SF', 'SF', 'Montreal', 'Montreal', 'Montreal']\n",
    "   })\n",
    "   fig = px.bar(df, x='Fruit', y='Amount', color='City', \n",
    "      barmode='group')\n",
    "   graphJSON = json.dumps(fig, cls=plotly.utils.PlotlyJSONEncoder)\n",
    "   return render_template('visual.html', graphJSON=graphJSON)\n",
    "\n",
    "@app.route('/piechart')\n",
    "def piechart():\n",
    "   df = pd.DataFrame({\n",
    "      'Fruit': ['Apples', 'Oranges', 'Bananas', 'Melons', 'Cherries', \n",
    "      'Pinapples'],\n",
    "      'Amount': [4, 1, 2, 2, 4, 5],\n",
    "   })\n",
    "   fig = px.pie(df, names='Fruit', values='Amount')\n",
    "   graphJSON = json.dumps(fig, cls=plotly.utils.PlotlyJSONEncoder)\n",
    "   return render_template('visual.html', graphJSON=graphJSON)\n",
    "\n",
    "@app.route('/scatterplot')\n",
    "def scatterplot():\n",
    "   df = pd.DataFrame({\n",
    "      'x': [0, 1, 2, 5, 7, 10, 12, 15, 19, 24],\n",
    "      'y': [4, 2, 7, 15, 11, 19, 3, 5, 9, 8]\n",
    "   })\n",
    "   fig = px.scatter(df, x='x', y='y')\n",
    "   graphJSON = json.dumps(fig, cls=plotly.utils.PlotlyJSONEncoder)\n",
    "   return render_template('visual.html', graphJSON=graphJSON)\n",
    "\n",
    "@app.route('/pcascatter')\n",
    "def pcascatter():\n",
    "    df = px.data.iris()\n",
    "    X = df[['sepal_length', 'sepal_width', 'petal_length', 'petal_width']]\n",
    "\n",
    "    pca = PCA(n_components=2)\n",
    "    components = pca.fit_transform(X)\n",
    "\n",
    "    fig = px.scatter(components, x=0, y=1, color=df['species'], labels={'0': 'X-Value', '1': 'Y-Value'})\n",
    "    graphJSON = json.dumps(fig, cls=plotly.utils.PlotlyJSONEncoder)\n",
    "    return render_template('visual.html', graphJSON=graphJSON)\n",
    "\n",
    "if __name__ == '__main__':\n",
    "    app.run(debug=True)"
   ]
  },
  {
   "cell_type": "code",
   "execution_count": null,
   "metadata": {},
   "outputs": [],
   "source": [
    "!python mswebapp.py"
   ]
  },
  {
   "cell_type": "code",
   "execution_count": null,
   "metadata": {},
   "outputs": [],
   "source": []
  }
 ],
 "metadata": {
  "kernelspec": {
   "display_name": "Python 3 (ipykernel)",
   "language": "python",
   "name": "python3"
  },
  "language_info": {
   "codemirror_mode": {
    "name": "ipython",
    "version": 3
   },
   "file_extension": ".py",
   "mimetype": "text/x-python",
   "name": "python",
   "nbconvert_exporter": "python",
   "pygments_lexer": "ipython3",
   "version": "3.9.7"
  }
 },
 "nbformat": 4,
 "nbformat_minor": 2
}
