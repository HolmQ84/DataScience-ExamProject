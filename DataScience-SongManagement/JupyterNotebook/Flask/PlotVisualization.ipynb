{
 "cells": [
  {
   "cell_type": "markdown",
   "metadata": {},
   "source": [
    "# Exercise 4:  Reusing Stored Model in Web App"
   ]
  },
  {
   "cell_type": "markdown",
   "metadata": {},
   "source": [
    "## Load and Test the Model from a File"
   ]
  },
  {
   "cell_type": "code",
   "execution_count": 20,
   "metadata": {},
   "outputs": [],
   "source": [
    "# For serialization and deserialization of data from/to file\n",
    "# from sklearn.externals \n",
    "import joblib\n",
    "import pandas as pd\n",
    "import numpy as np"
   ]
  },
  {
   "cell_type": "markdown",
   "metadata": {},
   "source": [
    "## Install Flask"
   ]
  },
  {
   "cell_type": "code",
   "execution_count": 2,
   "metadata": {},
   "outputs": [],
   "source": [
    "# !pip install flask-bootstrap\n",
    "# !pip install wtforms"
   ]
  },
  {
   "cell_type": "markdown",
   "metadata": {},
   "source": [
    "### Import model"
   ]
  },
  {
   "cell_type": "code",
   "execution_count": 4,
   "metadata": {},
   "outputs": [
    {
     "data": {
      "text/plain": [
       "GaussianNB()"
      ]
     },
     "execution_count": 4,
     "metadata": {},
     "output_type": "execute_result"
    }
   ],
   "source": [
    "joblib.load('../../saved_models/popularity_prediction_model.pkl')"
   ]
  },
  {
   "cell_type": "markdown",
   "metadata": {},
   "source": [
    "### Spotify feature import"
   ]
  },
  {
   "cell_type": "code",
   "execution_count": 5,
   "metadata": {},
   "outputs": [],
   "source": [
    "#Spotify\n",
    "import spotipy\n",
    "from spotipy.oauth2 import SpotifyClientCredentials\n",
    "\n",
    "spotify_client_id = \"3a2f65eb20164b24b59b7fdd6876bb51\"\n",
    "spotify_client_secret = \"9f6d3a070cdf4eb8adda14a794d60469\"\n",
    "\n",
    "#Genius credentials\n",
    "genius_token = \"4SoLPv5UHyFZyAe5T-PhxS-bRCRrdNIgMNpeqjjIaWvnRbUmTpoGxd9knxBtlQyg\"\n",
    "\n",
    "#Authentication spotify - without user\n",
    "client_credentials_manager = SpotifyClientCredentials(client_id=\"3a2f65eb20164b24b59b7fdd6876bb51\", client_secret=\"9f6d3a070cdf4eb8adda14a794d60469\")\n",
    "sp = spotipy.Spotify(client_credentials_manager = client_credentials_manager)"
   ]
  },
  {
   "cell_type": "code",
   "execution_count": 6,
   "metadata": {},
   "outputs": [],
   "source": [
    "features = sp.audio_features(\"https://open.spotify.com/track/7MXVkk9YMctZqd1Srtv4MB?si=e11b8d5376554fde\")[0]"
   ]
  },
  {
   "cell_type": "code",
   "execution_count": 30,
   "metadata": {},
   "outputs": [
    {
     "data": {
      "text/plain": [
       "{'danceability': 0.679,\n",
       " 'energy': 0.587,\n",
       " 'key': 7,\n",
       " 'loudness': -7.015,\n",
       " 'mode': 1,\n",
       " 'speechiness': 0.276,\n",
       " 'acousticness': 0.141,\n",
       " 'instrumentalness': 6.35e-06,\n",
       " 'liveness': 0.137,\n",
       " 'valence': 0.486,\n",
       " 'tempo': 186.003,\n",
       " 'type': 'audio_features',\n",
       " 'id': '7MXVkk9YMctZqd1Srtv4MB',\n",
       " 'uri': 'spotify:track:7MXVkk9YMctZqd1Srtv4MB',\n",
       " 'track_href': 'https://api.spotify.com/v1/tracks/7MXVkk9YMctZqd1Srtv4MB',\n",
       " 'analysis_url': 'https://api.spotify.com/v1/audio-analysis/7MXVkk9YMctZqd1Srtv4MB',\n",
       " 'duration_ms': 230453,\n",
       " 'time_signature': 4}"
      ]
     },
     "execution_count": 30,
     "metadata": {},
     "output_type": "execute_result"
    }
   ],
   "source": [
    "features"
   ]
  },
  {
   "cell_type": "code",
   "execution_count": 26,
   "metadata": {},
   "outputs": [],
   "source": [
    "array"
   ]
  },
  {
   "cell_type": "code",
   "execution_count": 17,
   "metadata": {},
   "outputs": [
    {
     "data": {
      "text/html": [
       "<div>\n",
       "<style scoped>\n",
       "    .dataframe tbody tr th:only-of-type {\n",
       "        vertical-align: middle;\n",
       "    }\n",
       "\n",
       "    .dataframe tbody tr th {\n",
       "        vertical-align: top;\n",
       "    }\n",
       "\n",
       "    .dataframe thead th {\n",
       "        text-align: right;\n",
       "    }\n",
       "</style>\n",
       "<table border=\"1\" class=\"dataframe\">\n",
       "  <thead>\n",
       "    <tr style=\"text-align: right;\">\n",
       "      <th></th>\n",
       "      <th>0</th>\n",
       "    </tr>\n",
       "  </thead>\n",
       "  <tbody>\n",
       "    <tr>\n",
       "      <th>danceability</th>\n",
       "      <td>0.679</td>\n",
       "    </tr>\n",
       "    <tr>\n",
       "      <th>energy</th>\n",
       "      <td>0.587</td>\n",
       "    </tr>\n",
       "    <tr>\n",
       "      <th>key</th>\n",
       "      <td>7</td>\n",
       "    </tr>\n",
       "    <tr>\n",
       "      <th>loudness</th>\n",
       "      <td>-7.015</td>\n",
       "    </tr>\n",
       "    <tr>\n",
       "      <th>mode</th>\n",
       "      <td>1</td>\n",
       "    </tr>\n",
       "    <tr>\n",
       "      <th>speechiness</th>\n",
       "      <td>0.276</td>\n",
       "    </tr>\n",
       "    <tr>\n",
       "      <th>acousticness</th>\n",
       "      <td>0.141</td>\n",
       "    </tr>\n",
       "    <tr>\n",
       "      <th>instrumentalness</th>\n",
       "      <td>0.000006</td>\n",
       "    </tr>\n",
       "    <tr>\n",
       "      <th>liveness</th>\n",
       "      <td>0.137</td>\n",
       "    </tr>\n",
       "    <tr>\n",
       "      <th>valence</th>\n",
       "      <td>0.486</td>\n",
       "    </tr>\n",
       "    <tr>\n",
       "      <th>tempo</th>\n",
       "      <td>186.003</td>\n",
       "    </tr>\n",
       "    <tr>\n",
       "      <th>type</th>\n",
       "      <td>audio_features</td>\n",
       "    </tr>\n",
       "    <tr>\n",
       "      <th>id</th>\n",
       "      <td>7MXVkk9YMctZqd1Srtv4MB</td>\n",
       "    </tr>\n",
       "    <tr>\n",
       "      <th>uri</th>\n",
       "      <td>spotify:track:7MXVkk9YMctZqd1Srtv4MB</td>\n",
       "    </tr>\n",
       "    <tr>\n",
       "      <th>track_href</th>\n",
       "      <td>https://api.spotify.com/v1/tracks/7MXVkk9YMctZ...</td>\n",
       "    </tr>\n",
       "    <tr>\n",
       "      <th>analysis_url</th>\n",
       "      <td>https://api.spotify.com/v1/audio-analysis/7MXV...</td>\n",
       "    </tr>\n",
       "    <tr>\n",
       "      <th>duration_ms</th>\n",
       "      <td>230453</td>\n",
       "    </tr>\n",
       "    <tr>\n",
       "      <th>time_signature</th>\n",
       "      <td>4</td>\n",
       "    </tr>\n",
       "  </tbody>\n",
       "</table>\n",
       "</div>"
      ],
      "text/plain": [
       "                                                                  0\n",
       "danceability                                                  0.679\n",
       "energy                                                        0.587\n",
       "key                                                               7\n",
       "loudness                                                     -7.015\n",
       "mode                                                              1\n",
       "speechiness                                                   0.276\n",
       "acousticness                                                  0.141\n",
       "instrumentalness                                           0.000006\n",
       "liveness                                                      0.137\n",
       "valence                                                       0.486\n",
       "tempo                                                       186.003\n",
       "type                                                 audio_features\n",
       "id                                           7MXVkk9YMctZqd1Srtv4MB\n",
       "uri                            spotify:track:7MXVkk9YMctZqd1Srtv4MB\n",
       "track_href        https://api.spotify.com/v1/tracks/7MXVkk9YMctZ...\n",
       "analysis_url      https://api.spotify.com/v1/audio-analysis/7MXV...\n",
       "duration_ms                                                  230453\n",
       "time_signature                                                    4"
      ]
     },
     "execution_count": 17,
     "metadata": {},
     "output_type": "execute_result"
    }
   ],
   "source": [
    "data"
   ]
  },
  {
   "cell_type": "code",
   "execution_count": 10,
   "metadata": {},
   "outputs": [
    {
     "ename": "TypeError",
     "evalue": "unhashable type: 'slice'",
     "output_type": "error",
     "traceback": [
      "\u001b[1;31m---------------------------------------------------------------------------\u001b[0m",
      "\u001b[1;31mTypeError\u001b[0m                                 Traceback (most recent call last)",
      "Input \u001b[1;32mIn [10]\u001b[0m, in \u001b[0;36m<module>\u001b[1;34m\u001b[0m\n\u001b[0;32m      1\u001b[0m array \u001b[38;5;241m=\u001b[39m features\n\u001b[1;32m----> 3\u001b[0m X \u001b[38;5;241m=\u001b[39m \u001b[43marray\u001b[49m\u001b[43m[\u001b[49m\u001b[43m:\u001b[49m\u001b[43m,\u001b[49m\u001b[38;5;241;43m0\u001b[39;49m\u001b[43m:\u001b[49m\u001b[38;5;241;43m11\u001b[39;49m\u001b[43m]\u001b[49m\n",
      "\u001b[1;31mTypeError\u001b[0m: unhashable type: 'slice'"
     ]
    }
   ],
   "source": [
    "X = array[:,0:11] # data without class"
   ]
  },
  {
   "cell_type": "code",
   "execution_count": null,
   "metadata": {},
   "outputs": [],
   "source": [
    "def analyseSong(artist, title):\n",
    "    "
   ]
  },
  {
   "cell_type": "markdown",
   "metadata": {},
   "source": [
    "## Create Flask Web Server"
   ]
  },
  {
   "cell_type": "code",
   "execution_count": 3,
   "metadata": {},
   "outputs": [
    {
     "name": "stdout",
     "output_type": "stream",
     "text": [
      "Overwriting mswebapp.py\n"
     ]
    }
   ],
   "source": [
    "%%writefile mswebapp.py\n",
    "\n",
    "# Import libraries\n",
    "import numpy as np\n",
    "\n",
    "# from sklearn.externals \n",
    "import joblib\n",
    "import pickle\n",
    "from flask import Flask, request, jsonify, render_template\n",
    "import pandas as pd\n",
    "import json\n",
    "import plotly\n",
    "import plotly.express as px\n",
    "from sklearn.decomposition import PCA\n",
    "\n",
    "# Create An Instance (Of the application)\n",
    "app = Flask(__name__, template_folder='./templates')\n",
    "\n",
    "@app.route('/barchart')\n",
    "def barchart():\n",
    "   df = pd.DataFrame({\n",
    "      'Fruit': ['Apples', 'Oranges', 'Bananas', 'Apples', 'Oranges', \n",
    "      'Bananas'],\n",
    "      'Amount': [4, 1, 2, 2, 4, 5],\n",
    "      'City': ['SF', 'SF', 'SF', 'Montreal', 'Montreal', 'Montreal']\n",
    "   })\n",
    "   fig = px.bar(df, x='Fruit', y='Amount', color='City', \n",
    "      barmode='group')\n",
    "   graphJSON = json.dumps(fig, cls=plotly.utils.PlotlyJSONEncoder)\n",
    "   return render_template('visual.html', graphJSON=graphJSON)\n",
    "\n",
    "@app.route('/piechart')\n",
    "def piechart():\n",
    "   df = pd.DataFrame({\n",
    "      'Fruit': ['Apples', 'Oranges', 'Bananas', 'Melons', 'Cherries', \n",
    "      'Pinapples'],\n",
    "      'Amount': [4, 1, 2, 2, 4, 5],\n",
    "   })\n",
    "   fig = px.pie(df, names='Fruit', values='Amount')\n",
    "   graphJSON = json.dumps(fig, cls=plotly.utils.PlotlyJSONEncoder)\n",
    "   return render_template('visual.html', graphJSON=graphJSON)\n",
    "\n",
    "@app.route('/scatterplot')\n",
    "def scatterplot():\n",
    "   df = pd.DataFrame({\n",
    "      'x': [0, 1, 2, 5, 7, 10, 12, 15, 19, 24],\n",
    "      'y': [4, 2, 7, 15, 11, 19, 3, 5, 9, 8]\n",
    "   })\n",
    "   fig = px.scatter(df, x='x', y='y')\n",
    "   graphJSON = json.dumps(fig, cls=plotly.utils.PlotlyJSONEncoder)\n",
    "   return render_template('visual.html', graphJSON=graphJSON)\n",
    "\n",
    "@app.route('/pcascatter')\n",
    "def pcascatter():\n",
    "    df = px.data.iris()\n",
    "    X = df[['sepal_length', 'sepal_width', 'petal_length', 'petal_width']]\n",
    "\n",
    "    pca = PCA(n_components=2)\n",
    "    components = pca.fit_transform(X)\n",
    "\n",
    "    fig = px.scatter(components, x=0, y=1, color=df['species'], labels={'0': 'X-Value', '1': 'Y-Value'})\n",
    "    graphJSON = json.dumps(fig, cls=plotly.utils.PlotlyJSONEncoder)\n",
    "    return render_template('visual.html', graphJSON=graphJSON)\n",
    "\n",
    "if __name__ == '__main__':\n",
    "    app.run(debug=True)"
   ]
  },
  {
   "cell_type": "code",
   "execution_count": null,
   "metadata": {},
   "outputs": [],
   "source": [
    "!python mswebapp.py"
   ]
  },
  {
   "cell_type": "code",
   "execution_count": null,
   "metadata": {},
   "outputs": [],
   "source": []
  }
 ],
 "metadata": {
  "kernelspec": {
   "display_name": "Python 3 (ipykernel)",
   "language": "python",
   "name": "python3"
  },
  "language_info": {
   "codemirror_mode": {
    "name": "ipython",
    "version": 3
   },
   "file_extension": ".py",
   "mimetype": "text/x-python",
   "name": "python",
   "nbconvert_exporter": "python",
   "pygments_lexer": "ipython3",
   "version": "3.10.2"
  }
 },
 "nbformat": 4,
 "nbformat_minor": 2
}
