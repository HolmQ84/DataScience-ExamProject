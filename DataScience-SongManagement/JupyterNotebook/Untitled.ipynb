{
 "cells": [
  {
   "cell_type": "code",
   "execution_count": 7,
   "id": "c5042fec",
   "metadata": {},
   "outputs": [],
   "source": [
    "import urllib.request\n",
    "import pandas as pd\n",
    "url = 'https://api.energidataservice.dk/datastore_search?resource_id=datahubpricelist&limit=100'\n",
    "fileobj = urllib.request.urlopen(url)\n",
    "df = pd.read_json(url)"
   ]
  },
  {
   "cell_type": "code",
   "execution_count": 11,
   "id": "526205d8",
   "metadata": {},
   "outputs": [
    {
     "data": {
      "text/plain": [
       "_links            {'start': '/datastore_search?limit=100&resourc...\n",
       "fields            [{'type': 'int', 'id': '_id'}, {'type': 'text'...\n",
       "include_total                                                  True\n",
       "limit                                                           100\n",
       "records           [{'_id': 67778, 'ChargeOwner': 'N1 A/S - 131',...\n",
       "records_format                                              objects\n",
       "resource_id                    3d38d22b-ca6a-4e2b-993b-0e12d9afcf6a\n",
       "total                                                        118071\n",
       "Name: result, dtype: object"
      ]
     },
     "execution_count": 11,
     "metadata": {},
     "output_type": "execute_result"
    }
   ],
   "source": [
    "df.result"
   ]
  },
  {
   "cell_type": "code",
   "execution_count": null,
   "id": "2320f2f9",
   "metadata": {},
   "outputs": [],
   "source": []
  }
 ],
 "metadata": {
  "kernelspec": {
   "display_name": "Python 3 (ipykernel)",
   "language": "python",
   "name": "python3"
  },
  "language_info": {
   "codemirror_mode": {
    "name": "ipython",
    "version": 3
   },
   "file_extension": ".py",
   "mimetype": "text/x-python",
   "name": "python",
   "nbconvert_exporter": "python",
   "pygments_lexer": "ipython3",
   "version": "3.10.2"
  }
 },
 "nbformat": 4,
 "nbformat_minor": 5
}
