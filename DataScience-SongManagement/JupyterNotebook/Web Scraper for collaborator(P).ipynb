{
 "cells": [
  {
   "cell_type": "markdown",
   "id": "19eb40ce",
   "metadata": {},
   "source": [
    "# Creating the web scraper"
   ]
  },
  {
   "cell_type": "code",
   "execution_count": 1,
   "id": "fa213622",
   "metadata": {},
   "outputs": [],
   "source": [
    "#!pip install bs4\n",
    "\n",
    "import numpy as np\n",
    "import pandas as pd\n",
    "import matplotlib.pyplot as plt\n",
    "import seaborn as sns\n",
    "\n",
    "from sklearn.linear_model import LinearRegression\n",
    "from sklearn import linear_model\n",
    "from sklearn.preprocessing import PolynomialFeatures\n",
    "import sklearn.metrics as sm\n",
    "\n",
    "\n",
    "import re\n",
    "\n",
    "import spotipy\n",
    "from spotipy.oauth2 import SpotifyClientCredentials\n",
    "\n",
    "import csv\n",
    "import requests\n",
    "import json\n",
    "from pandas.io.json import json_normalize\n",
    "from urllib.request import urlopen\n",
    "from bs4 import BeautifulSoup\n",
    "\n",
    "\n",
    "from neo4j import GraphDatabase \n",
    "from py2neo import Graph,Node,Relationship"
   ]
  },
  {
   "cell_type": "markdown",
   "id": "5cf1720f",
   "metadata": {},
   "source": [
    "# Getting the dataset"
   ]
  },
  {
   "cell_type": "code",
   "execution_count": 2,
   "id": "0b58375a",
   "metadata": {},
   "outputs": [],
   "source": [
    "data = pd.read_csv('../data/cleanedDatasetWithFeatures.csv')"
   ]
  },
  {
   "cell_type": "markdown",
   "id": "e882b51c",
   "metadata": {},
   "source": [
    "# Extracting artist and track name"
   ]
  },
  {
   "cell_type": "code",
   "execution_count": 3,
   "id": "61750256",
   "metadata": {},
   "outputs": [],
   "source": [
    "data.drop('Unnamed: 0', inplace=True, axis=1)\n",
    "data.drop('Unnamed: 0.1', inplace=True, axis=1)"
   ]
  },
  {
   "cell_type": "code",
   "execution_count": 4,
   "id": "2131320f",
   "metadata": {
    "scrolled": false
   },
   "outputs": [
    {
     "data": {
      "text/html": [
       "<div>\n",
       "<style scoped>\n",
       "    .dataframe tbody tr th:only-of-type {\n",
       "        vertical-align: middle;\n",
       "    }\n",
       "\n",
       "    .dataframe tbody tr th {\n",
       "        vertical-align: top;\n",
       "    }\n",
       "\n",
       "    .dataframe thead th {\n",
       "        text-align: right;\n",
       "    }\n",
       "</style>\n",
       "<table border=\"1\" class=\"dataframe\">\n",
       "  <thead>\n",
       "    <tr style=\"text-align: right;\">\n",
       "      <th></th>\n",
       "      <th>title</th>\n",
       "      <th>rank</th>\n",
       "      <th>date</th>\n",
       "      <th>artist</th>\n",
       "      <th>url</th>\n",
       "      <th>region</th>\n",
       "      <th>streams</th>\n",
       "      <th>danceability</th>\n",
       "      <th>energy</th>\n",
       "      <th>key</th>\n",
       "      <th>loudness</th>\n",
       "      <th>speechiness</th>\n",
       "      <th>acousticness</th>\n",
       "      <th>instrumentalness</th>\n",
       "      <th>liveness</th>\n",
       "      <th>valence</th>\n",
       "      <th>tempo</th>\n",
       "      <th>duration_ms</th>\n",
       "    </tr>\n",
       "  </thead>\n",
       "  <tbody>\n",
       "    <tr>\n",
       "      <th>0</th>\n",
       "      <td>Chantaje (feat. Maluma)</td>\n",
       "      <td>1</td>\n",
       "      <td>2017-01-01</td>\n",
       "      <td>Shakira</td>\n",
       "      <td>https://open.spotify.com/track/6mICuAdrwEjh6Y6...</td>\n",
       "      <td>Argentina</td>\n",
       "      <td>253019.0</td>\n",
       "      <td>0.852</td>\n",
       "      <td>0.773</td>\n",
       "      <td>8.0</td>\n",
       "      <td>-2.921</td>\n",
       "      <td>0.0776</td>\n",
       "      <td>0.187</td>\n",
       "      <td>0.000030</td>\n",
       "      <td>0.1590</td>\n",
       "      <td>0.9070</td>\n",
       "      <td>102.034</td>\n",
       "      <td>195840.0</td>\n",
       "    </tr>\n",
       "    <tr>\n",
       "      <th>1</th>\n",
       "      <td>Despacito (Featuring Daddy Yankee)</td>\n",
       "      <td>1</td>\n",
       "      <td>2017-04-07</td>\n",
       "      <td>Luis Fonsi</td>\n",
       "      <td>https://open.spotify.com/track/4aWmUDTfIPGksMN...</td>\n",
       "      <td>Dominican Republic</td>\n",
       "      <td>11681.0</td>\n",
       "      <td>0.660</td>\n",
       "      <td>0.786</td>\n",
       "      <td>2.0</td>\n",
       "      <td>-4.757</td>\n",
       "      <td>0.1700</td>\n",
       "      <td>0.209</td>\n",
       "      <td>0.000000</td>\n",
       "      <td>0.1120</td>\n",
       "      <td>0.8460</td>\n",
       "      <td>177.833</td>\n",
       "      <td>228200.0</td>\n",
       "    </tr>\n",
       "    <tr>\n",
       "      <th>2</th>\n",
       "      <td>ภาพจำ</td>\n",
       "      <td>1</td>\n",
       "      <td>2018-04-12</td>\n",
       "      <td>Pop Pongkool</td>\n",
       "      <td>https://open.spotify.com/track/4YRpjJaJpiI36HM...</td>\n",
       "      <td>Thailand</td>\n",
       "      <td>15477.0</td>\n",
       "      <td>0.557</td>\n",
       "      <td>0.585</td>\n",
       "      <td>5.0</td>\n",
       "      <td>-7.559</td>\n",
       "      <td>0.0470</td>\n",
       "      <td>0.426</td>\n",
       "      <td>0.000001</td>\n",
       "      <td>0.1440</td>\n",
       "      <td>0.4640</td>\n",
       "      <td>81.922</td>\n",
       "      <td>274000.0</td>\n",
       "    </tr>\n",
       "    <tr>\n",
       "      <th>3</th>\n",
       "      <td>Te Boté - Remix</td>\n",
       "      <td>1</td>\n",
       "      <td>2018-04-27</td>\n",
       "      <td>Nio Garcia, Casper Magico, Bad Bunny, Darell, ...</td>\n",
       "      <td>https://open.spotify.com/track/3V8UKqhEK5zBkBb...</td>\n",
       "      <td>Honduras</td>\n",
       "      <td>12869.0</td>\n",
       "      <td>0.903</td>\n",
       "      <td>0.675</td>\n",
       "      <td>11.0</td>\n",
       "      <td>-3.445</td>\n",
       "      <td>0.2140</td>\n",
       "      <td>0.542</td>\n",
       "      <td>0.000013</td>\n",
       "      <td>0.0595</td>\n",
       "      <td>0.4420</td>\n",
       "      <td>96.507</td>\n",
       "      <td>417920.0</td>\n",
       "    </tr>\n",
       "    <tr>\n",
       "      <th>4</th>\n",
       "      <td>Binibini</td>\n",
       "      <td>1</td>\n",
       "      <td>2021-04-16</td>\n",
       "      <td>Zack Tabudlo</td>\n",
       "      <td>https://open.spotify.com/track/2X5AFygz5SDYlXa...</td>\n",
       "      <td>Philippines</td>\n",
       "      <td>401678.0</td>\n",
       "      <td>0.642</td>\n",
       "      <td>0.374</td>\n",
       "      <td>5.0</td>\n",
       "      <td>-10.606</td>\n",
       "      <td>0.0320</td>\n",
       "      <td>0.423</td>\n",
       "      <td>0.000002</td>\n",
       "      <td>0.4350</td>\n",
       "      <td>0.0979</td>\n",
       "      <td>129.863</td>\n",
       "      <td>221538.0</td>\n",
       "    </tr>\n",
       "  </tbody>\n",
       "</table>\n",
       "</div>"
      ],
      "text/plain": [
       "                                title  rank        date  \\\n",
       "0             Chantaje (feat. Maluma)     1  2017-01-01   \n",
       "1  Despacito (Featuring Daddy Yankee)     1  2017-04-07   \n",
       "2                               ภาพจำ     1  2018-04-12   \n",
       "3                     Te Boté - Remix     1  2018-04-27   \n",
       "4                            Binibini     1  2021-04-16   \n",
       "\n",
       "                                              artist  \\\n",
       "0                                            Shakira   \n",
       "1                                         Luis Fonsi   \n",
       "2                                       Pop Pongkool   \n",
       "3  Nio Garcia, Casper Magico, Bad Bunny, Darell, ...   \n",
       "4                                       Zack Tabudlo   \n",
       "\n",
       "                                                 url              region  \\\n",
       "0  https://open.spotify.com/track/6mICuAdrwEjh6Y6...           Argentina   \n",
       "1  https://open.spotify.com/track/4aWmUDTfIPGksMN...  Dominican Republic   \n",
       "2  https://open.spotify.com/track/4YRpjJaJpiI36HM...            Thailand   \n",
       "3  https://open.spotify.com/track/3V8UKqhEK5zBkBb...            Honduras   \n",
       "4  https://open.spotify.com/track/2X5AFygz5SDYlXa...         Philippines   \n",
       "\n",
       "    streams  danceability  energy   key  loudness  speechiness  acousticness  \\\n",
       "0  253019.0         0.852   0.773   8.0    -2.921       0.0776         0.187   \n",
       "1   11681.0         0.660   0.786   2.0    -4.757       0.1700         0.209   \n",
       "2   15477.0         0.557   0.585   5.0    -7.559       0.0470         0.426   \n",
       "3   12869.0         0.903   0.675  11.0    -3.445       0.2140         0.542   \n",
       "4  401678.0         0.642   0.374   5.0   -10.606       0.0320         0.423   \n",
       "\n",
       "   instrumentalness  liveness  valence    tempo  duration_ms  \n",
       "0          0.000030    0.1590   0.9070  102.034     195840.0  \n",
       "1          0.000000    0.1120   0.8460  177.833     228200.0  \n",
       "2          0.000001    0.1440   0.4640   81.922     274000.0  \n",
       "3          0.000013    0.0595   0.4420   96.507     417920.0  \n",
       "4          0.000002    0.4350   0.0979  129.863     221538.0  "
      ]
     },
     "execution_count": 4,
     "metadata": {},
     "output_type": "execute_result"
    }
   ],
   "source": [
    "data.head()"
   ]
  },
  {
   "cell_type": "code",
   "execution_count": 5,
   "id": "accf123e",
   "metadata": {},
   "outputs": [
    {
     "data": {
      "text/plain": [
       "(104561, 18)"
      ]
     },
     "execution_count": 5,
     "metadata": {},
     "output_type": "execute_result"
    }
   ],
   "source": [
    "data.shape"
   ]
  },
  {
   "cell_type": "code",
   "execution_count": 6,
   "id": "4b2d734f",
   "metadata": {},
   "outputs": [],
   "source": [
    "import re\n",
    "\n",
    "def get_track_name(nr):\n",
    "    \n",
    "\n",
    "    track_string = str(data.title[nr])\n",
    "    \n",
    "    x = track_string.find(\" (\")\n",
    "    y = track_string.find(\" -\")\n",
    "\n",
    "\n",
    "    \n",
    "    if(int(x) < 0):\n",
    "        track_string = track_string\n",
    "    if(int(x) > 0):\n",
    "        track_string = track_string[:x]\n",
    "    if (int(y) > 0):\n",
    "        track_string = track_string[:y]\n",
    "    \n",
    "    return track_string\n",
    "\n",
    "\n",
    "\n",
    "def get_track_artist(nr):\n",
    "    \n",
    "    artist_string = str(data.artist[nr])\n",
    "\n",
    "    y = artist_string.find(\", \")\n",
    "    x = artist_string.find(\" (\")\n",
    "    \n",
    "    if(int(x) > 0):\n",
    "        artist_string = artist_string.replace(\"' \", \"\")\n",
    "\n",
    "    if(int(y) > 0):\n",
    "        #artist_string = y\n",
    "        artist_string = artist_string[:y]     \n",
    "        \n",
    "    return artist_string"
   ]
  },
  {
   "cell_type": "markdown",
   "id": "c907c880",
   "metadata": {},
   "source": [
    "# Getting URL"
   ]
  },
  {
   "cell_type": "code",
   "execution_count": 7,
   "id": "06709f51",
   "metadata": {},
   "outputs": [],
   "source": [
    "import re\n",
    "\n",
    "def get_url(track_nr):\n",
    "    \n",
    "    track = str(get_track_name(track_nr))\n",
    "    artist = str(get_track_artist(track_nr))\n",
    "    \n",
    "    track = re.sub('[^a-zA-Z0-9 \\n\\.]', '', track)\n",
    "    artist = re.sub('[^a-zA-Z0-9 \\n\\.]', '', artist)\n",
    "    \n",
    "    \n",
    "    if (int(artist.find(\" \")) > 0):\n",
    "        artist = artist.replace(\" \", \"-\")\n",
    "        \n",
    "    if (int(track.find(\" \")) > 0):\n",
    "        track = track.replace(\" \", \"-\")\n",
    "        \n",
    "    \n",
    "    \n",
    "    url_string = str('https://genius.com/' + artist + '-' + track + '-lyrics')\n",
    "    \n",
    "    return str(url_string)\n",
    "    "
   ]
  },
  {
   "cell_type": "markdown",
   "id": "39489bd5",
   "metadata": {},
   "source": [
    "# Scraping credits"
   ]
  },
  {
   "cell_type": "code",
   "execution_count": 8,
   "id": "da1a5a12",
   "metadata": {},
   "outputs": [],
   "source": [
    "def extract_credits(URL):\n",
    "    \n",
    "    # \"https://genius.com/Shakia-chantaje-lyrics\" <- url to check for raised exception\n",
    "    \n",
    "    r = requests.get(URL)\n",
    "    \n",
    "    if (int(r.status_code) == 200):\n",
    "\n",
    "\n",
    "        # Parsing the HTML\n",
    "        soup = BeautifulSoup(r.content, 'html.parser')\n",
    "        s = soup.find('div', class_='SongInfo__Columns-nekw6x-2 lgBflw')\n",
    "        g = soup.findAll(class_='SongTags__Tag-xixwg3-2 fdHeQh')\n",
    "\n",
    "        feature = []\n",
    "        writer = []\n",
    "        label = []\n",
    "        producer = []\n",
    "        genre = []\n",
    "\n",
    "        for line in s:\n",
    "            div = line.find('div').text\n",
    "            an = line.find_all('a')\n",
    "\n",
    "            if 'Featuring' in div: \n",
    "                extract = [x.text for x in an]\n",
    "                for x in extract:\n",
    "                    feature.append(x)\n",
    "\n",
    "            if 'Written By' in div:\n",
    "                extract = [x.text for x in an]\n",
    "                for x in extract:\n",
    "                    writer.append(x)\n",
    "\n",
    "            if 'Label' in div:\n",
    "                extract = [x.text for x in an]\n",
    "                for x in extract:\n",
    "                    label.append(x)\n",
    "\n",
    "            if 'Produced By' in div:\n",
    "                extract = [x.text for x in an]\n",
    "                for x in extract:\n",
    "                    producer.append(x)\n",
    "\n",
    "        for line in g:\n",
    "            genre.append(line.text)\n",
    "                    \n",
    "    else:\n",
    "        raise Exception(\"Sorry, no numbers below zero\") \n",
    "\n",
    "    collection = {\"Feature\":feature, \"Writer\":writer, \"Label\":label, \"Producer\":producer, \"Genres\": genre}        \n",
    "        \n",
    "        \n",
    "    return collection"
   ]
  },
  {
   "cell_type": "code",
   "execution_count": 9,
   "id": "7601477f",
   "metadata": {},
   "outputs": [],
   "source": [
    "#extLis = extract_credits(get_url(track_nr))"
   ]
  },
  {
   "cell_type": "markdown",
   "id": "b9cde0b1",
   "metadata": {},
   "source": [
    "# Dict to csv"
   ]
  },
  {
   "cell_type": "code",
   "execution_count": 10,
   "id": "6abde134",
   "metadata": {},
   "outputs": [],
   "source": [
    "#credit_list = pd.DataFrame.from_dict(extLis, orient='index').T"
   ]
  },
  {
   "cell_type": "code",
   "execution_count": 11,
   "id": "e5eb976e",
   "metadata": {},
   "outputs": [],
   "source": [
    "#credit_list"
   ]
  },
  {
   "cell_type": "markdown",
   "id": "6bb5372b",
   "metadata": {},
   "source": [
    "### Path to neo4j import folder\n",
    " - Nicholas Stationær: C:\\Users\\Nmtur\\.Neo4jDesktop\\relate-data\\dbmss\\dbms-20b18527-223b-4ada-8e62-429ad982fc9b\\import\\collaborators.csv\\\n",
    "- Bærbar: C:\\Users\\Nmtur\\.Neo4jDesktop\\relate-data\\dbmss\\dbms-fb2eb10a-32f4-4f40-90bd-10e9b225eb47\\import\n",
    "\n",
    "- Martins bærbare: C:\\Users\\marti\\.Neo4jDesktop\\relate-data\\dbmss\\dbms-a7f58857-34e9-48ad-b898-3dc31e11d74c\\import\\collaborators.csv\n",
    "\n"
   ]
  },
  {
   "cell_type": "code",
   "execution_count": 12,
   "id": "e34e1af4",
   "metadata": {},
   "outputs": [],
   "source": [
    "#df = pd.DataFrame.from_dict(credit_list) \n",
    "#df.to_csv (r'C:\\Users\\Nmtur\\.Neo4jDesktop\\relate-data\\dbmss\\dbms-fb2eb10a-32f4-4f40-90bd-10e9b225eb47\\import\\collaborators.csv', index = False, header=True)"
   ]
  },
  {
   "cell_type": "code",
   "execution_count": 13,
   "id": "60bb3c44",
   "metadata": {},
   "outputs": [],
   "source": [
    "#df"
   ]
  },
  {
   "cell_type": "markdown",
   "id": "e3e798f4",
   "metadata": {},
   "source": [
    "***"
   ]
  },
  {
   "cell_type": "markdown",
   "id": "ceb41ae7",
   "metadata": {},
   "source": [
    "# Neo4j"
   ]
  },
  {
   "cell_type": "code",
   "execution_count": 9,
   "id": "bb5d8344",
   "metadata": {},
   "outputs": [],
   "source": [
    "# Create connection to database\n",
    "\n",
    "class neo4jConnection:\n",
    "    \n",
    "    def __init__(self, uri, user, pwd):\n",
    "        self.__uri = uri\n",
    "        self.__user = user\n",
    "        self.__pwd = pwd\n",
    "        self.__driver = None\n",
    "        try:\n",
    "            self.__driver = GraphDatabase.driver(self.__uri, auth=(self.__user, self.__pwd))\n",
    "        except Exception as e:\n",
    "                print(\"Failed to create the driver: \", e)\n",
    "                \n",
    "    def query(self, query, db=None):\n",
    "        assert self.__driver is not None, \"Driver not initialized!\"\n",
    "        session = None\n",
    "        response = None\n",
    "        try:\n",
    "            session = self.__driver.session(database=db) if db is not None else self.__driver.session()\n",
    "            response = list(session.run(query))\n",
    "        except Exception as e:\n",
    "            print(\"Query failed!\", e)\n",
    "        finally:\n",
    "            if session is not None:\n",
    "                session.close()\n",
    "        return response\n",
    "    \n",
    "    def close(self):\n",
    "        if self.__driver is not None:\n",
    "            self.__driver.close()"
   ]
  },
  {
   "cell_type": "code",
   "execution_count": 10,
   "id": "1e2078f9",
   "metadata": {},
   "outputs": [],
   "source": [
    "# Connecting to database\n",
    "conn = neo4jConnection(uri=\"bolt://localhost:11005\", user=\"neo4j\", pwd=\"test1234\")\n",
    "# bolt://localhost:7687"
   ]
  },
  {
   "cell_type": "code",
   "execution_count": 11,
   "id": "8ca255d3",
   "metadata": {
    "scrolled": true
   },
   "outputs": [
    {
     "data": {
      "text/plain": [
       "[]"
      ]
     },
     "execution_count": 11,
     "metadata": {},
     "output_type": "execute_result"
    }
   ],
   "source": [
    "conn.query('''MATCH (n) RETURN n;''')"
   ]
  },
  {
   "cell_type": "markdown",
   "id": "9b47726e",
   "metadata": {},
   "source": [
    "### Query to insert into neo4j"
   ]
  },
  {
   "cell_type": "code",
   "execution_count": 12,
   "id": "a8c3de32",
   "metadata": {},
   "outputs": [],
   "source": [
    "def run_querys(track_nr):\n",
    "    \n",
    "    artist = get_track_artist(track_nr)\n",
    "    track = get_track_name(track_nr)\n",
    "    ranking = str(data.iloc[track_nr][1])\n",
    "    \n",
    "    conn.query('''CALL apoc.load.csv('collaborators.csv')\n",
    "    YIELD lineNo, map, list\n",
    "    \n",
    "    WHERE map.Feature IS NOT NULL\n",
    "    MERGE (f:Person {name:map.Feature})\n",
    "    MERGE (a:Person {name:\"'''+ artist + '''\"})\n",
    "    MERGE (w:Person {name:map.Writer})\n",
    "    MERGE (p:Person {name:map.Producer})\n",
    "    MERGE (l:Label {name:map.Label})\n",
    "    MERGE (s:Song {name:\"'''+ track +'''\", rank: \"'''+ ranking + '''\"})\n",
    "    \n",
    "    \n",
    "    MERGE (f)-[:COLLABORATED]-(a)\n",
    "    MERGE (f)-[:FEATURED]->(s)\n",
    "    MERGE (a)-[:SANG]->(s)\n",
    "    MERGE (w)-[:WROTE]->(s)\n",
    "    MERGE (l)-[:RELEASED]->(s)\n",
    "    MERGE (p)-[:PRODUCED]->(s);\n",
    "    ''')\n",
    "    \n",
    "    conn.query('''MATCH (f:Person) WHERE (f.name = \"\") detach delete f;''')\n",
    "    \n",
    "    conn.query('''MATCH (l:Label) WHERE (l.name = \"\") detach delete l;''')\n",
    "    \n",
    "    conn.close()"
   ]
  },
  {
   "cell_type": "markdown",
   "id": "ddb65978",
   "metadata": {},
   "source": [
    "### Getting the Shit"
   ]
  },
  {
   "cell_type": "code",
   "execution_count": 13,
   "id": "86a14e34",
   "metadata": {},
   "outputs": [],
   "source": [
    "def running(track_nr):\n",
    "    # For scraping\n",
    "    extLis = extract_credits(get_url(track_nr))\n",
    "    # Get credit\n",
    "    credit_list = pd.DataFrame.from_dict(extLis, orient='index').T\n",
    "    df = pd.DataFrame.from_dict(credit_list) \n",
    "    df.to_csv (r'C:\\Users\\Nmtur\\.Neo4jDesktop\\relate-data\\dbmss\\dbms-abdd1e77-a9d6-4f8f-810d-312f9bad1906\\import\\collaborators.csv', index = False, header=True)\n",
    "    # Running neo4j query\n",
    "    run_querys(track_nr)\n"
   ]
  },
  {
   "cell_type": "code",
   "execution_count": 14,
   "id": "c57dc00a",
   "metadata": {},
   "outputs": [
    {
     "name": "stdout",
     "output_type": "stream",
     "text": [
      "Added new rows from external links in 3314.4264 seconds\n"
     ]
    }
   ],
   "source": [
    "import time\n",
    "tic = time.perf_counter()\n",
    "\n",
    "errors = 0\n",
    "count = 0\n",
    "for i in range(1500):\n",
    "    try:\n",
    "        running(i)\n",
    "        print(str(int(((index+1)/data.shape[0])*100)) + '% done - ' + str(index+1) + ' of ' + str(data.shape[0]) + ' songs iterated - ' + errors + ' encountered.', end='\\r')\n",
    "    except:\n",
    "        #append error or insert specific values?\n",
    "        errors = errors+1\n",
    "        pass\n",
    "    count = count+1\n",
    "    print(count, end='\\r')\n",
    "        \n",
    "toc = time.perf_counter()\n",
    "print(f\"Added new rows from external links in {toc - tic:0.4f} seconds\")"
   ]
  },
  {
   "cell_type": "code",
   "execution_count": 15,
   "id": "5d98362f",
   "metadata": {},
   "outputs": [],
   "source": [
    "conn.close()"
   ]
  },
  {
   "cell_type": "code",
   "execution_count": null,
   "id": "63c97553",
   "metadata": {},
   "outputs": [],
   "source": []
  }
 ],
 "metadata": {
  "kernelspec": {
   "display_name": "Python 3 (ipykernel)",
   "language": "python",
   "name": "python3"
  },
  "language_info": {
   "codemirror_mode": {
    "name": "ipython",
    "version": 3
   },
   "file_extension": ".py",
   "mimetype": "text/x-python",
   "name": "python",
   "nbconvert_exporter": "python",
   "pygments_lexer": "ipython3",
   "version": "3.10.2"
  }
 },
 "nbformat": 4,
 "nbformat_minor": 5
}
