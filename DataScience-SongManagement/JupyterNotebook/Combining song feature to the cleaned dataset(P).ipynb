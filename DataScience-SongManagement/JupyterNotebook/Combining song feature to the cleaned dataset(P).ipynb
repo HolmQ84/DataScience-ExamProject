{
 "cells": [
  {
   "cell_type": "markdown",
   "id": "b12f1f79",
   "metadata": {},
   "source": [
    "https://towardsdatascience.com/predicting-the-music-mood-of-a-song-with-deep-learning-c3ac2b45229e"
   ]
  },
  {
   "cell_type": "markdown",
   "id": "198c8038",
   "metadata": {},
   "source": [
    "https://realpython.com/python-nltk-sentiment-analysis/"
   ]
  },
  {
   "cell_type": "markdown",
   "id": "a87f4f56",
   "metadata": {},
   "source": [
    "MEDIUM : https://towardsdatascience.com/how-to-analyze-emotions-and-words-of-the-lyrics-from-your-favorite-music-artist-bbca10411283"
   ]
  },
  {
   "cell_type": "code",
   "execution_count": 2,
   "id": "58864bc2",
   "metadata": {},
   "outputs": [
    {
     "name": "stderr",
     "output_type": "stream",
     "text": [
      "[nltk_data] Downloading package vader_lexicon to\n",
      "[nltk_data]     C:\\Users\\Nmtur\\AppData\\Roaming\\nltk_data...\n",
      "[nltk_data]   Package vader_lexicon is already up-to-date!\n",
      "[nltk_data] Downloading package punkt to\n",
      "[nltk_data]     C:\\Users\\Nmtur\\AppData\\Roaming\\nltk_data...\n",
      "[nltk_data]   Package punkt is already up-to-date!\n"
     ]
    }
   ],
   "source": [
    "#libraries used to extract, clean and manipulate the datafrom helpers import *\n",
    "import pandas as pd\n",
    "import numpy as np\n",
    "import string#To plot the graphsfrom wordcloud import WordCloud\n",
    "import matplotlib.pyplot as plt\n",
    "plt.style.use('seaborn')#library used to count the frequency of wordsfrom sklearn.feature_extraction.text import CountVectorizer#To create the sentiment analysis model, tokenization and lemmatizationimport nltk\n",
    "from nltk.sentiment.vader import SentimentIntensityAnalyzer\n",
    "from nltk import word_tokenize\n",
    "import nltk.data\n",
    "nltk.download('vader_lexicon')\n",
    "nltk.download('punkt')\n",
    "\n",
    "import time"
   ]
  },
  {
   "cell_type": "code",
   "execution_count": 3,
   "id": "713dfd29",
   "metadata": {},
   "outputs": [],
   "source": [
    "#Spotify\n",
    "import spotipy\n",
    "from spotipy.oauth2 import SpotifyClientCredentials\n",
    "\n",
    "spotify_client_id = \"3a2f65eb20164b24b59b7fdd6876bb51\"\n",
    "spotify_client_secret = \"9f6d3a070cdf4eb8adda14a794d60469\"\n",
    "\n",
    "#Genius credentials\n",
    "genius_token = \"4SoLPv5UHyFZyAe5T-PhxS-bRCRrdNIgMNpeqjjIaWvnRbUmTpoGxd9knxBtlQyg\"\n",
    "\n",
    "#Authentication spotify - without user\n",
    "client_credentials_manager = SpotifyClientCredentials(client_id=\"3a2f65eb20164b24b59b7fdd6876bb51\", client_secret=\"9f6d3a070cdf4eb8adda14a794d60469\")\n",
    "sp = spotipy.Spotify(client_credentials_manager = client_credentials_manager)"
   ]
  },
  {
   "cell_type": "code",
   "execution_count": 4,
   "id": "00685705",
   "metadata": {},
   "outputs": [],
   "source": [
    "#playlist_link = \"https://open.spotify.com/playlist/37i9dQZEVXbL3J0k32lWnN?si=5c3f6128e25049d9\"  #top50DK\n",
    "playlist_link =\"https://open.spotify.com/playlist/4XDFklOPJOJp3geewWo6vo?si=97b4324becef4027\"  #Small 6 song playlist\n",
    "playlist_URI = playlist_link.split(\"/\")[-1].split(\"?\")[0]\n",
    "track_uris = [x[\"track\"][\"uri\"] for x in sp.playlist_tracks(playlist_URI)[\"items\"]]"
   ]
  },
  {
   "cell_type": "code",
   "execution_count": 5,
   "id": "298931ad",
   "metadata": {},
   "outputs": [
    {
     "name": "stdout",
     "output_type": "stream",
     "text": [
      "2019-06-28\n",
      "2020-04-03\n",
      "2021-05-14\n",
      "2019-07-19\n",
      "2021-08-16\n"
     ]
    }
   ],
   "source": [
    "for track in sp.playlist_tracks(playlist_URI)[\"items\"]:\n",
    "    \n",
    "    #URI\n",
    "    track_uri = track[\"track\"][\"uri\"]\n",
    "    \n",
    "    #Track name\n",
    "    track_name = track[\"track\"][\"name\"]\n",
    "    \n",
    "    #Main Artist\n",
    "    artist_uri = track[\"track\"][\"artists\"][0][\"uri\"]\n",
    "    artist_info = sp.artist(artist_uri)\n",
    "    \n",
    "    #Name, popularity, genre\n",
    "    artist_name = track[\"track\"][\"artists\"][0][\"name\"]\n",
    "    artist_pop = artist_info[\"popularity\"]\n",
    "    artist_genres = artist_info[\"genres\"]\n",
    "    \n",
    "    #Album\n",
    "    album = track[\"track\"][\"album\"][\"name\"]\n",
    "    \n",
    "    #Popularity of the track\n",
    "    track_pop = track[\"track\"][\"popularity\"]\n",
    "    \n",
    "    #Year\n",
    "    track_year = track[\"track\"][\"album\"][\"release_date\"]\n",
    "    \n",
    "    print(track_year)\n",
    "    #Printin details\n",
    "    #print(track_name,\"\\n\", \n",
    "    #      artist_name,\"\\n\",\n",
    "    #      #sp.audio_features(track_uri)[0], \"\\n\", \n",
    "    #      track_uri\n",
    "    #     )"
   ]
  },
  {
   "cell_type": "code",
   "execution_count": 6,
   "id": "bcdf1780",
   "metadata": {},
   "outputs": [
    {
     "data": {
      "text/plain": [
       "{'danceability': 0.679,\n",
       " 'energy': 0.587,\n",
       " 'key': 7,\n",
       " 'loudness': -7.015,\n",
       " 'mode': 1,\n",
       " 'speechiness': 0.276,\n",
       " 'acousticness': 0.141,\n",
       " 'instrumentalness': 6.35e-06,\n",
       " 'liveness': 0.137,\n",
       " 'valence': 0.486,\n",
       " 'tempo': 186.003,\n",
       " 'type': 'audio_features',\n",
       " 'id': '7MXVkk9YMctZqd1Srtv4MB',\n",
       " 'uri': 'spotify:track:7MXVkk9YMctZqd1Srtv4MB',\n",
       " 'track_href': 'https://api.spotify.com/v1/tracks/7MXVkk9YMctZqd1Srtv4MB',\n",
       " 'analysis_url': 'https://api.spotify.com/v1/audio-analysis/7MXVkk9YMctZqd1Srtv4MB',\n",
       " 'duration_ms': 230453,\n",
       " 'time_signature': 4}"
      ]
     },
     "execution_count": 6,
     "metadata": {},
     "output_type": "execute_result"
    }
   ],
   "source": [
    "sp.audio_features(\"https://open.spotify.com/track/7MXVkk9YMctZqd1Srtv4MB?si=e11b8d5376554fde\")[0]"
   ]
  },
  {
   "cell_type": "code",
   "execution_count": null,
   "id": "88446d0f",
   "metadata": {},
   "outputs": [],
   "source": []
  },
  {
   "cell_type": "code",
   "execution_count": 7,
   "id": "1da723f0",
   "metadata": {},
   "outputs": [],
   "source": [
    "data = pd.read_csv(\"../data/cleanedDatasetWithFeatures.csv\")"
   ]
  },
  {
   "cell_type": "code",
   "execution_count": 8,
   "id": "9e43d4b1",
   "metadata": {},
   "outputs": [
    {
     "data": {
      "text/html": [
       "<div>\n",
       "<style scoped>\n",
       "    .dataframe tbody tr th:only-of-type {\n",
       "        vertical-align: middle;\n",
       "    }\n",
       "\n",
       "    .dataframe tbody tr th {\n",
       "        vertical-align: top;\n",
       "    }\n",
       "\n",
       "    .dataframe thead th {\n",
       "        text-align: right;\n",
       "    }\n",
       "</style>\n",
       "<table border=\"1\" class=\"dataframe\">\n",
       "  <thead>\n",
       "    <tr style=\"text-align: right;\">\n",
       "      <th></th>\n",
       "      <th>Unnamed: 0.1</th>\n",
       "      <th>Unnamed: 0</th>\n",
       "      <th>title</th>\n",
       "      <th>rank</th>\n",
       "      <th>date</th>\n",
       "      <th>artist</th>\n",
       "      <th>url</th>\n",
       "      <th>region</th>\n",
       "      <th>streams</th>\n",
       "      <th>danceability</th>\n",
       "      <th>energy</th>\n",
       "      <th>key</th>\n",
       "      <th>loudness</th>\n",
       "      <th>speechiness</th>\n",
       "      <th>acousticness</th>\n",
       "      <th>instrumentalness</th>\n",
       "      <th>liveness</th>\n",
       "      <th>valence</th>\n",
       "      <th>tempo</th>\n",
       "      <th>duration_ms</th>\n",
       "    </tr>\n",
       "  </thead>\n",
       "  <tbody>\n",
       "    <tr>\n",
       "      <th>0</th>\n",
       "      <td>0</td>\n",
       "      <td>0</td>\n",
       "      <td>Chantaje (feat. Maluma)</td>\n",
       "      <td>1</td>\n",
       "      <td>2017-01-01</td>\n",
       "      <td>Shakira</td>\n",
       "      <td>https://open.spotify.com/track/6mICuAdrwEjh6Y6...</td>\n",
       "      <td>Argentina</td>\n",
       "      <td>253019.0</td>\n",
       "      <td>0.852</td>\n",
       "      <td>0.773</td>\n",
       "      <td>8.0</td>\n",
       "      <td>-2.921</td>\n",
       "      <td>0.0776</td>\n",
       "      <td>0.187</td>\n",
       "      <td>0.000030</td>\n",
       "      <td>0.1590</td>\n",
       "      <td>0.9070</td>\n",
       "      <td>102.034</td>\n",
       "      <td>195840.0</td>\n",
       "    </tr>\n",
       "    <tr>\n",
       "      <th>1</th>\n",
       "      <td>1</td>\n",
       "      <td>10123748</td>\n",
       "      <td>Despacito (Featuring Daddy Yankee)</td>\n",
       "      <td>1</td>\n",
       "      <td>2017-04-07</td>\n",
       "      <td>Luis Fonsi</td>\n",
       "      <td>https://open.spotify.com/track/4aWmUDTfIPGksMN...</td>\n",
       "      <td>Dominican Republic</td>\n",
       "      <td>11681.0</td>\n",
       "      <td>0.660</td>\n",
       "      <td>0.786</td>\n",
       "      <td>2.0</td>\n",
       "      <td>-4.757</td>\n",
       "      <td>0.1700</td>\n",
       "      <td>0.209</td>\n",
       "      <td>0.000000</td>\n",
       "      <td>0.1120</td>\n",
       "      <td>0.8460</td>\n",
       "      <td>177.833</td>\n",
       "      <td>228200.0</td>\n",
       "    </tr>\n",
       "    <tr>\n",
       "      <th>2</th>\n",
       "      <td>2</td>\n",
       "      <td>1305825</td>\n",
       "      <td>ภาพจำ</td>\n",
       "      <td>1</td>\n",
       "      <td>2018-04-12</td>\n",
       "      <td>Pop Pongkool</td>\n",
       "      <td>https://open.spotify.com/track/4YRpjJaJpiI36HM...</td>\n",
       "      <td>Thailand</td>\n",
       "      <td>15477.0</td>\n",
       "      <td>0.557</td>\n",
       "      <td>0.585</td>\n",
       "      <td>5.0</td>\n",
       "      <td>-7.559</td>\n",
       "      <td>0.0470</td>\n",
       "      <td>0.426</td>\n",
       "      <td>0.000001</td>\n",
       "      <td>0.1440</td>\n",
       "      <td>0.4640</td>\n",
       "      <td>81.922</td>\n",
       "      <td>274000.0</td>\n",
       "    </tr>\n",
       "    <tr>\n",
       "      <th>3</th>\n",
       "      <td>3</td>\n",
       "      <td>2943946</td>\n",
       "      <td>Te Boté - Remix</td>\n",
       "      <td>1</td>\n",
       "      <td>2018-04-27</td>\n",
       "      <td>Nio Garcia, Casper Magico, Bad Bunny, Darell, ...</td>\n",
       "      <td>https://open.spotify.com/track/3V8UKqhEK5zBkBb...</td>\n",
       "      <td>Honduras</td>\n",
       "      <td>12869.0</td>\n",
       "      <td>0.903</td>\n",
       "      <td>0.675</td>\n",
       "      <td>11.0</td>\n",
       "      <td>-3.445</td>\n",
       "      <td>0.2140</td>\n",
       "      <td>0.542</td>\n",
       "      <td>0.000013</td>\n",
       "      <td>0.0595</td>\n",
       "      <td>0.4420</td>\n",
       "      <td>96.507</td>\n",
       "      <td>417920.0</td>\n",
       "    </tr>\n",
       "    <tr>\n",
       "      <th>4</th>\n",
       "      <td>4</td>\n",
       "      <td>19131998</td>\n",
       "      <td>Binibini</td>\n",
       "      <td>1</td>\n",
       "      <td>2021-04-16</td>\n",
       "      <td>Zack Tabudlo</td>\n",
       "      <td>https://open.spotify.com/track/2X5AFygz5SDYlXa...</td>\n",
       "      <td>Philippines</td>\n",
       "      <td>401678.0</td>\n",
       "      <td>0.642</td>\n",
       "      <td>0.374</td>\n",
       "      <td>5.0</td>\n",
       "      <td>-10.606</td>\n",
       "      <td>0.0320</td>\n",
       "      <td>0.423</td>\n",
       "      <td>0.000002</td>\n",
       "      <td>0.4350</td>\n",
       "      <td>0.0979</td>\n",
       "      <td>129.863</td>\n",
       "      <td>221538.0</td>\n",
       "    </tr>\n",
       "  </tbody>\n",
       "</table>\n",
       "</div>"
      ],
      "text/plain": [
       "   Unnamed: 0.1  Unnamed: 0                               title  rank  \\\n",
       "0             0           0             Chantaje (feat. Maluma)     1   \n",
       "1             1    10123748  Despacito (Featuring Daddy Yankee)     1   \n",
       "2             2     1305825                               ภาพจำ     1   \n",
       "3             3     2943946                     Te Boté - Remix     1   \n",
       "4             4    19131998                            Binibini     1   \n",
       "\n",
       "         date                                             artist  \\\n",
       "0  2017-01-01                                            Shakira   \n",
       "1  2017-04-07                                         Luis Fonsi   \n",
       "2  2018-04-12                                       Pop Pongkool   \n",
       "3  2018-04-27  Nio Garcia, Casper Magico, Bad Bunny, Darell, ...   \n",
       "4  2021-04-16                                       Zack Tabudlo   \n",
       "\n",
       "                                                 url              region  \\\n",
       "0  https://open.spotify.com/track/6mICuAdrwEjh6Y6...           Argentina   \n",
       "1  https://open.spotify.com/track/4aWmUDTfIPGksMN...  Dominican Republic   \n",
       "2  https://open.spotify.com/track/4YRpjJaJpiI36HM...            Thailand   \n",
       "3  https://open.spotify.com/track/3V8UKqhEK5zBkBb...            Honduras   \n",
       "4  https://open.spotify.com/track/2X5AFygz5SDYlXa...         Philippines   \n",
       "\n",
       "    streams  danceability  energy   key  loudness  speechiness  acousticness  \\\n",
       "0  253019.0         0.852   0.773   8.0    -2.921       0.0776         0.187   \n",
       "1   11681.0         0.660   0.786   2.0    -4.757       0.1700         0.209   \n",
       "2   15477.0         0.557   0.585   5.0    -7.559       0.0470         0.426   \n",
       "3   12869.0         0.903   0.675  11.0    -3.445       0.2140         0.542   \n",
       "4  401678.0         0.642   0.374   5.0   -10.606       0.0320         0.423   \n",
       "\n",
       "   instrumentalness  liveness  valence    tempo  duration_ms  \n",
       "0          0.000030    0.1590   0.9070  102.034     195840.0  \n",
       "1          0.000000    0.1120   0.8460  177.833     228200.0  \n",
       "2          0.000001    0.1440   0.4640   81.922     274000.0  \n",
       "3          0.000013    0.0595   0.4420   96.507     417920.0  \n",
       "4          0.000002    0.4350   0.0979  129.863     221538.0  "
      ]
     },
     "execution_count": 8,
     "metadata": {},
     "output_type": "execute_result"
    }
   ],
   "source": [
    "data.head()"
   ]
  },
  {
   "cell_type": "markdown",
   "id": "9b21482e",
   "metadata": {},
   "source": [
    "## Adding features of each song to the dataset"
   ]
  },
  {
   "cell_type": "code",
   "execution_count": 9,
   "id": "88cf1e7c",
   "metadata": {},
   "outputs": [],
   "source": [
    "test_set = data.head()"
   ]
  },
  {
   "cell_type": "code",
   "execution_count": 10,
   "id": "8cadd969",
   "metadata": {},
   "outputs": [
    {
     "data": {
      "text/plain": [
       "(5, 20)"
      ]
     },
     "execution_count": 10,
     "metadata": {},
     "output_type": "execute_result"
    }
   ],
   "source": [
    "test_set.shape"
   ]
  },
  {
   "cell_type": "code",
   "execution_count": null,
   "id": "3d5a8fb3",
   "metadata": {
    "scrolled": false
   },
   "outputs": [],
   "source": [
    "# Add columns to existing dataset with the audio features.\n",
    "# Implementing a timer to check the time for adding new columns.\n",
    "import time\n",
    "tic = time.perf_counter()\n",
    "\n",
    "errors = 0\n",
    "\n",
    "for index, row in data[6110:].iterrows():\n",
    "    try:\n",
    "        current = sp.audio_features(row['url'])[0]\n",
    "        data.at[index,'danceability'] = float(current['danceability'])\n",
    "        data.at[index,'energy'] = current['energy']\n",
    "        data.at[index,'key'] = current['key']\n",
    "        data.at[index,'loudness'] = current['loudness']\n",
    "        data.at[index,'mode'] = current['mode']\n",
    "        data.at[index,'speechiness'] = current['speechiness']\n",
    "        data.at[index,'acousticness'] = current['acousticness']\n",
    "        data.at[index,'instrumentalness'] = current['instrumentalness']\n",
    "        data.at[index,'liveness'] = current['liveness']\n",
    "        data.at[index,'valence'] = current['valence']\n",
    "        data.at[index,'tempo'] = current['tempo']\n",
    "        data.at[index,'duration_ms'] = current['duration_ms']\n",
    "        print(str(int(((index+1)/data.shape[0])*100)) + '% done - ' + str(index+1) + ' of ' + str(data.shape[0]) + ' songs iterated - ' + errors + ' encountered.', end='\\r')\n",
    "    except:\n",
    "        #append error or insert specific values?\n",
    "        errors = errors+1\n",
    "        pass\n",
    "    \n",
    "        \n",
    "toc = time.perf_counter()\n",
    "print(f\"Added new rows from external links in {toc - tic:0.4f} seconds\")"
   ]
  },
  {
   "cell_type": "code",
   "execution_count": 57,
   "id": "9960f9f8",
   "metadata": {},
   "outputs": [
    {
     "data": {
      "text/plain": [
       "Unnamed: 0           0\n",
       "title                0\n",
       "rank                 0\n",
       "date                 0\n",
       "artist               0\n",
       "url                  0\n",
       "region               0\n",
       "streams              0\n",
       "danceability        17\n",
       "energy              17\n",
       "key                 17\n",
       "loudness            17\n",
       "speechiness         17\n",
       "acousticness        17\n",
       "instrumentalness    17\n",
       "liveness            17\n",
       "valence             17\n",
       "tempo               17\n",
       "duration_ms         17\n",
       "dtype: int64"
      ]
     },
     "execution_count": 57,
     "metadata": {},
     "output_type": "execute_result"
    }
   ],
   "source": [
    "data.isnull().sum()"
   ]
  },
  {
   "cell_type": "markdown",
   "id": "3057ab3e",
   "metadata": {},
   "source": [
    "**Missing values from iteration:**"
   ]
  },
  {
   "cell_type": "code",
   "execution_count": 71,
   "id": "ee29ea1f",
   "metadata": {},
   "outputs": [
    {
     "data": {
      "text/plain": [
       "'\\n6119\\n20101\\n23710 \\n25962\\n33986\\n34521 \\n38726 \\n39988 \\n52686\\n63662 \\n64375\\n66721\\n72738\\n77099 \\n94502 \\n96669 \\n99117 \\n'"
      ]
     },
     "execution_count": 71,
     "metadata": {},
     "output_type": "execute_result"
    }
   ],
   "source": [
    "'''\n",
    "6119\n",
    "20101\n",
    "23710 \n",
    "25962\n",
    "33986\n",
    "34521 \n",
    "38726 \n",
    "39988 \n",
    "52686\n",
    "63662 \n",
    "64375\n",
    "66721\n",
    "72738\n",
    "77099 \n",
    "94502 \n",
    "96669 \n",
    "99117 \n",
    "'''"
   ]
  },
  {
   "cell_type": "code",
   "execution_count": null,
   "id": "dad02ecc",
   "metadata": {},
   "outputs": [],
   "source": [
    "data[6118:6120]"
   ]
  },
  {
   "cell_type": "code",
   "execution_count": 58,
   "id": "e3ef47b8",
   "metadata": {},
   "outputs": [],
   "source": [
    "#Saving the sub dataset for testing.\n",
    "from pathlib import Path\n",
    "path = Path('../data/cleanedDatasetWithFeatures.csv')\n",
    "path.parent.mkdir(parents=True, exist_ok=True)\n",
    "data.to_csv(path)"
   ]
  },
  {
   "cell_type": "code",
   "execution_count": 68,
   "id": "06cc3154",
   "metadata": {},
   "outputs": [],
   "source": [
    "new_data = data.head()"
   ]
  },
  {
   "cell_type": "code",
   "execution_count": 78,
   "id": "ec4c2ba1",
   "metadata": {},
   "outputs": [
    {
     "data": {
      "text/html": [
       "<div>\n",
       "<style scoped>\n",
       "    .dataframe tbody tr th:only-of-type {\n",
       "        vertical-align: middle;\n",
       "    }\n",
       "\n",
       "    .dataframe tbody tr th {\n",
       "        vertical-align: top;\n",
       "    }\n",
       "\n",
       "    .dataframe thead th {\n",
       "        text-align: right;\n",
       "    }\n",
       "</style>\n",
       "<table border=\"1\" class=\"dataframe\">\n",
       "  <thead>\n",
       "    <tr style=\"text-align: right;\">\n",
       "      <th></th>\n",
       "      <th>Unnamed: 0</th>\n",
       "      <th>title</th>\n",
       "      <th>rank</th>\n",
       "      <th>date</th>\n",
       "      <th>artist</th>\n",
       "      <th>url</th>\n",
       "      <th>region</th>\n",
       "      <th>streams</th>\n",
       "      <th>danceability</th>\n",
       "      <th>energy</th>\n",
       "      <th>key</th>\n",
       "      <th>loudness</th>\n",
       "      <th>speechiness</th>\n",
       "      <th>acousticness</th>\n",
       "      <th>instrumentalness</th>\n",
       "      <th>liveness</th>\n",
       "      <th>valence</th>\n",
       "      <th>tempo</th>\n",
       "      <th>duration_ms</th>\n",
       "    </tr>\n",
       "  </thead>\n",
       "  <tbody>\n",
       "    <tr>\n",
       "      <th>0</th>\n",
       "      <td>0</td>\n",
       "      <td>Chantaje (feat. Maluma)</td>\n",
       "      <td>1</td>\n",
       "      <td>2017-01-01</td>\n",
       "      <td>Shakira</td>\n",
       "      <td>https://open.spotify.com/track/6mICuAdrwEjh6Y6...</td>\n",
       "      <td>Argentina</td>\n",
       "      <td>253019.0</td>\n",
       "      <td>0.852</td>\n",
       "      <td>0.773</td>\n",
       "      <td>8.0</td>\n",
       "      <td>-2.921</td>\n",
       "      <td>0.0776</td>\n",
       "      <td>0.187</td>\n",
       "      <td>0.000030</td>\n",
       "      <td>0.1590</td>\n",
       "      <td>0.9070</td>\n",
       "      <td>102.034</td>\n",
       "      <td>195840.0</td>\n",
       "    </tr>\n",
       "    <tr>\n",
       "      <th>1</th>\n",
       "      <td>10123748</td>\n",
       "      <td>Despacito (Featuring Daddy Yankee)</td>\n",
       "      <td>1</td>\n",
       "      <td>2017-04-07</td>\n",
       "      <td>Luis Fonsi</td>\n",
       "      <td>https://open.spotify.com/track/4aWmUDTfIPGksMN...</td>\n",
       "      <td>Dominican Republic</td>\n",
       "      <td>11681.0</td>\n",
       "      <td>0.660</td>\n",
       "      <td>0.786</td>\n",
       "      <td>2.0</td>\n",
       "      <td>-4.757</td>\n",
       "      <td>0.1700</td>\n",
       "      <td>0.209</td>\n",
       "      <td>0.000000</td>\n",
       "      <td>0.1120</td>\n",
       "      <td>0.8460</td>\n",
       "      <td>177.833</td>\n",
       "      <td>228200.0</td>\n",
       "    </tr>\n",
       "    <tr>\n",
       "      <th>2</th>\n",
       "      <td>1305825</td>\n",
       "      <td>ภาพจำ</td>\n",
       "      <td>1</td>\n",
       "      <td>2018-04-12</td>\n",
       "      <td>Pop Pongkool</td>\n",
       "      <td>https://open.spotify.com/track/4YRpjJaJpiI36HM...</td>\n",
       "      <td>Thailand</td>\n",
       "      <td>15477.0</td>\n",
       "      <td>0.557</td>\n",
       "      <td>0.585</td>\n",
       "      <td>5.0</td>\n",
       "      <td>-7.559</td>\n",
       "      <td>0.0470</td>\n",
       "      <td>0.426</td>\n",
       "      <td>0.000001</td>\n",
       "      <td>0.1440</td>\n",
       "      <td>0.4640</td>\n",
       "      <td>81.922</td>\n",
       "      <td>274000.0</td>\n",
       "    </tr>\n",
       "    <tr>\n",
       "      <th>3</th>\n",
       "      <td>2943946</td>\n",
       "      <td>Te Boté - Remix</td>\n",
       "      <td>1</td>\n",
       "      <td>2018-04-27</td>\n",
       "      <td>Nio Garcia, Casper Magico, Bad Bunny, Darell, ...</td>\n",
       "      <td>https://open.spotify.com/track/3V8UKqhEK5zBkBb...</td>\n",
       "      <td>Honduras</td>\n",
       "      <td>12869.0</td>\n",
       "      <td>0.903</td>\n",
       "      <td>0.675</td>\n",
       "      <td>11.0</td>\n",
       "      <td>-3.445</td>\n",
       "      <td>0.2140</td>\n",
       "      <td>0.542</td>\n",
       "      <td>0.000013</td>\n",
       "      <td>0.0595</td>\n",
       "      <td>0.4420</td>\n",
       "      <td>96.507</td>\n",
       "      <td>417920.0</td>\n",
       "    </tr>\n",
       "    <tr>\n",
       "      <th>4</th>\n",
       "      <td>19131998</td>\n",
       "      <td>Binibini</td>\n",
       "      <td>1</td>\n",
       "      <td>2021-04-16</td>\n",
       "      <td>Zack Tabudlo</td>\n",
       "      <td>https://open.spotify.com/track/2X5AFygz5SDYlXa...</td>\n",
       "      <td>Philippines</td>\n",
       "      <td>401678.0</td>\n",
       "      <td>0.642</td>\n",
       "      <td>0.374</td>\n",
       "      <td>5.0</td>\n",
       "      <td>-10.606</td>\n",
       "      <td>0.0320</td>\n",
       "      <td>0.423</td>\n",
       "      <td>0.000002</td>\n",
       "      <td>0.4350</td>\n",
       "      <td>0.0979</td>\n",
       "      <td>129.863</td>\n",
       "      <td>221538.0</td>\n",
       "    </tr>\n",
       "  </tbody>\n",
       "</table>\n",
       "</div>"
      ],
      "text/plain": [
       "   Unnamed: 0                               title  rank        date  \\\n",
       "0           0             Chantaje (feat. Maluma)     1  2017-01-01   \n",
       "1    10123748  Despacito (Featuring Daddy Yankee)     1  2017-04-07   \n",
       "2     1305825                               ภาพจำ     1  2018-04-12   \n",
       "3     2943946                     Te Boté - Remix     1  2018-04-27   \n",
       "4    19131998                            Binibini     1  2021-04-16   \n",
       "\n",
       "                                              artist  \\\n",
       "0                                            Shakira   \n",
       "1                                         Luis Fonsi   \n",
       "2                                       Pop Pongkool   \n",
       "3  Nio Garcia, Casper Magico, Bad Bunny, Darell, ...   \n",
       "4                                       Zack Tabudlo   \n",
       "\n",
       "                                                 url              region  \\\n",
       "0  https://open.spotify.com/track/6mICuAdrwEjh6Y6...           Argentina   \n",
       "1  https://open.spotify.com/track/4aWmUDTfIPGksMN...  Dominican Republic   \n",
       "2  https://open.spotify.com/track/4YRpjJaJpiI36HM...            Thailand   \n",
       "3  https://open.spotify.com/track/3V8UKqhEK5zBkBb...            Honduras   \n",
       "4  https://open.spotify.com/track/2X5AFygz5SDYlXa...         Philippines   \n",
       "\n",
       "    streams  danceability  energy   key  loudness  speechiness  acousticness  \\\n",
       "0  253019.0         0.852   0.773   8.0    -2.921       0.0776         0.187   \n",
       "1   11681.0         0.660   0.786   2.0    -4.757       0.1700         0.209   \n",
       "2   15477.0         0.557   0.585   5.0    -7.559       0.0470         0.426   \n",
       "3   12869.0         0.903   0.675  11.0    -3.445       0.2140         0.542   \n",
       "4  401678.0         0.642   0.374   5.0   -10.606       0.0320         0.423   \n",
       "\n",
       "   instrumentalness  liveness  valence    tempo  duration_ms  \n",
       "0          0.000030    0.1590   0.9070  102.034     195840.0  \n",
       "1          0.000000    0.1120   0.8460  177.833     228200.0  \n",
       "2          0.000001    0.1440   0.4640   81.922     274000.0  \n",
       "3          0.000013    0.0595   0.4420   96.507     417920.0  \n",
       "4          0.000002    0.4350   0.0979  129.863     221538.0  "
      ]
     },
     "execution_count": 78,
     "metadata": {},
     "output_type": "execute_result"
    }
   ],
   "source": [
    "new_data.head()"
   ]
  },
  {
   "cell_type": "code",
   "execution_count": 67,
   "id": "56052f6e",
   "metadata": {},
   "outputs": [
    {
     "data": {
      "text/plain": [
       "'rank'"
      ]
     },
     "execution_count": 67,
     "metadata": {},
     "output_type": "execute_result"
    }
   ],
   "source": [
    "new_data.columns[1]"
   ]
  },
  {
   "cell_type": "code",
   "execution_count": null,
   "id": "1969787e",
   "metadata": {},
   "outputs": [],
   "source": []
  }
 ],
 "metadata": {
  "kernelspec": {
   "display_name": "Python 3 (ipykernel)",
   "language": "python",
   "name": "python3"
  },
  "language_info": {
   "codemirror_mode": {
    "name": "ipython",
    "version": 3
   },
   "file_extension": ".py",
   "mimetype": "text/x-python",
   "name": "python",
   "nbconvert_exporter": "python",
   "pygments_lexer": "ipython3",
   "version": "3.10.2"
  }
 },
 "nbformat": 4,
 "nbformat_minor": 5
}
