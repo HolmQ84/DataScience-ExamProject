{
 "cells": [
  {
   "cell_type": "markdown",
   "id": "84db4135",
   "metadata": {},
   "source": [
    "# Calculate Genre Of Songs By Modelling"
   ]
  },
  {
   "cell_type": "markdown",
   "id": "bc673d52",
   "metadata": {},
   "source": [
    "### Import libraries"
   ]
  },
  {
   "cell_type": "code",
   "execution_count": 1,
   "id": "2cd032bb",
   "metadata": {},
   "outputs": [],
   "source": [
    "import pandas as pd\n",
    "import numpy as np\n",
    "import matplotlib.pyplot as plt\n",
    "import seaborn as sns\n",
    "%matplotlib inline\n",
    "import random\n",
    "from pandas.plotting import scatter_matrix\n",
    "from sklearn import datasets, svm, tree, preprocessing, metrics\n",
    "\n",
    "from sklearn.metrics import confusion_matrix\n",
    "from sklearn.naive_bayes import MultinomialNB\n",
    "from sklearn.linear_model import LogisticRegression\n",
    "from sklearn.decomposition import PCA\n",
    "from sklearn.preprocessing import StandardScaler"
   ]
  },
  {
   "cell_type": "markdown",
   "id": "d39943ab",
   "metadata": {},
   "source": [
    "### Import dataset"
   ]
  },
  {
   "cell_type": "code",
   "execution_count": 2,
   "id": "67d4218e",
   "metadata": {},
   "outputs": [],
   "source": [
    "data = pd.read_csv(\"../../data/cleanedDataSetWithGenres.csv\")"
   ]
  },
  {
   "cell_type": "markdown",
   "id": "9d51d27f",
   "metadata": {},
   "source": [
    "### Explore the dataset"
   ]
  },
  {
   "cell_type": "code",
   "execution_count": 3,
   "id": "dd6f6023",
   "metadata": {},
   "outputs": [
    {
     "data": {
      "text/html": [
       "<div>\n",
       "<style scoped>\n",
       "    .dataframe tbody tr th:only-of-type {\n",
       "        vertical-align: middle;\n",
       "    }\n",
       "\n",
       "    .dataframe tbody tr th {\n",
       "        vertical-align: top;\n",
       "    }\n",
       "\n",
       "    .dataframe thead th {\n",
       "        text-align: right;\n",
       "    }\n",
       "</style>\n",
       "<table border=\"1\" class=\"dataframe\">\n",
       "  <thead>\n",
       "    <tr style=\"text-align: right;\">\n",
       "      <th></th>\n",
       "      <th>Unnamed: 0</th>\n",
       "      <th>title</th>\n",
       "      <th>rank</th>\n",
       "      <th>date</th>\n",
       "      <th>artist</th>\n",
       "      <th>url</th>\n",
       "      <th>region</th>\n",
       "      <th>streams</th>\n",
       "      <th>danceability</th>\n",
       "      <th>energy</th>\n",
       "      <th>key</th>\n",
       "      <th>loudness</th>\n",
       "      <th>speechiness</th>\n",
       "      <th>acousticness</th>\n",
       "      <th>instrumentalness</th>\n",
       "      <th>liveness</th>\n",
       "      <th>valence</th>\n",
       "      <th>tempo</th>\n",
       "      <th>duration_ms</th>\n",
       "      <th>genre</th>\n",
       "    </tr>\n",
       "  </thead>\n",
       "  <tbody>\n",
       "    <tr>\n",
       "      <th>0</th>\n",
       "      <td>0</td>\n",
       "      <td>Chantaje (feat. Maluma)</td>\n",
       "      <td>1</td>\n",
       "      <td>2017-01-01</td>\n",
       "      <td>Shakira</td>\n",
       "      <td>https://open.spotify.com/track/6mICuAdrwEjh6Y6...</td>\n",
       "      <td>Argentina</td>\n",
       "      <td>253019.0</td>\n",
       "      <td>0.852</td>\n",
       "      <td>0.773</td>\n",
       "      <td>8.0</td>\n",
       "      <td>-2.921</td>\n",
       "      <td>0.0776</td>\n",
       "      <td>0.187</td>\n",
       "      <td>0.000030</td>\n",
       "      <td>0.1590</td>\n",
       "      <td>0.9070</td>\n",
       "      <td>102.034</td>\n",
       "      <td>195840.0</td>\n",
       "      <td>Pop</td>\n",
       "    </tr>\n",
       "    <tr>\n",
       "      <th>1</th>\n",
       "      <td>1</td>\n",
       "      <td>Despacito (Featuring Daddy Yankee)</td>\n",
       "      <td>1</td>\n",
       "      <td>2017-04-07</td>\n",
       "      <td>Luis Fonsi</td>\n",
       "      <td>https://open.spotify.com/track/4aWmUDTfIPGksMN...</td>\n",
       "      <td>Dominican Republic</td>\n",
       "      <td>11681.0</td>\n",
       "      <td>0.660</td>\n",
       "      <td>0.786</td>\n",
       "      <td>2.0</td>\n",
       "      <td>-4.757</td>\n",
       "      <td>0.1700</td>\n",
       "      <td>0.209</td>\n",
       "      <td>0.000000</td>\n",
       "      <td>0.1120</td>\n",
       "      <td>0.8460</td>\n",
       "      <td>177.833</td>\n",
       "      <td>228200.0</td>\n",
       "      <td>Pop</td>\n",
       "    </tr>\n",
       "    <tr>\n",
       "      <th>2</th>\n",
       "      <td>2</td>\n",
       "      <td>Binibini</td>\n",
       "      <td>1</td>\n",
       "      <td>2021-04-16</td>\n",
       "      <td>Zack Tabudlo</td>\n",
       "      <td>https://open.spotify.com/track/2X5AFygz5SDYlXa...</td>\n",
       "      <td>Philippines</td>\n",
       "      <td>401678.0</td>\n",
       "      <td>0.642</td>\n",
       "      <td>0.374</td>\n",
       "      <td>5.0</td>\n",
       "      <td>-10.606</td>\n",
       "      <td>0.0320</td>\n",
       "      <td>0.423</td>\n",
       "      <td>0.000002</td>\n",
       "      <td>0.4350</td>\n",
       "      <td>0.0979</td>\n",
       "      <td>129.863</td>\n",
       "      <td>221538.0</td>\n",
       "      <td>Pop</td>\n",
       "    </tr>\n",
       "    <tr>\n",
       "      <th>3</th>\n",
       "      <td>3</td>\n",
       "      <td>7 rings</td>\n",
       "      <td>1</td>\n",
       "      <td>2019-03-16</td>\n",
       "      <td>Ariana Grande</td>\n",
       "      <td>https://open.spotify.com/track/6ocbgoVGwYJhOv1...</td>\n",
       "      <td>Indonesia</td>\n",
       "      <td>125837.0</td>\n",
       "      <td>0.778</td>\n",
       "      <td>0.317</td>\n",
       "      <td>1.0</td>\n",
       "      <td>-10.732</td>\n",
       "      <td>0.3340</td>\n",
       "      <td>0.592</td>\n",
       "      <td>0.000000</td>\n",
       "      <td>0.0881</td>\n",
       "      <td>0.3270</td>\n",
       "      <td>140.048</td>\n",
       "      <td>178627.0</td>\n",
       "      <td>Rap</td>\n",
       "    </tr>\n",
       "    <tr>\n",
       "      <th>4</th>\n",
       "      <td>4</td>\n",
       "      <td>Shape of You</td>\n",
       "      <td>1</td>\n",
       "      <td>2017-03-08</td>\n",
       "      <td>Ed Sheeran</td>\n",
       "      <td>https://open.spotify.com/track/7qiZfU4dY1lWllz...</td>\n",
       "      <td>Portugal</td>\n",
       "      <td>55132.0</td>\n",
       "      <td>0.825</td>\n",
       "      <td>0.652</td>\n",
       "      <td>1.0</td>\n",
       "      <td>-3.183</td>\n",
       "      <td>0.0802</td>\n",
       "      <td>0.581</td>\n",
       "      <td>0.000000</td>\n",
       "      <td>0.0931</td>\n",
       "      <td>0.9310</td>\n",
       "      <td>95.977</td>\n",
       "      <td>233713.0</td>\n",
       "      <td>R&amp;B</td>\n",
       "    </tr>\n",
       "  </tbody>\n",
       "</table>\n",
       "</div>"
      ],
      "text/plain": [
       "   Unnamed: 0                               title  rank        date  \\\n",
       "0           0             Chantaje (feat. Maluma)     1  2017-01-01   \n",
       "1           1  Despacito (Featuring Daddy Yankee)     1  2017-04-07   \n",
       "2           2                            Binibini     1  2021-04-16   \n",
       "3           3                             7 rings     1  2019-03-16   \n",
       "4           4                        Shape of You     1  2017-03-08   \n",
       "\n",
       "          artist                                                url  \\\n",
       "0        Shakira  https://open.spotify.com/track/6mICuAdrwEjh6Y6...   \n",
       "1     Luis Fonsi  https://open.spotify.com/track/4aWmUDTfIPGksMN...   \n",
       "2   Zack Tabudlo  https://open.spotify.com/track/2X5AFygz5SDYlXa...   \n",
       "3  Ariana Grande  https://open.spotify.com/track/6ocbgoVGwYJhOv1...   \n",
       "4     Ed Sheeran  https://open.spotify.com/track/7qiZfU4dY1lWllz...   \n",
       "\n",
       "               region   streams  danceability  energy  key  loudness  \\\n",
       "0           Argentina  253019.0         0.852   0.773  8.0    -2.921   \n",
       "1  Dominican Republic   11681.0         0.660   0.786  2.0    -4.757   \n",
       "2         Philippines  401678.0         0.642   0.374  5.0   -10.606   \n",
       "3           Indonesia  125837.0         0.778   0.317  1.0   -10.732   \n",
       "4            Portugal   55132.0         0.825   0.652  1.0    -3.183   \n",
       "\n",
       "   speechiness  acousticness  instrumentalness  liveness  valence    tempo  \\\n",
       "0       0.0776         0.187          0.000030    0.1590   0.9070  102.034   \n",
       "1       0.1700         0.209          0.000000    0.1120   0.8460  177.833   \n",
       "2       0.0320         0.423          0.000002    0.4350   0.0979  129.863   \n",
       "3       0.3340         0.592          0.000000    0.0881   0.3270  140.048   \n",
       "4       0.0802         0.581          0.000000    0.0931   0.9310   95.977   \n",
       "\n",
       "   duration_ms genre  \n",
       "0     195840.0   Pop  \n",
       "1     228200.0   Pop  \n",
       "2     221538.0   Pop  \n",
       "3     178627.0   Rap  \n",
       "4     233713.0   R&B  "
      ]
     },
     "execution_count": 3,
     "metadata": {},
     "output_type": "execute_result"
    }
   ],
   "source": [
    "data.head()"
   ]
  },
  {
   "cell_type": "code",
   "execution_count": 4,
   "id": "841ec1b0",
   "metadata": {},
   "outputs": [
    {
     "data": {
      "text/plain": [
       "Unnamed: 0            int64\n",
       "title                object\n",
       "rank                  int64\n",
       "date                 object\n",
       "artist               object\n",
       "url                  object\n",
       "region               object\n",
       "streams             float64\n",
       "danceability        float64\n",
       "energy              float64\n",
       "key                 float64\n",
       "loudness            float64\n",
       "speechiness         float64\n",
       "acousticness        float64\n",
       "instrumentalness    float64\n",
       "liveness            float64\n",
       "valence             float64\n",
       "tempo               float64\n",
       "duration_ms         float64\n",
       "genre                object\n",
       "dtype: object"
      ]
     },
     "execution_count": 4,
     "metadata": {},
     "output_type": "execute_result"
    }
   ],
   "source": [
    "data.dtypes"
   ]
  },
  {
   "cell_type": "code",
   "execution_count": 5,
   "id": "2c18cccc",
   "metadata": {},
   "outputs": [],
   "source": [
    "# Drop unnamed column with old index.\n",
    "data.drop('Unnamed: 0', inplace=True, axis=1)"
   ]
  },
  {
   "cell_type": "code",
   "execution_count": 6,
   "id": "ba0cd338",
   "metadata": {},
   "outputs": [
    {
     "data": {
      "text/plain": [
       "Rap          4962\n",
       "Pop          3386\n",
       "R&B           486\n",
       "Rock          271\n",
       "Country        55\n",
       "Non-Music      16\n",
       "Name: genre, dtype: int64"
      ]
     },
     "execution_count": 6,
     "metadata": {},
     "output_type": "execute_result"
    }
   ],
   "source": [
    "# Show distribution of genres.\n",
    "data['genre'].value_counts()"
   ]
  },
  {
   "cell_type": "code",
   "execution_count": 7,
   "id": "06859eca",
   "metadata": {},
   "outputs": [
    {
     "data": {
      "text/plain": [
       "<AxesSubplot:>"
      ]
     },
     "execution_count": 7,
     "metadata": {},
     "output_type": "execute_result"
    },
    {
     "data": {
      "image/png": "[encoded data removed]",
      "text/plain": [
       "<Figure size 432x288 with 1 Axes>"
      ]
     },
     "metadata": {
      "needs_background": "light"
     },
     "output_type": "display_data"
    }
   ],
   "source": [
    "data['genre'].value_counts().plot.bar()"
   ]
  },
  {
   "cell_type": "code",
   "execution_count": 8,
   "id": "d9edb345",
   "metadata": {},
   "outputs": [
    {
     "data": {
      "text/html": [
       "<div>\n",
       "<style scoped>\n",
       "    .dataframe tbody tr th:only-of-type {\n",
       "        vertical-align: middle;\n",
       "    }\n",
       "\n",
       "    .dataframe tbody tr th {\n",
       "        vertical-align: top;\n",
       "    }\n",
       "\n",
       "    .dataframe thead th {\n",
       "        text-align: right;\n",
       "    }\n",
       "</style>\n",
       "<table border=\"1\" class=\"dataframe\">\n",
       "  <thead>\n",
       "    <tr style=\"text-align: right;\">\n",
       "      <th></th>\n",
       "      <th>rank</th>\n",
       "      <th>streams</th>\n",
       "      <th>danceability</th>\n",
       "      <th>energy</th>\n",
       "      <th>key</th>\n",
       "      <th>loudness</th>\n",
       "      <th>speechiness</th>\n",
       "      <th>acousticness</th>\n",
       "      <th>instrumentalness</th>\n",
       "      <th>liveness</th>\n",
       "      <th>valence</th>\n",
       "      <th>tempo</th>\n",
       "      <th>duration_ms</th>\n",
       "    </tr>\n",
       "    <tr>\n",
       "      <th>genre</th>\n",
       "      <th></th>\n",
       "      <th></th>\n",
       "      <th></th>\n",
       "      <th></th>\n",
       "      <th></th>\n",
       "      <th></th>\n",
       "      <th></th>\n",
       "      <th></th>\n",
       "      <th></th>\n",
       "      <th></th>\n",
       "      <th></th>\n",
       "      <th></th>\n",
       "      <th></th>\n",
       "    </tr>\n",
       "  </thead>\n",
       "  <tbody>\n",
       "    <tr>\n",
       "      <th>Country</th>\n",
       "      <td>6.509091</td>\n",
       "      <td>558525.690909</td>\n",
       "      <td>0.616455</td>\n",
       "      <td>0.624291</td>\n",
       "      <td>3.927273</td>\n",
       "      <td>-6.165818</td>\n",
       "      <td>0.047007</td>\n",
       "      <td>0.338672</td>\n",
       "      <td>0.000227</td>\n",
       "      <td>0.182062</td>\n",
       "      <td>0.528036</td>\n",
       "      <td>118.997909</td>\n",
       "      <td>214030.400000</td>\n",
       "    </tr>\n",
       "    <tr>\n",
       "      <th>Non-Music</th>\n",
       "      <td>8.500000</td>\n",
       "      <td>52651.062500</td>\n",
       "      <td>0.675687</td>\n",
       "      <td>0.590194</td>\n",
       "      <td>4.375000</td>\n",
       "      <td>-7.691250</td>\n",
       "      <td>0.166212</td>\n",
       "      <td>0.348913</td>\n",
       "      <td>0.013736</td>\n",
       "      <td>0.272744</td>\n",
       "      <td>0.440500</td>\n",
       "      <td>125.413875</td>\n",
       "      <td>198262.687500</td>\n",
       "    </tr>\n",
       "    <tr>\n",
       "      <th>Pop</th>\n",
       "      <td>5.973420</td>\n",
       "      <td>172066.515357</td>\n",
       "      <td>0.665383</td>\n",
       "      <td>0.644842</td>\n",
       "      <td>5.346722</td>\n",
       "      <td>-6.309671</td>\n",
       "      <td>0.088835</td>\n",
       "      <td>0.267259</td>\n",
       "      <td>0.011250</td>\n",
       "      <td>0.172104</td>\n",
       "      <td>0.527481</td>\n",
       "      <td>121.590847</td>\n",
       "      <td>208395.932369</td>\n",
       "    </tr>\n",
       "    <tr>\n",
       "      <th>R&amp;B</th>\n",
       "      <td>6.199588</td>\n",
       "      <td>279928.462963</td>\n",
       "      <td>0.667167</td>\n",
       "      <td>0.581612</td>\n",
       "      <td>5.014403</td>\n",
       "      <td>-7.084679</td>\n",
       "      <td>0.119731</td>\n",
       "      <td>0.304387</td>\n",
       "      <td>0.010394</td>\n",
       "      <td>0.159428</td>\n",
       "      <td>0.460988</td>\n",
       "      <td>119.223866</td>\n",
       "      <td>208715.207819</td>\n",
       "    </tr>\n",
       "    <tr>\n",
       "      <th>Rap</th>\n",
       "      <td>6.344015</td>\n",
       "      <td>229397.210601</td>\n",
       "      <td>0.743791</td>\n",
       "      <td>0.646882</td>\n",
       "      <td>5.318622</td>\n",
       "      <td>-6.951250</td>\n",
       "      <td>0.200828</td>\n",
       "      <td>0.235030</td>\n",
       "      <td>0.006020</td>\n",
       "      <td>0.166448</td>\n",
       "      <td>0.498846</td>\n",
       "      <td>122.288106</td>\n",
       "      <td>191702.317211</td>\n",
       "    </tr>\n",
       "    <tr>\n",
       "      <th>Rock</th>\n",
       "      <td>7.088561</td>\n",
       "      <td>184411.929889</td>\n",
       "      <td>0.564605</td>\n",
       "      <td>0.696542</td>\n",
       "      <td>5.346863</td>\n",
       "      <td>-6.148196</td>\n",
       "      <td>0.065221</td>\n",
       "      <td>0.150808</td>\n",
       "      <td>0.027115</td>\n",
       "      <td>0.191839</td>\n",
       "      <td>0.468004</td>\n",
       "      <td>124.315421</td>\n",
       "      <td>234032.896679</td>\n",
       "    </tr>\n",
       "  </tbody>\n",
       "</table>\n",
       "</div>"
      ],
      "text/plain": [
       "               rank        streams  danceability    energy       key  \\\n",
       "genre                                                                  \n",
       "Country    6.509091  558525.690909      0.616455  0.624291  3.927273   \n",
       "Non-Music  8.500000   52651.062500      0.675687  0.590194  4.375000   \n",
       "Pop        5.973420  172066.515357      0.665383  0.644842  5.346722   \n",
       "R&B        6.199588  279928.462963      0.667167  0.581612  5.014403   \n",
       "Rap        6.344015  229397.210601      0.743791  0.646882  5.318622   \n",
       "Rock       7.088561  184411.929889      0.564605  0.696542  5.346863   \n",
       "\n",
       "           loudness  speechiness  acousticness  instrumentalness  liveness  \\\n",
       "genre                                                                        \n",
       "Country   -6.165818     0.047007      0.338672          0.000227  0.182062   \n",
       "Non-Music -7.691250     0.166212      0.348913          0.013736  0.272744   \n",
       "Pop       -6.309671     0.088835      0.267259          0.011250  0.172104   \n",
       "R&B       -7.084679     0.119731      0.304387          0.010394  0.159428   \n",
       "Rap       -6.951250     0.200828      0.235030          0.006020  0.166448   \n",
       "Rock      -6.148196     0.065221      0.150808          0.027115  0.191839   \n",
       "\n",
       "            valence       tempo    duration_ms  \n",
       "genre                                           \n",
       "Country    0.528036  118.997909  214030.400000  \n",
       "Non-Music  0.440500  125.413875  198262.687500  \n",
       "Pop        0.527481  121.590847  208395.932369  \n",
       "R&B        0.460988  119.223866  208715.207819  \n",
       "Rap        0.498846  122.288106  191702.317211  \n",
       "Rock       0.468004  124.315421  234032.896679  "
      ]
     },
     "execution_count": 8,
     "metadata": {},
     "output_type": "execute_result"
    }
   ],
   "source": [
    "# Show average values of different genres\n",
    "data.groupby('genre').mean()"
   ]
  },
  {
   "cell_type": "code",
   "execution_count": 9,
   "id": "48650674",
   "metadata": {},
   "outputs": [
    {
     "data": {
      "text/html": [
       "<div>\n",
       "<style scoped>\n",
       "    .dataframe tbody tr th:only-of-type {\n",
       "        vertical-align: middle;\n",
       "    }\n",
       "\n",
       "    .dataframe tbody tr th {\n",
       "        vertical-align: top;\n",
       "    }\n",
       "\n",
       "    .dataframe thead th {\n",
       "        text-align: right;\n",
       "    }\n",
       "</style>\n",
       "<table border=\"1\" class=\"dataframe\">\n",
       "  <thead>\n",
       "    <tr style=\"text-align: right;\">\n",
       "      <th></th>\n",
       "      <th>rank</th>\n",
       "      <th>streams</th>\n",
       "      <th>danceability</th>\n",
       "      <th>energy</th>\n",
       "      <th>key</th>\n",
       "      <th>loudness</th>\n",
       "      <th>speechiness</th>\n",
       "      <th>acousticness</th>\n",
       "      <th>instrumentalness</th>\n",
       "      <th>liveness</th>\n",
       "      <th>valence</th>\n",
       "      <th>tempo</th>\n",
       "      <th>duration_ms</th>\n",
       "    </tr>\n",
       "  </thead>\n",
       "  <tbody>\n",
       "    <tr>\n",
       "      <th>rank</th>\n",
       "      <td>1.000000</td>\n",
       "      <td>-0.071733</td>\n",
       "      <td>-0.039571</td>\n",
       "      <td>-0.008240</td>\n",
       "      <td>-0.003710</td>\n",
       "      <td>-0.041149</td>\n",
       "      <td>0.026157</td>\n",
       "      <td>0.023173</td>\n",
       "      <td>0.026211</td>\n",
       "      <td>0.019740</td>\n",
       "      <td>-0.021164</td>\n",
       "      <td>-0.013829</td>\n",
       "      <td>-0.034387</td>\n",
       "    </tr>\n",
       "    <tr>\n",
       "      <th>streams</th>\n",
       "      <td>-0.071733</td>\n",
       "      <td>1.000000</td>\n",
       "      <td>0.013244</td>\n",
       "      <td>-0.054185</td>\n",
       "      <td>-0.006170</td>\n",
       "      <td>0.008528</td>\n",
       "      <td>0.049612</td>\n",
       "      <td>-0.008479</td>\n",
       "      <td>-0.007509</td>\n",
       "      <td>0.010141</td>\n",
       "      <td>-0.070182</td>\n",
       "      <td>0.003257</td>\n",
       "      <td>-0.034188</td>\n",
       "    </tr>\n",
       "    <tr>\n",
       "      <th>danceability</th>\n",
       "      <td>-0.039571</td>\n",
       "      <td>0.013244</td>\n",
       "      <td>1.000000</td>\n",
       "      <td>0.098647</td>\n",
       "      <td>0.007529</td>\n",
       "      <td>0.077020</td>\n",
       "      <td>0.150154</td>\n",
       "      <td>-0.202518</td>\n",
       "      <td>-0.027530</td>\n",
       "      <td>-0.084828</td>\n",
       "      <td>0.334702</td>\n",
       "      <td>-0.074984</td>\n",
       "      <td>-0.217149</td>\n",
       "    </tr>\n",
       "    <tr>\n",
       "      <th>energy</th>\n",
       "      <td>-0.008240</td>\n",
       "      <td>-0.054185</td>\n",
       "      <td>0.098647</td>\n",
       "      <td>1.000000</td>\n",
       "      <td>0.029266</td>\n",
       "      <td>0.690027</td>\n",
       "      <td>0.009008</td>\n",
       "      <td>-0.436093</td>\n",
       "      <td>-0.035510</td>\n",
       "      <td>0.124784</td>\n",
       "      <td>0.356057</td>\n",
       "      <td>0.057210</td>\n",
       "      <td>-0.050643</td>\n",
       "    </tr>\n",
       "    <tr>\n",
       "      <th>key</th>\n",
       "      <td>-0.003710</td>\n",
       "      <td>-0.006170</td>\n",
       "      <td>0.007529</td>\n",
       "      <td>0.029266</td>\n",
       "      <td>1.000000</td>\n",
       "      <td>-0.006678</td>\n",
       "      <td>0.029575</td>\n",
       "      <td>0.012737</td>\n",
       "      <td>0.003692</td>\n",
       "      <td>-0.001379</td>\n",
       "      <td>0.045157</td>\n",
       "      <td>0.007823</td>\n",
       "      <td>-0.019867</td>\n",
       "    </tr>\n",
       "    <tr>\n",
       "      <th>loudness</th>\n",
       "      <td>-0.041149</td>\n",
       "      <td>0.008528</td>\n",
       "      <td>0.077020</td>\n",
       "      <td>0.690027</td>\n",
       "      <td>-0.006678</td>\n",
       "      <td>1.000000</td>\n",
       "      <td>-0.128264</td>\n",
       "      <td>-0.334114</td>\n",
       "      <td>-0.112977</td>\n",
       "      <td>0.056855</td>\n",
       "      <td>0.259502</td>\n",
       "      <td>0.037314</td>\n",
       "      <td>-0.052682</td>\n",
       "    </tr>\n",
       "    <tr>\n",
       "      <th>speechiness</th>\n",
       "      <td>0.026157</td>\n",
       "      <td>0.049612</td>\n",
       "      <td>0.150154</td>\n",
       "      <td>0.009008</td>\n",
       "      <td>0.029575</td>\n",
       "      <td>-0.128264</td>\n",
       "      <td>1.000000</td>\n",
       "      <td>-0.017547</td>\n",
       "      <td>-0.067156</td>\n",
       "      <td>0.039975</td>\n",
       "      <td>0.045120</td>\n",
       "      <td>0.047505</td>\n",
       "      <td>-0.132727</td>\n",
       "    </tr>\n",
       "    <tr>\n",
       "      <th>acousticness</th>\n",
       "      <td>0.023173</td>\n",
       "      <td>-0.008479</td>\n",
       "      <td>-0.202518</td>\n",
       "      <td>-0.436093</td>\n",
       "      <td>0.012737</td>\n",
       "      <td>-0.334114</td>\n",
       "      <td>-0.017547</td>\n",
       "      <td>1.000000</td>\n",
       "      <td>0.003596</td>\n",
       "      <td>-0.051975</td>\n",
       "      <td>-0.104248</td>\n",
       "      <td>-0.057033</td>\n",
       "      <td>0.067066</td>\n",
       "    </tr>\n",
       "    <tr>\n",
       "      <th>instrumentalness</th>\n",
       "      <td>0.026211</td>\n",
       "      <td>-0.007509</td>\n",
       "      <td>-0.027530</td>\n",
       "      <td>-0.035510</td>\n",
       "      <td>0.003692</td>\n",
       "      <td>-0.112977</td>\n",
       "      <td>-0.067156</td>\n",
       "      <td>0.003596</td>\n",
       "      <td>1.000000</td>\n",
       "      <td>-0.021590</td>\n",
       "      <td>-0.058337</td>\n",
       "      <td>-0.008918</td>\n",
       "      <td>0.041880</td>\n",
       "    </tr>\n",
       "    <tr>\n",
       "      <th>liveness</th>\n",
       "      <td>0.019740</td>\n",
       "      <td>0.010141</td>\n",
       "      <td>-0.084828</td>\n",
       "      <td>0.124784</td>\n",
       "      <td>-0.001379</td>\n",
       "      <td>0.056855</td>\n",
       "      <td>0.039975</td>\n",
       "      <td>-0.051975</td>\n",
       "      <td>-0.021590</td>\n",
       "      <td>1.000000</td>\n",
       "      <td>0.046480</td>\n",
       "      <td>-0.001990</td>\n",
       "      <td>-0.000962</td>\n",
       "    </tr>\n",
       "    <tr>\n",
       "      <th>valence</th>\n",
       "      <td>-0.021164</td>\n",
       "      <td>-0.070182</td>\n",
       "      <td>0.334702</td>\n",
       "      <td>0.356057</td>\n",
       "      <td>0.045157</td>\n",
       "      <td>0.259502</td>\n",
       "      <td>0.045120</td>\n",
       "      <td>-0.104248</td>\n",
       "      <td>-0.058337</td>\n",
       "      <td>0.046480</td>\n",
       "      <td>1.000000</td>\n",
       "      <td>0.046247</td>\n",
       "      <td>-0.138440</td>\n",
       "    </tr>\n",
       "    <tr>\n",
       "      <th>tempo</th>\n",
       "      <td>-0.013829</td>\n",
       "      <td>0.003257</td>\n",
       "      <td>-0.074984</td>\n",
       "      <td>0.057210</td>\n",
       "      <td>0.007823</td>\n",
       "      <td>0.037314</td>\n",
       "      <td>0.047505</td>\n",
       "      <td>-0.057033</td>\n",
       "      <td>-0.008918</td>\n",
       "      <td>-0.001990</td>\n",
       "      <td>0.046247</td>\n",
       "      <td>1.000000</td>\n",
       "      <td>-0.008525</td>\n",
       "    </tr>\n",
       "    <tr>\n",
       "      <th>duration_ms</th>\n",
       "      <td>-0.034387</td>\n",
       "      <td>-0.034188</td>\n",
       "      <td>-0.217149</td>\n",
       "      <td>-0.050643</td>\n",
       "      <td>-0.019867</td>\n",
       "      <td>-0.052682</td>\n",
       "      <td>-0.132727</td>\n",
       "      <td>0.067066</td>\n",
       "      <td>0.041880</td>\n",
       "      <td>-0.000962</td>\n",
       "      <td>-0.138440</td>\n",
       "      <td>-0.008525</td>\n",
       "      <td>1.000000</td>\n",
       "    </tr>\n",
       "  </tbody>\n",
       "</table>\n",
       "</div>"
      ],
      "text/plain": [
       "                      rank   streams  danceability    energy       key  \\\n",
       "rank              1.000000 -0.071733     -0.039571 -0.008240 -0.003710   \n",
       "streams          -0.071733  1.000000      0.013244 -0.054185 -0.006170   \n",
       "danceability     -0.039571  0.013244      1.000000  0.098647  0.007529   \n",
       "energy           -0.008240 -0.054185      0.098647  1.000000  0.029266   \n",
       "key              -0.003710 -0.006170      0.007529  0.029266  1.000000   \n",
       "loudness         -0.041149  0.008528      0.077020  0.690027 -0.006678   \n",
       "speechiness       0.026157  0.049612      0.150154  0.009008  0.029575   \n",
       "acousticness      0.023173 -0.008479     -0.202518 -0.436093  0.012737   \n",
       "instrumentalness  0.026211 -0.007509     -0.027530 -0.035510  0.003692   \n",
       "liveness          0.019740  0.010141     -0.084828  0.124784 -0.001379   \n",
       "valence          -0.021164 -0.070182      0.334702  0.356057  0.045157   \n",
       "tempo            -0.013829  0.003257     -0.074984  0.057210  0.007823   \n",
       "duration_ms      -0.034387 -0.034188     -0.217149 -0.050643 -0.019867   \n",
       "\n",
       "                  loudness  speechiness  acousticness  instrumentalness  \\\n",
       "rank             -0.041149     0.026157      0.023173          0.026211   \n",
       "streams           0.008528     0.049612     -0.008479         -0.007509   \n",
       "danceability      0.077020     0.150154     -0.202518         -0.027530   \n",
       "energy            0.690027     0.009008     -0.436093         -0.035510   \n",
       "key              -0.006678     0.029575      0.012737          0.003692   \n",
       "loudness          1.000000    -0.128264     -0.334114         -0.112977   \n",
       "speechiness      -0.128264     1.000000     -0.017547         -0.067156   \n",
       "acousticness     -0.334114    -0.017547      1.000000          0.003596   \n",
       "instrumentalness -0.112977    -0.067156      0.003596          1.000000   \n",
       "liveness          0.056855     0.039975     -0.051975         -0.021590   \n",
       "valence           0.259502     0.045120     -0.104248         -0.058337   \n",
       "tempo             0.037314     0.047505     -0.057033         -0.008918   \n",
       "duration_ms      -0.052682    -0.132727      0.067066          0.041880   \n",
       "\n",
       "                  liveness   valence     tempo  duration_ms  \n",
       "rank              0.019740 -0.021164 -0.013829    -0.034387  \n",
       "streams           0.010141 -0.070182  0.003257    -0.034188  \n",
       "danceability     -0.084828  0.334702 -0.074984    -0.217149  \n",
       "energy            0.124784  0.356057  0.057210    -0.050643  \n",
       "key              -0.001379  0.045157  0.007823    -0.019867  \n",
       "loudness          0.056855  0.259502  0.037314    -0.052682  \n",
       "speechiness       0.039975  0.045120  0.047505    -0.132727  \n",
       "acousticness     -0.051975 -0.104248 -0.057033     0.067066  \n",
       "instrumentalness -0.021590 -0.058337 -0.008918     0.041880  \n",
       "liveness          1.000000  0.046480 -0.001990    -0.000962  \n",
       "valence           0.046480  1.000000  0.046247    -0.138440  \n",
       "tempo            -0.001990  0.046247  1.000000    -0.008525  \n",
       "duration_ms      -0.000962 -0.138440 -0.008525     1.000000  "
      ]
     },
     "execution_count": 9,
     "metadata": {},
     "output_type": "execute_result"
    }
   ],
   "source": [
    "data.corr()"
   ]
  },
  {
   "cell_type": "code",
   "execution_count": 10,
   "id": "a08c3857",
   "metadata": {},
   "outputs": [
    {
     "data": {
      "text/plain": [
       "rank                    AxesSubplot(0.125,0.71587;0.168478x0.16413)\n",
       "streams              AxesSubplot(0.327174,0.71587;0.168478x0.16413)\n",
       "danceability         AxesSubplot(0.529348,0.71587;0.168478x0.16413)\n",
       "energy               AxesSubplot(0.731522,0.71587;0.168478x0.16413)\n",
       "key                    AxesSubplot(0.125,0.518913;0.168478x0.16413)\n",
       "loudness            AxesSubplot(0.327174,0.518913;0.168478x0.16413)\n",
       "speechiness         AxesSubplot(0.529348,0.518913;0.168478x0.16413)\n",
       "acousticness        AxesSubplot(0.731522,0.518913;0.168478x0.16413)\n",
       "instrumentalness       AxesSubplot(0.125,0.321957;0.168478x0.16413)\n",
       "liveness            AxesSubplot(0.327174,0.321957;0.168478x0.16413)\n",
       "valence             AxesSubplot(0.529348,0.321957;0.168478x0.16413)\n",
       "tempo               AxesSubplot(0.731522,0.321957;0.168478x0.16413)\n",
       "duration_ms               AxesSubplot(0.125,0.125;0.168478x0.16413)\n",
       "dtype: object"
      ]
     },
     "execution_count": 10,
     "metadata": {},
     "output_type": "execute_result"
    },
    {
     "data": {
      "image/png": "[encoded data removed]",
      "text/plain": [
       "<Figure size 1080x720 with 16 Axes>"
      ]
     },
     "metadata": {
      "needs_background": "light"
     },
     "output_type": "display_data"
    }
   ],
   "source": [
    "data.plot(kind='box', subplots=True, layout=(4, 4), sharex=False, sharey=False, figsize=(15, 10))"
   ]
  },
  {
   "cell_type": "code",
   "execution_count": 11,
   "id": "5344c5a0",
   "metadata": {},
   "outputs": [
    {
     "data": {
      "text/plain": [
       "array([[<AxesSubplot:title={'center':'rank'}>,\n",
       "        <AxesSubplot:title={'center':'streams'}>,\n",
       "        <AxesSubplot:title={'center':'danceability'}>,\n",
       "        <AxesSubplot:title={'center':'energy'}>],\n",
       "       [<AxesSubplot:title={'center':'key'}>,\n",
       "        <AxesSubplot:title={'center':'loudness'}>,\n",
       "        <AxesSubplot:title={'center':'speechiness'}>,\n",
       "        <AxesSubplot:title={'center':'acousticness'}>],\n",
       "       [<AxesSubplot:title={'center':'instrumentalness'}>,\n",
       "        <AxesSubplot:title={'center':'liveness'}>,\n",
       "        <AxesSubplot:title={'center':'valence'}>,\n",
       "        <AxesSubplot:title={'center':'tempo'}>],\n",
       "       [<AxesSubplot:title={'center':'duration_ms'}>, <AxesSubplot:>,\n",
       "        <AxesSubplot:>, <AxesSubplot:>]], dtype=object)"
      ]
     },
     "execution_count": 11,
     "metadata": {},
     "output_type": "execute_result"
    },
    {
     "data": {
      "image/png": "[encoded data removed]",
      "text/plain": [
       "<Figure size 1080x720 with 16 Axes>"
      ]
     },
     "metadata": {
      "needs_background": "light"
     },
     "output_type": "display_data"
    }
   ],
   "source": [
    "data.hist(figsize=(15,10))"
   ]
  },
  {
   "cell_type": "markdown",
   "id": "8f70fceb",
   "metadata": {},
   "source": [
    "### Training a model"
   ]
  },
  {
   "cell_type": "code",
   "execution_count": 12,
   "id": "4b943237",
   "metadata": {},
   "outputs": [],
   "source": [
    "# Drop unmeasurable columns with strings.\n",
    "data.drop('title', inplace=True, axis=1)\n",
    "data.drop('date', inplace=True, axis=1)\n",
    "data.drop('artist', inplace=True, axis=1)\n",
    "data.drop('url', inplace=True, axis=1)\n",
    "data.drop('region', inplace=True, axis=1)"
   ]
  },
  {
   "cell_type": "code",
   "execution_count": 13,
   "id": "b305d184",
   "metadata": {},
   "outputs": [],
   "source": [
    "# Second round - dropping streams and duration_ms\n",
    "data.drop('streams', inplace=True, axis=1)\n",
    "data.drop('duration_ms', inplace=True, axis=1)"
   ]
  },
  {
   "cell_type": "code",
   "execution_count": 14,
   "id": "39fffe00",
   "metadata": {},
   "outputs": [
    {
     "data": {
      "text/html": [
       "<div>\n",
       "<style scoped>\n",
       "    .dataframe tbody tr th:only-of-type {\n",
       "        vertical-align: middle;\n",
       "    }\n",
       "\n",
       "    .dataframe tbody tr th {\n",
       "        vertical-align: top;\n",
       "    }\n",
       "\n",
       "    .dataframe thead th {\n",
       "        text-align: right;\n",
       "    }\n",
       "</style>\n",
       "<table border=\"1\" class=\"dataframe\">\n",
       "  <thead>\n",
       "    <tr style=\"text-align: right;\">\n",
       "      <th></th>\n",
       "      <th>rank</th>\n",
       "      <th>danceability</th>\n",
       "      <th>energy</th>\n",
       "      <th>key</th>\n",
       "      <th>loudness</th>\n",
       "      <th>speechiness</th>\n",
       "      <th>acousticness</th>\n",
       "      <th>instrumentalness</th>\n",
       "      <th>liveness</th>\n",
       "      <th>valence</th>\n",
       "      <th>tempo</th>\n",
       "      <th>genre</th>\n",
       "    </tr>\n",
       "  </thead>\n",
       "  <tbody>\n",
       "    <tr>\n",
       "      <th>0</th>\n",
       "      <td>1</td>\n",
       "      <td>0.852</td>\n",
       "      <td>0.773</td>\n",
       "      <td>8.0</td>\n",
       "      <td>-2.921</td>\n",
       "      <td>0.0776</td>\n",
       "      <td>0.18700</td>\n",
       "      <td>0.000030</td>\n",
       "      <td>0.1590</td>\n",
       "      <td>0.9070</td>\n",
       "      <td>102.034</td>\n",
       "      <td>Pop</td>\n",
       "    </tr>\n",
       "    <tr>\n",
       "      <th>1</th>\n",
       "      <td>1</td>\n",
       "      <td>0.660</td>\n",
       "      <td>0.786</td>\n",
       "      <td>2.0</td>\n",
       "      <td>-4.757</td>\n",
       "      <td>0.1700</td>\n",
       "      <td>0.20900</td>\n",
       "      <td>0.000000</td>\n",
       "      <td>0.1120</td>\n",
       "      <td>0.8460</td>\n",
       "      <td>177.833</td>\n",
       "      <td>Pop</td>\n",
       "    </tr>\n",
       "    <tr>\n",
       "      <th>2</th>\n",
       "      <td>1</td>\n",
       "      <td>0.642</td>\n",
       "      <td>0.374</td>\n",
       "      <td>5.0</td>\n",
       "      <td>-10.606</td>\n",
       "      <td>0.0320</td>\n",
       "      <td>0.42300</td>\n",
       "      <td>0.000002</td>\n",
       "      <td>0.4350</td>\n",
       "      <td>0.0979</td>\n",
       "      <td>129.863</td>\n",
       "      <td>Pop</td>\n",
       "    </tr>\n",
       "    <tr>\n",
       "      <th>3</th>\n",
       "      <td>1</td>\n",
       "      <td>0.778</td>\n",
       "      <td>0.317</td>\n",
       "      <td>1.0</td>\n",
       "      <td>-10.732</td>\n",
       "      <td>0.3340</td>\n",
       "      <td>0.59200</td>\n",
       "      <td>0.000000</td>\n",
       "      <td>0.0881</td>\n",
       "      <td>0.3270</td>\n",
       "      <td>140.048</td>\n",
       "      <td>Rap</td>\n",
       "    </tr>\n",
       "    <tr>\n",
       "      <th>4</th>\n",
       "      <td>1</td>\n",
       "      <td>0.825</td>\n",
       "      <td>0.652</td>\n",
       "      <td>1.0</td>\n",
       "      <td>-3.183</td>\n",
       "      <td>0.0802</td>\n",
       "      <td>0.58100</td>\n",
       "      <td>0.000000</td>\n",
       "      <td>0.0931</td>\n",
       "      <td>0.9310</td>\n",
       "      <td>95.977</td>\n",
       "      <td>R&amp;B</td>\n",
       "    </tr>\n",
       "    <tr>\n",
       "      <th>...</th>\n",
       "      <td>...</td>\n",
       "      <td>...</td>\n",
       "      <td>...</td>\n",
       "      <td>...</td>\n",
       "      <td>...</td>\n",
       "      <td>...</td>\n",
       "      <td>...</td>\n",
       "      <td>...</td>\n",
       "      <td>...</td>\n",
       "      <td>...</td>\n",
       "      <td>...</td>\n",
       "      <td>...</td>\n",
       "    </tr>\n",
       "    <tr>\n",
       "      <th>9171</th>\n",
       "      <td>14</td>\n",
       "      <td>0.729</td>\n",
       "      <td>0.632</td>\n",
       "      <td>1.0</td>\n",
       "      <td>-6.572</td>\n",
       "      <td>0.0320</td>\n",
       "      <td>0.00196</td>\n",
       "      <td>0.000003</td>\n",
       "      <td>0.0848</td>\n",
       "      <td>0.7020</td>\n",
       "      <td>135.027</td>\n",
       "      <td>Pop</td>\n",
       "    </tr>\n",
       "    <tr>\n",
       "      <th>9172</th>\n",
       "      <td>14</td>\n",
       "      <td>0.881</td>\n",
       "      <td>0.797</td>\n",
       "      <td>9.0</td>\n",
       "      <td>-5.466</td>\n",
       "      <td>0.2640</td>\n",
       "      <td>0.18600</td>\n",
       "      <td>0.000000</td>\n",
       "      <td>0.1040</td>\n",
       "      <td>0.7730</td>\n",
       "      <td>139.879</td>\n",
       "      <td>Rap</td>\n",
       "    </tr>\n",
       "    <tr>\n",
       "      <th>9173</th>\n",
       "      <td>14</td>\n",
       "      <td>0.789</td>\n",
       "      <td>0.670</td>\n",
       "      <td>8.0</td>\n",
       "      <td>-8.229</td>\n",
       "      <td>0.4290</td>\n",
       "      <td>0.50100</td>\n",
       "      <td>0.000000</td>\n",
       "      <td>0.0785</td>\n",
       "      <td>0.4070</td>\n",
       "      <td>90.328</td>\n",
       "      <td>Rap</td>\n",
       "    </tr>\n",
       "    <tr>\n",
       "      <th>9174</th>\n",
       "      <td>14</td>\n",
       "      <td>0.739</td>\n",
       "      <td>0.470</td>\n",
       "      <td>0.0</td>\n",
       "      <td>-7.555</td>\n",
       "      <td>0.0269</td>\n",
       "      <td>0.58400</td>\n",
       "      <td>0.000000</td>\n",
       "      <td>0.1530</td>\n",
       "      <td>0.6030</td>\n",
       "      <td>88.017</td>\n",
       "      <td>Pop</td>\n",
       "    </tr>\n",
       "    <tr>\n",
       "      <th>9175</th>\n",
       "      <td>14</td>\n",
       "      <td>0.853</td>\n",
       "      <td>0.785</td>\n",
       "      <td>5.0</td>\n",
       "      <td>-5.943</td>\n",
       "      <td>0.2640</td>\n",
       "      <td>0.06600</td>\n",
       "      <td>0.000000</td>\n",
       "      <td>0.0445</td>\n",
       "      <td>0.8020</td>\n",
       "      <td>101.027</td>\n",
       "      <td>Rap</td>\n",
       "    </tr>\n",
       "  </tbody>\n",
       "</table>\n",
       "<p>9176 rows × 12 columns</p>\n",
       "</div>"
      ],
      "text/plain": [
       "      rank  danceability  energy  key  loudness  speechiness  acousticness  \\\n",
       "0        1         0.852   0.773  8.0    -2.921       0.0776       0.18700   \n",
       "1        1         0.660   0.786  2.0    -4.757       0.1700       0.20900   \n",
       "2        1         0.642   0.374  5.0   -10.606       0.0320       0.42300   \n",
       "3        1         0.778   0.317  1.0   -10.732       0.3340       0.59200   \n",
       "4        1         0.825   0.652  1.0    -3.183       0.0802       0.58100   \n",
       "...    ...           ...     ...  ...       ...          ...           ...   \n",
       "9171    14         0.729   0.632  1.0    -6.572       0.0320       0.00196   \n",
       "9172    14         0.881   0.797  9.0    -5.466       0.2640       0.18600   \n",
       "9173    14         0.789   0.670  8.0    -8.229       0.4290       0.50100   \n",
       "9174    14         0.739   0.470  0.0    -7.555       0.0269       0.58400   \n",
       "9175    14         0.853   0.785  5.0    -5.943       0.2640       0.06600   \n",
       "\n",
       "      instrumentalness  liveness  valence    tempo genre  \n",
       "0             0.000030    0.1590   0.9070  102.034   Pop  \n",
       "1             0.000000    0.1120   0.8460  177.833   Pop  \n",
       "2             0.000002    0.4350   0.0979  129.863   Pop  \n",
       "3             0.000000    0.0881   0.3270  140.048   Rap  \n",
       "4             0.000000    0.0931   0.9310   95.977   R&B  \n",
       "...                ...       ...      ...      ...   ...  \n",
       "9171          0.000003    0.0848   0.7020  135.027   Pop  \n",
       "9172          0.000000    0.1040   0.7730  139.879   Rap  \n",
       "9173          0.000000    0.0785   0.4070   90.328   Rap  \n",
       "9174          0.000000    0.1530   0.6030   88.017   Pop  \n",
       "9175          0.000000    0.0445   0.8020  101.027   Rap  \n",
       "\n",
       "[9176 rows x 12 columns]"
      ]
     },
     "execution_count": 14,
     "metadata": {},
     "output_type": "execute_result"
    }
   ],
   "source": [
    "# Check that they have been removed properly.\n",
    "data"
   ]
  },
  {
   "cell_type": "code",
   "execution_count": 15,
   "id": "24fa3bd4",
   "metadata": {},
   "outputs": [],
   "source": [
    "# Convert the dataset into two arrays\n",
    "array = data.values\n",
    "# Create two (sub) arrays from it\n",
    "X = array[:,0:11] # data without class\n",
    "y = array[:,11]   # just class"
   ]
  },
  {
   "cell_type": "code",
   "execution_count": 16,
   "id": "3a782ff6",
   "metadata": {},
   "outputs": [
    {
     "data": {
      "text/plain": [
       "array(['Pop', 'Pop', 'Pop', ..., 'Rap', 'Pop', 'Rap'], dtype=object)"
      ]
     },
     "execution_count": 16,
     "metadata": {},
     "output_type": "execute_result"
    }
   ],
   "source": [
    "# Check that y has the genre values.\n",
    "y"
   ]
  },
  {
   "cell_type": "code",
   "execution_count": 17,
   "id": "99c96ea1",
   "metadata": {},
   "outputs": [],
   "source": [
    "from sklearn import model_selection\n",
    "\n",
    "# Split the dataset into two: \n",
    "#   80% of it as training data\n",
    "#   20% as a validation dataset\n",
    "# Let Python split the set into four, we tell the proportion of splitting\n",
    "test_set_size = 0.2\n",
    "\n",
    "# Initial value for randomization\n",
    "seed = 7\n",
    "\n",
    "X_train, X_test, y_train, y_test = model_selection.train_test_split(X, y, test_size=test_set_size, random_state=seed)\n"
   ]
  },
  {
   "cell_type": "markdown",
   "id": "e1047d3a",
   "metadata": {},
   "source": [
    "## Train different models to find out which one is most precise."
   ]
  },
  {
   "cell_type": "markdown",
   "id": "5b2683c0",
   "metadata": {},
   "source": [
    "### <span style=\"color: green\">GaussianNB</span>"
   ]
  },
  {
   "cell_type": "code",
   "execution_count": 19,
   "id": "24024918",
   "metadata": {},
   "outputs": [
    {
     "name": "stdout",
     "output_type": "stream",
     "text": [
      "Completed the fit in 0.044457 seconds\n"
     ]
    }
   ],
   "source": [
    "import time\n",
    "from sklearn.naive_bayes import GaussianNB\n",
    "\n",
    "# Time the event.\n",
    "tic = time.perf_counter()\n",
    "\n",
    "# Choose a model for fitting the data.\n",
    "gaussian_model = GaussianNB()\n",
    "gaussian_model.fit(X_train, y_train)\n",
    "\n",
    "toc = time.perf_counter()\n",
    "print(f\"Completed the fit in {toc - tic:0.6f} seconds\")"
   ]
  },
  {
   "cell_type": "code",
   "execution_count": 20,
   "id": "66ceb9b3",
   "metadata": {},
   "outputs": [
    {
     "data": {
      "text/plain": [
       "0.500408719346049"
      ]
     },
     "execution_count": 20,
     "metadata": {},
     "output_type": "execute_result"
    }
   ],
   "source": [
    "# Check how good the fit of the model is on the train data.\n",
    "train_accuracy = gaussian_model.score(X_train, y_train)\n",
    "train_accuracy"
   ]
  },
  {
   "cell_type": "code",
   "execution_count": 21,
   "id": "4bd1279b",
   "metadata": {},
   "outputs": [
    {
     "data": {
      "text/plain": [
       "0.5136165577342048"
      ]
     },
     "execution_count": 21,
     "metadata": {},
     "output_type": "execute_result"
    }
   ],
   "source": [
    "# Check how good the fit of the model is on the test data.\n",
    "test_accuracy = gaussian_model.score(X_test, y_test)\n",
    "test_accuracy"
   ]
  },
  {
   "cell_type": "code",
   "execution_count": 22,
   "id": "7880c83f",
   "metadata": {},
   "outputs": [
    {
     "data": {
      "text/plain": [
       "array(['Country', 'Rap', 'Pop', ..., 'Rap', 'Pop', 'Rap'], dtype='<U9')"
      ]
     },
     "execution_count": 22,
     "metadata": {},
     "output_type": "execute_result"
    }
   ],
   "source": [
    "# Test on the test data, try prediction\n",
    "gaussian_prediction = gaussian_model.predict(X_test)\n",
    "gaussian_prediction"
   ]
  },
  {
   "cell_type": "code",
   "execution_count": 23,
   "id": "7aa8fe56",
   "metadata": {},
   "outputs": [
    {
     "name": "stdout",
     "output_type": "stream",
     "text": [
      "[[ 12   0   1   0   0   0]\n",
      " [  1   0   1   0   0   0]\n",
      " [287  13 139   1 232  10]\n",
      " [ 25   5  18   1  51   1]\n",
      " [112  21  58   2 787   6]\n",
      " [ 23   2  12   0  11   4]]\n"
     ]
    }
   ],
   "source": [
    "# Confusion matrix provides an indication of the the errors of prediction\n",
    "print(confusion_matrix(y_test, gaussian_prediction))"
   ]
  },
  {
   "cell_type": "code",
   "execution_count": 24,
   "id": "f69a9099",
   "metadata": {},
   "outputs": [
    {
     "name": "stdout",
     "output_type": "stream",
     "text": [
      "Completed the fit in 44.4568 milliseconds\n",
      "The fit has a \u001b[1m\u001b[93mtrain\u001b[0m set accuracy of 50.0 %\n",
      "The fit has a \u001b[1m\u001b[92mtest\u001b[0m set accuracy of 51.4 %\n"
     ]
    }
   ],
   "source": [
    "print(f\"Completed the fit in {round((toc-tic)*1000, 6)} milliseconds\")\n",
    "print(f\"The fit has a \\033[1m\\033[93mtrain\\033[0m set accuracy of {round(train_accuracy*100, 1)} %\")\n",
    "print(f\"The fit has a \\033[1m\\033[92mtest\\033[0m set accuracy of {round(test_accuracy*100, 1)} %\")\n"
   ]
  },
  {
   "cell_type": "markdown",
   "id": "bbd68424",
   "metadata": {},
   "source": [
    "### <span style=\"color: green\">Logistic Regression</span>"
   ]
  },
  {
   "cell_type": "code",
   "execution_count": 25,
   "id": "07ff2438",
   "metadata": {},
   "outputs": [
    {
     "name": "stdout",
     "output_type": "stream",
     "text": [
      "Completed the fit in 9.051099 seconds\n"
     ]
    },
    {
     "name": "stderr",
     "output_type": "stream",
     "text": [
      "C:\\Python310\\lib\\site-packages\\sklearn\\linear_model\\_logistic.py:814: ConvergenceWarning: lbfgs failed to converge (status=1):\n",
      "STOP: TOTAL NO. of ITERATIONS REACHED LIMIT.\n",
      "\n",
      "Increase the number of iterations (max_iter) or scale the data as shown in:\n",
      "    https://scikit-learn.org/stable/modules/preprocessing.html\n",
      "Please also refer to the documentation for alternative solver options:\n",
      "    https://scikit-learn.org/stable/modules/linear_model.html#logistic-regression\n",
      "  n_iter_i = _check_optimize_result(\n"
     ]
    }
   ],
   "source": [
    "# Time the event.\n",
    "tic = time.perf_counter()\n",
    "\n",
    "logistic_regression_model = LogisticRegression(max_iter=1000)\n",
    "logistic_regression_model.fit(X_train, y_train)\n",
    "\n",
    "toc = time.perf_counter()\n",
    "print(f\"Completed the fit in {toc - tic:0.6f} seconds\")"
   ]
  },
  {
   "cell_type": "code",
   "execution_count": 26,
   "id": "71b20705",
   "metadata": {},
   "outputs": [
    {
     "data": {
      "text/plain": [
       "0.6952316076294278"
      ]
     },
     "execution_count": 26,
     "metadata": {},
     "output_type": "execute_result"
    }
   ],
   "source": [
    "# Check how good the fit of the model is on the train data.\n",
    "train_accuracy = logistic_regression_model.score(X_train, y_train)\n",
    "train_accuracy"
   ]
  },
  {
   "cell_type": "code",
   "execution_count": 27,
   "id": "5443f66f",
   "metadata": {},
   "outputs": [
    {
     "data": {
      "text/plain": [
       "0.7096949891067538"
      ]
     },
     "execution_count": 27,
     "metadata": {},
     "output_type": "execute_result"
    }
   ],
   "source": [
    "# Check how good the fit of the model is on the test data.\n",
    "test_accuracy = logistic_regression_model.score(X_test, y_test)\n",
    "test_accuracy"
   ]
  },
  {
   "cell_type": "code",
   "execution_count": 28,
   "id": "2affceca",
   "metadata": {},
   "outputs": [
    {
     "data": {
      "text/plain": [
       "array(['Pop', 'Rap', 'Pop', ..., 'Rap', 'Rap', 'Rap'], dtype=object)"
      ]
     },
     "execution_count": 28,
     "metadata": {},
     "output_type": "execute_result"
    }
   ],
   "source": [
    "# Test on the test data, try prediction\n",
    "logistic_regression_prediction = logistic_regression_model.predict(X_test)\n",
    "logistic_regression_prediction"
   ]
  },
  {
   "cell_type": "code",
   "execution_count": 29,
   "id": "84bc4e2f",
   "metadata": {},
   "outputs": [
    {
     "data": {
      "text/plain": [
       "Rap          4962\n",
       "Pop          3386\n",
       "R&B           486\n",
       "Rock          271\n",
       "Country        55\n",
       "Non-Music      16\n",
       "Name: genre, dtype: int64"
      ]
     },
     "execution_count": 29,
     "metadata": {},
     "output_type": "execute_result"
    }
   ],
   "source": [
    "# Show distribution of genres.\n",
    "data['genre'].value_counts()"
   ]
  },
  {
   "cell_type": "code",
   "execution_count": 30,
   "id": "dd956647",
   "metadata": {},
   "outputs": [
    {
     "name": "stdout",
     "output_type": "stream",
     "text": [
      "[[  0   0  13   0   0   0]\n",
      " [  0   0   1   0   1   0]\n",
      " [  0   0 473   0 209   0]\n",
      " [  0   0  49   0  52   0]\n",
      " [  0   0 156   0 830   0]\n",
      " [  0   0  45   0   7   0]]\n"
     ]
    }
   ],
   "source": [
    "# Confusion matrix provides an indication of the the errors of prediction\n",
    "print(confusion_matrix(y_test, logistic_regression_prediction))"
   ]
  },
  {
   "cell_type": "code",
   "execution_count": 38,
   "id": "99709479",
   "metadata": {},
   "outputs": [
    {
     "data": {
      "image/png": "[encoded data removed]",
      "text/plain": [
       "<Figure size 1080x720 with 2 Axes>"
      ]
     },
     "metadata": {
      "needs_background": "light"
     },
     "output_type": "display_data"
    }
   ],
   "source": [
    "import matplotlib.pyplot as plt\n",
    "from sklearn.datasets import make_classification\n",
    "from sklearn.metrics import confusion_matrix, ConfusionMatrixDisplay\n",
    "from sklearn.model_selection import train_test_split\n",
    "\n",
    "cm = confusion_matrix(y_test, logistic_regression_prediction, labels=logistic_regression_model.classes_)\n",
    "disp = ConfusionMatrixDisplay(confusion_matrix=cm, display_labels=logistic_regression_model.classes_)\n",
    "disp.plot()\n",
    "plt.rcParams[\"figure.figsize\"] = (15,10)"
   ]
  },
  {
   "cell_type": "code",
   "execution_count": 39,
   "id": "ffba1329",
   "metadata": {},
   "outputs": [
    {
     "name": "stdout",
     "output_type": "stream",
     "text": [
      "Completed the fit in 9.051 seconds\n",
      "The fit has a \u001b[1m\u001b[93mtrain\u001b[0m set accuracy of 69.5 %\n",
      "The fit has a \u001b[1m\u001b[92mtest\u001b[0m set accuracy of 71.0 %\n"
     ]
    }
   ],
   "source": [
    "print(f\"Completed the fit in {round((toc-tic), 3)} seconds\")\n",
    "print(f\"The fit has a \\033[1m\\033[93mtrain\\033[0m set accuracy of {round(train_accuracy*100, 1)} %\")\n",
    "print(f\"The fit has a \\033[1m\\033[92mtest\\033[0m set accuracy of {round(test_accuracy*100, 1)} %\")\n"
   ]
  },
  {
   "cell_type": "markdown",
   "id": "20208009",
   "metadata": {},
   "source": [
    "## Applying dimensionality reduction (PCA)"
   ]
  },
  {
   "cell_type": "markdown",
   "id": "7fcb83bb",
   "metadata": {},
   "source": [
    "#### Reducing to 5 dimensions."
   ]
  },
  {
   "cell_type": "code",
   "execution_count": 40,
   "id": "004c8db7",
   "metadata": {},
   "outputs": [],
   "source": [
    "# Standardizing the features\n",
    "X = StandardScaler().fit_transform(X)"
   ]
  },
  {
   "cell_type": "code",
   "execution_count": 41,
   "id": "77ceb028",
   "metadata": {},
   "outputs": [],
   "source": [
    "pca = PCA(n_components=5)\n",
    "new_columns = ['1', '2', '3', '4', '5']\n",
    "components = pca.fit_transform(X)\n",
    "df_5 = pd.DataFrame(data = components, columns = new_columns)\n",
    "array_5 = df_5.values\n",
    "finalDf_5 = pd.concat([df_5, data[['genre']]], axis = 1)"
   ]
  },
  {
   "cell_type": "code",
   "execution_count": 42,
   "id": "16e92fc7",
   "metadata": {},
   "outputs": [
    {
     "ename": "NameError",
     "evalue": "name 'array_10' is not defined",
     "output_type": "error",
     "traceback": [
      "\u001b[1;31m---------------------------------------------------------------------------\u001b[0m",
      "\u001b[1;31mNameError\u001b[0m                                 Traceback (most recent call last)",
      "Input \u001b[1;32mIn [42]\u001b[0m, in \u001b[0;36m<module>\u001b[1;34m\u001b[0m\n\u001b[0;32m      1\u001b[0m X_train_5, X_test_5, y_train_5, y_test_5 \u001b[38;5;241m=\u001b[39m model_selection\u001b[38;5;241m.\u001b[39mtrain_test_split(\n\u001b[1;32m----> 2\u001b[0m     \u001b[43marray_10\u001b[49m, \n\u001b[0;32m      3\u001b[0m     y, \n\u001b[0;32m      4\u001b[0m     test_size \u001b[38;5;241m=\u001b[39m test_set_size, \n\u001b[0;32m      5\u001b[0m     random_state \u001b[38;5;241m=\u001b[39m seed\n\u001b[0;32m      6\u001b[0m )\n",
      "\u001b[1;31mNameError\u001b[0m: name 'array_10' is not defined"
     ]
    }
   ],
   "source": [
    "X_train_5, X_test_5, y_train_5, y_test_5 = model_selection.train_test_split(\n",
    "    array_10, \n",
    "    y, \n",
    "    test_size = test_set_size, \n",
    "    random_state = seed\n",
    ")"
   ]
  },
  {
   "cell_type": "code",
   "execution_count": null,
   "id": "92eb9b84",
   "metadata": {},
   "outputs": [],
   "source": [
    "# Time the event.\n",
    "tic = time.perf_counter()\n",
    "\n",
    "logistic_regression_model_2 = LogisticRegression(max_iter=1000)\n",
    "logistic_regression_model_2.fit(X_train_5, y_train_5)\n",
    "\n",
    "toc = time.perf_counter()\n",
    "print(f\"Completed the fit in {toc - tic:0.6f} seconds\")"
   ]
  },
  {
   "cell_type": "code",
   "execution_count": null,
   "id": "e88d7cef",
   "metadata": {},
   "outputs": [],
   "source": [
    "train_accuracy = logistic_regression_model_2.score(X_train_5, y_train_5)\n",
    "train_accuracy"
   ]
  },
  {
   "cell_type": "code",
   "execution_count": null,
   "id": "9407fde6",
   "metadata": {},
   "outputs": [],
   "source": [
    "test_accuracy = logistic_regression_model_2.score(X_test_5, y_test_5)\n",
    "test_accuracy"
   ]
  },
  {
   "cell_type": "code",
   "execution_count": null,
   "id": "386b6fe3",
   "metadata": {},
   "outputs": [],
   "source": [
    "print(f\"Completed the fit in {round((toc-tic), 6)} seconds\")\n",
    "print(f\"The fit has a \\033[1m\\033[93mtrain\\033[0m set accuracy of {round(train_accuracy*100, 1)} %\")\n",
    "print(f\"The fit has a \\033[1m\\033[92mtest\\033[0m set accuracy of {round(test_accuracy*100, 1)} %\")"
   ]
  },
  {
   "cell_type": "markdown",
   "id": "e53d0258",
   "metadata": {},
   "source": [
    "#### Reducing to 2 dimensions."
   ]
  },
  {
   "cell_type": "code",
   "execution_count": null,
   "id": "7e2c0b5a",
   "metadata": {},
   "outputs": [],
   "source": [
    "pca = PCA(n_components=2)\n",
    "new_columns = ['Principal Component 1', 'Principal Component 2']\n",
    "components = pca.fit_transform(X)\n",
    "df_2 = pd.DataFrame(data = components, columns = new_columns)\n",
    "array_2 = df_2.values\n",
    "finalDf_2 = pd.concat([df_2, data[['genre']]], axis = 1)"
   ]
  },
  {
   "cell_type": "code",
   "execution_count": null,
   "id": "8fe6ebbb",
   "metadata": {},
   "outputs": [],
   "source": [
    "X_train_2, X_test_2, y_train_2, y_test_2 = model_selection.train_test_split(\n",
    "    array_2, \n",
    "    y, \n",
    "    test_size = test_set_size, \n",
    "    random_state = seed\n",
    ")"
   ]
  },
  {
   "cell_type": "code",
   "execution_count": null,
   "id": "2eef6d0d",
   "metadata": {},
   "outputs": [],
   "source": [
    "# Time the event.\n",
    "tic = time.perf_counter()\n",
    "\n",
    "logistic_regression_model_2 = LogisticRegression(max_iter=1000)\n",
    "logistic_regression_model_2.fit(X_train_2, y_train_2)\n",
    "\n",
    "toc = time.perf_counter()\n",
    "print(f\"Completed the fit in {toc - tic:0.6f} seconds\")"
   ]
  },
  {
   "cell_type": "code",
   "execution_count": null,
   "id": "86848f82",
   "metadata": {},
   "outputs": [],
   "source": [
    "train_accuracy = logistic_regression_model_2.score(X_train_2, y_train_2)\n",
    "train_accuracy"
   ]
  },
  {
   "cell_type": "code",
   "execution_count": null,
   "id": "6b561273",
   "metadata": {},
   "outputs": [],
   "source": [
    "test_accuracy = logistic_regression_model_2.score(X_test_2, y_test_2)\n",
    "test_accuracy"
   ]
  },
  {
   "cell_type": "code",
   "execution_count": null,
   "id": "bc5cd543",
   "metadata": {},
   "outputs": [],
   "source": [
    "print(f\"Completed the fit in {round((toc-tic)*1000, 6)} milliseconds\")\n",
    "print(f\"The fit has a \\033[1m\\033[93mtrain\\033[0m set accuracy of {round(train_accuracy*100, 1)} %\")\n",
    "print(f\"The fit has a \\033[1m\\033[92mtest\\033[0m set accuracy of {round(test_accuracy*100, 1)} %\")"
   ]
  },
  {
   "cell_type": "markdown",
   "id": "584d9fb9",
   "metadata": {},
   "source": [
    "### Visualize the new reduced dataset as a 2D diagram.\n"
   ]
  },
  {
   "cell_type": "code",
   "execution_count": null,
   "id": "f7be16ca",
   "metadata": {},
   "outputs": [],
   "source": [
    "# Show distribution of genres.\n",
    "data['genre'].value_counts()"
   ]
  },
  {
   "cell_type": "code",
   "execution_count": null,
   "id": "877f78fa",
   "metadata": {},
   "outputs": [],
   "source": [
    "finalDf_2 = pd.concat([df_2, data[['genre']]], axis = 1)"
   ]
  },
  {
   "cell_type": "code",
   "execution_count": null,
   "id": "c55097c2",
   "metadata": {},
   "outputs": [],
   "source": [
    "finalDf_2"
   ]
  },
  {
   "cell_type": "code",
   "execution_count": null,
   "id": "d644abb8",
   "metadata": {},
   "outputs": [],
   "source": [
    "# Visualize the new reduced dataset as a 2D diagram.\n",
    "\n",
    "fig = plt.figure(figsize = (12,12))\n",
    "ax = fig.add_subplot(1,1,1) \n",
    "ax.set_xlabel('Principal Component 1', fontsize = 15)\n",
    "ax.set_ylabel('Principal Component 2', fontsize = 15)\n",
    "ax.set_title('2 component PCA', fontsize = 20)\n",
    "targets = ['Rap', 'Pop', 'R&B', 'Rock', 'Country', 'Non-Music']\n",
    "colors = ['g', 'r', 'b', 'y', 'm', 'c']\n",
    "for target, color in zip(targets, colors):\n",
    "    indicesToKeep = finalDf_2['genre'] == target\n",
    "    ax.scatter(finalDf_2.loc[indicesToKeep, 'Principal Component 1']\n",
    "               , finalDf_2.loc[indicesToKeep, 'Principal Component 2']\n",
    "               , c = color\n",
    "               , s = 50)\n",
    "ax.legend(targets)\n",
    "ax.grid()"
   ]
  },
  {
   "cell_type": "code",
   "execution_count": null,
   "id": "2c799751",
   "metadata": {},
   "outputs": [],
   "source": []
  }
 ],
 "metadata": {
  "kernelspec": {
   "display_name": "Python 3 (ipykernel)",
   "language": "python",
   "name": "python3"
  },
  "language_info": {
   "codemirror_mode": {
    "name": "ipython",
    "version": 3
   },
   "file_extension": ".py",
   "mimetype": "text/x-python",
   "name": "python",
   "nbconvert_exporter": "python",
   "pygments_lexer": "ipython3",
   "version": "3.10.2"
  }
 },
 "nbformat": 4,
 "nbformat_minor": 5
}
