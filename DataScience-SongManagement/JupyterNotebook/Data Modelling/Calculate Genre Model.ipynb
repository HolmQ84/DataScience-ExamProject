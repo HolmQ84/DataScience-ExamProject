{
 "cells": [
  {
   "cell_type": "markdown",
   "id": "84db4135",
   "metadata": {},
   "source": [
    "# Calculate Genre Of Songs By Modelling"
   ]
  },
  {
   "cell_type": "markdown",
   "id": "bc673d52",
   "metadata": {},
   "source": [
    "### Import libraries"
   ]
  },
  {
   "cell_type": "code",
   "execution_count": 39,
   "id": "2cd032bb",
   "metadata": {},
   "outputs": [],
   "source": [
    "import pandas as pd\n",
    "import numpy as np\n",
    "import matplotlib.pyplot as plt\n",
    "import seaborn as sns\n",
    "%matplotlib inline\n",
    "import random\n",
    "from pandas.plotting import scatter_matrix\n",
    "from sklearn import datasets, svm, tree, preprocessing, metrics\n",
    "\n",
    "from sklearn.metrics import confusion_matrix\n",
    "from sklearn.naive_bayes import MultinomialNB\n",
    "from sklearn.linear_model import LogisticRegression\n",
    "from sklearn.decomposition import PCA\n",
    "from sklearn.preprocessing import StandardScaler"
   ]
  },
  {
   "cell_type": "markdown",
   "id": "d39943ab",
   "metadata": {},
   "source": [
    "### Import dataset"
   ]
  },
  {
   "cell_type": "code",
   "execution_count": 40,
   "id": "67d4218e",
   "metadata": {},
   "outputs": [],
   "source": [
    "data = pd.read_csv(\"../../data/cleanedDataSetWithGenres.csv\")"
   ]
  },
  {
   "cell_type": "markdown",
   "id": "9d51d27f",
   "metadata": {},
   "source": [
    "### Explore the dataset"
   ]
  },
  {
   "cell_type": "code",
   "execution_count": 41,
   "id": "dd6f6023",
   "metadata": {},
   "outputs": [
    {
     "data": {
      "text/html": [
       "<div>\n",
       "<style scoped>\n",
       "    .dataframe tbody tr th:only-of-type {\n",
       "        vertical-align: middle;\n",
       "    }\n",
       "\n",
       "    .dataframe tbody tr th {\n",
       "        vertical-align: top;\n",
       "    }\n",
       "\n",
       "    .dataframe thead th {\n",
       "        text-align: right;\n",
       "    }\n",
       "</style>\n",
       "<table border=\"1\" class=\"dataframe\">\n",
       "  <thead>\n",
       "    <tr style=\"text-align: right;\">\n",
       "      <th></th>\n",
       "      <th>Unnamed: 0</th>\n",
       "      <th>title</th>\n",
       "      <th>rank</th>\n",
       "      <th>date</th>\n",
       "      <th>artist</th>\n",
       "      <th>url</th>\n",
       "      <th>region</th>\n",
       "      <th>streams</th>\n",
       "      <th>danceability</th>\n",
       "      <th>energy</th>\n",
       "      <th>key</th>\n",
       "      <th>loudness</th>\n",
       "      <th>speechiness</th>\n",
       "      <th>acousticness</th>\n",
       "      <th>instrumentalness</th>\n",
       "      <th>liveness</th>\n",
       "      <th>valence</th>\n",
       "      <th>tempo</th>\n",
       "      <th>duration_ms</th>\n",
       "      <th>genre</th>\n",
       "    </tr>\n",
       "  </thead>\n",
       "  <tbody>\n",
       "    <tr>\n",
       "      <th>0</th>\n",
       "      <td>1</td>\n",
       "      <td>Despacito (Featuring Daddy Yankee)</td>\n",
       "      <td>1</td>\n",
       "      <td>2017-04-07</td>\n",
       "      <td>Luis Fonsi</td>\n",
       "      <td>https://open.spotify.com/track/4aWmUDTfIPGksMN...</td>\n",
       "      <td>Dominican Republic</td>\n",
       "      <td>11681.0</td>\n",
       "      <td>0.660</td>\n",
       "      <td>0.786</td>\n",
       "      <td>2.0</td>\n",
       "      <td>-4.757</td>\n",
       "      <td>0.1700</td>\n",
       "      <td>0.209</td>\n",
       "      <td>0.000000</td>\n",
       "      <td>0.1120</td>\n",
       "      <td>0.8460</td>\n",
       "      <td>177.833</td>\n",
       "      <td>228200.0</td>\n",
       "      <td>Pop</td>\n",
       "    </tr>\n",
       "    <tr>\n",
       "      <th>1</th>\n",
       "      <td>4</td>\n",
       "      <td>Binibini</td>\n",
       "      <td>1</td>\n",
       "      <td>2021-04-16</td>\n",
       "      <td>Zack Tabudlo</td>\n",
       "      <td>https://open.spotify.com/track/2X5AFygz5SDYlXa...</td>\n",
       "      <td>Philippines</td>\n",
       "      <td>401678.0</td>\n",
       "      <td>0.642</td>\n",
       "      <td>0.374</td>\n",
       "      <td>5.0</td>\n",
       "      <td>-10.606</td>\n",
       "      <td>0.0320</td>\n",
       "      <td>0.423</td>\n",
       "      <td>0.000002</td>\n",
       "      <td>0.4350</td>\n",
       "      <td>0.0979</td>\n",
       "      <td>129.863</td>\n",
       "      <td>221538.0</td>\n",
       "      <td>Pop</td>\n",
       "    </tr>\n",
       "    <tr>\n",
       "      <th>2</th>\n",
       "      <td>5</td>\n",
       "      <td>7 rings</td>\n",
       "      <td>1</td>\n",
       "      <td>2019-03-16</td>\n",
       "      <td>Ariana Grande</td>\n",
       "      <td>https://open.spotify.com/track/6ocbgoVGwYJhOv1...</td>\n",
       "      <td>Indonesia</td>\n",
       "      <td>125837.0</td>\n",
       "      <td>0.778</td>\n",
       "      <td>0.317</td>\n",
       "      <td>1.0</td>\n",
       "      <td>-10.732</td>\n",
       "      <td>0.3340</td>\n",
       "      <td>0.592</td>\n",
       "      <td>0.000000</td>\n",
       "      <td>0.0881</td>\n",
       "      <td>0.3270</td>\n",
       "      <td>140.048</td>\n",
       "      <td>178627.0</td>\n",
       "      <td>Rap</td>\n",
       "    </tr>\n",
       "    <tr>\n",
       "      <th>3</th>\n",
       "      <td>6</td>\n",
       "      <td>Shape of You</td>\n",
       "      <td>1</td>\n",
       "      <td>2017-03-08</td>\n",
       "      <td>Ed Sheeran</td>\n",
       "      <td>https://open.spotify.com/track/7qiZfU4dY1lWllz...</td>\n",
       "      <td>Portugal</td>\n",
       "      <td>55132.0</td>\n",
       "      <td>0.825</td>\n",
       "      <td>0.652</td>\n",
       "      <td>1.0</td>\n",
       "      <td>-3.183</td>\n",
       "      <td>0.0802</td>\n",
       "      <td>0.581</td>\n",
       "      <td>0.000000</td>\n",
       "      <td>0.0931</td>\n",
       "      <td>0.9310</td>\n",
       "      <td>95.977</td>\n",
       "      <td>233713.0</td>\n",
       "      <td>R&amp;B</td>\n",
       "    </tr>\n",
       "    <tr>\n",
       "      <th>4</th>\n",
       "      <td>9</td>\n",
       "      <td>Someone You Loved</td>\n",
       "      <td>1</td>\n",
       "      <td>2019-03-16</td>\n",
       "      <td>Lewis Capaldi</td>\n",
       "      <td>https://open.spotify.com/track/2TIlqbIneP0ZY1O...</td>\n",
       "      <td>Ireland</td>\n",
       "      <td>63074.0</td>\n",
       "      <td>0.501</td>\n",
       "      <td>0.405</td>\n",
       "      <td>1.0</td>\n",
       "      <td>-5.679</td>\n",
       "      <td>0.0319</td>\n",
       "      <td>0.751</td>\n",
       "      <td>0.000000</td>\n",
       "      <td>0.1050</td>\n",
       "      <td>0.4460</td>\n",
       "      <td>109.891</td>\n",
       "      <td>182161.0</td>\n",
       "      <td>Pop</td>\n",
       "    </tr>\n",
       "  </tbody>\n",
       "</table>\n",
       "</div>"
      ],
      "text/plain": [
       "   Unnamed: 0                               title  rank        date  \\\n",
       "0           1  Despacito (Featuring Daddy Yankee)     1  2017-04-07   \n",
       "1           4                            Binibini     1  2021-04-16   \n",
       "2           5                             7 rings     1  2019-03-16   \n",
       "3           6                        Shape of You     1  2017-03-08   \n",
       "4           9                   Someone You Loved     1  2019-03-16   \n",
       "\n",
       "          artist                                                url  \\\n",
       "0     Luis Fonsi  https://open.spotify.com/track/4aWmUDTfIPGksMN...   \n",
       "1   Zack Tabudlo  https://open.spotify.com/track/2X5AFygz5SDYlXa...   \n",
       "2  Ariana Grande  https://open.spotify.com/track/6ocbgoVGwYJhOv1...   \n",
       "3     Ed Sheeran  https://open.spotify.com/track/7qiZfU4dY1lWllz...   \n",
       "4  Lewis Capaldi  https://open.spotify.com/track/2TIlqbIneP0ZY1O...   \n",
       "\n",
       "               region   streams  danceability  energy  key  loudness  \\\n",
       "0  Dominican Republic   11681.0         0.660   0.786  2.0    -4.757   \n",
       "1         Philippines  401678.0         0.642   0.374  5.0   -10.606   \n",
       "2           Indonesia  125837.0         0.778   0.317  1.0   -10.732   \n",
       "3            Portugal   55132.0         0.825   0.652  1.0    -3.183   \n",
       "4             Ireland   63074.0         0.501   0.405  1.0    -5.679   \n",
       "\n",
       "   speechiness  acousticness  instrumentalness  liveness  valence    tempo  \\\n",
       "0       0.1700         0.209          0.000000    0.1120   0.8460  177.833   \n",
       "1       0.0320         0.423          0.000002    0.4350   0.0979  129.863   \n",
       "2       0.3340         0.592          0.000000    0.0881   0.3270  140.048   \n",
       "3       0.0802         0.581          0.000000    0.0931   0.9310   95.977   \n",
       "4       0.0319         0.751          0.000000    0.1050   0.4460  109.891   \n",
       "\n",
       "   duration_ms genre  \n",
       "0     228200.0   Pop  \n",
       "1     221538.0   Pop  \n",
       "2     178627.0   Rap  \n",
       "3     233713.0   R&B  \n",
       "4     182161.0   Pop  "
      ]
     },
     "execution_count": 41,
     "metadata": {},
     "output_type": "execute_result"
    }
   ],
   "source": [
    "data.head()"
   ]
  },
  {
   "cell_type": "code",
   "execution_count": 42,
   "id": "841ec1b0",
   "metadata": {},
   "outputs": [
    {
     "data": {
      "text/plain": [
       "Unnamed: 0            int64\n",
       "title                object\n",
       "rank                  int64\n",
       "date                 object\n",
       "artist               object\n",
       "url                  object\n",
       "region               object\n",
       "streams             float64\n",
       "danceability        float64\n",
       "energy              float64\n",
       "key                 float64\n",
       "loudness            float64\n",
       "speechiness         float64\n",
       "acousticness        float64\n",
       "instrumentalness    float64\n",
       "liveness            float64\n",
       "valence             float64\n",
       "tempo               float64\n",
       "duration_ms         float64\n",
       "genre                object\n",
       "dtype: object"
      ]
     },
     "execution_count": 42,
     "metadata": {},
     "output_type": "execute_result"
    }
   ],
   "source": [
    "data.dtypes"
   ]
  },
  {
   "cell_type": "code",
   "execution_count": 43,
   "id": "2c18cccc",
   "metadata": {},
   "outputs": [],
   "source": [
    "# Drop unnamed column with old index.\n",
    "data.drop('Unnamed: 0', inplace=True, axis=1)"
   ]
  },
  {
   "cell_type": "code",
   "execution_count": 54,
   "id": "152eb54b",
   "metadata": {},
   "outputs": [
    {
     "data": {
      "text/plain": [
       "title               0\n",
       "rank                0\n",
       "date                0\n",
       "artist              0\n",
       "url                 0\n",
       "region              0\n",
       "streams             0\n",
       "danceability        0\n",
       "energy              0\n",
       "key                 0\n",
       "loudness            0\n",
       "speechiness         0\n",
       "acousticness        0\n",
       "instrumentalness    0\n",
       "liveness            0\n",
       "valence             0\n",
       "tempo               0\n",
       "duration_ms         0\n",
       "genre               0\n",
       "dtype: int64"
      ]
     },
     "execution_count": 54,
     "metadata": {},
     "output_type": "execute_result"
    }
   ],
   "source": [
    "data.isna().sum()"
   ]
  },
  {
   "cell_type": "code",
   "execution_count": 52,
   "id": "e9560663",
   "metadata": {},
   "outputs": [],
   "source": [
    "data = data.dropna()"
   ]
  },
  {
   "cell_type": "code",
   "execution_count": 55,
   "id": "ba0cd338",
   "metadata": {},
   "outputs": [
    {
     "data": {
      "text/plain": [
       "Rap          25622\n",
       "Pop          24031\n",
       "Rock          3743\n",
       "R&B           3238\n",
       "Country        520\n",
       "Non-Music      212\n",
       "Name: genre, dtype: int64"
      ]
     },
     "execution_count": 55,
     "metadata": {},
     "output_type": "execute_result"
    }
   ],
   "source": [
    "# Show distribution of genres.\n",
    "data['genre'].value_counts()"
   ]
  },
  {
   "cell_type": "code",
   "execution_count": 56,
   "id": "06859eca",
   "metadata": {},
   "outputs": [
    {
     "data": {
      "text/plain": [
       "<AxesSubplot:>"
      ]
     },
     "execution_count": 56,
     "metadata": {},
     "output_type": "execute_result"
    },
    {
     "data": {
      "image/png": "[encoded data removed]",
      "text/plain": [
       "<Figure size 432x288 with 1 Axes>"
      ]
     },
     "metadata": {
      "needs_background": "light"
     },
     "output_type": "display_data"
    }
   ],
   "source": [
    "data['genre'].value_counts().plot.bar()"
   ]
  },
  {
   "cell_type": "code",
   "execution_count": 57,
   "id": "d9edb345",
   "metadata": {},
   "outputs": [
    {
     "data": {
      "text/html": [
       "<div>\n",
       "<style scoped>\n",
       "    .dataframe tbody tr th:only-of-type {\n",
       "        vertical-align: middle;\n",
       "    }\n",
       "\n",
       "    .dataframe tbody tr th {\n",
       "        vertical-align: top;\n",
       "    }\n",
       "\n",
       "    .dataframe thead th {\n",
       "        text-align: right;\n",
       "    }\n",
       "</style>\n",
       "<table border=\"1\" class=\"dataframe\">\n",
       "  <thead>\n",
       "    <tr style=\"text-align: right;\">\n",
       "      <th></th>\n",
       "      <th>rank</th>\n",
       "      <th>streams</th>\n",
       "      <th>danceability</th>\n",
       "      <th>energy</th>\n",
       "      <th>key</th>\n",
       "      <th>loudness</th>\n",
       "      <th>speechiness</th>\n",
       "      <th>acousticness</th>\n",
       "      <th>instrumentalness</th>\n",
       "      <th>liveness</th>\n",
       "      <th>valence</th>\n",
       "      <th>tempo</th>\n",
       "      <th>duration_ms</th>\n",
       "    </tr>\n",
       "    <tr>\n",
       "      <th>genre</th>\n",
       "      <th></th>\n",
       "      <th></th>\n",
       "      <th></th>\n",
       "      <th></th>\n",
       "      <th></th>\n",
       "      <th></th>\n",
       "      <th></th>\n",
       "      <th></th>\n",
       "      <th></th>\n",
       "      <th></th>\n",
       "      <th></th>\n",
       "      <th></th>\n",
       "      <th></th>\n",
       "    </tr>\n",
       "  </thead>\n",
       "  <tbody>\n",
       "    <tr>\n",
       "      <th>Country</th>\n",
       "      <td>95.019231</td>\n",
       "      <td>212055.023077</td>\n",
       "      <td>0.583544</td>\n",
       "      <td>0.627910</td>\n",
       "      <td>5.326923</td>\n",
       "      <td>-6.726113</td>\n",
       "      <td>0.046474</td>\n",
       "      <td>0.335949</td>\n",
       "      <td>0.002891</td>\n",
       "      <td>0.181667</td>\n",
       "      <td>0.537142</td>\n",
       "      <td>120.929127</td>\n",
       "      <td>208160.923077</td>\n",
       "    </tr>\n",
       "    <tr>\n",
       "      <th>Non-Music</th>\n",
       "      <td>102.301887</td>\n",
       "      <td>27814.735849</td>\n",
       "      <td>0.636929</td>\n",
       "      <td>0.622670</td>\n",
       "      <td>5.877358</td>\n",
       "      <td>-7.590509</td>\n",
       "      <td>0.134773</td>\n",
       "      <td>0.361539</td>\n",
       "      <td>0.026572</td>\n",
       "      <td>0.196504</td>\n",
       "      <td>0.535940</td>\n",
       "      <td>123.359623</td>\n",
       "      <td>202248.702830</td>\n",
       "    </tr>\n",
       "    <tr>\n",
       "      <th>Pop</th>\n",
       "      <td>83.790687</td>\n",
       "      <td>58515.131164</td>\n",
       "      <td>0.639167</td>\n",
       "      <td>0.637737</td>\n",
       "      <td>5.314178</td>\n",
       "      <td>-6.693467</td>\n",
       "      <td>0.080394</td>\n",
       "      <td>0.282070</td>\n",
       "      <td>0.019803</td>\n",
       "      <td>0.174042</td>\n",
       "      <td>0.513969</td>\n",
       "      <td>120.774922</td>\n",
       "      <td>211737.559028</td>\n",
       "    </tr>\n",
       "    <tr>\n",
       "      <th>R&amp;B</th>\n",
       "      <td>80.557134</td>\n",
       "      <td>104515.682829</td>\n",
       "      <td>0.649587</td>\n",
       "      <td>0.581889</td>\n",
       "      <td>5.253860</td>\n",
       "      <td>-7.266507</td>\n",
       "      <td>0.113669</td>\n",
       "      <td>0.310684</td>\n",
       "      <td>0.015652</td>\n",
       "      <td>0.162309</td>\n",
       "      <td>0.466005</td>\n",
       "      <td>117.533882</td>\n",
       "      <td>209227.576899</td>\n",
       "    </tr>\n",
       "    <tr>\n",
       "      <th>Rap</th>\n",
       "      <td>71.960347</td>\n",
       "      <td>111040.793810</td>\n",
       "      <td>0.733299</td>\n",
       "      <td>0.647470</td>\n",
       "      <td>5.320584</td>\n",
       "      <td>-7.063168</td>\n",
       "      <td>0.209611</td>\n",
       "      <td>0.232026</td>\n",
       "      <td>0.007154</td>\n",
       "      <td>0.169027</td>\n",
       "      <td>0.494533</td>\n",
       "      <td>122.092469</td>\n",
       "      <td>190726.468387</td>\n",
       "    </tr>\n",
       "    <tr>\n",
       "      <th>Rock</th>\n",
       "      <td>97.218274</td>\n",
       "      <td>54360.912103</td>\n",
       "      <td>0.536877</td>\n",
       "      <td>0.711454</td>\n",
       "      <td>5.332087</td>\n",
       "      <td>-6.675606</td>\n",
       "      <td>0.061901</td>\n",
       "      <td>0.173021</td>\n",
       "      <td>0.059505</td>\n",
       "      <td>0.193132</td>\n",
       "      <td>0.475750</td>\n",
       "      <td>124.939532</td>\n",
       "      <td>237187.927865</td>\n",
       "    </tr>\n",
       "  </tbody>\n",
       "</table>\n",
       "</div>"
      ],
      "text/plain": [
       "                 rank        streams  danceability    energy       key  \\\n",
       "genre                                                                    \n",
       "Country     95.019231  212055.023077      0.583544  0.627910  5.326923   \n",
       "Non-Music  102.301887   27814.735849      0.636929  0.622670  5.877358   \n",
       "Pop         83.790687   58515.131164      0.639167  0.637737  5.314178   \n",
       "R&B         80.557134  104515.682829      0.649587  0.581889  5.253860   \n",
       "Rap         71.960347  111040.793810      0.733299  0.647470  5.320584   \n",
       "Rock        97.218274   54360.912103      0.536877  0.711454  5.332087   \n",
       "\n",
       "           loudness  speechiness  acousticness  instrumentalness  liveness  \\\n",
       "genre                                                                        \n",
       "Country   -6.726113     0.046474      0.335949          0.002891  0.181667   \n",
       "Non-Music -7.590509     0.134773      0.361539          0.026572  0.196504   \n",
       "Pop       -6.693467     0.080394      0.282070          0.019803  0.174042   \n",
       "R&B       -7.266507     0.113669      0.310684          0.015652  0.162309   \n",
       "Rap       -7.063168     0.209611      0.232026          0.007154  0.169027   \n",
       "Rock      -6.675606     0.061901      0.173021          0.059505  0.193132   \n",
       "\n",
       "            valence       tempo    duration_ms  \n",
       "genre                                           \n",
       "Country    0.537142  120.929127  208160.923077  \n",
       "Non-Music  0.535940  123.359623  202248.702830  \n",
       "Pop        0.513969  120.774922  211737.559028  \n",
       "R&B        0.466005  117.533882  209227.576899  \n",
       "Rap        0.494533  122.092469  190726.468387  \n",
       "Rock       0.475750  124.939532  237187.927865  "
      ]
     },
     "execution_count": 57,
     "metadata": {},
     "output_type": "execute_result"
    }
   ],
   "source": [
    "# Show average values of different genres\n",
    "data.groupby('genre').mean()"
   ]
  },
  {
   "cell_type": "code",
   "execution_count": 58,
   "id": "48650674",
   "metadata": {},
   "outputs": [
    {
     "data": {
      "text/html": [
       "<div>\n",
       "<style scoped>\n",
       "    .dataframe tbody tr th:only-of-type {\n",
       "        vertical-align: middle;\n",
       "    }\n",
       "\n",
       "    .dataframe tbody tr th {\n",
       "        vertical-align: top;\n",
       "    }\n",
       "\n",
       "    .dataframe thead th {\n",
       "        text-align: right;\n",
       "    }\n",
       "</style>\n",
       "<table border=\"1\" class=\"dataframe\">\n",
       "  <thead>\n",
       "    <tr style=\"text-align: right;\">\n",
       "      <th></th>\n",
       "      <th>rank</th>\n",
       "      <th>streams</th>\n",
       "      <th>danceability</th>\n",
       "      <th>energy</th>\n",
       "      <th>key</th>\n",
       "      <th>loudness</th>\n",
       "      <th>speechiness</th>\n",
       "      <th>acousticness</th>\n",
       "      <th>instrumentalness</th>\n",
       "      <th>liveness</th>\n",
       "      <th>valence</th>\n",
       "      <th>tempo</th>\n",
       "      <th>duration_ms</th>\n",
       "    </tr>\n",
       "  </thead>\n",
       "  <tbody>\n",
       "    <tr>\n",
       "      <th>rank</th>\n",
       "      <td>1.000000</td>\n",
       "      <td>-0.264633</td>\n",
       "      <td>-0.105134</td>\n",
       "      <td>0.002725</td>\n",
       "      <td>0.001356</td>\n",
       "      <td>-0.027425</td>\n",
       "      <td>-0.064123</td>\n",
       "      <td>0.025821</td>\n",
       "      <td>0.046552</td>\n",
       "      <td>0.016840</td>\n",
       "      <td>-0.003279</td>\n",
       "      <td>-0.009565</td>\n",
       "      <td>0.052955</td>\n",
       "    </tr>\n",
       "    <tr>\n",
       "      <th>streams</th>\n",
       "      <td>-0.264633</td>\n",
       "      <td>1.000000</td>\n",
       "      <td>0.065880</td>\n",
       "      <td>-0.031795</td>\n",
       "      <td>-0.006406</td>\n",
       "      <td>0.010798</td>\n",
       "      <td>0.090070</td>\n",
       "      <td>-0.018482</td>\n",
       "      <td>-0.026891</td>\n",
       "      <td>0.006667</td>\n",
       "      <td>-0.028057</td>\n",
       "      <td>0.017987</td>\n",
       "      <td>-0.057000</td>\n",
       "    </tr>\n",
       "    <tr>\n",
       "      <th>danceability</th>\n",
       "      <td>-0.105134</td>\n",
       "      <td>0.065880</td>\n",
       "      <td>1.000000</td>\n",
       "      <td>0.107217</td>\n",
       "      <td>0.005307</td>\n",
       "      <td>0.110245</td>\n",
       "      <td>0.203953</td>\n",
       "      <td>-0.212279</td>\n",
       "      <td>-0.099183</td>\n",
       "      <td>-0.096646</td>\n",
       "      <td>0.343297</td>\n",
       "      <td>-0.069555</td>\n",
       "      <td>-0.230534</td>\n",
       "    </tr>\n",
       "    <tr>\n",
       "      <th>energy</th>\n",
       "      <td>0.002725</td>\n",
       "      <td>-0.031795</td>\n",
       "      <td>0.107217</td>\n",
       "      <td>1.000000</td>\n",
       "      <td>0.027545</td>\n",
       "      <td>0.719369</td>\n",
       "      <td>0.025008</td>\n",
       "      <td>-0.535293</td>\n",
       "      <td>-0.030418</td>\n",
       "      <td>0.157855</td>\n",
       "      <td>0.365835</td>\n",
       "      <td>0.093243</td>\n",
       "      <td>-0.006882</td>\n",
       "    </tr>\n",
       "    <tr>\n",
       "      <th>key</th>\n",
       "      <td>0.001356</td>\n",
       "      <td>-0.006406</td>\n",
       "      <td>0.005307</td>\n",
       "      <td>0.027545</td>\n",
       "      <td>1.000000</td>\n",
       "      <td>0.004230</td>\n",
       "      <td>0.018134</td>\n",
       "      <td>0.000383</td>\n",
       "      <td>-0.000203</td>\n",
       "      <td>0.001520</td>\n",
       "      <td>0.038801</td>\n",
       "      <td>0.000863</td>\n",
       "      <td>-0.000581</td>\n",
       "    </tr>\n",
       "    <tr>\n",
       "      <th>loudness</th>\n",
       "      <td>-0.027425</td>\n",
       "      <td>0.010798</td>\n",
       "      <td>0.110245</td>\n",
       "      <td>0.719369</td>\n",
       "      <td>0.004230</td>\n",
       "      <td>1.000000</td>\n",
       "      <td>-0.079188</td>\n",
       "      <td>-0.404731</td>\n",
       "      <td>-0.152517</td>\n",
       "      <td>0.083832</td>\n",
       "      <td>0.255669</td>\n",
       "      <td>0.069665</td>\n",
       "      <td>-0.021133</td>\n",
       "    </tr>\n",
       "    <tr>\n",
       "      <th>speechiness</th>\n",
       "      <td>-0.064123</td>\n",
       "      <td>0.090070</td>\n",
       "      <td>0.203953</td>\n",
       "      <td>0.025008</td>\n",
       "      <td>0.018134</td>\n",
       "      <td>-0.079188</td>\n",
       "      <td>1.000000</td>\n",
       "      <td>-0.039483</td>\n",
       "      <td>-0.088785</td>\n",
       "      <td>0.033715</td>\n",
       "      <td>0.054078</td>\n",
       "      <td>0.050617</td>\n",
       "      <td>-0.190498</td>\n",
       "    </tr>\n",
       "    <tr>\n",
       "      <th>acousticness</th>\n",
       "      <td>0.025821</td>\n",
       "      <td>-0.018482</td>\n",
       "      <td>-0.212279</td>\n",
       "      <td>-0.535293</td>\n",
       "      <td>0.000383</td>\n",
       "      <td>-0.404731</td>\n",
       "      <td>-0.039483</td>\n",
       "      <td>1.000000</td>\n",
       "      <td>0.015339</td>\n",
       "      <td>-0.071857</td>\n",
       "      <td>-0.139532</td>\n",
       "      <td>-0.088699</td>\n",
       "      <td>0.036933</td>\n",
       "    </tr>\n",
       "    <tr>\n",
       "      <th>instrumentalness</th>\n",
       "      <td>0.046552</td>\n",
       "      <td>-0.026891</td>\n",
       "      <td>-0.099183</td>\n",
       "      <td>-0.030418</td>\n",
       "      <td>-0.000203</td>\n",
       "      <td>-0.152517</td>\n",
       "      <td>-0.088785</td>\n",
       "      <td>0.015339</td>\n",
       "      <td>1.000000</td>\n",
       "      <td>0.002616</td>\n",
       "      <td>-0.090615</td>\n",
       "      <td>-0.004317</td>\n",
       "      <td>0.073759</td>\n",
       "    </tr>\n",
       "    <tr>\n",
       "      <th>liveness</th>\n",
       "      <td>0.016840</td>\n",
       "      <td>0.006667</td>\n",
       "      <td>-0.096646</td>\n",
       "      <td>0.157855</td>\n",
       "      <td>0.001520</td>\n",
       "      <td>0.083832</td>\n",
       "      <td>0.033715</td>\n",
       "      <td>-0.071857</td>\n",
       "      <td>0.002616</td>\n",
       "      <td>1.000000</td>\n",
       "      <td>0.047777</td>\n",
       "      <td>0.010807</td>\n",
       "      <td>-0.009237</td>\n",
       "    </tr>\n",
       "    <tr>\n",
       "      <th>valence</th>\n",
       "      <td>-0.003279</td>\n",
       "      <td>-0.028057</td>\n",
       "      <td>0.343297</td>\n",
       "      <td>0.365835</td>\n",
       "      <td>0.038801</td>\n",
       "      <td>0.255669</td>\n",
       "      <td>0.054078</td>\n",
       "      <td>-0.139532</td>\n",
       "      <td>-0.090615</td>\n",
       "      <td>0.047777</td>\n",
       "      <td>1.000000</td>\n",
       "      <td>0.046628</td>\n",
       "      <td>-0.118587</td>\n",
       "    </tr>\n",
       "    <tr>\n",
       "      <th>tempo</th>\n",
       "      <td>-0.009565</td>\n",
       "      <td>0.017987</td>\n",
       "      <td>-0.069555</td>\n",
       "      <td>0.093243</td>\n",
       "      <td>0.000863</td>\n",
       "      <td>0.069665</td>\n",
       "      <td>0.050617</td>\n",
       "      <td>-0.088699</td>\n",
       "      <td>-0.004317</td>\n",
       "      <td>0.010807</td>\n",
       "      <td>0.046628</td>\n",
       "      <td>1.000000</td>\n",
       "      <td>-0.010829</td>\n",
       "    </tr>\n",
       "    <tr>\n",
       "      <th>duration_ms</th>\n",
       "      <td>0.052955</td>\n",
       "      <td>-0.057000</td>\n",
       "      <td>-0.230534</td>\n",
       "      <td>-0.006882</td>\n",
       "      <td>-0.000581</td>\n",
       "      <td>-0.021133</td>\n",
       "      <td>-0.190498</td>\n",
       "      <td>0.036933</td>\n",
       "      <td>0.073759</td>\n",
       "      <td>-0.009237</td>\n",
       "      <td>-0.118587</td>\n",
       "      <td>-0.010829</td>\n",
       "      <td>1.000000</td>\n",
       "    </tr>\n",
       "  </tbody>\n",
       "</table>\n",
       "</div>"
      ],
      "text/plain": [
       "                      rank   streams  danceability    energy       key  \\\n",
       "rank              1.000000 -0.264633     -0.105134  0.002725  0.001356   \n",
       "streams          -0.264633  1.000000      0.065880 -0.031795 -0.006406   \n",
       "danceability     -0.105134  0.065880      1.000000  0.107217  0.005307   \n",
       "energy            0.002725 -0.031795      0.107217  1.000000  0.027545   \n",
       "key               0.001356 -0.006406      0.005307  0.027545  1.000000   \n",
       "loudness         -0.027425  0.010798      0.110245  0.719369  0.004230   \n",
       "speechiness      -0.064123  0.090070      0.203953  0.025008  0.018134   \n",
       "acousticness      0.025821 -0.018482     -0.212279 -0.535293  0.000383   \n",
       "instrumentalness  0.046552 -0.026891     -0.099183 -0.030418 -0.000203   \n",
       "liveness          0.016840  0.006667     -0.096646  0.157855  0.001520   \n",
       "valence          -0.003279 -0.028057      0.343297  0.365835  0.038801   \n",
       "tempo            -0.009565  0.017987     -0.069555  0.093243  0.000863   \n",
       "duration_ms       0.052955 -0.057000     -0.230534 -0.006882 -0.000581   \n",
       "\n",
       "                  loudness  speechiness  acousticness  instrumentalness  \\\n",
       "rank             -0.027425    -0.064123      0.025821          0.046552   \n",
       "streams           0.010798     0.090070     -0.018482         -0.026891   \n",
       "danceability      0.110245     0.203953     -0.212279         -0.099183   \n",
       "energy            0.719369     0.025008     -0.535293         -0.030418   \n",
       "key               0.004230     0.018134      0.000383         -0.000203   \n",
       "loudness          1.000000    -0.079188     -0.404731         -0.152517   \n",
       "speechiness      -0.079188     1.000000     -0.039483         -0.088785   \n",
       "acousticness     -0.404731    -0.039483      1.000000          0.015339   \n",
       "instrumentalness -0.152517    -0.088785      0.015339          1.000000   \n",
       "liveness          0.083832     0.033715     -0.071857          0.002616   \n",
       "valence           0.255669     0.054078     -0.139532         -0.090615   \n",
       "tempo             0.069665     0.050617     -0.088699         -0.004317   \n",
       "duration_ms      -0.021133    -0.190498      0.036933          0.073759   \n",
       "\n",
       "                  liveness   valence     tempo  duration_ms  \n",
       "rank              0.016840 -0.003279 -0.009565     0.052955  \n",
       "streams           0.006667 -0.028057  0.017987    -0.057000  \n",
       "danceability     -0.096646  0.343297 -0.069555    -0.230534  \n",
       "energy            0.157855  0.365835  0.093243    -0.006882  \n",
       "key               0.001520  0.038801  0.000863    -0.000581  \n",
       "loudness          0.083832  0.255669  0.069665    -0.021133  \n",
       "speechiness       0.033715  0.054078  0.050617    -0.190498  \n",
       "acousticness     -0.071857 -0.139532 -0.088699     0.036933  \n",
       "instrumentalness  0.002616 -0.090615 -0.004317     0.073759  \n",
       "liveness          1.000000  0.047777  0.010807    -0.009237  \n",
       "valence           0.047777  1.000000  0.046628    -0.118587  \n",
       "tempo             0.010807  0.046628  1.000000    -0.010829  \n",
       "duration_ms      -0.009237 -0.118587 -0.010829     1.000000  "
      ]
     },
     "execution_count": 58,
     "metadata": {},
     "output_type": "execute_result"
    }
   ],
   "source": [
    "data.corr()"
   ]
  },
  {
   "cell_type": "code",
   "execution_count": 59,
   "id": "a08c3857",
   "metadata": {},
   "outputs": [
    {
     "data": {
      "text/plain": [
       "rank                    AxesSubplot(0.125,0.71587;0.168478x0.16413)\n",
       "streams              AxesSubplot(0.327174,0.71587;0.168478x0.16413)\n",
       "danceability         AxesSubplot(0.529348,0.71587;0.168478x0.16413)\n",
       "energy               AxesSubplot(0.731522,0.71587;0.168478x0.16413)\n",
       "key                    AxesSubplot(0.125,0.518913;0.168478x0.16413)\n",
       "loudness            AxesSubplot(0.327174,0.518913;0.168478x0.16413)\n",
       "speechiness         AxesSubplot(0.529348,0.518913;0.168478x0.16413)\n",
       "acousticness        AxesSubplot(0.731522,0.518913;0.168478x0.16413)\n",
       "instrumentalness       AxesSubplot(0.125,0.321957;0.168478x0.16413)\n",
       "liveness            AxesSubplot(0.327174,0.321957;0.168478x0.16413)\n",
       "valence             AxesSubplot(0.529348,0.321957;0.168478x0.16413)\n",
       "tempo               AxesSubplot(0.731522,0.321957;0.168478x0.16413)\n",
       "duration_ms               AxesSubplot(0.125,0.125;0.168478x0.16413)\n",
       "dtype: object"
      ]
     },
     "execution_count": 59,
     "metadata": {},
     "output_type": "execute_result"
    },
    {
     "data": {
      "image/png": "[encoded data removed]",
      "text/plain": [
       "<Figure size 1080x720 with 16 Axes>"
      ]
     },
     "metadata": {
      "needs_background": "light"
     },
     "output_type": "display_data"
    }
   ],
   "source": [
    "data.plot(kind='box', subplots=True, layout=(4, 4), sharex=False, sharey=False, figsize=(15, 10))"
   ]
  },
  {
   "cell_type": "code",
   "execution_count": 60,
   "id": "5344c5a0",
   "metadata": {},
   "outputs": [
    {
     "data": {
      "text/plain": [
       "array([[<AxesSubplot:title={'center':'rank'}>,\n",
       "        <AxesSubplot:title={'center':'streams'}>,\n",
       "        <AxesSubplot:title={'center':'danceability'}>,\n",
       "        <AxesSubplot:title={'center':'energy'}>],\n",
       "       [<AxesSubplot:title={'center':'key'}>,\n",
       "        <AxesSubplot:title={'center':'loudness'}>,\n",
       "        <AxesSubplot:title={'center':'speechiness'}>,\n",
       "        <AxesSubplot:title={'center':'acousticness'}>],\n",
       "       [<AxesSubplot:title={'center':'instrumentalness'}>,\n",
       "        <AxesSubplot:title={'center':'liveness'}>,\n",
       "        <AxesSubplot:title={'center':'valence'}>,\n",
       "        <AxesSubplot:title={'center':'tempo'}>],\n",
       "       [<AxesSubplot:title={'center':'duration_ms'}>, <AxesSubplot:>,\n",
       "        <AxesSubplot:>, <AxesSubplot:>]], dtype=object)"
      ]
     },
     "execution_count": 60,
     "metadata": {},
     "output_type": "execute_result"
    },
    {
     "data": {
      "image/png": "[encoded data removed]",
      "text/plain": [
       "<Figure size 1080x720 with 16 Axes>"
      ]
     },
     "metadata": {
      "needs_background": "light"
     },
     "output_type": "display_data"
    }
   ],
   "source": [
    "data.hist(figsize=(15,10))"
   ]
  },
  {
   "cell_type": "markdown",
   "id": "8f70fceb",
   "metadata": {},
   "source": [
    "### Training a model"
   ]
  },
  {
   "cell_type": "code",
   "execution_count": 61,
   "id": "4b943237",
   "metadata": {},
   "outputs": [],
   "source": [
    "# Drop unmeasurable columns with strings.\n",
    "data.drop('title', inplace=True, axis=1)\n",
    "data.drop('date', inplace=True, axis=1)\n",
    "data.drop('artist', inplace=True, axis=1)\n",
    "data.drop('url', inplace=True, axis=1)\n",
    "data.drop('region', inplace=True, axis=1)"
   ]
  },
  {
   "cell_type": "code",
   "execution_count": 62,
   "id": "b305d184",
   "metadata": {},
   "outputs": [],
   "source": [
    "# Second round - dropping streams and duration_ms\n",
    "data.drop('streams', inplace=True, axis=1)\n",
    "data.drop('duration_ms', inplace=True, axis=1)"
   ]
  },
  {
   "cell_type": "code",
   "execution_count": 63,
   "id": "39fffe00",
   "metadata": {},
   "outputs": [
    {
     "data": {
      "text/html": [
       "<div>\n",
       "<style scoped>\n",
       "    .dataframe tbody tr th:only-of-type {\n",
       "        vertical-align: middle;\n",
       "    }\n",
       "\n",
       "    .dataframe tbody tr th {\n",
       "        vertical-align: top;\n",
       "    }\n",
       "\n",
       "    .dataframe thead th {\n",
       "        text-align: right;\n",
       "    }\n",
       "</style>\n",
       "<table border=\"1\" class=\"dataframe\">\n",
       "  <thead>\n",
       "    <tr style=\"text-align: right;\">\n",
       "      <th></th>\n",
       "      <th>rank</th>\n",
       "      <th>danceability</th>\n",
       "      <th>energy</th>\n",
       "      <th>key</th>\n",
       "      <th>loudness</th>\n",
       "      <th>speechiness</th>\n",
       "      <th>acousticness</th>\n",
       "      <th>instrumentalness</th>\n",
       "      <th>liveness</th>\n",
       "      <th>valence</th>\n",
       "      <th>tempo</th>\n",
       "      <th>genre</th>\n",
       "    </tr>\n",
       "  </thead>\n",
       "  <tbody>\n",
       "    <tr>\n",
       "      <th>0</th>\n",
       "      <td>1</td>\n",
       "      <td>0.660</td>\n",
       "      <td>0.786</td>\n",
       "      <td>2.0</td>\n",
       "      <td>-4.757</td>\n",
       "      <td>0.1700</td>\n",
       "      <td>0.2090</td>\n",
       "      <td>0.000000</td>\n",
       "      <td>0.1120</td>\n",
       "      <td>0.8460</td>\n",
       "      <td>177.833</td>\n",
       "      <td>Pop</td>\n",
       "    </tr>\n",
       "    <tr>\n",
       "      <th>1</th>\n",
       "      <td>1</td>\n",
       "      <td>0.642</td>\n",
       "      <td>0.374</td>\n",
       "      <td>5.0</td>\n",
       "      <td>-10.606</td>\n",
       "      <td>0.0320</td>\n",
       "      <td>0.4230</td>\n",
       "      <td>0.000002</td>\n",
       "      <td>0.4350</td>\n",
       "      <td>0.0979</td>\n",
       "      <td>129.863</td>\n",
       "      <td>Pop</td>\n",
       "    </tr>\n",
       "    <tr>\n",
       "      <th>2</th>\n",
       "      <td>1</td>\n",
       "      <td>0.778</td>\n",
       "      <td>0.317</td>\n",
       "      <td>1.0</td>\n",
       "      <td>-10.732</td>\n",
       "      <td>0.3340</td>\n",
       "      <td>0.5920</td>\n",
       "      <td>0.000000</td>\n",
       "      <td>0.0881</td>\n",
       "      <td>0.3270</td>\n",
       "      <td>140.048</td>\n",
       "      <td>Rap</td>\n",
       "    </tr>\n",
       "    <tr>\n",
       "      <th>3</th>\n",
       "      <td>1</td>\n",
       "      <td>0.825</td>\n",
       "      <td>0.652</td>\n",
       "      <td>1.0</td>\n",
       "      <td>-3.183</td>\n",
       "      <td>0.0802</td>\n",
       "      <td>0.5810</td>\n",
       "      <td>0.000000</td>\n",
       "      <td>0.0931</td>\n",
       "      <td>0.9310</td>\n",
       "      <td>95.977</td>\n",
       "      <td>R&amp;B</td>\n",
       "    </tr>\n",
       "    <tr>\n",
       "      <th>4</th>\n",
       "      <td>1</td>\n",
       "      <td>0.501</td>\n",
       "      <td>0.405</td>\n",
       "      <td>1.0</td>\n",
       "      <td>-5.679</td>\n",
       "      <td>0.0319</td>\n",
       "      <td>0.7510</td>\n",
       "      <td>0.000000</td>\n",
       "      <td>0.1050</td>\n",
       "      <td>0.4460</td>\n",
       "      <td>109.891</td>\n",
       "      <td>Pop</td>\n",
       "    </tr>\n",
       "    <tr>\n",
       "      <th>...</th>\n",
       "      <td>...</td>\n",
       "      <td>...</td>\n",
       "      <td>...</td>\n",
       "      <td>...</td>\n",
       "      <td>...</td>\n",
       "      <td>...</td>\n",
       "      <td>...</td>\n",
       "      <td>...</td>\n",
       "      <td>...</td>\n",
       "      <td>...</td>\n",
       "      <td>...</td>\n",
       "      <td>...</td>\n",
       "    </tr>\n",
       "    <tr>\n",
       "      <th>57367</th>\n",
       "      <td>200</td>\n",
       "      <td>0.631</td>\n",
       "      <td>0.381</td>\n",
       "      <td>8.0</td>\n",
       "      <td>-8.232</td>\n",
       "      <td>0.0386</td>\n",
       "      <td>0.7680</td>\n",
       "      <td>0.002180</td>\n",
       "      <td>0.2610</td>\n",
       "      <td>0.5460</td>\n",
       "      <td>92.951</td>\n",
       "      <td>Pop</td>\n",
       "    </tr>\n",
       "    <tr>\n",
       "      <th>57368</th>\n",
       "      <td>200</td>\n",
       "      <td>0.688</td>\n",
       "      <td>0.685</td>\n",
       "      <td>7.0</td>\n",
       "      <td>-7.699</td>\n",
       "      <td>0.0379</td>\n",
       "      <td>0.5040</td>\n",
       "      <td>0.000000</td>\n",
       "      <td>0.0984</td>\n",
       "      <td>0.8090</td>\n",
       "      <td>143.081</td>\n",
       "      <td>Pop</td>\n",
       "    </tr>\n",
       "    <tr>\n",
       "      <th>57369</th>\n",
       "      <td>200</td>\n",
       "      <td>0.553</td>\n",
       "      <td>0.853</td>\n",
       "      <td>0.0</td>\n",
       "      <td>-4.307</td>\n",
       "      <td>0.0367</td>\n",
       "      <td>0.0010</td>\n",
       "      <td>0.011000</td>\n",
       "      <td>0.1150</td>\n",
       "      <td>0.4850</td>\n",
       "      <td>126.056</td>\n",
       "      <td>Rock</td>\n",
       "    </tr>\n",
       "    <tr>\n",
       "      <th>57370</th>\n",
       "      <td>200</td>\n",
       "      <td>0.801</td>\n",
       "      <td>0.488</td>\n",
       "      <td>11.0</td>\n",
       "      <td>-12.174</td>\n",
       "      <td>0.1020</td>\n",
       "      <td>0.0282</td>\n",
       "      <td>0.000277</td>\n",
       "      <td>0.1120</td>\n",
       "      <td>0.7330</td>\n",
       "      <td>106.071</td>\n",
       "      <td>Rap</td>\n",
       "    </tr>\n",
       "    <tr>\n",
       "      <th>57371</th>\n",
       "      <td>200</td>\n",
       "      <td>0.845</td>\n",
       "      <td>0.559</td>\n",
       "      <td>6.0</td>\n",
       "      <td>-5.171</td>\n",
       "      <td>0.1680</td>\n",
       "      <td>0.3370</td>\n",
       "      <td>0.001710</td>\n",
       "      <td>0.0758</td>\n",
       "      <td>0.6280</td>\n",
       "      <td>100.242</td>\n",
       "      <td>Pop</td>\n",
       "    </tr>\n",
       "  </tbody>\n",
       "</table>\n",
       "<p>57366 rows × 12 columns</p>\n",
       "</div>"
      ],
      "text/plain": [
       "       rank  danceability  energy   key  loudness  speechiness  acousticness  \\\n",
       "0         1         0.660   0.786   2.0    -4.757       0.1700        0.2090   \n",
       "1         1         0.642   0.374   5.0   -10.606       0.0320        0.4230   \n",
       "2         1         0.778   0.317   1.0   -10.732       0.3340        0.5920   \n",
       "3         1         0.825   0.652   1.0    -3.183       0.0802        0.5810   \n",
       "4         1         0.501   0.405   1.0    -5.679       0.0319        0.7510   \n",
       "...     ...           ...     ...   ...       ...          ...           ...   \n",
       "57367   200         0.631   0.381   8.0    -8.232       0.0386        0.7680   \n",
       "57368   200         0.688   0.685   7.0    -7.699       0.0379        0.5040   \n",
       "57369   200         0.553   0.853   0.0    -4.307       0.0367        0.0010   \n",
       "57370   200         0.801   0.488  11.0   -12.174       0.1020        0.0282   \n",
       "57371   200         0.845   0.559   6.0    -5.171       0.1680        0.3370   \n",
       "\n",
       "       instrumentalness  liveness  valence    tempo genre  \n",
       "0              0.000000    0.1120   0.8460  177.833   Pop  \n",
       "1              0.000002    0.4350   0.0979  129.863   Pop  \n",
       "2              0.000000    0.0881   0.3270  140.048   Rap  \n",
       "3              0.000000    0.0931   0.9310   95.977   R&B  \n",
       "4              0.000000    0.1050   0.4460  109.891   Pop  \n",
       "...                 ...       ...      ...      ...   ...  \n",
       "57367          0.002180    0.2610   0.5460   92.951   Pop  \n",
       "57368          0.000000    0.0984   0.8090  143.081   Pop  \n",
       "57369          0.011000    0.1150   0.4850  126.056  Rock  \n",
       "57370          0.000277    0.1120   0.7330  106.071   Rap  \n",
       "57371          0.001710    0.0758   0.6280  100.242   Pop  \n",
       "\n",
       "[57366 rows x 12 columns]"
      ]
     },
     "execution_count": 63,
     "metadata": {},
     "output_type": "execute_result"
    }
   ],
   "source": [
    "# Check that they have been removed properly.\n",
    "data"
   ]
  },
  {
   "cell_type": "code",
   "execution_count": 64,
   "id": "24fa3bd4",
   "metadata": {},
   "outputs": [],
   "source": [
    "# Convert the dataset into two arrays\n",
    "array = data.values\n",
    "# Create two (sub) arrays from it\n",
    "X = array[:,0:11] # data without class\n",
    "y = array[:,11]   # just class"
   ]
  },
  {
   "cell_type": "code",
   "execution_count": 65,
   "id": "3a782ff6",
   "metadata": {},
   "outputs": [
    {
     "data": {
      "text/plain": [
       "array(['Pop', 'Pop', 'Rap', ..., 'Rock', 'Rap', 'Pop'], dtype=object)"
      ]
     },
     "execution_count": 65,
     "metadata": {},
     "output_type": "execute_result"
    }
   ],
   "source": [
    "# Check that y has the genre values.\n",
    "y"
   ]
  },
  {
   "cell_type": "code",
   "execution_count": 66,
   "id": "99c96ea1",
   "metadata": {},
   "outputs": [],
   "source": [
    "from sklearn import model_selection\n",
    "\n",
    "# Split the dataset into two: \n",
    "#   80% of it as training data\n",
    "#   20% as a validation dataset\n",
    "# Let Python split the set into four, we tell the proportion of splitting\n",
    "test_set_size = 0.2\n",
    "\n",
    "# Initial value for randomization\n",
    "seed = 7\n",
    "\n",
    "X_train, X_test, y_train, y_test = model_selection.train_test_split(X, y, test_size=test_set_size, random_state=seed)\n"
   ]
  },
  {
   "cell_type": "markdown",
   "id": "e1047d3a",
   "metadata": {},
   "source": [
    "## Train different models to find out which one is most precise."
   ]
  },
  {
   "cell_type": "markdown",
   "id": "5b2683c0",
   "metadata": {},
   "source": [
    "### <span style=\"color: green\">GaussianNB</span>"
   ]
  },
  {
   "cell_type": "code",
   "execution_count": 67,
   "id": "24024918",
   "metadata": {},
   "outputs": [
    {
     "name": "stdout",
     "output_type": "stream",
     "text": [
      "Completed the fit in 0.089018 seconds\n"
     ]
    }
   ],
   "source": [
    "import time\n",
    "from sklearn.naive_bayes import GaussianNB\n",
    "\n",
    "# Time the event.\n",
    "tic = time.perf_counter()\n",
    "\n",
    "# Choose a model for fitting the data.\n",
    "gaussian_model = GaussianNB()\n",
    "gaussian_model.fit(X_train, y_train)\n",
    "\n",
    "toc = time.perf_counter()\n",
    "print(f\"Completed the fit in {toc - tic:0.6f} seconds\")"
   ]
  },
  {
   "cell_type": "code",
   "execution_count": 68,
   "id": "66ceb9b3",
   "metadata": {},
   "outputs": [
    {
     "data": {
      "text/plain": [
       "0.6314390307678899"
      ]
     },
     "execution_count": 68,
     "metadata": {},
     "output_type": "execute_result"
    }
   ],
   "source": [
    "# Check how good the fit of the model is on the train data.\n",
    "train_accuracy = gaussian_model.score(X_train, y_train)\n",
    "train_accuracy"
   ]
  },
  {
   "cell_type": "code",
   "execution_count": 69,
   "id": "4bd1279b",
   "metadata": {},
   "outputs": [
    {
     "data": {
      "text/plain": [
       "0.6385741676834582"
      ]
     },
     "execution_count": 69,
     "metadata": {},
     "output_type": "execute_result"
    }
   ],
   "source": [
    "# Check how good the fit of the model is on the test data.\n",
    "test_accuracy = gaussian_model.score(X_test, y_test)\n",
    "test_accuracy"
   ]
  },
  {
   "cell_type": "code",
   "execution_count": 70,
   "id": "7880c83f",
   "metadata": {},
   "outputs": [
    {
     "data": {
      "text/plain": [
       "array(['Pop', 'Pop', 'Pop', ..., 'Rap', 'Pop', 'Pop'], dtype='<U9')"
      ]
     },
     "execution_count": 70,
     "metadata": {},
     "output_type": "execute_result"
    }
   ],
   "source": [
    "# Test on the test data, try prediction\n",
    "gaussian_prediction = gaussian_model.predict(X_test)\n",
    "gaussian_prediction"
   ]
  },
  {
   "cell_type": "code",
   "execution_count": 71,
   "id": "7aa8fe56",
   "metadata": {},
   "outputs": [
    {
     "name": "stdout",
     "output_type": "stream",
     "text": [
      "[[   0    1   92    0   20    2]\n",
      " [   0    3   21    0   11    1]\n",
      " [   8   12 2776    2 1783  174]\n",
      " [   0    1  305    0  302   20]\n",
      " [   1   30  679   11 4439   45]\n",
      " [   1    4  524    0   97  109]]\n"
     ]
    }
   ],
   "source": [
    "# Confusion matrix provides an indication of the the errors of prediction\n",
    "print(confusion_matrix(y_test, gaussian_prediction))"
   ]
  },
  {
   "cell_type": "code",
   "execution_count": 72,
   "id": "f69a9099",
   "metadata": {},
   "outputs": [
    {
     "name": "stdout",
     "output_type": "stream",
     "text": [
      "Completed the fit in 89.0176 milliseconds\n",
      "The fit has a \u001b[1m\u001b[93mtrain\u001b[0m set accuracy of 63.1 %\n",
      "The fit has a \u001b[1m\u001b[92mtest\u001b[0m set accuracy of 63.9 %\n"
     ]
    }
   ],
   "source": [
    "print(f\"Completed the fit in {round((toc-tic)*1000, 6)} milliseconds\")\n",
    "print(f\"The fit has a \\033[1m\\033[93mtrain\\033[0m set accuracy of {round(train_accuracy*100, 1)} %\")\n",
    "print(f\"The fit has a \\033[1m\\033[92mtest\\033[0m set accuracy of {round(test_accuracy*100, 1)} %\")\n"
   ]
  },
  {
   "cell_type": "markdown",
   "id": "bbd68424",
   "metadata": {},
   "source": [
    "### <span style=\"color: green\">Logistic Regression</span>"
   ]
  },
  {
   "cell_type": "code",
   "execution_count": 73,
   "id": "07ff2438",
   "metadata": {},
   "outputs": [
    {
     "name": "stdout",
     "output_type": "stream",
     "text": [
      "Completed the fit in 0.453020 seconds\n"
     ]
    },
    {
     "name": "stderr",
     "output_type": "stream",
     "text": [
      "C:\\Python310\\lib\\site-packages\\sklearn\\linear_model\\_logistic.py:814: ConvergenceWarning: lbfgs failed to converge (status=1):\n",
      "STOP: TOTAL NO. of ITERATIONS REACHED LIMIT.\n",
      "\n",
      "Increase the number of iterations (max_iter) or scale the data as shown in:\n",
      "    https://scikit-learn.org/stable/modules/preprocessing.html\n",
      "Please also refer to the documentation for alternative solver options:\n",
      "    https://scikit-learn.org/stable/modules/linear_model.html#logistic-regression\n",
      "  n_iter_i = _check_optimize_result(\n"
     ]
    }
   ],
   "source": [
    "# Time the event.\n",
    "tic = time.perf_counter()\n",
    "\n",
    "logistic_regression_model = LogisticRegression(max_iter=10)\n",
    "logistic_regression_model.fit(X_train, y_train)\n",
    "\n",
    "toc = time.perf_counter()\n",
    "print(f\"Completed the fit in {toc - tic:0.6f} seconds\")"
   ]
  },
  {
   "cell_type": "code",
   "execution_count": 74,
   "id": "71b20705",
   "metadata": {},
   "outputs": [
    {
     "data": {
      "text/plain": [
       "0.4715636712281008"
      ]
     },
     "execution_count": 74,
     "metadata": {},
     "output_type": "execute_result"
    }
   ],
   "source": [
    "# Check how good the fit of the model is on the train data.\n",
    "train_accuracy = logistic_regression_model.score(X_train, y_train)\n",
    "train_accuracy"
   ]
  },
  {
   "cell_type": "code",
   "execution_count": 75,
   "id": "5443f66f",
   "metadata": {},
   "outputs": [
    {
     "data": {
      "text/plain": [
       "0.47394108419034336"
      ]
     },
     "execution_count": 75,
     "metadata": {},
     "output_type": "execute_result"
    }
   ],
   "source": [
    "# Check how good the fit of the model is on the test data.\n",
    "test_accuracy = logistic_regression_model.score(X_test, y_test)\n",
    "test_accuracy"
   ]
  },
  {
   "cell_type": "code",
   "execution_count": 76,
   "id": "2affceca",
   "metadata": {},
   "outputs": [
    {
     "data": {
      "text/plain": [
       "array(['Pop', 'Rap', 'Pop', ..., 'Rap', 'Rap', 'Pop'], dtype=object)"
      ]
     },
     "execution_count": 76,
     "metadata": {},
     "output_type": "execute_result"
    }
   ],
   "source": [
    "# Test on the test data, try prediction\n",
    "logistic_regression_prediction = logistic_regression_model.predict(X_test)\n",
    "logistic_regression_prediction"
   ]
  },
  {
   "cell_type": "code",
   "execution_count": 77,
   "id": "84bc4e2f",
   "metadata": {},
   "outputs": [
    {
     "data": {
      "text/plain": [
       "Rap          25622\n",
       "Pop          24031\n",
       "Rock          3743\n",
       "R&B           3238\n",
       "Country        520\n",
       "Non-Music      212\n",
       "Name: genre, dtype: int64"
      ]
     },
     "execution_count": 77,
     "metadata": {},
     "output_type": "execute_result"
    }
   ],
   "source": [
    "# Show distribution of genres.\n",
    "data['genre'].value_counts()"
   ]
  },
  {
   "cell_type": "code",
   "execution_count": 78,
   "id": "dd956647",
   "metadata": {},
   "outputs": [
    {
     "name": "stdout",
     "output_type": "stream",
     "text": [
      "[[   0    0   54    0   61    0]\n",
      " [   0    0   15    0   21    0]\n",
      " [   0    0 1943    0 2812    0]\n",
      " [   0    0  239    0  389    0]\n",
      " [   0    0 1710    0 3495    0]\n",
      " [   0    0  363    0  372    0]]\n"
     ]
    }
   ],
   "source": [
    "# Confusion matrix provides an indication of the the errors of prediction\n",
    "print(confusion_matrix(y_test, logistic_regression_prediction))"
   ]
  },
  {
   "cell_type": "code",
   "execution_count": 81,
   "id": "99709479",
   "metadata": {},
   "outputs": [
    {
     "data": {
      "image/png": "[encoded data removed]",
      "text/plain": [
       "<Figure size 1080x720 with 2 Axes>"
      ]
     },
     "metadata": {
      "needs_background": "light"
     },
     "output_type": "display_data"
    }
   ],
   "source": [
    "import matplotlib.pyplot as plt\n",
    "from sklearn.datasets import make_classification\n",
    "from sklearn.metrics import confusion_matrix, ConfusionMatrixDisplay\n",
    "from sklearn.model_selection import train_test_split\n",
    "\n",
    "cm = confusion_matrix(y_test, logistic_regression_prediction, labels=logistic_regression_model.classes_)\n",
    "disp = ConfusionMatrixDisplay(confusion_matrix=cm, display_labels=logistic_regression_model.classes_)\n",
    "disp.plot()\n",
    "plt.rcParams[\"figure.figsize\"] = (20,15)"
   ]
  },
  {
   "cell_type": "code",
   "execution_count": 83,
   "id": "ffba1329",
   "metadata": {},
   "outputs": [
    {
     "name": "stdout",
     "output_type": "stream",
     "text": [
      "Completed the fit in 0.453 seconds\n",
      "The fit has a \u001b[1m\u001b[93mtrain\u001b[0m set accuracy of 47.2 %\n",
      "The fit has a \u001b[1m\u001b[92mtest\u001b[0m set accuracy of 47.4 %\n"
     ]
    }
   ],
   "source": [
    "print(f\"Completed the fit in {round((toc-tic), 3)} seconds\")\n",
    "print(f\"The fit has a \\033[1m\\033[93mtrain\\033[0m set accuracy of {round(train_accuracy*100, 1)} %\")\n",
    "print(f\"The fit has a \\033[1m\\033[92mtest\\033[0m set accuracy of {round(test_accuracy*100, 1)} %\")\n"
   ]
  },
  {
   "cell_type": "markdown",
   "id": "20208009",
   "metadata": {},
   "source": [
    "## Applying dimensionality reduction (PCA)"
   ]
  },
  {
   "cell_type": "markdown",
   "id": "7fcb83bb",
   "metadata": {},
   "source": [
    "#### Reducing to 5 dimensions."
   ]
  },
  {
   "cell_type": "code",
   "execution_count": 84,
   "id": "004c8db7",
   "metadata": {},
   "outputs": [],
   "source": [
    "# Standardizing the features\n",
    "X = StandardScaler().fit_transform(X)"
   ]
  },
  {
   "cell_type": "code",
   "execution_count": 85,
   "id": "77ceb028",
   "metadata": {},
   "outputs": [],
   "source": [
    "pca = PCA(n_components=5)\n",
    "new_columns = ['1', '2', '3', '4', '5']\n",
    "components = pca.fit_transform(X)\n",
    "df_5 = pd.DataFrame(data = components, columns = new_columns)\n",
    "array_5 = df_5.values\n",
    "finalDf_5 = pd.concat([df_5, data[['genre']]], axis = 1)"
   ]
  },
  {
   "cell_type": "code",
   "execution_count": 87,
   "id": "16e92fc7",
   "metadata": {},
   "outputs": [],
   "source": [
    "X_train_5, X_test_5, y_train_5, y_test_5 = model_selection.train_test_split(\n",
    "    array_5, \n",
    "    y, \n",
    "    test_size = test_set_size, \n",
    "    random_state = seed\n",
    ")"
   ]
  },
  {
   "cell_type": "code",
   "execution_count": 109,
   "id": "92eb9b84",
   "metadata": {},
   "outputs": [
    {
     "name": "stdout",
     "output_type": "stream",
     "text": [
      "Completed the fit in 0.889708 seconds\n"
     ]
    }
   ],
   "source": [
    "# Time the event.\n",
    "tic = time.perf_counter()\n",
    "\n",
    "logistic_regression_model_2 = LogisticRegression(max_iter=1000)\n",
    "logistic_regression_model_2.fit(X_train_5, y_train_5)\n",
    "\n",
    "toc = time.perf_counter()\n",
    "print(f\"Completed the fit in {toc - tic:0.6f} seconds\")"
   ]
  },
  {
   "cell_type": "code",
   "execution_count": 89,
   "id": "e88d7cef",
   "metadata": {},
   "outputs": [
    {
     "data": {
      "text/plain": [
       "0.6309160638019699"
      ]
     },
     "execution_count": 89,
     "metadata": {},
     "output_type": "execute_result"
    }
   ],
   "source": [
    "train_accuracy = logistic_regression_model_2.score(X_train_5, y_train_5)\n",
    "train_accuracy"
   ]
  },
  {
   "cell_type": "code",
   "execution_count": 90,
   "id": "9407fde6",
   "metadata": {},
   "outputs": [
    {
     "data": {
      "text/plain": [
       "0.6338678751960956"
      ]
     },
     "execution_count": 90,
     "metadata": {},
     "output_type": "execute_result"
    }
   ],
   "source": [
    "test_accuracy = logistic_regression_model_2.score(X_test_5, y_test_5)\n",
    "test_accuracy"
   ]
  },
  {
   "cell_type": "code",
   "execution_count": 91,
   "id": "386b6fe3",
   "metadata": {},
   "outputs": [
    {
     "name": "stdout",
     "output_type": "stream",
     "text": [
      "Completed the fit in 0.331439 seconds\n",
      "The fit has a \u001b[1m\u001b[93mtrain\u001b[0m set accuracy of 63.1 %\n",
      "The fit has a \u001b[1m\u001b[92mtest\u001b[0m set accuracy of 63.4 %\n"
     ]
    }
   ],
   "source": [
    "print(f\"Completed the fit in {round((toc-tic), 6)} seconds\")\n",
    "print(f\"The fit has a \\033[1m\\033[93mtrain\\033[0m set accuracy of {round(train_accuracy*100, 1)} %\")\n",
    "print(f\"The fit has a \\033[1m\\033[92mtest\\033[0m set accuracy of {round(test_accuracy*100, 1)} %\")"
   ]
  },
  {
   "cell_type": "markdown",
   "id": "e53d0258",
   "metadata": {},
   "source": [
    "#### Reducing to 2 dimensions."
   ]
  },
  {
   "cell_type": "code",
   "execution_count": 102,
   "id": "7e2c0b5a",
   "metadata": {},
   "outputs": [],
   "source": [
    "pca = PCA(n_components=2)\n",
    "new_columns = ['Principal Component 1', 'Principal Component 2']\n",
    "components = pca.fit_transform(X)\n",
    "df_2 = pd.DataFrame(data = components, columns = new_columns)\n",
    "array_2 = df_2.values\n",
    "finalDf_2 = pd.concat([df_2, data[['genre']]], axis = 1)"
   ]
  },
  {
   "cell_type": "code",
   "execution_count": 103,
   "id": "8fe6ebbb",
   "metadata": {},
   "outputs": [],
   "source": [
    "X_train_2, X_test_2, y_train_2, y_test_2 = model_selection.train_test_split(\n",
    "    array_2, \n",
    "    y, \n",
    "    test_size = test_set_size, \n",
    "    random_state = seed\n",
    ")"
   ]
  },
  {
   "cell_type": "code",
   "execution_count": 104,
   "id": "2eef6d0d",
   "metadata": {},
   "outputs": [
    {
     "name": "stdout",
     "output_type": "stream",
     "text": [
      "Completed the fit in 0.733784 seconds\n"
     ]
    }
   ],
   "source": [
    "# Time the event.\n",
    "tic = time.perf_counter()\n",
    "\n",
    "logistic_regression_model_2 = LogisticRegression(max_iter=1000)\n",
    "logistic_regression_model_2.fit(X_train_2, y_train_2)\n",
    "\n",
    "toc = time.perf_counter()\n",
    "print(f\"Completed the fit in {toc - tic:0.6f} seconds\")"
   ]
  },
  {
   "cell_type": "code",
   "execution_count": 105,
   "id": "86848f82",
   "metadata": {},
   "outputs": [
    {
     "data": {
      "text/plain": [
       "0.5955940033121241"
      ]
     },
     "execution_count": 105,
     "metadata": {},
     "output_type": "execute_result"
    }
   ],
   "source": [
    "train_accuracy = logistic_regression_model_2.score(X_train_2, y_train_2)\n",
    "train_accuracy"
   ]
  },
  {
   "cell_type": "code",
   "execution_count": 106,
   "id": "6b561273",
   "metadata": {},
   "outputs": [
    {
     "data": {
      "text/plain": [
       "0.6015339027366219"
      ]
     },
     "execution_count": 106,
     "metadata": {},
     "output_type": "execute_result"
    }
   ],
   "source": [
    "test_accuracy = logistic_regression_model_2.score(X_test_2, y_test_2)\n",
    "test_accuracy"
   ]
  },
  {
   "cell_type": "code",
   "execution_count": 107,
   "id": "bc5cd543",
   "metadata": {},
   "outputs": [
    {
     "name": "stdout",
     "output_type": "stream",
     "text": [
      "Completed the fit in 733.7836 milliseconds\n",
      "The fit has a \u001b[1m\u001b[93mtrain\u001b[0m set accuracy of 59.6 %\n",
      "The fit has a \u001b[1m\u001b[92mtest\u001b[0m set accuracy of 60.2 %\n"
     ]
    }
   ],
   "source": [
    "print(f\"Completed the fit in {round((toc-tic)*1000, 6)} milliseconds\")\n",
    "print(f\"The fit has a \\033[1m\\033[93mtrain\\033[0m set accuracy of {round(train_accuracy*100, 1)} %\")\n",
    "print(f\"The fit has a \\033[1m\\033[92mtest\\033[0m set accuracy of {round(test_accuracy*100, 1)} %\")"
   ]
  },
  {
   "cell_type": "markdown",
   "id": "584d9fb9",
   "metadata": {},
   "source": [
    "### Visualize the new reduced dataset as a 2D diagram.\n"
   ]
  },
  {
   "cell_type": "code",
   "execution_count": 108,
   "id": "f7be16ca",
   "metadata": {},
   "outputs": [
    {
     "data": {
      "text/plain": [
       "Rap          25622\n",
       "Pop          24031\n",
       "Rock          3743\n",
       "R&B           3238\n",
       "Country        520\n",
       "Non-Music      212\n",
       "Name: genre, dtype: int64"
      ]
     },
     "execution_count": 108,
     "metadata": {},
     "output_type": "execute_result"
    }
   ],
   "source": [
    "# Show distribution of genres.\n",
    "data['genre'].value_counts()"
   ]
  },
  {
   "cell_type": "code",
   "execution_count": 99,
   "id": "877f78fa",
   "metadata": {},
   "outputs": [],
   "source": [
    "finalDf_2 = pd.concat([df_2, data[['genre']]], axis = 1)"
   ]
  },
  {
   "cell_type": "code",
   "execution_count": 100,
   "id": "c55097c2",
   "metadata": {},
   "outputs": [
    {
     "data": {
      "text/html": [
       "<div>\n",
       "<style scoped>\n",
       "    .dataframe tbody tr th:only-of-type {\n",
       "        vertical-align: middle;\n",
       "    }\n",
       "\n",
       "    .dataframe tbody tr th {\n",
       "        vertical-align: top;\n",
       "    }\n",
       "\n",
       "    .dataframe thead th {\n",
       "        text-align: right;\n",
       "    }\n",
       "</style>\n",
       "<table border=\"1\" class=\"dataframe\">\n",
       "  <thead>\n",
       "    <tr style=\"text-align: right;\">\n",
       "      <th></th>\n",
       "      <th>Principal Component 1</th>\n",
       "      <th>Principal Component 2</th>\n",
       "      <th>genre</th>\n",
       "    </tr>\n",
       "  </thead>\n",
       "  <tbody>\n",
       "    <tr>\n",
       "      <th>0</th>\n",
       "      <td>-1.702160</td>\n",
       "      <td>-0.369919</td>\n",
       "      <td>Pop</td>\n",
       "    </tr>\n",
       "    <tr>\n",
       "      <th>1</th>\n",
       "      <td>2.339860</td>\n",
       "      <td>0.459611</td>\n",
       "      <td>Pop</td>\n",
       "    </tr>\n",
       "    <tr>\n",
       "      <th>2</th>\n",
       "      <td>2.415093</td>\n",
       "      <td>-2.275561</td>\n",
       "      <td>Rap</td>\n",
       "    </tr>\n",
       "    <tr>\n",
       "      <th>3</th>\n",
       "      <td>-0.974207</td>\n",
       "      <td>-1.392965</td>\n",
       "      <td>R&amp;B</td>\n",
       "    </tr>\n",
       "    <tr>\n",
       "      <th>4</th>\n",
       "      <td>1.919426</td>\n",
       "      <td>0.216063</td>\n",
       "      <td>Pop</td>\n",
       "    </tr>\n",
       "    <tr>\n",
       "      <th>...</th>\n",
       "      <td>...</td>\n",
       "      <td>...</td>\n",
       "      <td>...</td>\n",
       "    </tr>\n",
       "    <tr>\n",
       "      <th>57367</th>\n",
       "      <td>NaN</td>\n",
       "      <td>NaN</td>\n",
       "      <td>Pop</td>\n",
       "    </tr>\n",
       "    <tr>\n",
       "      <th>57368</th>\n",
       "      <td>NaN</td>\n",
       "      <td>NaN</td>\n",
       "      <td>Pop</td>\n",
       "    </tr>\n",
       "    <tr>\n",
       "      <th>57369</th>\n",
       "      <td>NaN</td>\n",
       "      <td>NaN</td>\n",
       "      <td>Rock</td>\n",
       "    </tr>\n",
       "    <tr>\n",
       "      <th>57370</th>\n",
       "      <td>NaN</td>\n",
       "      <td>NaN</td>\n",
       "      <td>Rap</td>\n",
       "    </tr>\n",
       "    <tr>\n",
       "      <th>57371</th>\n",
       "      <td>NaN</td>\n",
       "      <td>NaN</td>\n",
       "      <td>Pop</td>\n",
       "    </tr>\n",
       "  </tbody>\n",
       "</table>\n",
       "<p>57372 rows × 3 columns</p>\n",
       "</div>"
      ],
      "text/plain": [
       "       Principal Component 1  Principal Component 2 genre\n",
       "0                  -1.702160              -0.369919   Pop\n",
       "1                   2.339860               0.459611   Pop\n",
       "2                   2.415093              -2.275561   Rap\n",
       "3                  -0.974207              -1.392965   R&B\n",
       "4                   1.919426               0.216063   Pop\n",
       "...                      ...                    ...   ...\n",
       "57367                    NaN                    NaN   Pop\n",
       "57368                    NaN                    NaN   Pop\n",
       "57369                    NaN                    NaN  Rock\n",
       "57370                    NaN                    NaN   Rap\n",
       "57371                    NaN                    NaN   Pop\n",
       "\n",
       "[57372 rows x 3 columns]"
      ]
     },
     "execution_count": 100,
     "metadata": {},
     "output_type": "execute_result"
    }
   ],
   "source": [
    "finalDf_2"
   ]
  },
  {
   "cell_type": "code",
   "execution_count": 101,
   "id": "d644abb8",
   "metadata": {},
   "outputs": [
    {
     "data": {
      "image/png": "[encoded data removed]",
      "text/plain": [
       "<Figure size 864x864 with 1 Axes>"
      ]
     },
     "metadata": {
      "needs_background": "light"
     },
     "output_type": "display_data"
    }
   ],
   "source": [
    "# Visualize the new reduced dataset as a 2D diagram.\n",
    "\n",
    "fig = plt.figure(figsize = (12,12))\n",
    "ax = fig.add_subplot(1,1,1) \n",
    "ax.set_xlabel('Principal Component 1', fontsize = 15)\n",
    "ax.set_ylabel('Principal Component 2', fontsize = 15)\n",
    "ax.set_title('2 component PCA', fontsize = 20)\n",
    "targets = ['Rap', 'Pop', 'R&B', 'Rock', 'Country', 'Non-Music']\n",
    "colors = ['g', 'r', 'b', 'y', 'm', 'c']\n",
    "for target, color in zip(targets, colors):\n",
    "    indicesToKeep = finalDf_2['genre'] == target\n",
    "    ax.scatter(finalDf_2.loc[indicesToKeep, 'Principal Component 1']\n",
    "               , finalDf_2.loc[indicesToKeep, 'Principal Component 2']\n",
    "               , c = color\n",
    "               , s = 50)\n",
    "ax.legend(targets)\n",
    "ax.grid()"
   ]
  },
  {
   "cell_type": "code",
   "execution_count": null,
   "id": "2c799751",
   "metadata": {},
   "outputs": [],
   "source": []
  }
 ],
 "metadata": {
  "kernelspec": {
   "display_name": "Python 3 (ipykernel)",
   "language": "python",
   "name": "python3"
  },
  "language_info": {
   "codemirror_mode": {
    "name": "ipython",
    "version": 3
   },
   "file_extension": ".py",
   "mimetype": "text/x-python",
   "name": "python",
   "nbconvert_exporter": "python",
   "pygments_lexer": "ipython3",
   "version": "3.10.4"
  }
 },
 "nbformat": 4,
 "nbformat_minor": 5
}
