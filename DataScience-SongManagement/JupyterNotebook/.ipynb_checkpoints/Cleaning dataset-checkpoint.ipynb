{
 "cells": [
  {
   "cell_type": "markdown",
   "id": "1a402eb4",
   "metadata": {},
   "source": [
    "# This is for cleaning the big dataset from spotify."
   ]
  },
  {
   "cell_type": "markdown",
   "id": "84b8f643",
   "metadata": {},
   "source": [
    "## Importing large dataset"
   ]
  },
  {
   "cell_type": "code",
   "execution_count": 1,
   "id": "ccbc86b2",
   "metadata": {},
   "outputs": [],
   "source": [
    "import numpy as np\n",
    "import pandas as pd\n",
    "import matplotlib.pyplot as plt\n",
    "import seaborn as sns\n",
    "\n",
    "from sklearn.linear_model import LinearRegression\n",
    "from sklearn import linear_model\n",
    "from sklearn.preprocessing import PolynomialFeatures\n",
    "import sklearn.metrics as sm\n",
    "\n",
    "\n",
    "import re\n",
    "\n",
    "import spotipy\n",
    "from spotipy.oauth2 import SpotifyClientCredentials\n",
    "\n",
    "import csv\n",
    "import requests\n",
    "import json\n",
    "from pandas.io.json import json_normalize\n",
    "from urllib.request import urlopen"
   ]
  },
  {
   "cell_type": "code",
   "execution_count": 2,
   "id": "7499392b",
   "metadata": {},
   "outputs": [],
   "source": [
    "data = pd.read_csv(\"charts/charts.csv\")"
   ]
  },
  {
   "cell_type": "markdown",
   "id": "f4e5d781",
   "metadata": {},
   "source": [
    "## Inspecting the data"
   ]
  },
  {
   "cell_type": "code",
   "execution_count": 3,
   "id": "b3804888",
   "metadata": {},
   "outputs": [
    {
     "data": {
      "text/plain": [
       "(26173514, 9)"
      ]
     },
     "execution_count": 3,
     "metadata": {},
     "output_type": "execute_result"
    }
   ],
   "source": [
    "data.shape"
   ]
  },
  {
   "cell_type": "code",
   "execution_count": 4,
   "id": "cb737107",
   "metadata": {},
   "outputs": [
    {
     "data": {
      "text/plain": [
       "Index(['title', 'rank', 'date', 'artist', 'url', 'region', 'chart', 'trend',\n",
       "       'streams'],\n",
       "      dtype='object')"
      ]
     },
     "execution_count": 4,
     "metadata": {},
     "output_type": "execute_result"
    }
   ],
   "source": [
    "data.columns"
   ]
  },
  {
   "cell_type": "code",
   "execution_count": 5,
   "id": "e8e9dfd7",
   "metadata": {},
   "outputs": [
    {
     "data": {
      "text/plain": [
       "['title',\n",
       " 'rank',\n",
       " 'date',\n",
       " 'artist',\n",
       " 'url',\n",
       " 'region',\n",
       " 'chart',\n",
       " 'trend',\n",
       " 'streams']"
      ]
     },
     "execution_count": 5,
     "metadata": {},
     "output_type": "execute_result"
    }
   ],
   "source": [
    "#See the attribute labels\n",
    "list(data)"
   ]
  },
  {
   "cell_type": "markdown",
   "id": "a5da0b2b",
   "metadata": {},
   "source": [
    "## Data Exploration"
   ]
  },
  {
   "cell_type": "code",
   "execution_count": 6,
   "id": "b6a37e32",
   "metadata": {},
   "outputs": [
    {
     "data": {
      "text/plain": [
       "title       object\n",
       "rank         int64\n",
       "date        object\n",
       "artist      object\n",
       "url         object\n",
       "region      object\n",
       "chart       object\n",
       "trend       object\n",
       "streams    float64\n",
       "dtype: object"
      ]
     },
     "execution_count": 6,
     "metadata": {},
     "output_type": "execute_result"
    }
   ],
   "source": [
    "#Attribute types\n",
    "data.dtypes"
   ]
  },
  {
   "cell_type": "code",
   "execution_count": 7,
   "id": "6354cc95",
   "metadata": {},
   "outputs": [
    {
     "data": {
      "text/html": [
       "<div>\n",
       "<style scoped>\n",
       "    .dataframe tbody tr th:only-of-type {\n",
       "        vertical-align: middle;\n",
       "    }\n",
       "\n",
       "    .dataframe tbody tr th {\n",
       "        vertical-align: top;\n",
       "    }\n",
       "\n",
       "    .dataframe thead th {\n",
       "        text-align: right;\n",
       "    }\n",
       "</style>\n",
       "<table border=\"1\" class=\"dataframe\">\n",
       "  <thead>\n",
       "    <tr style=\"text-align: right;\">\n",
       "      <th></th>\n",
       "      <th>rank</th>\n",
       "      <th>streams</th>\n",
       "    </tr>\n",
       "  </thead>\n",
       "  <tbody>\n",
       "    <tr>\n",
       "      <th>count</th>\n",
       "      <td>2.617351e+07</td>\n",
       "      <td>2.032190e+07</td>\n",
       "    </tr>\n",
       "    <tr>\n",
       "      <th>mean</th>\n",
       "      <td>8.092314e+01</td>\n",
       "      <td>5.526131e+04</td>\n",
       "    </tr>\n",
       "    <tr>\n",
       "      <th>std</th>\n",
       "      <td>5.918601e+01</td>\n",
       "      <td>2.095872e+05</td>\n",
       "    </tr>\n",
       "    <tr>\n",
       "      <th>min</th>\n",
       "      <td>1.000000e+00</td>\n",
       "      <td>1.001000e+03</td>\n",
       "    </tr>\n",
       "    <tr>\n",
       "      <th>25%</th>\n",
       "      <td>2.900000e+01</td>\n",
       "      <td>3.546000e+03</td>\n",
       "    </tr>\n",
       "    <tr>\n",
       "      <th>50%</th>\n",
       "      <td>6.700000e+01</td>\n",
       "      <td>9.565000e+03</td>\n",
       "    </tr>\n",
       "    <tr>\n",
       "      <th>75%</th>\n",
       "      <td>1.310000e+02</td>\n",
       "      <td>3.540900e+04</td>\n",
       "    </tr>\n",
       "    <tr>\n",
       "      <th>max</th>\n",
       "      <td>2.000000e+02</td>\n",
       "      <td>1.974970e+07</td>\n",
       "    </tr>\n",
       "  </tbody>\n",
       "</table>\n",
       "</div>"
      ],
      "text/plain": [
       "               rank       streams\n",
       "count  2.617351e+07  2.032190e+07\n",
       "mean   8.092314e+01  5.526131e+04\n",
       "std    5.918601e+01  2.095872e+05\n",
       "min    1.000000e+00  1.001000e+03\n",
       "25%    2.900000e+01  3.546000e+03\n",
       "50%    6.700000e+01  9.565000e+03\n",
       "75%    1.310000e+02  3.540900e+04\n",
       "max    2.000000e+02  1.974970e+07"
      ]
     },
     "execution_count": 7,
     "metadata": {},
     "output_type": "execute_result"
    }
   ],
   "source": [
    "# Getting some insights of the value scope\n",
    "\n",
    "data.describe()"
   ]
  },
  {
   "cell_type": "code",
   "execution_count": 8,
   "id": "950ea327",
   "metadata": {},
   "outputs": [
    {
     "data": {
      "text/html": [
       "<div>\n",
       "<style scoped>\n",
       "    .dataframe tbody tr th:only-of-type {\n",
       "        vertical-align: middle;\n",
       "    }\n",
       "\n",
       "    .dataframe tbody tr th {\n",
       "        vertical-align: top;\n",
       "    }\n",
       "\n",
       "    .dataframe thead th {\n",
       "        text-align: right;\n",
       "    }\n",
       "</style>\n",
       "<table border=\"1\" class=\"dataframe\">\n",
       "  <thead>\n",
       "    <tr style=\"text-align: right;\">\n",
       "      <th></th>\n",
       "      <th>title</th>\n",
       "      <th>rank</th>\n",
       "      <th>date</th>\n",
       "      <th>artist</th>\n",
       "      <th>url</th>\n",
       "      <th>region</th>\n",
       "      <th>chart</th>\n",
       "      <th>trend</th>\n",
       "      <th>streams</th>\n",
       "    </tr>\n",
       "  </thead>\n",
       "  <tbody>\n",
       "    <tr>\n",
       "      <th>0</th>\n",
       "      <td>Chantaje (feat. Maluma)</td>\n",
       "      <td>1</td>\n",
       "      <td>2017-01-01</td>\n",
       "      <td>Shakira</td>\n",
       "      <td>https://open.spotify.com/track/6mICuAdrwEjh6Y6...</td>\n",
       "      <td>Argentina</td>\n",
       "      <td>top200</td>\n",
       "      <td>SAME_POSITION</td>\n",
       "      <td>253019.0</td>\n",
       "    </tr>\n",
       "    <tr>\n",
       "      <th>1</th>\n",
       "      <td>Vente Pa' Ca (feat. Maluma)</td>\n",
       "      <td>2</td>\n",
       "      <td>2017-01-01</td>\n",
       "      <td>Ricky Martin</td>\n",
       "      <td>https://open.spotify.com/track/7DM4BPaS7uofFul...</td>\n",
       "      <td>Argentina</td>\n",
       "      <td>top200</td>\n",
       "      <td>MOVE_UP</td>\n",
       "      <td>223988.0</td>\n",
       "    </tr>\n",
       "    <tr>\n",
       "      <th>2</th>\n",
       "      <td>Reggaetón Lento (Bailemos)</td>\n",
       "      <td>3</td>\n",
       "      <td>2017-01-01</td>\n",
       "      <td>CNCO</td>\n",
       "      <td>https://open.spotify.com/track/3AEZUABDXNtecAO...</td>\n",
       "      <td>Argentina</td>\n",
       "      <td>top200</td>\n",
       "      <td>MOVE_DOWN</td>\n",
       "      <td>210943.0</td>\n",
       "    </tr>\n",
       "    <tr>\n",
       "      <th>3</th>\n",
       "      <td>Safari</td>\n",
       "      <td>4</td>\n",
       "      <td>2017-01-01</td>\n",
       "      <td>J Balvin, Pharrell Williams, BIA, Sky</td>\n",
       "      <td>https://open.spotify.com/track/6rQSrBHf7HlZjtc...</td>\n",
       "      <td>Argentina</td>\n",
       "      <td>top200</td>\n",
       "      <td>SAME_POSITION</td>\n",
       "      <td>173865.0</td>\n",
       "    </tr>\n",
       "    <tr>\n",
       "      <th>4</th>\n",
       "      <td>Shaky Shaky</td>\n",
       "      <td>5</td>\n",
       "      <td>2017-01-01</td>\n",
       "      <td>Daddy Yankee</td>\n",
       "      <td>https://open.spotify.com/track/58IL315gMSTD37D...</td>\n",
       "      <td>Argentina</td>\n",
       "      <td>top200</td>\n",
       "      <td>MOVE_UP</td>\n",
       "      <td>153956.0</td>\n",
       "    </tr>\n",
       "  </tbody>\n",
       "</table>\n",
       "</div>"
      ],
      "text/plain": [
       "                         title  rank        date  \\\n",
       "0      Chantaje (feat. Maluma)     1  2017-01-01   \n",
       "1  Vente Pa' Ca (feat. Maluma)     2  2017-01-01   \n",
       "2   Reggaetón Lento (Bailemos)     3  2017-01-01   \n",
       "3                       Safari     4  2017-01-01   \n",
       "4                  Shaky Shaky     5  2017-01-01   \n",
       "\n",
       "                                  artist  \\\n",
       "0                                Shakira   \n",
       "1                           Ricky Martin   \n",
       "2                                   CNCO   \n",
       "3  J Balvin, Pharrell Williams, BIA, Sky   \n",
       "4                           Daddy Yankee   \n",
       "\n",
       "                                                 url     region   chart  \\\n",
       "0  https://open.spotify.com/track/6mICuAdrwEjh6Y6...  Argentina  top200   \n",
       "1  https://open.spotify.com/track/7DM4BPaS7uofFul...  Argentina  top200   \n",
       "2  https://open.spotify.com/track/3AEZUABDXNtecAO...  Argentina  top200   \n",
       "3  https://open.spotify.com/track/6rQSrBHf7HlZjtc...  Argentina  top200   \n",
       "4  https://open.spotify.com/track/58IL315gMSTD37D...  Argentina  top200   \n",
       "\n",
       "           trend   streams  \n",
       "0  SAME_POSITION  253019.0  \n",
       "1        MOVE_UP  223988.0  \n",
       "2      MOVE_DOWN  210943.0  \n",
       "3  SAME_POSITION  173865.0  \n",
       "4        MOVE_UP  153956.0  "
      ]
     },
     "execution_count": 8,
     "metadata": {},
     "output_type": "execute_result"
    }
   ],
   "source": [
    "data.head()"
   ]
  },
  {
   "cell_type": "code",
   "execution_count": 9,
   "id": "4775710e",
   "metadata": {},
   "outputs": [
    {
     "data": {
      "text/html": [
       "<div>\n",
       "<style scoped>\n",
       "    .dataframe tbody tr th:only-of-type {\n",
       "        vertical-align: middle;\n",
       "    }\n",
       "\n",
       "    .dataframe tbody tr th {\n",
       "        vertical-align: top;\n",
       "    }\n",
       "\n",
       "    .dataframe thead th {\n",
       "        text-align: right;\n",
       "    }\n",
       "</style>\n",
       "<table border=\"1\" class=\"dataframe\">\n",
       "  <thead>\n",
       "    <tr style=\"text-align: right;\">\n",
       "      <th></th>\n",
       "      <th>title</th>\n",
       "      <th>rank</th>\n",
       "      <th>date</th>\n",
       "      <th>artist</th>\n",
       "      <th>url</th>\n",
       "      <th>region</th>\n",
       "      <th>chart</th>\n",
       "      <th>trend</th>\n",
       "      <th>streams</th>\n",
       "    </tr>\n",
       "  </thead>\n",
       "  <tbody>\n",
       "    <tr>\n",
       "      <th>26173509</th>\n",
       "      <td>BYE</td>\n",
       "      <td>46</td>\n",
       "      <td>2021-07-31</td>\n",
       "      <td>Jaden</td>\n",
       "      <td>https://open.spotify.com/track/3OUyyDN7EZrL7i0...</td>\n",
       "      <td>Vietnam</td>\n",
       "      <td>viral50</td>\n",
       "      <td>MOVE_UP</td>\n",
       "      <td>NaN</td>\n",
       "    </tr>\n",
       "    <tr>\n",
       "      <th>26173510</th>\n",
       "      <td>Pillars</td>\n",
       "      <td>47</td>\n",
       "      <td>2021-07-31</td>\n",
       "      <td>My Anh</td>\n",
       "      <td>https://open.spotify.com/track/6eky30oFiQbHUAT...</td>\n",
       "      <td>Vietnam</td>\n",
       "      <td>viral50</td>\n",
       "      <td>NEW_ENTRY</td>\n",
       "      <td>NaN</td>\n",
       "    </tr>\n",
       "    <tr>\n",
       "      <th>26173511</th>\n",
       "      <td>Gái Độc Thân</td>\n",
       "      <td>48</td>\n",
       "      <td>2021-07-31</td>\n",
       "      <td>Tlinh</td>\n",
       "      <td>https://open.spotify.com/track/2klsSb2iTfgDh95...</td>\n",
       "      <td>Vietnam</td>\n",
       "      <td>viral50</td>\n",
       "      <td>MOVE_DOWN</td>\n",
       "      <td>NaN</td>\n",
       "    </tr>\n",
       "    <tr>\n",
       "      <th>26173512</th>\n",
       "      <td>Renegade (feat. Taylor Swift)</td>\n",
       "      <td>49</td>\n",
       "      <td>2021-07-31</td>\n",
       "      <td>Big Red Machine</td>\n",
       "      <td>https://open.spotify.com/track/1aU1wpYBSpP0M6I...</td>\n",
       "      <td>Vietnam</td>\n",
       "      <td>viral50</td>\n",
       "      <td>MOVE_DOWN</td>\n",
       "      <td>NaN</td>\n",
       "    </tr>\n",
       "    <tr>\n",
       "      <th>26173513</th>\n",
       "      <td>Letter to Jarad</td>\n",
       "      <td>50</td>\n",
       "      <td>2021-07-31</td>\n",
       "      <td>LRN Slime, Shiloh Dynasty</td>\n",
       "      <td>https://open.spotify.com/track/508QhA2SncMbh5C...</td>\n",
       "      <td>Vietnam</td>\n",
       "      <td>viral50</td>\n",
       "      <td>MOVE_DOWN</td>\n",
       "      <td>NaN</td>\n",
       "    </tr>\n",
       "  </tbody>\n",
       "</table>\n",
       "</div>"
      ],
      "text/plain": [
       "                                  title  rank        date  \\\n",
       "26173509                            BYE    46  2021-07-31   \n",
       "26173510                        Pillars    47  2021-07-31   \n",
       "26173511                   Gái Độc Thân    48  2021-07-31   \n",
       "26173512  Renegade (feat. Taylor Swift)    49  2021-07-31   \n",
       "26173513                Letter to Jarad    50  2021-07-31   \n",
       "\n",
       "                             artist  \\\n",
       "26173509                      Jaden   \n",
       "26173510                     My Anh   \n",
       "26173511                      Tlinh   \n",
       "26173512            Big Red Machine   \n",
       "26173513  LRN Slime, Shiloh Dynasty   \n",
       "\n",
       "                                                        url   region    chart  \\\n",
       "26173509  https://open.spotify.com/track/3OUyyDN7EZrL7i0...  Vietnam  viral50   \n",
       "26173510  https://open.spotify.com/track/6eky30oFiQbHUAT...  Vietnam  viral50   \n",
       "26173511  https://open.spotify.com/track/2klsSb2iTfgDh95...  Vietnam  viral50   \n",
       "26173512  https://open.spotify.com/track/1aU1wpYBSpP0M6I...  Vietnam  viral50   \n",
       "26173513  https://open.spotify.com/track/508QhA2SncMbh5C...  Vietnam  viral50   \n",
       "\n",
       "              trend  streams  \n",
       "26173509    MOVE_UP      NaN  \n",
       "26173510  NEW_ENTRY      NaN  \n",
       "26173511  MOVE_DOWN      NaN  \n",
       "26173512  MOVE_DOWN      NaN  \n",
       "26173513  MOVE_DOWN      NaN  "
      ]
     },
     "execution_count": 9,
     "metadata": {},
     "output_type": "execute_result"
    }
   ],
   "source": [
    "data.tail()"
   ]
  },
  {
   "cell_type": "code",
   "execution_count": 10,
   "id": "aa7b9a20",
   "metadata": {},
   "outputs": [
    {
     "data": {
      "text/plain": [
       "array(['top200', 'viral50'], dtype=object)"
      ]
     },
     "execution_count": 10,
     "metadata": {},
     "output_type": "execute_result"
    }
   ],
   "source": [
    "# Finding unique types in chart\n",
    "data.chart.unique()"
   ]
  },
  {
   "cell_type": "markdown",
   "id": "c4b43302",
   "metadata": {},
   "source": [
    "**There are two different values in \"Chart\", top200 and viral50.**\n",
    "\n",
    "In this project we are interested in inspecting and operating on data for the top chart of spotify. This is in our opinion the 'top200'-list, as the 'viral50'-list is a list determinated by Social media. The more talk and chatting on a specific track, determine the probability of ending up on the 'viral50'-list.\n",
    "This is the reason we  remove this from the dataset."
   ]
  },
  {
   "cell_type": "code",
   "execution_count": 11,
   "id": "1673af52",
   "metadata": {},
   "outputs": [
    {
     "data": {
      "text/plain": [
       "top200     20321904\n",
       "viral50     5851610\n",
       "Name: chart, dtype: int64"
      ]
     },
     "execution_count": 11,
     "metadata": {},
     "output_type": "execute_result"
    }
   ],
   "source": [
    "#How many entries in the 'viral50'\n",
    "data.chart.value_counts()"
   ]
  },
  {
   "cell_type": "code",
   "execution_count": 12,
   "id": "57a94517",
   "metadata": {},
   "outputs": [],
   "source": [
    "data = data[data.chart.str.contains(\"viral50\") == False]"
   ]
  },
  {
   "cell_type": "code",
   "execution_count": 13,
   "id": "a8a9725a",
   "metadata": {},
   "outputs": [
    {
     "data": {
      "text/plain": [
       "top200    20321904\n",
       "Name: chart, dtype: int64"
      ]
     },
     "execution_count": 13,
     "metadata": {},
     "output_type": "execute_result"
    }
   ],
   "source": [
    "data.chart.value_counts()"
   ]
  },
  {
   "cell_type": "code",
   "execution_count": 14,
   "id": "6f49ea47",
   "metadata": {},
   "outputs": [
    {
     "data": {
      "text/plain": [
       "(20321904, 9)"
      ]
     },
     "execution_count": 14,
     "metadata": {},
     "output_type": "execute_result"
    }
   ],
   "source": [
    "data.shape"
   ]
  },
  {
   "cell_type": "markdown",
   "id": "e6459492",
   "metadata": {},
   "source": [
    "The dataset has beed reduced by the 5851610 'viral50' entries "
   ]
  },
  {
   "cell_type": "code",
   "execution_count": 15,
   "id": "4e35a1e7",
   "metadata": {},
   "outputs": [
    {
     "data": {
      "text/html": [
       "<div>\n",
       "<style scoped>\n",
       "    .dataframe tbody tr th:only-of-type {\n",
       "        vertical-align: middle;\n",
       "    }\n",
       "\n",
       "    .dataframe tbody tr th {\n",
       "        vertical-align: top;\n",
       "    }\n",
       "\n",
       "    .dataframe thead th {\n",
       "        text-align: right;\n",
       "    }\n",
       "</style>\n",
       "<table border=\"1\" class=\"dataframe\">\n",
       "  <thead>\n",
       "    <tr style=\"text-align: right;\">\n",
       "      <th></th>\n",
       "      <th>title</th>\n",
       "      <th>rank</th>\n",
       "      <th>date</th>\n",
       "      <th>artist</th>\n",
       "      <th>url</th>\n",
       "      <th>region</th>\n",
       "      <th>chart</th>\n",
       "      <th>trend</th>\n",
       "      <th>streams</th>\n",
       "    </tr>\n",
       "  </thead>\n",
       "  <tbody>\n",
       "    <tr>\n",
       "      <th>0</th>\n",
       "      <td>Chantaje (feat. Maluma)</td>\n",
       "      <td>1</td>\n",
       "      <td>2017-01-01</td>\n",
       "      <td>Shakira</td>\n",
       "      <td>https://open.spotify.com/track/6mICuAdrwEjh6Y6...</td>\n",
       "      <td>Argentina</td>\n",
       "      <td>top200</td>\n",
       "      <td>SAME_POSITION</td>\n",
       "      <td>253019.0</td>\n",
       "    </tr>\n",
       "    <tr>\n",
       "      <th>1</th>\n",
       "      <td>Vente Pa' Ca (feat. Maluma)</td>\n",
       "      <td>2</td>\n",
       "      <td>2017-01-01</td>\n",
       "      <td>Ricky Martin</td>\n",
       "      <td>https://open.spotify.com/track/7DM4BPaS7uofFul...</td>\n",
       "      <td>Argentina</td>\n",
       "      <td>top200</td>\n",
       "      <td>MOVE_UP</td>\n",
       "      <td>223988.0</td>\n",
       "    </tr>\n",
       "    <tr>\n",
       "      <th>2</th>\n",
       "      <td>Reggaetón Lento (Bailemos)</td>\n",
       "      <td>3</td>\n",
       "      <td>2017-01-01</td>\n",
       "      <td>CNCO</td>\n",
       "      <td>https://open.spotify.com/track/3AEZUABDXNtecAO...</td>\n",
       "      <td>Argentina</td>\n",
       "      <td>top200</td>\n",
       "      <td>MOVE_DOWN</td>\n",
       "      <td>210943.0</td>\n",
       "    </tr>\n",
       "    <tr>\n",
       "      <th>3</th>\n",
       "      <td>Safari</td>\n",
       "      <td>4</td>\n",
       "      <td>2017-01-01</td>\n",
       "      <td>J Balvin, Pharrell Williams, BIA, Sky</td>\n",
       "      <td>https://open.spotify.com/track/6rQSrBHf7HlZjtc...</td>\n",
       "      <td>Argentina</td>\n",
       "      <td>top200</td>\n",
       "      <td>SAME_POSITION</td>\n",
       "      <td>173865.0</td>\n",
       "    </tr>\n",
       "    <tr>\n",
       "      <th>4</th>\n",
       "      <td>Shaky Shaky</td>\n",
       "      <td>5</td>\n",
       "      <td>2017-01-01</td>\n",
       "      <td>Daddy Yankee</td>\n",
       "      <td>https://open.spotify.com/track/58IL315gMSTD37D...</td>\n",
       "      <td>Argentina</td>\n",
       "      <td>top200</td>\n",
       "      <td>MOVE_UP</td>\n",
       "      <td>153956.0</td>\n",
       "    </tr>\n",
       "  </tbody>\n",
       "</table>\n",
       "</div>"
      ],
      "text/plain": [
       "                         title  rank        date  \\\n",
       "0      Chantaje (feat. Maluma)     1  2017-01-01   \n",
       "1  Vente Pa' Ca (feat. Maluma)     2  2017-01-01   \n",
       "2   Reggaetón Lento (Bailemos)     3  2017-01-01   \n",
       "3                       Safari     4  2017-01-01   \n",
       "4                  Shaky Shaky     5  2017-01-01   \n",
       "\n",
       "                                  artist  \\\n",
       "0                                Shakira   \n",
       "1                           Ricky Martin   \n",
       "2                                   CNCO   \n",
       "3  J Balvin, Pharrell Williams, BIA, Sky   \n",
       "4                           Daddy Yankee   \n",
       "\n",
       "                                                 url     region   chart  \\\n",
       "0  https://open.spotify.com/track/6mICuAdrwEjh6Y6...  Argentina  top200   \n",
       "1  https://open.spotify.com/track/7DM4BPaS7uofFul...  Argentina  top200   \n",
       "2  https://open.spotify.com/track/3AEZUABDXNtecAO...  Argentina  top200   \n",
       "3  https://open.spotify.com/track/6rQSrBHf7HlZjtc...  Argentina  top200   \n",
       "4  https://open.spotify.com/track/58IL315gMSTD37D...  Argentina  top200   \n",
       "\n",
       "           trend   streams  \n",
       "0  SAME_POSITION  253019.0  \n",
       "1        MOVE_UP  223988.0  \n",
       "2      MOVE_DOWN  210943.0  \n",
       "3  SAME_POSITION  173865.0  \n",
       "4        MOVE_UP  153956.0  "
      ]
     },
     "execution_count": 15,
     "metadata": {},
     "output_type": "execute_result"
    }
   ],
   "source": [
    "data.head()"
   ]
  },
  {
   "cell_type": "markdown",
   "id": "cd0912b6",
   "metadata": {},
   "source": [
    "**The dataset has a trend column. This is the movement of a song on the chart, whether it has moved up or down the chart. We know that this dataset is collected weekley, and therefore there are dublicates of the songs on different positions. We are not interested in the same song multiple times, so we will try to remove these dublicates so we can get a much cleaner dataset.**\n",
    "\n",
    "\n",
    "**The trend colum is in our oppinion not nessesary for analysing the dataset, while we do not make any mesurments on the movement of the individual tracks. This is the reason why we remove it.**"
   ]
  },
  {
   "cell_type": "code",
   "execution_count": 16,
   "id": "5c0ecfda",
   "metadata": {},
   "outputs": [],
   "source": [
    "data.drop('trend', inplace=True, axis=1)"
   ]
  },
  {
   "cell_type": "code",
   "execution_count": 17,
   "id": "525905ce",
   "metadata": {},
   "outputs": [
    {
     "data": {
      "text/plain": [
       "['title', 'rank', 'date', 'artist', 'url', 'region', 'chart', 'streams']"
      ]
     },
     "execution_count": 17,
     "metadata": {},
     "output_type": "execute_result"
    }
   ],
   "source": [
    "list(data)"
   ]
  },
  {
   "cell_type": "markdown",
   "id": "e7a3aa4a",
   "metadata": {},
   "source": [
    "**We also already know that every song in our dataset is from the top200 chart, this means that we can safely remove this column too**"
   ]
  },
  {
   "cell_type": "code",
   "execution_count": 18,
   "id": "b632e167",
   "metadata": {},
   "outputs": [],
   "source": [
    "data.drop('chart', inplace=True, axis=1)"
   ]
  },
  {
   "cell_type": "code",
   "execution_count": 19,
   "id": "e6e64efd",
   "metadata": {},
   "outputs": [
    {
     "data": {
      "text/plain": [
       "['title', 'rank', 'date', 'artist', 'url', 'region', 'streams']"
      ]
     },
     "execution_count": 19,
     "metadata": {},
     "output_type": "execute_result"
    }
   ],
   "source": [
    "list(data)"
   ]
  },
  {
   "cell_type": "code",
   "execution_count": 20,
   "id": "79e9f155",
   "metadata": {
    "scrolled": true
   },
   "outputs": [
    {
     "data": {
      "text/plain": [
       "(20321904, 7)"
      ]
     },
     "execution_count": 20,
     "metadata": {},
     "output_type": "execute_result"
    }
   ],
   "source": [
    "data.shape"
   ]
  },
  {
   "cell_type": "markdown",
   "id": "3c109356",
   "metadata": {},
   "source": [
    "**Now we check for null values in the dataset**"
   ]
  },
  {
   "cell_type": "code",
   "execution_count": 24,
   "id": "d650406e",
   "metadata": {},
   "outputs": [
    {
     "data": {
      "text/plain": [
       "title      7\n",
       "rank       0\n",
       "date       0\n",
       "artist     0\n",
       "url        0\n",
       "region     0\n",
       "streams    0\n",
       "dtype: int64"
      ]
     },
     "execution_count": 24,
     "metadata": {},
     "output_type": "execute_result"
    }
   ],
   "source": [
    "data.isnull().sum()"
   ]
  },
  {
   "cell_type": "code",
   "execution_count": 25,
   "id": "3882601b",
   "metadata": {
    "scrolled": true
   },
   "outputs": [
    {
     "name": "stdout",
     "output_type": "stream",
     "text": [
      "        title  rank        date artist  \\\n",
      "7305002   NaN   120  2019-06-24  Nissy   \n",
      "7401555   NaN   167  2019-06-25  Nissy   \n",
      "7479161   NaN   128  2019-06-26  Nissy   \n",
      "7563494   NaN   164  2019-06-27  Nissy   \n",
      "7670140   NaN   174  2019-06-28  Nissy   \n",
      "7772268   NaN   188  2019-06-29  Nissy   \n",
      "7879888   NaN   169  2019-06-30  Nissy   \n",
      "\n",
      "                                                       url region  streams  \n",
      "7305002  https://open.spotify.com/track/4cP6KmNvTFkLHZo...  Japan  11942.0  \n",
      "7401555  https://open.spotify.com/track/4cP6KmNvTFkLHZo...  Japan  10310.0  \n",
      "7479161  https://open.spotify.com/track/4cP6KmNvTFkLHZo...  Japan  11620.0  \n",
      "7563494  https://open.spotify.com/track/4cP6KmNvTFkLHZo...  Japan  10229.0  \n",
      "7670140  https://open.spotify.com/track/4cP6KmNvTFkLHZo...  Japan   9348.0  \n",
      "7772268  https://open.spotify.com/track/4cP6KmNvTFkLHZo...  Japan   9808.0  \n",
      "7879888  https://open.spotify.com/track/4cP6KmNvTFkLHZo...  Japan  10900.0  \n"
     ]
    }
   ],
   "source": [
    "print(data[data['title'].isnull()])"
   ]
  },
  {
   "cell_type": "markdown",
   "id": "99660cd8",
   "metadata": {},
   "source": [
    "**Examin the data for null values, shows 7 entries which is by the same artist. We decide to remove the 7 entries containing null values, as this wont have a substancial impact on our dataset and the futur processing of our data.**"
   ]
  },
  {
   "cell_type": "code",
   "execution_count": 26,
   "id": "b49ee229",
   "metadata": {},
   "outputs": [],
   "source": [
    "data.dropna(subset=['title'], inplace=True)"
   ]
  },
  {
   "cell_type": "code",
   "execution_count": 27,
   "id": "563421a4",
   "metadata": {},
   "outputs": [
    {
     "data": {
      "text/plain": [
       "(20321897, 7)"
      ]
     },
     "execution_count": 27,
     "metadata": {},
     "output_type": "execute_result"
    }
   ],
   "source": [
    "data.shape"
   ]
  },
  {
   "cell_type": "code",
   "execution_count": 29,
   "id": "a353f081",
   "metadata": {},
   "outputs": [
    {
     "data": {
      "text/plain": [
       "title      0\n",
       "rank       0\n",
       "date       0\n",
       "artist     0\n",
       "url        0\n",
       "region     0\n",
       "streams    0\n",
       "dtype: int64"
      ]
     },
     "execution_count": 29,
     "metadata": {},
     "output_type": "execute_result"
    }
   ],
   "source": [
    "data.isnull().sum()"
   ]
  },
  {
   "cell_type": "markdown",
   "id": "2f1fa1eb",
   "metadata": {},
   "source": [
    "### Finding dublicates"
   ]
  },
  {
   "cell_type": "markdown",
   "id": "a3e91002",
   "metadata": {},
   "source": [
    "**The dataset consists of a lot of dublicates. As mentioned before the column \"trend\" as we previously removed, showed the placement on the list weekly.**\n",
    "\n",
    "**We will now be looking for these dublicates and only keeping one of each instance. To keep the dataset as correct as possible, we are going to keep one of each dublicated entries in our dataset. We will keep the entry that has been placed highest on the top 200 list.**"
   ]
  },
  {
   "cell_type": "code",
   "execution_count": 54,
   "id": "7643e191",
   "metadata": {},
   "outputs": [],
   "source": [
    "#sorted_data = data"
   ]
  },
  {
   "cell_type": "markdown",
   "id": "87c35c77",
   "metadata": {},
   "source": [
    "**We will concat the two columns: \"artist\" and \"title\" in a new column called concat**\n",
    "\n",
    "**Then we will search for dublicates on this column, and keep the one highest in the \"rank\" column\"**"
   ]
  },
  {
   "cell_type": "code",
   "execution_count": 55,
   "id": "49a83724",
   "metadata": {},
   "outputs": [],
   "source": [
    "data[\"concat\"] = data[\"artist\"] + \" \" + data[\"title\"]"
   ]
  },
  {
   "cell_type": "code",
   "execution_count": 69,
   "id": "2d7be22a",
   "metadata": {},
   "outputs": [
    {
     "data": {
      "text/html": [
       "<div>\n",
       "<style scoped>\n",
       "    .dataframe tbody tr th:only-of-type {\n",
       "        vertical-align: middle;\n",
       "    }\n",
       "\n",
       "    .dataframe tbody tr th {\n",
       "        vertical-align: top;\n",
       "    }\n",
       "\n",
       "    .dataframe thead th {\n",
       "        text-align: right;\n",
       "    }\n",
       "</style>\n",
       "<table border=\"1\" class=\"dataframe\">\n",
       "  <thead>\n",
       "    <tr style=\"text-align: right;\">\n",
       "      <th></th>\n",
       "      <th>title</th>\n",
       "      <th>rank</th>\n",
       "      <th>date</th>\n",
       "      <th>artist</th>\n",
       "      <th>url</th>\n",
       "      <th>region</th>\n",
       "      <th>streams</th>\n",
       "      <th>concat</th>\n",
       "    </tr>\n",
       "  </thead>\n",
       "  <tbody>\n",
       "    <tr>\n",
       "      <th>0</th>\n",
       "      <td>Chantaje (feat. Maluma)</td>\n",
       "      <td>1</td>\n",
       "      <td>2017-01-01</td>\n",
       "      <td>Shakira</td>\n",
       "      <td>https://open.spotify.com/track/6mICuAdrwEjh6Y6...</td>\n",
       "      <td>Argentina</td>\n",
       "      <td>253019.0</td>\n",
       "      <td>Shakira Chantaje (feat. Maluma)</td>\n",
       "    </tr>\n",
       "    <tr>\n",
       "      <th>1</th>\n",
       "      <td>Vente Pa' Ca (feat. Maluma)</td>\n",
       "      <td>2</td>\n",
       "      <td>2017-01-01</td>\n",
       "      <td>Ricky Martin</td>\n",
       "      <td>https://open.spotify.com/track/7DM4BPaS7uofFul...</td>\n",
       "      <td>Argentina</td>\n",
       "      <td>223988.0</td>\n",
       "      <td>Ricky Martin Vente Pa' Ca (feat. Maluma)</td>\n",
       "    </tr>\n",
       "    <tr>\n",
       "      <th>2</th>\n",
       "      <td>Reggaetón Lento (Bailemos)</td>\n",
       "      <td>3</td>\n",
       "      <td>2017-01-01</td>\n",
       "      <td>CNCO</td>\n",
       "      <td>https://open.spotify.com/track/3AEZUABDXNtecAO...</td>\n",
       "      <td>Argentina</td>\n",
       "      <td>210943.0</td>\n",
       "      <td>CNCO Reggaetón Lento (Bailemos)</td>\n",
       "    </tr>\n",
       "    <tr>\n",
       "      <th>3</th>\n",
       "      <td>Safari</td>\n",
       "      <td>4</td>\n",
       "      <td>2017-01-01</td>\n",
       "      <td>J Balvin, Pharrell Williams, BIA, Sky</td>\n",
       "      <td>https://open.spotify.com/track/6rQSrBHf7HlZjtc...</td>\n",
       "      <td>Argentina</td>\n",
       "      <td>173865.0</td>\n",
       "      <td>J Balvin, Pharrell Williams, BIA, Sky Safari</td>\n",
       "    </tr>\n",
       "    <tr>\n",
       "      <th>4</th>\n",
       "      <td>Shaky Shaky</td>\n",
       "      <td>5</td>\n",
       "      <td>2017-01-01</td>\n",
       "      <td>Daddy Yankee</td>\n",
       "      <td>https://open.spotify.com/track/58IL315gMSTD37D...</td>\n",
       "      <td>Argentina</td>\n",
       "      <td>153956.0</td>\n",
       "      <td>Daddy Yankee Shaky Shaky</td>\n",
       "    </tr>\n",
       "  </tbody>\n",
       "</table>\n",
       "</div>"
      ],
      "text/plain": [
       "                         title  rank        date  \\\n",
       "0      Chantaje (feat. Maluma)     1  2017-01-01   \n",
       "1  Vente Pa' Ca (feat. Maluma)     2  2017-01-01   \n",
       "2   Reggaetón Lento (Bailemos)     3  2017-01-01   \n",
       "3                       Safari     4  2017-01-01   \n",
       "4                  Shaky Shaky     5  2017-01-01   \n",
       "\n",
       "                                  artist  \\\n",
       "0                                Shakira   \n",
       "1                           Ricky Martin   \n",
       "2                                   CNCO   \n",
       "3  J Balvin, Pharrell Williams, BIA, Sky   \n",
       "4                           Daddy Yankee   \n",
       "\n",
       "                                                 url     region   streams  \\\n",
       "0  https://open.spotify.com/track/6mICuAdrwEjh6Y6...  Argentina  253019.0   \n",
       "1  https://open.spotify.com/track/7DM4BPaS7uofFul...  Argentina  223988.0   \n",
       "2  https://open.spotify.com/track/3AEZUABDXNtecAO...  Argentina  210943.0   \n",
       "3  https://open.spotify.com/track/6rQSrBHf7HlZjtc...  Argentina  173865.0   \n",
       "4  https://open.spotify.com/track/58IL315gMSTD37D...  Argentina  153956.0   \n",
       "\n",
       "                                         concat  \n",
       "0               Shakira Chantaje (feat. Maluma)  \n",
       "1      Ricky Martin Vente Pa' Ca (feat. Maluma)  \n",
       "2               CNCO Reggaetón Lento (Bailemos)  \n",
       "3  J Balvin, Pharrell Williams, BIA, Sky Safari  \n",
       "4                      Daddy Yankee Shaky Shaky  "
      ]
     },
     "execution_count": 69,
     "metadata": {},
     "output_type": "execute_result"
    }
   ],
   "source": [
    "data.head()"
   ]
  },
  {
   "cell_type": "code",
   "execution_count": 70,
   "id": "06acc507",
   "metadata": {},
   "outputs": [
    {
     "data": {
      "text/html": [
       "<div>\n",
       "<style scoped>\n",
       "    .dataframe tbody tr th:only-of-type {\n",
       "        vertical-align: middle;\n",
       "    }\n",
       "\n",
       "    .dataframe tbody tr th {\n",
       "        vertical-align: top;\n",
       "    }\n",
       "\n",
       "    .dataframe thead th {\n",
       "        text-align: right;\n",
       "    }\n",
       "</style>\n",
       "<table border=\"1\" class=\"dataframe\">\n",
       "  <thead>\n",
       "    <tr style=\"text-align: right;\">\n",
       "      <th></th>\n",
       "      <th>title</th>\n",
       "      <th>rank</th>\n",
       "      <th>date</th>\n",
       "      <th>artist</th>\n",
       "      <th>url</th>\n",
       "      <th>region</th>\n",
       "      <th>streams</th>\n",
       "      <th>concat</th>\n",
       "    </tr>\n",
       "  </thead>\n",
       "  <tbody>\n",
       "    <tr>\n",
       "      <th>25276069</th>\n",
       "      <td>Ojalá (feat. Darell)</td>\n",
       "      <td>196</td>\n",
       "      <td>2018-01-31</td>\n",
       "      <td>De La Ghetto, Almighty, Bryant Myers</td>\n",
       "      <td>https://open.spotify.com/track/3EMDvnVpQd9RZJv...</td>\n",
       "      <td>Uruguay</td>\n",
       "      <td>1178.0</td>\n",
       "      <td>De La Ghetto, Almighty, Bryant Myers Ojalá (fe...</td>\n",
       "    </tr>\n",
       "    <tr>\n",
       "      <th>25276070</th>\n",
       "      <td>Lo Que Pasa en la Noche</td>\n",
       "      <td>197</td>\n",
       "      <td>2018-01-31</td>\n",
       "      <td>Mano Arriba</td>\n",
       "      <td>https://open.spotify.com/track/2eOleVJlGvBE027...</td>\n",
       "      <td>Uruguay</td>\n",
       "      <td>1178.0</td>\n",
       "      <td>Mano Arriba Lo Que Pasa en la Noche</td>\n",
       "    </tr>\n",
       "    <tr>\n",
       "      <th>25276071</th>\n",
       "      <td>El Equivocado</td>\n",
       "      <td>198</td>\n",
       "      <td>2018-01-31</td>\n",
       "      <td>Mano Arriba</td>\n",
       "      <td>https://open.spotify.com/track/5vy1C7DD9xJ5fRB...</td>\n",
       "      <td>Uruguay</td>\n",
       "      <td>1170.0</td>\n",
       "      <td>Mano Arriba El Equivocado</td>\n",
       "    </tr>\n",
       "    <tr>\n",
       "      <th>25276072</th>\n",
       "      <td>Que Fui Tu Amante</td>\n",
       "      <td>199</td>\n",
       "      <td>2018-01-31</td>\n",
       "      <td>El Gucci y Su Banda</td>\n",
       "      <td>https://open.spotify.com/track/1fmiCxwEbZFIszI...</td>\n",
       "      <td>Uruguay</td>\n",
       "      <td>1165.0</td>\n",
       "      <td>El Gucci y Su Banda Que Fui Tu Amante</td>\n",
       "    </tr>\n",
       "    <tr>\n",
       "      <th>25276073</th>\n",
       "      <td>Solo</td>\n",
       "      <td>200</td>\n",
       "      <td>2018-01-31</td>\n",
       "      <td>Amenazzy, Lary Over</td>\n",
       "      <td>https://open.spotify.com/track/2rrJfOphzn4uQCK...</td>\n",
       "      <td>Uruguay</td>\n",
       "      <td>1162.0</td>\n",
       "      <td>Amenazzy, Lary Over Solo</td>\n",
       "    </tr>\n",
       "  </tbody>\n",
       "</table>\n",
       "</div>"
      ],
      "text/plain": [
       "                            title  rank        date  \\\n",
       "25276069     Ojalá (feat. Darell)   196  2018-01-31   \n",
       "25276070  Lo Que Pasa en la Noche   197  2018-01-31   \n",
       "25276071            El Equivocado   198  2018-01-31   \n",
       "25276072        Que Fui Tu Amante   199  2018-01-31   \n",
       "25276073                     Solo   200  2018-01-31   \n",
       "\n",
       "                                        artist  \\\n",
       "25276069  De La Ghetto, Almighty, Bryant Myers   \n",
       "25276070                           Mano Arriba   \n",
       "25276071                           Mano Arriba   \n",
       "25276072                   El Gucci y Su Banda   \n",
       "25276073                   Amenazzy, Lary Over   \n",
       "\n",
       "                                                        url   region  streams  \\\n",
       "25276069  https://open.spotify.com/track/3EMDvnVpQd9RZJv...  Uruguay   1178.0   \n",
       "25276070  https://open.spotify.com/track/2eOleVJlGvBE027...  Uruguay   1178.0   \n",
       "25276071  https://open.spotify.com/track/5vy1C7DD9xJ5fRB...  Uruguay   1170.0   \n",
       "25276072  https://open.spotify.com/track/1fmiCxwEbZFIszI...  Uruguay   1165.0   \n",
       "25276073  https://open.spotify.com/track/2rrJfOphzn4uQCK...  Uruguay   1162.0   \n",
       "\n",
       "                                                     concat  \n",
       "25276069  De La Ghetto, Almighty, Bryant Myers Ojalá (fe...  \n",
       "25276070                Mano Arriba Lo Que Pasa en la Noche  \n",
       "25276071                          Mano Arriba El Equivocado  \n",
       "25276072              El Gucci y Su Banda Que Fui Tu Amante  \n",
       "25276073                           Amenazzy, Lary Over Solo  "
      ]
     },
     "execution_count": 70,
     "metadata": {},
     "output_type": "execute_result"
    }
   ],
   "source": [
    "data.tail()"
   ]
  },
  {
   "cell_type": "code",
   "execution_count": 71,
   "id": "1f87ad13",
   "metadata": {},
   "outputs": [],
   "source": [
    "data = data.sort_values('rank', ascending=True).drop_duplicates('concat').sort_index"
   ]
  },
  {
   "cell_type": "code",
   "execution_count": 78,
   "id": "667526f1",
   "metadata": {},
   "outputs": [
    {
     "name": "stdout",
     "output_type": "stream",
     "text": [
      "                                                      title  rank        date  \\\n",
      "1                               Vente Pa' Ca (feat. Maluma)     2  2017-01-01   \n",
      "2210877                       Fiebre (feat. Wisin & Yandel)    22  2018-03-31   \n",
      "20712926                                     Canción Bonita    23  2021-05-29   \n",
      "19281717                                     Qué Rico Fuera    51  2021-06-11   \n",
      "10483625                                          Tiburones    59  2020-02-24   \n",
      "68                              La Mordidita (feat. Yotuel)    69  2017-01-01   \n",
      "1759418           Vente Pa' Ca (feat. Maluma) - Urban Remix    70  2017-01-28   \n",
      "11427856                                         Falta Amor    75  2020-04-29   \n",
      "8265587                                             Cántalo    96  2019-11-15   \n",
      "2297370   La Copa de la Vida (La Cancion Oficial de la C...   125  2018-07-03   \n",
      "8652030           El Ultimo Adiós - Varios Artistas Version   127  2019-09-29   \n",
      "24788613                                Livin' la Vida Loca   145  2017-12-31   \n",
      "1055420                          Vente Pa' Ca (feat. A-Lin)   148  2017-02-17   \n",
      "7089675                  Amigos del Mundo (Happy Christmas)   150  2018-12-25   \n",
      "10483729  Tu Recuerdo (feat. La Mari De Chambao & Tommy ...   162  2020-02-24   \n",
      "10483730                                             Vuelve   163  2020-02-24   \n",
      "10483731                                            Tal Vez   164  2020-02-24   \n",
      "10483738                                 Disparo al Corazón   171  2020-02-24   \n",
      "9752388                                   Tiburones - Remix   182  2020-04-11   \n",
      "\n",
      "                                                     artist  \\\n",
      "1                                              Ricky Martin   \n",
      "2210877                                        Ricky Martin   \n",
      "20712926                         Carlos Vives, Ricky Martin   \n",
      "19281717                          Ricky Martin, Paloma Mami   \n",
      "10483625                                       Ricky Martin   \n",
      "68                                             Ricky Martin   \n",
      "1759418                                        Ricky Martin   \n",
      "11427856                      Sebastian Yatra, Ricky Martin   \n",
      "8265587                  Ricky Martin, Residente, Bad Bunny   \n",
      "2297370                                        Ricky Martin   \n",
      "8652030   Ricky Martin, Alejandro Sanz, Thalia, Juan Lui...   \n",
      "24788613                                       Ricky Martin   \n",
      "1055420                                        Ricky Martin   \n",
      "7089675            Pedrito Fernández, Ricky Martin, Tatiana   \n",
      "10483729                               Ricky Martin, Lamari   \n",
      "10483730                                       Ricky Martin   \n",
      "10483731                                       Ricky Martin   \n",
      "10483738                                       Ricky Martin   \n",
      "9752388                               Ricky Martin, Farruko   \n",
      "\n",
      "                                                        url     region  \\\n",
      "1         https://open.spotify.com/track/7DM4BPaS7uofFul...  Argentina   \n",
      "2210877   https://open.spotify.com/track/0oFqlgK2LJ9eMlp...      Spain   \n",
      "20712926  https://open.spotify.com/track/5iF33sXejXwfTui...    Ecuador   \n",
      "19281717  https://open.spotify.com/track/7Bd1mIvqRkIXTPA...      Chile   \n",
      "10483625  https://open.spotify.com/track/1zIshc2P9l5AZsO...      Chile   \n",
      "68        https://open.spotify.com/track/00i0O74dXdaKKdC...  Argentina   \n",
      "1759418   https://open.spotify.com/track/3pI6VigoXHkcL3V...      Spain   \n",
      "11427856  https://open.spotify.com/track/2ukaTb7sSeWHdr2...  Argentina   \n",
      "8265587   https://open.spotify.com/track/7MkFd0UDHlILDrh...     Panama   \n",
      "2297370   https://open.spotify.com/track/0KnZ3Fgnqjmz4Sl...     Sweden   \n",
      "8652030   https://open.spotify.com/track/0tzixmHNQfE6S6S...     Mexico   \n",
      "24788613  https://open.spotify.com/track/0Ph6L4l8dYUuXFm...     Poland   \n",
      "1055420   https://open.spotify.com/track/6Od2CkrUQYMYKu2...     Taiwan   \n",
      "7089675   https://open.spotify.com/track/47oukzOiH3ljgte...    Bolivia   \n",
      "10483729  https://open.spotify.com/track/61hJK3EfAd1LDk7...      Chile   \n",
      "10483730  https://open.spotify.com/track/3OK8WgNRmp4F3ah...      Chile   \n",
      "10483731  https://open.spotify.com/track/2VspVkHity8i4H9...      Chile   \n",
      "10483738  https://open.spotify.com/track/5828oiHxe6DSSAu...      Chile   \n",
      "9752388   https://open.spotify.com/track/73HSOVmGMA0Qfo4...     Panama   \n",
      "\n",
      "           streams                                             concat  \n",
      "1         223988.0           Ricky Martin Vente Pa' Ca (feat. Maluma)  \n",
      "2210877   115115.0         Ricky Martin Fiebre (feat. Wisin & Yandel)  \n",
      "20712926   19611.0          Carlos Vives, Ricky Martin Canción Bonita  \n",
      "19281717   76692.0           Ricky Martin, Paloma Mami Qué Rico Fuera  \n",
      "10483625   50904.0                             Ricky Martin Tiburones  \n",
      "68         34638.0           Ricky Martin La Mordidita (feat. Yotuel)  \n",
      "1759418    38575.0  Ricky Martin Vente Pa' Ca (feat. Maluma) - Urb...  \n",
      "11427856   42320.0           Sebastian Yatra, Ricky Martin Falta Amor  \n",
      "8265587     2513.0         Ricky Martin, Residente, Bad Bunny Cántalo  \n",
      "2297370    21939.0  Ricky Martin La Copa de la Vida (La Cancion Of...  \n",
      "8652030    84884.0  Ricky Martin, Alejandro Sanz, Thalia, Juan Lui...  \n",
      "24788613   12657.0                   Ricky Martin Livin' la Vida Loca  \n",
      "1055420     3041.0            Ricky Martin Vente Pa' Ca (feat. A-Lin)  \n",
      "7089675     1321.0  Pedrito Fernández, Ricky Martin, Tatiana Amigo...  \n",
      "10483729   25498.0  Ricky Martin, Lamari Tu Recuerdo (feat. La Mar...  \n",
      "10483730   25429.0                                Ricky Martin Vuelve  \n",
      "10483731   25307.0                               Ricky Martin Tal Vez  \n",
      "10483738   25044.0                    Ricky Martin Disparo al Corazón  \n",
      "9752388     1298.0            Ricky Martin, Farruko Tiburones - Remix  \n"
     ]
    }
   ],
   "source": [
    "contain_values = data[data.artist.str.contains(\"Ricky Martin\")]\n",
    "print (contain_values)"
   ]
  },
  {
   "cell_type": "markdown",
   "id": "385650f1",
   "metadata": {},
   "source": [
    "**Now that the dublicates have been removed from the dataset, the dataset is more clean and is not disturbed by the same entry multiple times**"
   ]
  },
  {
   "cell_type": "code",
   "execution_count": null,
   "id": "db5ad322",
   "metadata": {},
   "outputs": [],
   "source": []
  }
 ],
 "metadata": {
  "kernelspec": {
   "display_name": "Python 3 (ipykernel)",
   "language": "python",
   "name": "python3"
  },
  "language_info": {
   "codemirror_mode": {
    "name": "ipython",
    "version": 3
   },
   "file_extension": ".py",
   "mimetype": "text/x-python",
   "name": "python",
   "nbconvert_exporter": "python",
   "pygments_lexer": "ipython3",
   "version": "3.9.7"
  }
 },
 "nbformat": 4,
 "nbformat_minor": 5
}
