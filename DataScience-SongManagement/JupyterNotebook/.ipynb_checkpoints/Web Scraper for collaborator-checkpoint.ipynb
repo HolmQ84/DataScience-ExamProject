{
 "cells": [
  {
   "cell_type": "markdown",
   "id": "19eb40ce",
   "metadata": {},
   "source": [
    "# Creating the web scraper"
   ]
  },
  {
   "cell_type": "code",
   "execution_count": 2,
   "id": "fa213622",
   "metadata": {},
   "outputs": [],
   "source": [
    "import numpy as np\n",
    "import pandas as pd\n",
    "import matplotlib.pyplot as plt\n",
    "import seaborn as sns\n",
    "\n",
    "from sklearn.linear_model import LinearRegression\n",
    "from sklearn import linear_model\n",
    "from sklearn.preprocessing import PolynomialFeatures\n",
    "import sklearn.metrics as sm\n",
    "\n",
    "\n",
    "import re\n",
    "\n",
    "import spotipy\n",
    "from spotipy.oauth2 import SpotifyClientCredentials\n",
    "\n",
    "import csv\n",
    "import requests\n",
    "import json\n",
    "from pandas.io.json import json_normalize\n",
    "from urllib.request import urlopen\n",
    "from bs4 import BeautifulSoup\n",
    "\n",
    "\n",
    "from neo4j import GraphDatabase \n",
    "from py2neo import Graph,Node,Relationship"
   ]
  },
  {
   "cell_type": "markdown",
   "id": "5cf1720f",
   "metadata": {},
   "source": [
    "# Getting the dataset"
   ]
  },
  {
   "cell_type": "code",
   "execution_count": 3,
   "id": "fcc0595f",
   "metadata": {},
   "outputs": [],
   "source": [
    "data = pd.read_csv('charts.csv')"
   ]
  },
  {
   "cell_type": "code",
   "execution_count": 23,
   "id": "56c775d5",
   "metadata": {},
   "outputs": [],
   "source": [
    "refined_data = data.loc[(data[\"rank\"] == 1)]"
   ]
  },
  {
   "cell_type": "code",
   "execution_count": 24,
   "id": "5e327617",
   "metadata": {},
   "outputs": [],
   "source": [
    "new_index = [1,2,3,4,5,6,7,8,9,10,11,12,133,14,15,16,17,18,19,20]"
   ]
  },
  {
   "cell_type": "code",
   "execution_count": 25,
   "id": "85a09b2a",
   "metadata": {},
   "outputs": [],
   "source": [
    "new_data = refined_data.reset_index(drop = True)"
   ]
  },
  {
   "cell_type": "code",
   "execution_count": 26,
   "id": "90d17923",
   "metadata": {},
   "outputs": [
    {
     "data": {
      "text/plain": [
       "(227253, 9)"
      ]
     },
     "execution_count": 26,
     "metadata": {},
     "output_type": "execute_result"
    }
   ],
   "source": [
    "refined_data.shape"
   ]
  },
  {
   "cell_type": "code",
   "execution_count": 27,
   "id": "709e377e",
   "metadata": {},
   "outputs": [],
   "source": [
    "index_names = new_data[new_data['trend'] == 'SAME_POSITION' ].index"
   ]
  },
  {
   "cell_type": "code",
   "execution_count": 587,
   "id": "8ab50fe8",
   "metadata": {},
   "outputs": [
    {
     "data": {
      "text/plain": [
       "Int64Index([     0,      4,      5,      6,      7,      8,      9,     10,\n",
       "                11,     12,\n",
       "            ...\n",
       "            227242, 227243, 227244, 227245, 227246, 227247, 227249, 227250,\n",
       "            227251, 227252],\n",
       "           dtype='int64', length=193123)"
      ]
     },
     "execution_count": 587,
     "metadata": {},
     "output_type": "execute_result"
    }
   ],
   "source": []
  },
  {
   "cell_type": "code",
   "execution_count": 28,
   "id": "00268f5f",
   "metadata": {},
   "outputs": [],
   "source": [
    "new_data.drop(index_names, inplace=True)"
   ]
  },
  {
   "cell_type": "code",
   "execution_count": 29,
   "id": "f5345455",
   "metadata": {},
   "outputs": [
    {
     "data": {
      "text/plain": [
       "(34130, 9)"
      ]
     },
     "execution_count": 29,
     "metadata": {},
     "output_type": "execute_result"
    }
   ],
   "source": [
    "new_data.shape"
   ]
  },
  {
   "cell_type": "code",
   "execution_count": 30,
   "id": "d6aff2a7",
   "metadata": {},
   "outputs": [
    {
     "data": {
      "text/html": [
       "<div>\n",
       "<style scoped>\n",
       "    .dataframe tbody tr th:only-of-type {\n",
       "        vertical-align: middle;\n",
       "    }\n",
       "\n",
       "    .dataframe tbody tr th {\n",
       "        vertical-align: top;\n",
       "    }\n",
       "\n",
       "    .dataframe thead th {\n",
       "        text-align: right;\n",
       "    }\n",
       "</style>\n",
       "<table border=\"1\" class=\"dataframe\">\n",
       "  <thead>\n",
       "    <tr style=\"text-align: right;\">\n",
       "      <th></th>\n",
       "      <th>title</th>\n",
       "      <th>rank</th>\n",
       "      <th>date</th>\n",
       "      <th>artist</th>\n",
       "      <th>url</th>\n",
       "      <th>region</th>\n",
       "      <th>chart</th>\n",
       "      <th>trend</th>\n",
       "      <th>streams</th>\n",
       "    </tr>\n",
       "  </thead>\n",
       "  <tbody>\n",
       "    <tr>\n",
       "      <th>1</th>\n",
       "      <td>Starboy</td>\n",
       "      <td>1</td>\n",
       "      <td>2017-01-01</td>\n",
       "      <td>The Weeknd, Daft Punk</td>\n",
       "      <td>https://open.spotify.com/track/5aAx2yezTd8zXrk...</td>\n",
       "      <td>Australia</td>\n",
       "      <td>top200</td>\n",
       "      <td>MOVE_UP</td>\n",
       "      <td>107350.0</td>\n",
       "    </tr>\n",
       "    <tr>\n",
       "      <th>2</th>\n",
       "      <td>Alone</td>\n",
       "      <td>1</td>\n",
       "      <td>2017-01-01</td>\n",
       "      <td>Alan Walker</td>\n",
       "      <td>https://open.spotify.com/track/0JiVRyTJcJnmlwC...</td>\n",
       "      <td>Austria</td>\n",
       "      <td>top200</td>\n",
       "      <td>MOVE_UP</td>\n",
       "      <td>12990.0</td>\n",
       "    </tr>\n",
       "    <tr>\n",
       "      <th>3</th>\n",
       "      <td>Hey Baby</td>\n",
       "      <td>1</td>\n",
       "      <td>2017-01-01</td>\n",
       "      <td>Dimitri Vegas &amp; Like Mike, Diplo, Deb’s Daughter</td>\n",
       "      <td>https://open.spotify.com/track/6yc377A8qxHIjPU...</td>\n",
       "      <td>Belgium</td>\n",
       "      <td>top200</td>\n",
       "      <td>MOVE_UP</td>\n",
       "      <td>23277.0</td>\n",
       "    </tr>\n",
       "    <tr>\n",
       "      <th>17</th>\n",
       "      <td>Hukutaan</td>\n",
       "      <td>1</td>\n",
       "      <td>2017-01-01</td>\n",
       "      <td>Arttu Lindeman</td>\n",
       "      <td>https://open.spotify.com/track/0i8qXP5jTcu3dPf...</td>\n",
       "      <td>Finland</td>\n",
       "      <td>top200</td>\n",
       "      <td>MOVE_UP</td>\n",
       "      <td>60220.0</td>\n",
       "    </tr>\n",
       "    <tr>\n",
       "      <th>25</th>\n",
       "      <td>Rockabye (feat. Sean Paul &amp; Anne-Marie)</td>\n",
       "      <td>1</td>\n",
       "      <td>2017-01-01</td>\n",
       "      <td>Clean Bandit</td>\n",
       "      <td>https://open.spotify.com/track/5knuzwU65gJK7IF...</td>\n",
       "      <td>Hungary</td>\n",
       "      <td>top200</td>\n",
       "      <td>MOVE_UP</td>\n",
       "      <td>6263.0</td>\n",
       "    </tr>\n",
       "    <tr>\n",
       "      <th>...</th>\n",
       "      <td>...</td>\n",
       "      <td>...</td>\n",
       "      <td>...</td>\n",
       "      <td>...</td>\n",
       "      <td>...</td>\n",
       "      <td>...</td>\n",
       "      <td>...</td>\n",
       "      <td>...</td>\n",
       "      <td>...</td>\n",
       "    </tr>\n",
       "    <tr>\n",
       "      <th>227143</th>\n",
       "      <td>Diamond in the rough</td>\n",
       "      <td>1</td>\n",
       "      <td>2021-07-30</td>\n",
       "      <td>Arik Ancelin</td>\n",
       "      <td>https://open.spotify.com/track/54AtiA08i3sDfJY...</td>\n",
       "      <td>Iceland</td>\n",
       "      <td>viral50</td>\n",
       "      <td>MOVE_UP</td>\n",
       "      <td>NaN</td>\n",
       "    </tr>\n",
       "    <tr>\n",
       "      <th>227144</th>\n",
       "      <td>Aadmi Chutiya Hai</td>\n",
       "      <td>1</td>\n",
       "      <td>2021-07-30</td>\n",
       "      <td>Rahgir</td>\n",
       "      <td>https://open.spotify.com/track/2PEJKORCdmceTW2...</td>\n",
       "      <td>India</td>\n",
       "      <td>viral50</td>\n",
       "      <td>MOVE_UP</td>\n",
       "      <td>NaN</td>\n",
       "    </tr>\n",
       "    <tr>\n",
       "      <th>227196</th>\n",
       "      <td>Bezos I</td>\n",
       "      <td>1</td>\n",
       "      <td>2021-07-31</td>\n",
       "      <td>Bo Burnham</td>\n",
       "      <td>https://open.spotify.com/track/0Kdj7nwaYQmvhxn...</td>\n",
       "      <td>Czech Republic</td>\n",
       "      <td>viral50</td>\n",
       "      <td>MOVE_UP</td>\n",
       "      <td>NaN</td>\n",
       "    </tr>\n",
       "    <tr>\n",
       "      <th>227202</th>\n",
       "      <td>Paar tundi veel</td>\n",
       "      <td>1</td>\n",
       "      <td>2021-07-31</td>\n",
       "      <td>Shanon</td>\n",
       "      <td>https://open.spotify.com/track/3LM9EDiw6CtKhCt...</td>\n",
       "      <td>Estonia</td>\n",
       "      <td>viral50</td>\n",
       "      <td>MOVE_UP</td>\n",
       "      <td>NaN</td>\n",
       "    </tr>\n",
       "    <tr>\n",
       "      <th>227248</th>\n",
       "      <td>double take</td>\n",
       "      <td>1</td>\n",
       "      <td>2021-07-31</td>\n",
       "      <td>dhruv</td>\n",
       "      <td>https://open.spotify.com/track/2CVChktEKBsM6v4...</td>\n",
       "      <td>United Arab Emirates</td>\n",
       "      <td>viral50</td>\n",
       "      <td>MOVE_UP</td>\n",
       "      <td>NaN</td>\n",
       "    </tr>\n",
       "  </tbody>\n",
       "</table>\n",
       "<p>34130 rows × 9 columns</p>\n",
       "</div>"
      ],
      "text/plain": [
       "                                          title  rank        date  \\\n",
       "1                                       Starboy     1  2017-01-01   \n",
       "2                                         Alone     1  2017-01-01   \n",
       "3                                      Hey Baby     1  2017-01-01   \n",
       "17                                     Hukutaan     1  2017-01-01   \n",
       "25      Rockabye (feat. Sean Paul & Anne-Marie)     1  2017-01-01   \n",
       "...                                         ...   ...         ...   \n",
       "227143                     Diamond in the rough     1  2021-07-30   \n",
       "227144                        Aadmi Chutiya Hai     1  2021-07-30   \n",
       "227196                                  Bezos I     1  2021-07-31   \n",
       "227202                          Paar tundi veel     1  2021-07-31   \n",
       "227248                              double take     1  2021-07-31   \n",
       "\n",
       "                                                  artist  \\\n",
       "1                                  The Weeknd, Daft Punk   \n",
       "2                                            Alan Walker   \n",
       "3       Dimitri Vegas & Like Mike, Diplo, Deb’s Daughter   \n",
       "17                                        Arttu Lindeman   \n",
       "25                                          Clean Bandit   \n",
       "...                                                  ...   \n",
       "227143                                      Arik Ancelin   \n",
       "227144                                            Rahgir   \n",
       "227196                                        Bo Burnham   \n",
       "227202                                            Shanon   \n",
       "227248                                             dhruv   \n",
       "\n",
       "                                                      url  \\\n",
       "1       https://open.spotify.com/track/5aAx2yezTd8zXrk...   \n",
       "2       https://open.spotify.com/track/0JiVRyTJcJnmlwC...   \n",
       "3       https://open.spotify.com/track/6yc377A8qxHIjPU...   \n",
       "17      https://open.spotify.com/track/0i8qXP5jTcu3dPf...   \n",
       "25      https://open.spotify.com/track/5knuzwU65gJK7IF...   \n",
       "...                                                   ...   \n",
       "227143  https://open.spotify.com/track/54AtiA08i3sDfJY...   \n",
       "227144  https://open.spotify.com/track/2PEJKORCdmceTW2...   \n",
       "227196  https://open.spotify.com/track/0Kdj7nwaYQmvhxn...   \n",
       "227202  https://open.spotify.com/track/3LM9EDiw6CtKhCt...   \n",
       "227248  https://open.spotify.com/track/2CVChktEKBsM6v4...   \n",
       "\n",
       "                      region    chart    trend   streams  \n",
       "1                  Australia   top200  MOVE_UP  107350.0  \n",
       "2                    Austria   top200  MOVE_UP   12990.0  \n",
       "3                    Belgium   top200  MOVE_UP   23277.0  \n",
       "17                   Finland   top200  MOVE_UP   60220.0  \n",
       "25                   Hungary   top200  MOVE_UP    6263.0  \n",
       "...                      ...      ...      ...       ...  \n",
       "227143               Iceland  viral50  MOVE_UP       NaN  \n",
       "227144                 India  viral50  MOVE_UP       NaN  \n",
       "227196        Czech Republic  viral50  MOVE_UP       NaN  \n",
       "227202               Estonia  viral50  MOVE_UP       NaN  \n",
       "227248  United Arab Emirates  viral50  MOVE_UP       NaN  \n",
       "\n",
       "[34130 rows x 9 columns]"
      ]
     },
     "execution_count": 30,
     "metadata": {},
     "output_type": "execute_result"
    }
   ],
   "source": [
    "new_data"
   ]
  },
  {
   "cell_type": "code",
   "execution_count": 31,
   "id": "09a676ba",
   "metadata": {},
   "outputs": [
    {
     "name": "stdout",
     "output_type": "stream",
     "text": [
      "                          title  rank        date                    artist  \\\n",
      "98      Chantaje (feat. Maluma)     1  2017-01-02                   Shakira   \n",
      "281     Chantaje (feat. Maluma)     1  2017-01-03                   Shakira   \n",
      "583     Chantaje (feat. Maluma)     1  2017-01-04                   Shakira   \n",
      "3133    Chantaje (feat. Maluma)     1  2017-01-07                   Shakira   \n",
      "6260    Chantaje (feat. Maluma)     1  2017-01-12                   Shakira   \n",
      "6779    Chantaje (feat. Maluma)     1  2017-01-14                   Shakira   \n",
      "7657    Chantaje (feat. Maluma)     1  2017-01-15                   Shakira   \n",
      "83302               Clandestino     1  2018-07-04           Shakira, Maluma   \n",
      "83336               Clandestino     1  2018-07-04           Shakira, Maluma   \n",
      "83714               Clandestino     1  2018-07-04           Shakira, Maluma   \n",
      "84110               Clandestino     1  2018-07-05           Shakira, Maluma   \n",
      "84111               Clandestino     1  2018-07-05           Shakira, Maluma   \n",
      "84865               Clandestino     1  2018-07-07           Shakira, Maluma   \n",
      "85545              La Bicicleta     1  2018-05-18     Carlos Vives, Shakira   \n",
      "87889               Clandestino     1  2018-06-15           Shakira, Maluma   \n",
      "89884               Clandestino     1  2018-09-14           Shakira, Maluma   \n",
      "146887                 Me Gusta     1  2020-02-03         Shakira, Anuel AA   \n",
      "146905                 Me Gusta     1  2020-02-03         Shakira, Anuel AA   \n",
      "148083                 Me Gusta     1  2020-02-07         Shakira, Anuel AA   \n",
      "148163                 Me Gusta     1  2020-02-08         Shakira, Anuel AA   \n",
      "148508                 Me Gusta     1  2020-02-09         Shakira, Anuel AA   \n",
      "148543                 Me Gusta     1  2020-02-10         Shakira, Anuel AA   \n",
      "148649                 Me Gusta     1  2020-02-10         Shakira, Anuel AA   \n",
      "148861             GIRL LIKE ME     1  2021-02-24  Black Eyed Peas, Shakira   \n",
      "149184                 Me Gusta     1  2020-02-13         Shakira, Anuel AA   \n",
      "149631                 Me Gusta     1  2020-02-15         Shakira, Anuel AA   \n",
      "149689                 Me Gusta     1  2020-02-15         Shakira, Anuel AA   \n",
      "149744                 Me Gusta     1  2020-02-16         Shakira, Anuel AA   \n",
      "149894                 Me Gusta     1  2020-02-16         Shakira, Anuel AA   \n",
      "149988                 Me Gusta     1  2020-02-16         Shakira, Anuel AA   \n",
      "174426                 Chantaje     1  2017-01-07           Shakira, Maluma   \n",
      "190422               Me Enamoré     1  2017-04-27                   Shakira   \n",
      "196053               Me Enamoré     1  2017-06-24                   Shakira   \n",
      "\n",
      "                                                      url     region    chart  \\\n",
      "98      https://open.spotify.com/track/6mICuAdrwEjh6Y6...   Honduras   top200   \n",
      "281     https://open.spotify.com/track/6mICuAdrwEjh6Y6...  Nicaragua   top200   \n",
      "583     https://open.spotify.com/track/6mICuAdrwEjh6Y6...   Honduras   top200   \n",
      "3133    https://open.spotify.com/track/6mICuAdrwEjh6Y6...     Panama   top200   \n",
      "6260    https://open.spotify.com/track/6mICuAdrwEjh6Y6...     Panama   top200   \n",
      "6779    https://open.spotify.com/track/6mICuAdrwEjh6Y6...  Argentina   top200   \n",
      "7657    https://open.spotify.com/track/6mICuAdrwEjh6Y6...     Panama   top200   \n",
      "83302   https://open.spotify.com/track/7DrluKkTviBwCc8...    Bolivia  viral50   \n",
      "83336   https://open.spotify.com/track/7DrluKkTviBwCc8...    Ecuador  viral50   \n",
      "83714   https://open.spotify.com/track/7DrluKkTviBwCc8...    Uruguay  viral50   \n",
      "84110   https://open.spotify.com/track/7DrluKkTviBwCc8...   Paraguay  viral50   \n",
      "84111   https://open.spotify.com/track/7DrluKkTviBwCc8...       Peru  viral50   \n",
      "84865   https://open.spotify.com/track/7DrluKkTviBwCc8...  Guatemala  viral50   \n",
      "85545   https://open.spotify.com/track/0Gx4VrHzS7pZOEA...    Andorra  viral50   \n",
      "87889   https://open.spotify.com/track/7DrluKkTviBwCc8...    Uruguay  viral50   \n",
      "89884   https://open.spotify.com/track/7DrluKkTviBwCc8...    Andorra  viral50   \n",
      "146887  https://open.spotify.com/track/5Xhqh4lwJPtMUTs...  Nicaragua  viral50   \n",
      "146905  https://open.spotify.com/track/5Xhqh4lwJPtMUTs...     Panama  viral50   \n",
      "148083  https://open.spotify.com/track/5Xhqh4lwJPtMUTs...    Uruguay  viral50   \n",
      "148163  https://open.spotify.com/track/5Xhqh4lwJPtMUTs...    Ecuador  viral50   \n",
      "148508  https://open.spotify.com/track/5Xhqh4lwJPtMUTs...      Spain  viral50   \n",
      "148543  https://open.spotify.com/track/5Xhqh4lwJPtMUTs...      Chile  viral50   \n",
      "148649  https://open.spotify.com/track/5Xhqh4lwJPtMUTs...    Uruguay  viral50   \n",
      "148861  https://open.spotify.com/track/2vBET2pmrQqafaS...     France   top200   \n",
      "149184  https://open.spotify.com/track/5Xhqh4lwJPtMUTs...   Paraguay  viral50   \n",
      "149631  https://open.spotify.com/track/5Xhqh4lwJPtMUTs...      Chile  viral50   \n",
      "149689  https://open.spotify.com/track/5Xhqh4lwJPtMUTs...   Paraguay  viral50   \n",
      "149744  https://open.spotify.com/track/5Xhqh4lwJPtMUTs...    Andorra  viral50   \n",
      "149894  https://open.spotify.com/track/5Xhqh4lwJPtMUTs...  Nicaragua  viral50   \n",
      "149988  https://open.spotify.com/track/5Xhqh4lwJPtMUTs...    Uruguay  viral50   \n",
      "174426  https://open.spotify.com/track/1WniHvhq9zTkny0...  Nicaragua  viral50   \n",
      "190422  https://open.spotify.com/track/4m5A5meIueOcDBp...    Andorra  viral50   \n",
      "196053  https://open.spotify.com/track/4qknM1pQz53QOyf...    Andorra  viral50   \n",
      "\n",
      "            trend   streams  \n",
      "98        MOVE_UP    5051.0  \n",
      "281       MOVE_UP    1977.0  \n",
      "583       MOVE_UP    5421.0  \n",
      "3133      MOVE_UP    8101.0  \n",
      "6260      MOVE_UP    6977.0  \n",
      "6779      MOVE_UP  207045.0  \n",
      "7657      MOVE_UP    6977.0  \n",
      "83302     MOVE_UP       NaN  \n",
      "83336     MOVE_UP       NaN  \n",
      "83714     MOVE_UP       NaN  \n",
      "84110     MOVE_UP       NaN  \n",
      "84111     MOVE_UP       NaN  \n",
      "84865     MOVE_UP       NaN  \n",
      "85545     MOVE_UP       NaN  \n",
      "87889     MOVE_UP       NaN  \n",
      "89884   NEW_ENTRY       NaN  \n",
      "146887  NEW_ENTRY       NaN  \n",
      "146905  NEW_ENTRY       NaN  \n",
      "148083    MOVE_UP       NaN  \n",
      "148163    MOVE_UP       NaN  \n",
      "148508    MOVE_UP       NaN  \n",
      "148543    MOVE_UP       NaN  \n",
      "148649    MOVE_UP       NaN  \n",
      "148861    MOVE_UP  189731.0  \n",
      "149184    MOVE_UP       NaN  \n",
      "149631    MOVE_UP       NaN  \n",
      "149689    MOVE_UP       NaN  \n",
      "149744    MOVE_UP       NaN  \n",
      "149894    MOVE_UP       NaN  \n",
      "149988    MOVE_UP       NaN  \n",
      "174426    MOVE_UP       NaN  \n",
      "190422  NEW_ENTRY       NaN  \n",
      "196053    MOVE_UP       NaN  \n"
     ]
    }
   ],
   "source": [
    "contain_values = new_data[new_data.artist.str.contains('Shakira')]\n",
    "print (contain_values)"
   ]
  },
  {
   "cell_type": "code",
   "execution_count": 13,
   "id": "7ae48ba2",
   "metadata": {},
   "outputs": [],
   "source": [
    "#200403  I Feel It Coming\n",
    "#209094   Save Your Tears\n",
    "# 1 Starboy"
   ]
  },
  {
   "cell_type": "markdown",
   "id": "2b7e9bbc",
   "metadata": {},
   "source": [
    "## Reducing the amount of data"
   ]
  },
  {
   "cell_type": "code",
   "execution_count": 32,
   "id": "85d51ee0",
   "metadata": {},
   "outputs": [
    {
     "data": {
      "text/html": [
       "<div>\n",
       "<style scoped>\n",
       "    .dataframe tbody tr th:only-of-type {\n",
       "        vertical-align: middle;\n",
       "    }\n",
       "\n",
       "    .dataframe tbody tr th {\n",
       "        vertical-align: top;\n",
       "    }\n",
       "\n",
       "    .dataframe thead th {\n",
       "        text-align: right;\n",
       "    }\n",
       "</style>\n",
       "<table border=\"1\" class=\"dataframe\">\n",
       "  <thead>\n",
       "    <tr style=\"text-align: right;\">\n",
       "      <th></th>\n",
       "      <th>title</th>\n",
       "      <th>rank</th>\n",
       "      <th>date</th>\n",
       "      <th>artist</th>\n",
       "      <th>url</th>\n",
       "      <th>region</th>\n",
       "      <th>chart</th>\n",
       "      <th>trend</th>\n",
       "      <th>streams</th>\n",
       "    </tr>\n",
       "  </thead>\n",
       "  <tbody>\n",
       "    <tr>\n",
       "      <th>1</th>\n",
       "      <td>Starboy</td>\n",
       "      <td>1</td>\n",
       "      <td>2017-01-01</td>\n",
       "      <td>The Weeknd, Daft Punk</td>\n",
       "      <td>https://open.spotify.com/track/5aAx2yezTd8zXrk...</td>\n",
       "      <td>Australia</td>\n",
       "      <td>top200</td>\n",
       "      <td>MOVE_UP</td>\n",
       "      <td>107350.0</td>\n",
       "    </tr>\n",
       "    <tr>\n",
       "      <th>2</th>\n",
       "      <td>Alone</td>\n",
       "      <td>1</td>\n",
       "      <td>2017-01-01</td>\n",
       "      <td>Alan Walker</td>\n",
       "      <td>https://open.spotify.com/track/0JiVRyTJcJnmlwC...</td>\n",
       "      <td>Austria</td>\n",
       "      <td>top200</td>\n",
       "      <td>MOVE_UP</td>\n",
       "      <td>12990.0</td>\n",
       "    </tr>\n",
       "    <tr>\n",
       "      <th>3</th>\n",
       "      <td>Hey Baby</td>\n",
       "      <td>1</td>\n",
       "      <td>2017-01-01</td>\n",
       "      <td>Dimitri Vegas &amp; Like Mike, Diplo, Deb’s Daughter</td>\n",
       "      <td>https://open.spotify.com/track/6yc377A8qxHIjPU...</td>\n",
       "      <td>Belgium</td>\n",
       "      <td>top200</td>\n",
       "      <td>MOVE_UP</td>\n",
       "      <td>23277.0</td>\n",
       "    </tr>\n",
       "    <tr>\n",
       "      <th>17</th>\n",
       "      <td>Hukutaan</td>\n",
       "      <td>1</td>\n",
       "      <td>2017-01-01</td>\n",
       "      <td>Arttu Lindeman</td>\n",
       "      <td>https://open.spotify.com/track/0i8qXP5jTcu3dPf...</td>\n",
       "      <td>Finland</td>\n",
       "      <td>top200</td>\n",
       "      <td>MOVE_UP</td>\n",
       "      <td>60220.0</td>\n",
       "    </tr>\n",
       "    <tr>\n",
       "      <th>25</th>\n",
       "      <td>Rockabye (feat. Sean Paul &amp; Anne-Marie)</td>\n",
       "      <td>1</td>\n",
       "      <td>2017-01-01</td>\n",
       "      <td>Clean Bandit</td>\n",
       "      <td>https://open.spotify.com/track/5knuzwU65gJK7IF...</td>\n",
       "      <td>Hungary</td>\n",
       "      <td>top200</td>\n",
       "      <td>MOVE_UP</td>\n",
       "      <td>6263.0</td>\n",
       "    </tr>\n",
       "  </tbody>\n",
       "</table>\n",
       "</div>"
      ],
      "text/plain": [
       "                                      title  rank        date  \\\n",
       "1                                   Starboy     1  2017-01-01   \n",
       "2                                     Alone     1  2017-01-01   \n",
       "3                                  Hey Baby     1  2017-01-01   \n",
       "17                                 Hukutaan     1  2017-01-01   \n",
       "25  Rockabye (feat. Sean Paul & Anne-Marie)     1  2017-01-01   \n",
       "\n",
       "                                              artist  \\\n",
       "1                              The Weeknd, Daft Punk   \n",
       "2                                        Alan Walker   \n",
       "3   Dimitri Vegas & Like Mike, Diplo, Deb’s Daughter   \n",
       "17                                    Arttu Lindeman   \n",
       "25                                      Clean Bandit   \n",
       "\n",
       "                                                  url     region   chart  \\\n",
       "1   https://open.spotify.com/track/5aAx2yezTd8zXrk...  Australia  top200   \n",
       "2   https://open.spotify.com/track/0JiVRyTJcJnmlwC...    Austria  top200   \n",
       "3   https://open.spotify.com/track/6yc377A8qxHIjPU...    Belgium  top200   \n",
       "17  https://open.spotify.com/track/0i8qXP5jTcu3dPf...    Finland  top200   \n",
       "25  https://open.spotify.com/track/5knuzwU65gJK7IF...    Hungary  top200   \n",
       "\n",
       "      trend   streams  \n",
       "1   MOVE_UP  107350.0  \n",
       "2   MOVE_UP   12990.0  \n",
       "3   MOVE_UP   23277.0  \n",
       "17  MOVE_UP   60220.0  \n",
       "25  MOVE_UP    6263.0  "
      ]
     },
     "execution_count": 32,
     "metadata": {},
     "output_type": "execute_result"
    }
   ],
   "source": [
    "new_data.head()"
   ]
  },
  {
   "cell_type": "code",
   "execution_count": null,
   "id": "7e4d3fb4",
   "metadata": {},
   "outputs": [],
   "source": []
  },
  {
   "cell_type": "code",
   "execution_count": 15,
   "id": "a29c1d15",
   "metadata": {},
   "outputs": [],
   "source": [
    "#new_data = new_data.drop(new_data[new_data.index > 20].index)                          # Using logical condition\n",
    "   "
   ]
  },
  {
   "cell_type": "code",
   "execution_count": 33,
   "id": "a63b1e81",
   "metadata": {},
   "outputs": [
    {
     "data": {
      "text/plain": [
       "(34130, 9)"
      ]
     },
     "execution_count": 33,
     "metadata": {},
     "output_type": "execute_result"
    }
   ],
   "source": [
    "new_data.shape"
   ]
  },
  {
   "cell_type": "code",
   "execution_count": 17,
   "id": "fcf11e3e",
   "metadata": {},
   "outputs": [
    {
     "data": {
      "text/html": [
       "<div>\n",
       "<style scoped>\n",
       "    .dataframe tbody tr th:only-of-type {\n",
       "        vertical-align: middle;\n",
       "    }\n",
       "\n",
       "    .dataframe tbody tr th {\n",
       "        vertical-align: top;\n",
       "    }\n",
       "\n",
       "    .dataframe thead th {\n",
       "        text-align: right;\n",
       "    }\n",
       "</style>\n",
       "<table border=\"1\" class=\"dataframe\">\n",
       "  <thead>\n",
       "    <tr style=\"text-align: right;\">\n",
       "      <th></th>\n",
       "      <th>title</th>\n",
       "      <th>rank</th>\n",
       "      <th>date</th>\n",
       "      <th>artist</th>\n",
       "      <th>url</th>\n",
       "      <th>region</th>\n",
       "      <th>chart</th>\n",
       "      <th>trend</th>\n",
       "      <th>streams</th>\n",
       "    </tr>\n",
       "  </thead>\n",
       "  <tbody>\n",
       "  </tbody>\n",
       "</table>\n",
       "</div>"
      ],
      "text/plain": [
       "Empty DataFrame\n",
       "Columns: [title, rank, date, artist, url, region, chart, trend, streams]\n",
       "Index: []"
      ]
     },
     "execution_count": 17,
     "metadata": {},
     "output_type": "execute_result"
    }
   ],
   "source": [
    "new_data.iloc[140087:140100,:]"
   ]
  },
  {
   "cell_type": "code",
   "execution_count": 18,
   "id": "de45a0e5",
   "metadata": {
    "scrolled": true
   },
   "outputs": [
    {
     "data": {
      "text/html": [
       "<div>\n",
       "<style scoped>\n",
       "    .dataframe tbody tr th:only-of-type {\n",
       "        vertical-align: middle;\n",
       "    }\n",
       "\n",
       "    .dataframe tbody tr th {\n",
       "        vertical-align: top;\n",
       "    }\n",
       "\n",
       "    .dataframe thead th {\n",
       "        text-align: right;\n",
       "    }\n",
       "</style>\n",
       "<table border=\"1\" class=\"dataframe\">\n",
       "  <thead>\n",
       "    <tr style=\"text-align: right;\">\n",
       "      <th></th>\n",
       "      <th>title</th>\n",
       "      <th>rank</th>\n",
       "      <th>date</th>\n",
       "      <th>artist</th>\n",
       "      <th>url</th>\n",
       "      <th>region</th>\n",
       "      <th>chart</th>\n",
       "      <th>trend</th>\n",
       "      <th>streams</th>\n",
       "    </tr>\n",
       "  </thead>\n",
       "  <tbody>\n",
       "    <tr>\n",
       "      <th>1</th>\n",
       "      <td>Starboy</td>\n",
       "      <td>1</td>\n",
       "      <td>2017-01-01</td>\n",
       "      <td>The Weeknd, Daft Punk</td>\n",
       "      <td>https://open.spotify.com/track/5aAx2yezTd8zXrk...</td>\n",
       "      <td>Australia</td>\n",
       "      <td>top200</td>\n",
       "      <td>MOVE_UP</td>\n",
       "      <td>107350.0</td>\n",
       "    </tr>\n",
       "    <tr>\n",
       "      <th>2</th>\n",
       "      <td>Alone</td>\n",
       "      <td>1</td>\n",
       "      <td>2017-01-01</td>\n",
       "      <td>Alan Walker</td>\n",
       "      <td>https://open.spotify.com/track/0JiVRyTJcJnmlwC...</td>\n",
       "      <td>Austria</td>\n",
       "      <td>top200</td>\n",
       "      <td>MOVE_UP</td>\n",
       "      <td>12990.0</td>\n",
       "    </tr>\n",
       "    <tr>\n",
       "      <th>3</th>\n",
       "      <td>Hey Baby</td>\n",
       "      <td>1</td>\n",
       "      <td>2017-01-01</td>\n",
       "      <td>Dimitri Vegas &amp; Like Mike, Diplo, Deb’s Daughter</td>\n",
       "      <td>https://open.spotify.com/track/6yc377A8qxHIjPU...</td>\n",
       "      <td>Belgium</td>\n",
       "      <td>top200</td>\n",
       "      <td>MOVE_UP</td>\n",
       "      <td>23277.0</td>\n",
       "    </tr>\n",
       "    <tr>\n",
       "      <th>17</th>\n",
       "      <td>Hukutaan</td>\n",
       "      <td>1</td>\n",
       "      <td>2017-01-01</td>\n",
       "      <td>Arttu Lindeman</td>\n",
       "      <td>https://open.spotify.com/track/0i8qXP5jTcu3dPf...</td>\n",
       "      <td>Finland</td>\n",
       "      <td>top200</td>\n",
       "      <td>MOVE_UP</td>\n",
       "      <td>60220.0</td>\n",
       "    </tr>\n",
       "  </tbody>\n",
       "</table>\n",
       "</div>"
      ],
      "text/plain": [
       "       title  rank        date  \\\n",
       "1    Starboy     1  2017-01-01   \n",
       "2      Alone     1  2017-01-01   \n",
       "3   Hey Baby     1  2017-01-01   \n",
       "17  Hukutaan     1  2017-01-01   \n",
       "\n",
       "                                              artist  \\\n",
       "1                              The Weeknd, Daft Punk   \n",
       "2                                        Alan Walker   \n",
       "3   Dimitri Vegas & Like Mike, Diplo, Deb’s Daughter   \n",
       "17                                    Arttu Lindeman   \n",
       "\n",
       "                                                  url     region   chart  \\\n",
       "1   https://open.spotify.com/track/5aAx2yezTd8zXrk...  Australia  top200   \n",
       "2   https://open.spotify.com/track/0JiVRyTJcJnmlwC...    Austria  top200   \n",
       "3   https://open.spotify.com/track/6yc377A8qxHIjPU...    Belgium  top200   \n",
       "17  https://open.spotify.com/track/0i8qXP5jTcu3dPf...    Finland  top200   \n",
       "\n",
       "      trend   streams  \n",
       "1   MOVE_UP  107350.0  \n",
       "2   MOVE_UP   12990.0  \n",
       "3   MOVE_UP   23277.0  \n",
       "17  MOVE_UP   60220.0  "
      ]
     },
     "execution_count": 18,
     "metadata": {},
     "output_type": "execute_result"
    }
   ],
   "source": [
    "new_data"
   ]
  },
  {
   "cell_type": "markdown",
   "id": "e882b51c",
   "metadata": {},
   "source": [
    "# Extracting artist and track name"
   ]
  },
  {
   "cell_type": "code",
   "execution_count": 34,
   "id": "4b2d734f",
   "metadata": {},
   "outputs": [],
   "source": [
    "def get_track_name(nr):\n",
    "    \n",
    "\n",
    "    track_string = str(new_data.title[nr])\n",
    "    \n",
    "    x = track_string.find(\" (\")\n",
    "    #y = artist_string.find(\"'\")\n",
    "    \n",
    "    if(int(x) < 0):\n",
    "        track_string = track_string\n",
    "    else:\n",
    "        track_string = track_string[:x]\n",
    "    \n",
    "    return track_string\n",
    "\n",
    "\n",
    "\n",
    "def get_track_artist(nr):\n",
    "    \n",
    "    artist_string = str(new_data.artist[nr])\n",
    "\n",
    "    y = artist_string.find(\", \")\n",
    "    x = artist_string.find(\" (\")\n",
    "    \n",
    "    if(int(x) > 0):\n",
    "        artist_string = artist_string.replace(\"' \", \"\")\n",
    "\n",
    "    if(int(y) > 0):\n",
    "        #artist_string = y\n",
    "        artist_string = artist_string[:y]     \n",
    "        \n",
    "    return artist_string"
   ]
  },
  {
   "cell_type": "code",
   "execution_count": 59,
   "id": "31316e62",
   "metadata": {},
   "outputs": [
    {
     "data": {
      "text/plain": [
       "'Save Your Tears'"
      ]
     },
     "execution_count": 59,
     "metadata": {},
     "output_type": "execute_result"
    }
   ],
   "source": [
    "get_track_name(209094)"
   ]
  },
  {
   "cell_type": "code",
   "execution_count": 60,
   "id": "d99b7028",
   "metadata": {},
   "outputs": [
    {
     "data": {
      "text/plain": [
       "'The Weeknd'"
      ]
     },
     "execution_count": 60,
     "metadata": {},
     "output_type": "execute_result"
    }
   ],
   "source": [
    "get_track_artist(209094)"
   ]
  },
  {
   "cell_type": "markdown",
   "id": "c907c880",
   "metadata": {},
   "source": [
    "# Getting URL"
   ]
  },
  {
   "cell_type": "code",
   "execution_count": 65,
   "id": "06709f51",
   "metadata": {},
   "outputs": [],
   "source": [
    "def get_url(track_nr):\n",
    "    \n",
    "    track = str(get_track_name(track_nr))\n",
    "    artist = str(get_track_artist(track_nr))\n",
    "    \n",
    "    x = track.find(\" \")\n",
    "    y = artist.find(\" \")\n",
    "    \n",
    "    if (int(artist.find(\" \")) > 0):\n",
    "        artist = artist.replace(\" \", \"-\")\n",
    "        \n",
    "    if (int(track.find(\" \")) > 0):\n",
    "        track = track.replace(\" \", \"-\")\n",
    "        \n",
    "    \n",
    "    \n",
    "    url_string = str('https://genius.com/' + artist + '-' + track + '-lyrics')\n",
    "    \n",
    "    return str(url_string)\n",
    "    "
   ]
  },
  {
   "cell_type": "code",
   "execution_count": 66,
   "id": "d18f9c1b",
   "metadata": {},
   "outputs": [
    {
     "data": {
      "text/plain": [
       "'https://genius.com/The-Weeknd-Save-Your-Tears-lyrics'"
      ]
     },
     "execution_count": 66,
     "metadata": {},
     "output_type": "execute_result"
    }
   ],
   "source": [
    "get_url(209094)"
   ]
  },
  {
   "cell_type": "markdown",
   "id": "39489bd5",
   "metadata": {},
   "source": [
    "# Scraping credits"
   ]
  },
  {
   "cell_type": "code",
   "execution_count": 67,
   "id": "da1a5a12",
   "metadata": {},
   "outputs": [],
   "source": [
    "def extract_credits(URL):\n",
    "    \n",
    "    # \"https://genius.com/Shakia-chantaje-lyrics\" <- url to check for raised exception\n",
    "    \n",
    "    r = requests.get(URL)\n",
    "    \n",
    "    if (int(r.status_code) == 200):\n",
    "\n",
    "\n",
    "        # Parsing the HTML\n",
    "        soup = BeautifulSoup(r.content, 'html.parser')\n",
    "        s = soup.find('div', class_='SongInfo__Columns-nekw6x-2 lgBflw')\n",
    "\n",
    "\n",
    "        featur = []\n",
    "        writer = []\n",
    "        label = []\n",
    "        producer = []\n",
    "\n",
    "        for line in s:\n",
    "            div = line.find('div').text\n",
    "            an = line.find_all('a')\n",
    "\n",
    "\n",
    "            if 'Featuring' in div: \n",
    "                extract = [x.text for x in an]\n",
    "                for x in extract:\n",
    "                    featur.append(x)\n",
    "\n",
    "\n",
    "\n",
    "            if 'Written By' in div:\n",
    "                extract = [x.text for x in an]\n",
    "                for x in extract:\n",
    "                    writer.append(x)\n",
    "\n",
    "\n",
    "\n",
    "            if 'Label' in div:\n",
    "                extract = [x.text for x in an]\n",
    "                for x in extract:\n",
    "                    label.append(x)\n",
    "\n",
    "            if 'Produced By' in div:\n",
    "                extract = [x.text for x in an]\n",
    "                for x in extract:\n",
    "                    producer.append(x)\n",
    "\n",
    "    else:\n",
    "        raise Exception(\"Sorry, no numbers below zero\") \n",
    "\n",
    "    collection = {\"Feature\":featur, \"Writer\":writer, \"Label\":label, \"Producer\":producer}        \n",
    "        \n",
    "        \n",
    "    return collection"
   ]
  },
  {
   "cell_type": "code",
   "execution_count": 77,
   "id": "7601477f",
   "metadata": {},
   "outputs": [],
   "source": [
    "#extLis = extract_credits(get_url(218900))\n",
    "#extLis = extract_credits(get_url(200403))\n",
    "#extLis = extract_credits(get_url(98))\n",
    "extLis = extract_credits(get_url(1))"
   ]
  },
  {
   "cell_type": "markdown",
   "id": "b9cde0b1",
   "metadata": {},
   "source": [
    "# Dict to csv"
   ]
  },
  {
   "cell_type": "code",
   "execution_count": 78,
   "id": "6abde134",
   "metadata": {},
   "outputs": [],
   "source": [
    "credit_list = pd.DataFrame.from_dict(extLis, orient='index').T"
   ]
  },
  {
   "cell_type": "code",
   "execution_count": 79,
   "id": "e34e1af4",
   "metadata": {},
   "outputs": [],
   "source": [
    "df = pd.DataFrame.from_dict(credit_list) \n",
    "df.to_csv (r'C:\\Users\\Nmtur\\.Neo4jDesktop\\relate-data\\dbmss\\dbms-20b18527-223b-4ada-8e62-429ad982fc9b\\import\\collaborators.csv', index = False, header=True)"
   ]
  },
  {
   "cell_type": "code",
   "execution_count": 80,
   "id": "60bb3c44",
   "metadata": {},
   "outputs": [
    {
     "data": {
      "text/html": [
       "<div>\n",
       "<style scoped>\n",
       "    .dataframe tbody tr th:only-of-type {\n",
       "        vertical-align: middle;\n",
       "    }\n",
       "\n",
       "    .dataframe tbody tr th {\n",
       "        vertical-align: top;\n",
       "    }\n",
       "\n",
       "    .dataframe thead th {\n",
       "        text-align: right;\n",
       "    }\n",
       "</style>\n",
       "<table border=\"1\" class=\"dataframe\">\n",
       "  <thead>\n",
       "    <tr style=\"text-align: right;\">\n",
       "      <th></th>\n",
       "      <th>Feature</th>\n",
       "      <th>Writer</th>\n",
       "      <th>Label</th>\n",
       "      <th>Producer</th>\n",
       "    </tr>\n",
       "  </thead>\n",
       "  <tbody>\n",
       "    <tr>\n",
       "      <th>0</th>\n",
       "      <td>Daft Punk</td>\n",
       "      <td>Guy-Manuel de Homem-Christo</td>\n",
       "      <td>XO Records</td>\n",
       "      <td>Daft Punk</td>\n",
       "    </tr>\n",
       "    <tr>\n",
       "      <th>1</th>\n",
       "      <td>None</td>\n",
       "      <td>Thomas Bangalter</td>\n",
       "      <td>Universal Music Group</td>\n",
       "      <td>Cirkut</td>\n",
       "    </tr>\n",
       "    <tr>\n",
       "      <th>2</th>\n",
       "      <td>None</td>\n",
       "      <td>DaHeala</td>\n",
       "      <td>Republic Records</td>\n",
       "      <td>Doc McKinney</td>\n",
       "    </tr>\n",
       "    <tr>\n",
       "      <th>3</th>\n",
       "      <td>None</td>\n",
       "      <td>The Weeknd</td>\n",
       "      <td>None</td>\n",
       "      <td>The Weeknd</td>\n",
       "    </tr>\n",
       "    <tr>\n",
       "      <th>4</th>\n",
       "      <td>None</td>\n",
       "      <td>Doc McKinney</td>\n",
       "      <td>None</td>\n",
       "      <td>None</td>\n",
       "    </tr>\n",
       "    <tr>\n",
       "      <th>5</th>\n",
       "      <td>None</td>\n",
       "      <td>Cirkut</td>\n",
       "      <td>None</td>\n",
       "      <td>None</td>\n",
       "    </tr>\n",
       "  </tbody>\n",
       "</table>\n",
       "</div>"
      ],
      "text/plain": [
       "     Feature                       Writer                  Label      Producer\n",
       "0  Daft Punk  Guy-Manuel de Homem-Christo             XO Records     Daft Punk\n",
       "1       None             Thomas Bangalter  Universal Music Group        Cirkut\n",
       "2       None                      DaHeala       Republic Records  Doc McKinney\n",
       "3       None                   The Weeknd                   None    The Weeknd\n",
       "4       None                 Doc McKinney                   None          None\n",
       "5       None                       Cirkut                   None          None"
      ]
     },
     "execution_count": 80,
     "metadata": {},
     "output_type": "execute_result"
    }
   ],
   "source": [
    "df"
   ]
  },
  {
   "cell_type": "markdown",
   "id": "e3e798f4",
   "metadata": {},
   "source": [
    "***"
   ]
  },
  {
   "cell_type": "markdown",
   "id": "ceb41ae7",
   "metadata": {},
   "source": [
    "# Neo4j"
   ]
  },
  {
   "cell_type": "code",
   "execution_count": 53,
   "id": "bb5d8344",
   "metadata": {},
   "outputs": [],
   "source": [
    "# Create connection to database\n",
    "\n",
    "class neo4jConnection:\n",
    "    \n",
    "    def __init__(self, uri, user, pwd):\n",
    "        self.__uri = uri\n",
    "        self.__user = user\n",
    "        self.__pwd = pwd\n",
    "        self.__driver = None\n",
    "        try:\n",
    "            self.__driver = GraphDatabase.driver(self.__uri, auth=(self.__user, self.__pwd))\n",
    "        except Exception as e:\n",
    "                print(\"Failed to create the driver: \", e)\n",
    "                \n",
    "    def query(self, query, db=None):\n",
    "        assert self.__driver is not None, \"Driver not initialized!\"\n",
    "        session = None\n",
    "        response = None\n",
    "        try:\n",
    "            session = self.__driver.session(database=db) if db is not None else self.__driver.session()\n",
    "            response = list(session.run(query))\n",
    "        except Exception as e:\n",
    "            print(\"Query failed!\", e)\n",
    "        finally:\n",
    "            if session is not None:\n",
    "                session.close()\n",
    "        return response\n",
    "    \n",
    "    def close(self):\n",
    "        if self.__driver is not None:\n",
    "            self.__driver.close()"
   ]
  },
  {
   "cell_type": "code",
   "execution_count": 55,
   "id": "1e2078f9",
   "metadata": {},
   "outputs": [],
   "source": [
    "# Connecting to database\n",
    "conn = neo4jConnection(uri=\"bolt://localhost:7687\", user=\"neo4j\", pwd=\"test123\")\n"
   ]
  },
  {
   "cell_type": "code",
   "execution_count": 56,
   "id": "8ca255d3",
   "metadata": {},
   "outputs": [
    {
     "data": {
      "text/plain": [
       "[]"
      ]
     },
     "execution_count": 56,
     "metadata": {},
     "output_type": "execute_result"
    }
   ],
   "source": [
    "conn.query('''MATCH (n) RETURN n;''')"
   ]
  },
  {
   "cell_type": "code",
   "execution_count": 75,
   "id": "4eca491e",
   "metadata": {},
   "outputs": [
    {
     "data": {
      "text/plain": [
       "'Save Your Tears'"
      ]
     },
     "execution_count": 75,
     "metadata": {},
     "output_type": "execute_result"
    }
   ],
   "source": [
    "artist = get_track_artist(209094)\n",
    "track = get_track_name(209094)\n",
    "track"
   ]
  },
  {
   "cell_type": "code",
   "execution_count": 76,
   "id": "7831989f",
   "metadata": {},
   "outputs": [
    {
     "data": {
      "text/plain": [
       "'The Weeknd'"
      ]
     },
     "execution_count": 76,
     "metadata": {},
     "output_type": "execute_result"
    }
   ],
   "source": [
    "artist"
   ]
  },
  {
   "cell_type": "markdown",
   "id": "9b47726e",
   "metadata": {},
   "source": [
    "### Different querys depending on the information in the csv file"
   ]
  },
  {
   "cell_type": "code",
   "execution_count": 85,
   "id": "da817e28",
   "metadata": {},
   "outputs": [
    {
     "data": {
      "text/plain": [
       "[]"
      ]
     },
     "execution_count": 85,
     "metadata": {},
     "output_type": "execute_result"
    }
   ],
   "source": [
    "conn.query('''CALL apoc.load.csv('collaborators.csv')\n",
    "YIELD lineNo, map, list\n",
    "WHERE map.Feature IS NOT NULL\n",
    "MERGE (f:Person {name:map.Feature})\n",
    "MERGE (a:Person {name:\"The Weeknd\"})\n",
    "MERGE (w:Person {name:map.Writer})\n",
    "MERGE (p:Person {name:map.Producer})\n",
    "MERGE (l:Label {name:map.Label})\n",
    "MERGE (s:Song {name:\"Starboy\"})\n",
    "MERGE (f)-[:COLLABORATED]-(a)\n",
    "MERGE (f)-[:FEATURED]->(s)\n",
    "MERGE (a)-[:SANG]->(s)\n",
    "MERGE (w)-[:WROTE]->(s)\n",
    "MERGE (l)-[:RELEASED]->(s)\n",
    "MERGE (p)-[:PRODUCED]->(s);\n",
    "''')"
   ]
  },
  {
   "cell_type": "code",
   "execution_count": 87,
   "id": "a223a236",
   "metadata": {},
   "outputs": [
    {
     "data": {
      "text/plain": [
       "[]"
      ]
     },
     "execution_count": 87,
     "metadata": {},
     "output_type": "execute_result"
    }
   ],
   "source": [
    "conn.query('''MATCH (f:Person) WHERE (f.name = \"\") detach delete f;''')"
   ]
  },
  {
   "cell_type": "code",
   "execution_count": 88,
   "id": "069a09be",
   "metadata": {},
   "outputs": [
    {
     "data": {
      "text/plain": [
       "[]"
      ]
     },
     "execution_count": 88,
     "metadata": {},
     "output_type": "execute_result"
    }
   ],
   "source": [
    "conn.query('''MATCH (l:Label) WHERE (l.name = \"\") detach delete l;''')"
   ]
  },
  {
   "cell_type": "code",
   "execution_count": 89,
   "id": "a8c3de32",
   "metadata": {},
   "outputs": [],
   "source": [
    "def run_querys():\n",
    "    conn.query('''CALL apoc.load.csv('collaborators.csv')\n",
    "    YIELD lineNo, map, list\n",
    "    WHERE map.Feature IS NOT NULL\n",
    "    MERGE (f:Person {name:map.Feature})\n",
    "    MERGE (a:Person {name:\"The Weeknd\"})\n",
    "    MERGE (w:Person {name:map.Writer})\n",
    "    MERGE (p:Person {name:map.Producer})\n",
    "    MERGE (l:Label {name:map.Label})\n",
    "    MERGE (s:Song {name:\"Starboy\"})\n",
    "    MERGE (f)-[:COLLABORATED]-(a)\n",
    "    MERGE (f)-[:FEATURED]->(s)\n",
    "    MERGE (a)-[:SANG]->(s)\n",
    "    MERGE (w)-[:WROTE]->(s)\n",
    "    MERGE (l)-[:RELEASED]->(s)\n",
    "    MERGE (p)-[:PRODUCED]->(s);\n",
    "    ''')\n",
    "    \n",
    "    conn.query('''MATCH (f:Person) WHERE (f.name = \"\") detach delete f;''')\n",
    "    \n",
    "    conn.query('''MATCH (l:Label) WHERE (l.name = \"\") detach delete l;''')"
   ]
  },
  {
   "cell_type": "code",
   "execution_count": 91,
   "id": "c50bbbd3",
   "metadata": {},
   "outputs": [],
   "source": [
    "run_querys()"
   ]
  },
  {
   "cell_type": "code",
   "execution_count": 634,
   "id": "63656d5d",
   "metadata": {},
   "outputs": [
    {
     "name": "stdout",
     "output_type": "stream",
     "text": [
      "Query failed! {code: Neo.ClientError.Statement.SemanticError} {message: Cannot merge the following node because of null property value for 'name': (:Label {name: null})}\n"
     ]
    }
   ],
   "source": [
    "# 200403\n",
    "conn.query('''LOAD CSV WITH HEADERS FROM \"file:///collaborators.csv\" AS row\n",
    "WITH row WHERE row.Feature IS NOT NULL\n",
    "MERGE (a:Person {name:row.Feature, title:\"Artist\"})\n",
    "MERGE (a1:Person {name:\"''' + artist + '''\", title:\"Artist\"})\n",
    "MERGE (l:Label {name:row.Label})\n",
    "CREATE (s:Song {name:\"''' + track + '''\"})\n",
    "MERGE (a)-[:COLLABORATED]-(a1)\n",
    "MERGE (a)-[:FEATURED]->(s)<-[:SANG]-(a1)\n",
    "MERGE (l)-[:RELEASED]->(s)\n",
    "''')"
   ]
  },
  {
   "cell_type": "code",
   "execution_count": 620,
   "id": "9ca5aaa3",
   "metadata": {},
   "outputs": [
    {
     "data": {
      "text/plain": [
       "[]"
      ]
     },
     "execution_count": 620,
     "metadata": {},
     "output_type": "execute_result"
    }
   ],
   "source": [
    "# WITHOUT FEATURE\n",
    "# 218900\n",
    "conn.query('''LOAD CSV WITH HEADERS FROM \"file:///collaborators.csv\" AS row\n",
    "\n",
    "WITH row WHERE row.Label IS NOT NULL\n",
    "MERGE (l:Label {name:row.Label})\n",
    "\n",
    "MERGE (p:Person {name:\"''' + artist + '''\", title:\"Artist\"})\n",
    "\n",
    "MERGE (s:Song {name:\"''' + track + '''\"})\n",
    "\n",
    "MERGE (p)-[:SANG]->(s)\n",
    "MERGE (l)-[:RELEASED]->(s)\n",
    "''')"
   ]
  },
  {
   "cell_type": "code",
   "execution_count": 635,
   "id": "dd32dab3",
   "metadata": {},
   "outputs": [
    {
     "data": {
      "text/plain": [
       "[]"
      ]
     },
     "execution_count": 635,
     "metadata": {},
     "output_type": "execute_result"
    }
   ],
   "source": [
    "conn.query('''LOAD CSV WITH HEADERS FROM \"file:///collaborators.csv\" AS row\n",
    "WITH row WHERE row.Feature IS NOT NULL\n",
    "MERGE (a:Person {name:row.Feature, title:\"Artist\"})\n",
    "MERGE (a1:Person {name:\"''' + artist + '''\", title:\"Artist\"})\n",
    "CREATE (s:Song {name:\"''' + track + '''\"})\n",
    "MERGE (a)-[:COLLABORATED]-(a1)\n",
    "MERGE (a)-[:FEATURED]->(s)<-[:SANG]-(a1)\n",
    "''')"
   ]
  },
  {
   "cell_type": "code",
   "execution_count": 536,
   "id": "76ef9fa1",
   "metadata": {},
   "outputs": [
    {
     "data": {
      "text/html": [
       "<div>\n",
       "<style scoped>\n",
       "    .dataframe tbody tr th:only-of-type {\n",
       "        vertical-align: middle;\n",
       "    }\n",
       "\n",
       "    .dataframe tbody tr th {\n",
       "        vertical-align: top;\n",
       "    }\n",
       "\n",
       "    .dataframe thead th {\n",
       "        text-align: right;\n",
       "    }\n",
       "</style>\n",
       "<table border=\"1\" class=\"dataframe\">\n",
       "  <thead>\n",
       "    <tr style=\"text-align: right;\">\n",
       "      <th></th>\n",
       "      <th>Feature</th>\n",
       "      <th>Writer</th>\n",
       "      <th>Label</th>\n",
       "      <th>Producer</th>\n",
       "    </tr>\n",
       "  </thead>\n",
       "  <tbody>\n",
       "    <tr>\n",
       "      <th>0</th>\n",
       "      <td>None</td>\n",
       "      <td>The Weeknd</td>\n",
       "      <td>XO Records</td>\n",
       "      <td>Oscar Holter</td>\n",
       "    </tr>\n",
       "    <tr>\n",
       "      <th>1</th>\n",
       "      <td>None</td>\n",
       "      <td>Belly</td>\n",
       "      <td>Republic Records</td>\n",
       "      <td>Max Martin</td>\n",
       "    </tr>\n",
       "    <tr>\n",
       "      <th>2</th>\n",
       "      <td>None</td>\n",
       "      <td>DaHeala</td>\n",
       "      <td>None</td>\n",
       "      <td>The Weeknd</td>\n",
       "    </tr>\n",
       "    <tr>\n",
       "      <th>3</th>\n",
       "      <td>None</td>\n",
       "      <td>Oscar Holter</td>\n",
       "      <td>None</td>\n",
       "      <td>None</td>\n",
       "    </tr>\n",
       "    <tr>\n",
       "      <th>4</th>\n",
       "      <td>None</td>\n",
       "      <td>Max Martin</td>\n",
       "      <td>None</td>\n",
       "      <td>None</td>\n",
       "    </tr>\n",
       "  </tbody>\n",
       "</table>\n",
       "</div>"
      ],
      "text/plain": [
       "  Feature        Writer             Label      Producer\n",
       "0    None    The Weeknd        XO Records  Oscar Holter\n",
       "1    None         Belly  Republic Records    Max Martin\n",
       "2    None       DaHeala              None    The Weeknd\n",
       "3    None  Oscar Holter              None          None\n",
       "4    None    Max Martin              None          None"
      ]
     },
     "execution_count": 536,
     "metadata": {},
     "output_type": "execute_result"
    }
   ],
   "source": [
    "df"
   ]
  },
  {
   "cell_type": "code",
   "execution_count": null,
   "id": "f8beca1c",
   "metadata": {},
   "outputs": [],
   "source": []
  }
 ],
 "metadata": {
  "kernelspec": {
   "display_name": "Python 3 (ipykernel)",
   "language": "python",
   "name": "python3"
  },
  "language_info": {
   "codemirror_mode": {
    "name": "ipython",
    "version": 3
   },
   "file_extension": ".py",
   "mimetype": "text/x-python",
   "name": "python",
   "nbconvert_exporter": "python",
   "pygments_lexer": "ipython3",
   "version": "3.9.7"
  }
 },
 "nbformat": 4,
 "nbformat_minor": 5
}
