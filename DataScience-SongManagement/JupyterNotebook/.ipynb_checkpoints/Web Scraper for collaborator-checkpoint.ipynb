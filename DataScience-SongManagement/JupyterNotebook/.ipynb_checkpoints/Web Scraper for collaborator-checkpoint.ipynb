{
 "cells": [
  {
   "cell_type": "markdown",
   "id": "19eb40ce",
   "metadata": {},
   "source": [
    "# Creating the web scraper"
   ]
  },
  {
   "cell_type": "code",
   "execution_count": 291,
   "id": "fa213622",
   "metadata": {},
   "outputs": [],
   "source": [
    "import numpy as np\n",
    "import pandas as pd\n",
    "import matplotlib.pyplot as plt\n",
    "import seaborn as sns\n",
    "\n",
    "from sklearn.linear_model import LinearRegression\n",
    "from sklearn import linear_model\n",
    "from sklearn.preprocessing import PolynomialFeatures\n",
    "import sklearn.metrics as sm\n",
    "\n",
    "\n",
    "import re\n",
    "\n",
    "import spotipy\n",
    "from spotipy.oauth2 import SpotifyClientCredentials\n",
    "\n",
    "import csv\n",
    "import requests\n",
    "import json\n",
    "from pandas.io.json import json_normalize\n",
    "from urllib.request import urlopen\n",
    "from bs4 import BeautifulSoup\n",
    "\n",
    "\n",
    "from neo4j import GraphDatabase \n",
    "from py2neo import Graph,Node,Relationship"
   ]
  },
  {
   "cell_type": "markdown",
   "id": "d3a0007f",
   "metadata": {},
   "source": [
    "# Getting the dataset"
   ]
  },
  {
   "cell_type": "code",
   "execution_count": 61,
   "id": "ea1f53e7",
   "metadata": {},
   "outputs": [],
   "source": [
    "data = pd.read_csv('charts.csv')"
   ]
  },
  {
   "cell_type": "code",
   "execution_count": 335,
   "id": "61effecd",
   "metadata": {},
   "outputs": [],
   "source": [
    "refined_data = data.loc[(data[\"rank\"] == 1)]"
   ]
  },
  {
   "cell_type": "code",
   "execution_count": 327,
   "id": "5114dd35",
   "metadata": {},
   "outputs": [],
   "source": [
    "new_index = [1,2,3,4,5,6,7,8,9,10,11,12,133,14,15,16,17,18,19,20]"
   ]
  },
  {
   "cell_type": "code",
   "execution_count": 355,
   "id": "e0ce7e20",
   "metadata": {},
   "outputs": [],
   "source": [
    "new_data = refined_data.reset_index(drop = True)"
   ]
  },
  {
   "cell_type": "code",
   "execution_count": 356,
   "id": "de3da0d2",
   "metadata": {},
   "outputs": [
    {
     "data": {
      "text/plain": [
       "(227253, 9)"
      ]
     },
     "execution_count": 356,
     "metadata": {},
     "output_type": "execute_result"
    }
   ],
   "source": [
    "refined_data.shape"
   ]
  },
  {
   "cell_type": "code",
   "execution_count": 357,
   "id": "88da53a6",
   "metadata": {},
   "outputs": [],
   "source": [
    "index_names = new_data[new_data['trend'] == 'SAME_POSITION' ].index"
   ]
  },
  {
   "cell_type": "code",
   "execution_count": 359,
   "id": "5a2eac9e",
   "metadata": {},
   "outputs": [],
   "source": [
    "new_data.drop(index_names, inplace=True)"
   ]
  },
  {
   "cell_type": "code",
   "execution_count": 360,
   "id": "7f5c68df",
   "metadata": {},
   "outputs": [
    {
     "data": {
      "text/plain": [
       "(34130, 9)"
      ]
     },
     "execution_count": 360,
     "metadata": {},
     "output_type": "execute_result"
    }
   ],
   "source": [
    "new_data.shape"
   ]
  },
  {
   "cell_type": "code",
   "execution_count": 364,
   "id": "0f06170e",
   "metadata": {},
   "outputs": [
    {
     "data": {
      "text/plain": [
       "Int64Index([   469,   1184,   3255,   3317,   3631,   4007,   5528,   5780,\n",
       "              6005,   6194,\n",
       "            ...\n",
       "            162475, 163287, 163700, 163963, 178545, 179500, 199986, 209094,\n",
       "            217979, 218900],\n",
       "           dtype='int64', length=310)"
      ]
     },
     "execution_count": 364,
     "metadata": {},
     "output_type": "execute_result"
    }
   ],
   "source": [
    "new_data[new_data['artist'] == 'The Weeknd' ].index"
   ]
  },
  {
   "cell_type": "code",
   "execution_count": null,
   "id": "6a64de88",
   "metadata": {},
   "outputs": [],
   "source": []
  },
  {
   "cell_type": "markdown",
   "id": "af2ca0e7",
   "metadata": {},
   "source": [
    "## Reducing the amount of data"
   ]
  },
  {
   "cell_type": "code",
   "execution_count": 330,
   "id": "027863ec",
   "metadata": {},
   "outputs": [
    {
     "data": {
      "text/html": [
       "<div>\n",
       "<style scoped>\n",
       "    .dataframe tbody tr th:only-of-type {\n",
       "        vertical-align: middle;\n",
       "    }\n",
       "\n",
       "    .dataframe tbody tr th {\n",
       "        vertical-align: top;\n",
       "    }\n",
       "\n",
       "    .dataframe thead th {\n",
       "        text-align: right;\n",
       "    }\n",
       "</style>\n",
       "<table border=\"1\" class=\"dataframe\">\n",
       "  <thead>\n",
       "    <tr style=\"text-align: right;\">\n",
       "      <th></th>\n",
       "      <th>title</th>\n",
       "      <th>rank</th>\n",
       "      <th>date</th>\n",
       "      <th>artist</th>\n",
       "      <th>url</th>\n",
       "      <th>region</th>\n",
       "      <th>chart</th>\n",
       "      <th>trend</th>\n",
       "      <th>streams</th>\n",
       "    </tr>\n",
       "  </thead>\n",
       "  <tbody>\n",
       "    <tr>\n",
       "      <th>0</th>\n",
       "      <td>Chantaje (feat. Maluma)</td>\n",
       "      <td>1</td>\n",
       "      <td>2017-01-01</td>\n",
       "      <td>Shakira</td>\n",
       "      <td>https://open.spotify.com/track/6mICuAdrwEjh6Y6...</td>\n",
       "      <td>Argentina</td>\n",
       "      <td>top200</td>\n",
       "      <td>SAME_POSITION</td>\n",
       "      <td>253019.0</td>\n",
       "    </tr>\n",
       "    <tr>\n",
       "      <th>1</th>\n",
       "      <td>Starboy</td>\n",
       "      <td>1</td>\n",
       "      <td>2017-01-01</td>\n",
       "      <td>The Weeknd, Daft Punk</td>\n",
       "      <td>https://open.spotify.com/track/5aAx2yezTd8zXrk...</td>\n",
       "      <td>Australia</td>\n",
       "      <td>top200</td>\n",
       "      <td>MOVE_UP</td>\n",
       "      <td>107350.0</td>\n",
       "    </tr>\n",
       "    <tr>\n",
       "      <th>2</th>\n",
       "      <td>Alone</td>\n",
       "      <td>1</td>\n",
       "      <td>2017-01-01</td>\n",
       "      <td>Alan Walker</td>\n",
       "      <td>https://open.spotify.com/track/0JiVRyTJcJnmlwC...</td>\n",
       "      <td>Austria</td>\n",
       "      <td>top200</td>\n",
       "      <td>MOVE_UP</td>\n",
       "      <td>12990.0</td>\n",
       "    </tr>\n",
       "    <tr>\n",
       "      <th>3</th>\n",
       "      <td>Hey Baby</td>\n",
       "      <td>1</td>\n",
       "      <td>2017-01-01</td>\n",
       "      <td>Dimitri Vegas &amp; Like Mike, Diplo, Deb’s Daughter</td>\n",
       "      <td>https://open.spotify.com/track/6yc377A8qxHIjPU...</td>\n",
       "      <td>Belgium</td>\n",
       "      <td>top200</td>\n",
       "      <td>MOVE_UP</td>\n",
       "      <td>23277.0</td>\n",
       "    </tr>\n",
       "    <tr>\n",
       "      <th>4</th>\n",
       "      <td>Reggaetón Lento (Bailemos)</td>\n",
       "      <td>1</td>\n",
       "      <td>2017-01-01</td>\n",
       "      <td>CNCO</td>\n",
       "      <td>https://open.spotify.com/track/3AEZUABDXNtecAO...</td>\n",
       "      <td>Bolivia</td>\n",
       "      <td>top200</td>\n",
       "      <td>SAME_POSITION</td>\n",
       "      <td>6784.0</td>\n",
       "    </tr>\n",
       "  </tbody>\n",
       "</table>\n",
       "</div>"
      ],
      "text/plain": [
       "                        title  rank        date  \\\n",
       "0     Chantaje (feat. Maluma)     1  2017-01-01   \n",
       "1                     Starboy     1  2017-01-01   \n",
       "2                       Alone     1  2017-01-01   \n",
       "3                    Hey Baby     1  2017-01-01   \n",
       "4  Reggaetón Lento (Bailemos)     1  2017-01-01   \n",
       "\n",
       "                                             artist  \\\n",
       "0                                           Shakira   \n",
       "1                             The Weeknd, Daft Punk   \n",
       "2                                       Alan Walker   \n",
       "3  Dimitri Vegas & Like Mike, Diplo, Deb’s Daughter   \n",
       "4                                              CNCO   \n",
       "\n",
       "                                                 url     region   chart  \\\n",
       "0  https://open.spotify.com/track/6mICuAdrwEjh6Y6...  Argentina  top200   \n",
       "1  https://open.spotify.com/track/5aAx2yezTd8zXrk...  Australia  top200   \n",
       "2  https://open.spotify.com/track/0JiVRyTJcJnmlwC...    Austria  top200   \n",
       "3  https://open.spotify.com/track/6yc377A8qxHIjPU...    Belgium  top200   \n",
       "4  https://open.spotify.com/track/3AEZUABDXNtecAO...    Bolivia  top200   \n",
       "\n",
       "           trend   streams  \n",
       "0  SAME_POSITION  253019.0  \n",
       "1        MOVE_UP  107350.0  \n",
       "2        MOVE_UP   12990.0  \n",
       "3        MOVE_UP   23277.0  \n",
       "4  SAME_POSITION    6784.0  "
      ]
     },
     "execution_count": 330,
     "metadata": {},
     "output_type": "execute_result"
    }
   ],
   "source": [
    "new_data.head()"
   ]
  },
  {
   "cell_type": "code",
   "execution_count": null,
   "id": "dfc79ec9",
   "metadata": {},
   "outputs": [],
   "source": []
  },
  {
   "cell_type": "code",
   "execution_count": 331,
   "id": "439535de",
   "metadata": {},
   "outputs": [],
   "source": [
    "new_data = new_data.drop(new_data[new_data.index > 20].index)                          # Using logical condition\n",
    "   "
   ]
  },
  {
   "cell_type": "code",
   "execution_count": 332,
   "id": "bd9e5861",
   "metadata": {},
   "outputs": [
    {
     "data": {
      "text/plain": [
       "(21, 9)"
      ]
     },
     "execution_count": 332,
     "metadata": {},
     "output_type": "execute_result"
    }
   ],
   "source": [
    "new_data.shape"
   ]
  },
  {
   "cell_type": "code",
   "execution_count": 354,
   "id": "e6636608",
   "metadata": {},
   "outputs": [
    {
     "data": {
      "text/html": [
       "<div>\n",
       "<style scoped>\n",
       "    .dataframe tbody tr th:only-of-type {\n",
       "        vertical-align: middle;\n",
       "    }\n",
       "\n",
       "    .dataframe tbody tr th {\n",
       "        vertical-align: top;\n",
       "    }\n",
       "\n",
       "    .dataframe thead th {\n",
       "        text-align: right;\n",
       "    }\n",
       "</style>\n",
       "<table border=\"1\" class=\"dataframe\">\n",
       "  <thead>\n",
       "    <tr style=\"text-align: right;\">\n",
       "      <th></th>\n",
       "      <th>title</th>\n",
       "      <th>rank</th>\n",
       "      <th>date</th>\n",
       "      <th>artist</th>\n",
       "      <th>url</th>\n",
       "      <th>region</th>\n",
       "      <th>chart</th>\n",
       "      <th>trend</th>\n",
       "      <th>streams</th>\n",
       "    </tr>\n",
       "  </thead>\n",
       "  <tbody>\n",
       "    <tr>\n",
       "      <th>140087</th>\n",
       "      <td>Falling</td>\n",
       "      <td>1</td>\n",
       "      <td>2019-12-05</td>\n",
       "      <td>Trevor Daniel</td>\n",
       "      <td>https://open.spotify.com/track/4TnjEaWOeW0eKTK...</td>\n",
       "      <td>Egypt</td>\n",
       "      <td>viral50</td>\n",
       "      <td>SAME_POSITION</td>\n",
       "      <td>NaN</td>\n",
       "    </tr>\n",
       "    <tr>\n",
       "      <th>140088</th>\n",
       "      <td>Tusa</td>\n",
       "      <td>1</td>\n",
       "      <td>2019-12-05</td>\n",
       "      <td>KAROL G, Nicki Minaj</td>\n",
       "      <td>https://open.spotify.com/track/7k4t7uLgtOxPwTp...</td>\n",
       "      <td>El Salvador</td>\n",
       "      <td>viral50</td>\n",
       "      <td>SAME_POSITION</td>\n",
       "      <td>NaN</td>\n",
       "    </tr>\n",
       "    <tr>\n",
       "      <th>140089</th>\n",
       "      <td>Falling</td>\n",
       "      <td>1</td>\n",
       "      <td>2019-12-05</td>\n",
       "      <td>Trevor Daniel</td>\n",
       "      <td>https://open.spotify.com/track/4TnjEaWOeW0eKTK...</td>\n",
       "      <td>Estonia</td>\n",
       "      <td>viral50</td>\n",
       "      <td>SAME_POSITION</td>\n",
       "      <td>NaN</td>\n",
       "    </tr>\n",
       "    <tr>\n",
       "      <th>140090</th>\n",
       "      <td>Falling</td>\n",
       "      <td>1</td>\n",
       "      <td>2019-12-05</td>\n",
       "      <td>Trevor Daniel</td>\n",
       "      <td>https://open.spotify.com/track/4TnjEaWOeW0eKTK...</td>\n",
       "      <td>Finland</td>\n",
       "      <td>viral50</td>\n",
       "      <td>SAME_POSITION</td>\n",
       "      <td>NaN</td>\n",
       "    </tr>\n",
       "    <tr>\n",
       "      <th>140091</th>\n",
       "      <td>Bim Bam toi</td>\n",
       "      <td>1</td>\n",
       "      <td>2019-12-05</td>\n",
       "      <td>Carla</td>\n",
       "      <td>https://open.spotify.com/track/33NTeQz7sVYLmkJ...</td>\n",
       "      <td>France</td>\n",
       "      <td>viral50</td>\n",
       "      <td>MOVE_UP</td>\n",
       "      <td>NaN</td>\n",
       "    </tr>\n",
       "    <tr>\n",
       "      <th>140092</th>\n",
       "      <td>Falling</td>\n",
       "      <td>1</td>\n",
       "      <td>2019-12-05</td>\n",
       "      <td>Trevor Daniel</td>\n",
       "      <td>https://open.spotify.com/track/4TnjEaWOeW0eKTK...</td>\n",
       "      <td>Germany</td>\n",
       "      <td>viral50</td>\n",
       "      <td>MOVE_UP</td>\n",
       "      <td>NaN</td>\n",
       "    </tr>\n",
       "    <tr>\n",
       "      <th>140093</th>\n",
       "      <td>Lebih Dari Egoku</td>\n",
       "      <td>1</td>\n",
       "      <td>2019-12-05</td>\n",
       "      <td>Mawar de Jongh</td>\n",
       "      <td>https://open.spotify.com/track/4vh193RZbEEBanS...</td>\n",
       "      <td>Global</td>\n",
       "      <td>viral50</td>\n",
       "      <td>SAME_POSITION</td>\n",
       "      <td>NaN</td>\n",
       "    </tr>\n",
       "    <tr>\n",
       "      <th>140094</th>\n",
       "      <td>Falling</td>\n",
       "      <td>1</td>\n",
       "      <td>2019-12-05</td>\n",
       "      <td>Trevor Daniel</td>\n",
       "      <td>https://open.spotify.com/track/4TnjEaWOeW0eKTK...</td>\n",
       "      <td>Greece</td>\n",
       "      <td>viral50</td>\n",
       "      <td>SAME_POSITION</td>\n",
       "      <td>NaN</td>\n",
       "    </tr>\n",
       "    <tr>\n",
       "      <th>140095</th>\n",
       "      <td>Jenny (I Wanna Ruin Our Friendship)</td>\n",
       "      <td>1</td>\n",
       "      <td>2020-12-07</td>\n",
       "      <td>Studio Killers</td>\n",
       "      <td>https://open.spotify.com/track/7lgA34nFXxjqQgy...</td>\n",
       "      <td>Iceland</td>\n",
       "      <td>viral50</td>\n",
       "      <td>MOVE_UP</td>\n",
       "      <td>NaN</td>\n",
       "    </tr>\n",
       "    <tr>\n",
       "      <th>140096</th>\n",
       "      <td>501</td>\n",
       "      <td>1</td>\n",
       "      <td>2021-03-14</td>\n",
       "      <td>Bilal Wahib, Ronnie Flex</td>\n",
       "      <td>https://open.spotify.com/track/0Fl4PBfIwC5G1IQ...</td>\n",
       "      <td>Netherlands</td>\n",
       "      <td>top200</td>\n",
       "      <td>SAME_POSITION</td>\n",
       "      <td>304282.0</td>\n",
       "    </tr>\n",
       "    <tr>\n",
       "      <th>140097</th>\n",
       "      <td>RÉT</td>\n",
       "      <td>1</td>\n",
       "      <td>2020-12-07</td>\n",
       "      <td>Azahriah, DESH</td>\n",
       "      <td>https://open.spotify.com/track/7EQq2RCCbFOR7Xn...</td>\n",
       "      <td>Hungary</td>\n",
       "      <td>viral50</td>\n",
       "      <td>SAME_POSITION</td>\n",
       "      <td>NaN</td>\n",
       "    </tr>\n",
       "    <tr>\n",
       "      <th>140098</th>\n",
       "      <td>Sibelius: Masonic Ritual Music, Op. 113: XII. ...</td>\n",
       "      <td>1</td>\n",
       "      <td>2020-12-07</td>\n",
       "      <td>Jean Sibelius, YL Male Voice Choir, Matti Hyokki</td>\n",
       "      <td>https://open.spotify.com/track/2S8mEXlAIRin5l0...</td>\n",
       "      <td>Finland</td>\n",
       "      <td>viral50</td>\n",
       "      <td>SAME_POSITION</td>\n",
       "      <td>NaN</td>\n",
       "    </tr>\n",
       "    <tr>\n",
       "      <th>140099</th>\n",
       "      <td>Tusa</td>\n",
       "      <td>1</td>\n",
       "      <td>2019-12-05</td>\n",
       "      <td>KAROL G, Nicki Minaj</td>\n",
       "      <td>https://open.spotify.com/track/7k4t7uLgtOxPwTp...</td>\n",
       "      <td>Guatemala</td>\n",
       "      <td>viral50</td>\n",
       "      <td>SAME_POSITION</td>\n",
       "      <td>NaN</td>\n",
       "    </tr>\n",
       "  </tbody>\n",
       "</table>\n",
       "</div>"
      ],
      "text/plain": [
       "                                                    title  rank        date  \\\n",
       "140087                                            Falling     1  2019-12-05   \n",
       "140088                                               Tusa     1  2019-12-05   \n",
       "140089                                            Falling     1  2019-12-05   \n",
       "140090                                            Falling     1  2019-12-05   \n",
       "140091                                        Bim Bam toi     1  2019-12-05   \n",
       "140092                                            Falling     1  2019-12-05   \n",
       "140093                                   Lebih Dari Egoku     1  2019-12-05   \n",
       "140094                                            Falling     1  2019-12-05   \n",
       "140095                Jenny (I Wanna Ruin Our Friendship)     1  2020-12-07   \n",
       "140096                                                501     1  2021-03-14   \n",
       "140097                                                RÉT     1  2020-12-07   \n",
       "140098  Sibelius: Masonic Ritual Music, Op. 113: XII. ...     1  2020-12-07   \n",
       "140099                                               Tusa     1  2019-12-05   \n",
       "\n",
       "                                                  artist  \\\n",
       "140087                                     Trevor Daniel   \n",
       "140088                              KAROL G, Nicki Minaj   \n",
       "140089                                     Trevor Daniel   \n",
       "140090                                     Trevor Daniel   \n",
       "140091                                             Carla   \n",
       "140092                                     Trevor Daniel   \n",
       "140093                                    Mawar de Jongh   \n",
       "140094                                     Trevor Daniel   \n",
       "140095                                    Studio Killers   \n",
       "140096                          Bilal Wahib, Ronnie Flex   \n",
       "140097                                    Azahriah, DESH   \n",
       "140098  Jean Sibelius, YL Male Voice Choir, Matti Hyokki   \n",
       "140099                              KAROL G, Nicki Minaj   \n",
       "\n",
       "                                                      url       region  \\\n",
       "140087  https://open.spotify.com/track/4TnjEaWOeW0eKTK...        Egypt   \n",
       "140088  https://open.spotify.com/track/7k4t7uLgtOxPwTp...  El Salvador   \n",
       "140089  https://open.spotify.com/track/4TnjEaWOeW0eKTK...      Estonia   \n",
       "140090  https://open.spotify.com/track/4TnjEaWOeW0eKTK...      Finland   \n",
       "140091  https://open.spotify.com/track/33NTeQz7sVYLmkJ...       France   \n",
       "140092  https://open.spotify.com/track/4TnjEaWOeW0eKTK...      Germany   \n",
       "140093  https://open.spotify.com/track/4vh193RZbEEBanS...       Global   \n",
       "140094  https://open.spotify.com/track/4TnjEaWOeW0eKTK...       Greece   \n",
       "140095  https://open.spotify.com/track/7lgA34nFXxjqQgy...      Iceland   \n",
       "140096  https://open.spotify.com/track/0Fl4PBfIwC5G1IQ...  Netherlands   \n",
       "140097  https://open.spotify.com/track/7EQq2RCCbFOR7Xn...      Hungary   \n",
       "140098  https://open.spotify.com/track/2S8mEXlAIRin5l0...      Finland   \n",
       "140099  https://open.spotify.com/track/7k4t7uLgtOxPwTp...    Guatemala   \n",
       "\n",
       "          chart          trend   streams  \n",
       "140087  viral50  SAME_POSITION       NaN  \n",
       "140088  viral50  SAME_POSITION       NaN  \n",
       "140089  viral50  SAME_POSITION       NaN  \n",
       "140090  viral50  SAME_POSITION       NaN  \n",
       "140091  viral50        MOVE_UP       NaN  \n",
       "140092  viral50        MOVE_UP       NaN  \n",
       "140093  viral50  SAME_POSITION       NaN  \n",
       "140094  viral50  SAME_POSITION       NaN  \n",
       "140095  viral50        MOVE_UP       NaN  \n",
       "140096   top200  SAME_POSITION  304282.0  \n",
       "140097  viral50  SAME_POSITION       NaN  \n",
       "140098  viral50  SAME_POSITION       NaN  \n",
       "140099  viral50  SAME_POSITION       NaN  "
      ]
     },
     "execution_count": 354,
     "metadata": {},
     "output_type": "execute_result"
    }
   ],
   "source": [
    "new_data.iloc[140087:140100,:]"
   ]
  },
  {
   "cell_type": "code",
   "execution_count": 342,
   "id": "02c049af",
   "metadata": {
    "scrolled": true
   },
   "outputs": [
    {
     "data": {
      "text/html": [
       "<div>\n",
       "<style scoped>\n",
       "    .dataframe tbody tr th:only-of-type {\n",
       "        vertical-align: middle;\n",
       "    }\n",
       "\n",
       "    .dataframe tbody tr th {\n",
       "        vertical-align: top;\n",
       "    }\n",
       "\n",
       "    .dataframe thead th {\n",
       "        text-align: right;\n",
       "    }\n",
       "</style>\n",
       "<table border=\"1\" class=\"dataframe\">\n",
       "  <thead>\n",
       "    <tr style=\"text-align: right;\">\n",
       "      <th></th>\n",
       "      <th>title</th>\n",
       "      <th>rank</th>\n",
       "      <th>date</th>\n",
       "      <th>artist</th>\n",
       "      <th>url</th>\n",
       "      <th>region</th>\n",
       "      <th>chart</th>\n",
       "      <th>trend</th>\n",
       "      <th>streams</th>\n",
       "    </tr>\n",
       "  </thead>\n",
       "  <tbody>\n",
       "    <tr>\n",
       "      <th>0</th>\n",
       "      <td>Chantaje (feat. Maluma)</td>\n",
       "      <td>1</td>\n",
       "      <td>2017-01-01</td>\n",
       "      <td>Shakira</td>\n",
       "      <td>https://open.spotify.com/track/6mICuAdrwEjh6Y6...</td>\n",
       "      <td>Argentina</td>\n",
       "      <td>top200</td>\n",
       "      <td>SAME_POSITION</td>\n",
       "      <td>253019.0</td>\n",
       "    </tr>\n",
       "    <tr>\n",
       "      <th>1</th>\n",
       "      <td>Starboy</td>\n",
       "      <td>1</td>\n",
       "      <td>2017-01-01</td>\n",
       "      <td>The Weeknd, Daft Punk</td>\n",
       "      <td>https://open.spotify.com/track/5aAx2yezTd8zXrk...</td>\n",
       "      <td>Australia</td>\n",
       "      <td>top200</td>\n",
       "      <td>MOVE_UP</td>\n",
       "      <td>107350.0</td>\n",
       "    </tr>\n",
       "    <tr>\n",
       "      <th>2</th>\n",
       "      <td>Alone</td>\n",
       "      <td>1</td>\n",
       "      <td>2017-01-01</td>\n",
       "      <td>Alan Walker</td>\n",
       "      <td>https://open.spotify.com/track/0JiVRyTJcJnmlwC...</td>\n",
       "      <td>Austria</td>\n",
       "      <td>top200</td>\n",
       "      <td>MOVE_UP</td>\n",
       "      <td>12990.0</td>\n",
       "    </tr>\n",
       "    <tr>\n",
       "      <th>3</th>\n",
       "      <td>Hey Baby</td>\n",
       "      <td>1</td>\n",
       "      <td>2017-01-01</td>\n",
       "      <td>Dimitri Vegas &amp; Like Mike, Diplo, Deb’s Daughter</td>\n",
       "      <td>https://open.spotify.com/track/6yc377A8qxHIjPU...</td>\n",
       "      <td>Belgium</td>\n",
       "      <td>top200</td>\n",
       "      <td>MOVE_UP</td>\n",
       "      <td>23277.0</td>\n",
       "    </tr>\n",
       "    <tr>\n",
       "      <th>4</th>\n",
       "      <td>Reggaetón Lento (Bailemos)</td>\n",
       "      <td>1</td>\n",
       "      <td>2017-01-01</td>\n",
       "      <td>CNCO</td>\n",
       "      <td>https://open.spotify.com/track/3AEZUABDXNtecAO...</td>\n",
       "      <td>Bolivia</td>\n",
       "      <td>top200</td>\n",
       "      <td>SAME_POSITION</td>\n",
       "      <td>6784.0</td>\n",
       "    </tr>\n",
       "    <tr>\n",
       "      <th>...</th>\n",
       "      <td>...</td>\n",
       "      <td>...</td>\n",
       "      <td>...</td>\n",
       "      <td>...</td>\n",
       "      <td>...</td>\n",
       "      <td>...</td>\n",
       "      <td>...</td>\n",
       "      <td>...</td>\n",
       "      <td>...</td>\n",
       "    </tr>\n",
       "    <tr>\n",
       "      <th>227248</th>\n",
       "      <td>double take</td>\n",
       "      <td>1</td>\n",
       "      <td>2021-07-31</td>\n",
       "      <td>dhruv</td>\n",
       "      <td>https://open.spotify.com/track/2CVChktEKBsM6v4...</td>\n",
       "      <td>United Arab Emirates</td>\n",
       "      <td>viral50</td>\n",
       "      <td>MOVE_UP</td>\n",
       "      <td>NaN</td>\n",
       "    </tr>\n",
       "    <tr>\n",
       "      <th>227249</th>\n",
       "      <td>Diamond in the rough</td>\n",
       "      <td>1</td>\n",
       "      <td>2021-07-31</td>\n",
       "      <td>Arik Ancelin</td>\n",
       "      <td>https://open.spotify.com/track/54AtiA08i3sDfJY...</td>\n",
       "      <td>United Kingdom</td>\n",
       "      <td>viral50</td>\n",
       "      <td>SAME_POSITION</td>\n",
       "      <td>NaN</td>\n",
       "    </tr>\n",
       "    <tr>\n",
       "      <th>227250</th>\n",
       "      <td>Diamond in the rough</td>\n",
       "      <td>1</td>\n",
       "      <td>2021-07-31</td>\n",
       "      <td>Arik Ancelin</td>\n",
       "      <td>https://open.spotify.com/track/54AtiA08i3sDfJY...</td>\n",
       "      <td>United States</td>\n",
       "      <td>viral50</td>\n",
       "      <td>SAME_POSITION</td>\n",
       "      <td>NaN</td>\n",
       "    </tr>\n",
       "    <tr>\n",
       "      <th>227251</th>\n",
       "      <td>Beggin'</td>\n",
       "      <td>1</td>\n",
       "      <td>2021-07-31</td>\n",
       "      <td>Måneskin</td>\n",
       "      <td>https://open.spotify.com/track/3Wrjm47oTz2sjIg...</td>\n",
       "      <td>Uruguay</td>\n",
       "      <td>viral50</td>\n",
       "      <td>SAME_POSITION</td>\n",
       "      <td>NaN</td>\n",
       "    </tr>\n",
       "    <tr>\n",
       "      <th>227252</th>\n",
       "      <td>Beneath the Rain</td>\n",
       "      <td>1</td>\n",
       "      <td>2021-07-31</td>\n",
       "      <td>Nom Tunes</td>\n",
       "      <td>https://open.spotify.com/track/6ZHU9U1sN9raVSm...</td>\n",
       "      <td>Vietnam</td>\n",
       "      <td>viral50</td>\n",
       "      <td>SAME_POSITION</td>\n",
       "      <td>NaN</td>\n",
       "    </tr>\n",
       "  </tbody>\n",
       "</table>\n",
       "<p>227253 rows × 9 columns</p>\n",
       "</div>"
      ],
      "text/plain": [
       "                             title  rank        date  \\\n",
       "0          Chantaje (feat. Maluma)     1  2017-01-01   \n",
       "1                          Starboy     1  2017-01-01   \n",
       "2                            Alone     1  2017-01-01   \n",
       "3                         Hey Baby     1  2017-01-01   \n",
       "4       Reggaetón Lento (Bailemos)     1  2017-01-01   \n",
       "...                            ...   ...         ...   \n",
       "227248                 double take     1  2021-07-31   \n",
       "227249        Diamond in the rough     1  2021-07-31   \n",
       "227250        Diamond in the rough     1  2021-07-31   \n",
       "227251                     Beggin'     1  2021-07-31   \n",
       "227252            Beneath the Rain     1  2021-07-31   \n",
       "\n",
       "                                                  artist  \\\n",
       "0                                                Shakira   \n",
       "1                                  The Weeknd, Daft Punk   \n",
       "2                                            Alan Walker   \n",
       "3       Dimitri Vegas & Like Mike, Diplo, Deb’s Daughter   \n",
       "4                                                   CNCO   \n",
       "...                                                  ...   \n",
       "227248                                             dhruv   \n",
       "227249                                      Arik Ancelin   \n",
       "227250                                      Arik Ancelin   \n",
       "227251                                          Måneskin   \n",
       "227252                                         Nom Tunes   \n",
       "\n",
       "                                                      url  \\\n",
       "0       https://open.spotify.com/track/6mICuAdrwEjh6Y6...   \n",
       "1       https://open.spotify.com/track/5aAx2yezTd8zXrk...   \n",
       "2       https://open.spotify.com/track/0JiVRyTJcJnmlwC...   \n",
       "3       https://open.spotify.com/track/6yc377A8qxHIjPU...   \n",
       "4       https://open.spotify.com/track/3AEZUABDXNtecAO...   \n",
       "...                                                   ...   \n",
       "227248  https://open.spotify.com/track/2CVChktEKBsM6v4...   \n",
       "227249  https://open.spotify.com/track/54AtiA08i3sDfJY...   \n",
       "227250  https://open.spotify.com/track/54AtiA08i3sDfJY...   \n",
       "227251  https://open.spotify.com/track/3Wrjm47oTz2sjIg...   \n",
       "227252  https://open.spotify.com/track/6ZHU9U1sN9raVSm...   \n",
       "\n",
       "                      region    chart          trend   streams  \n",
       "0                  Argentina   top200  SAME_POSITION  253019.0  \n",
       "1                  Australia   top200        MOVE_UP  107350.0  \n",
       "2                    Austria   top200        MOVE_UP   12990.0  \n",
       "3                    Belgium   top200        MOVE_UP   23277.0  \n",
       "4                    Bolivia   top200  SAME_POSITION    6784.0  \n",
       "...                      ...      ...            ...       ...  \n",
       "227248  United Arab Emirates  viral50        MOVE_UP       NaN  \n",
       "227249        United Kingdom  viral50  SAME_POSITION       NaN  \n",
       "227250         United States  viral50  SAME_POSITION       NaN  \n",
       "227251               Uruguay  viral50  SAME_POSITION       NaN  \n",
       "227252               Vietnam  viral50  SAME_POSITION       NaN  \n",
       "\n",
       "[227253 rows x 9 columns]"
      ]
     },
     "execution_count": 342,
     "metadata": {},
     "output_type": "execute_result"
    }
   ],
   "source": [
    "new_data"
   ]
  },
  {
   "cell_type": "markdown",
   "id": "95217936",
   "metadata": {},
   "source": [
    "# Extracting artist and track name"
   ]
  },
  {
   "cell_type": "code",
   "execution_count": 199,
   "id": "bb11dbcc",
   "metadata": {},
   "outputs": [],
   "source": [
    "def get_track_name(nr):\n",
    "    \n",
    "\n",
    "    track_string = str(new_data.title[nr])\n",
    "    \n",
    "    x = track_string.find(\" (\")\n",
    "    #y = artist_string.find(\"'\")\n",
    "    \n",
    "    if(int(x) < 0):\n",
    "        track_string = track_string\n",
    "    else:\n",
    "        track_string = track_string[:x]\n",
    "    \n",
    "    return track_string\n",
    "\n",
    "\n",
    "\n",
    "def get_track_artist(nr):\n",
    "    \n",
    "    artist_string = str(new_data.artist[nr])\n",
    "\n",
    "    y = artist_string.find(\", \")\n",
    "    x = artist_string.find(\" (\")\n",
    "    \n",
    "    if(int(x) > 0):\n",
    "        artist_string = artist_string.replace(\"' \", \"\")\n",
    "\n",
    "    if(int(y) > 0):\n",
    "        #artist_string = y\n",
    "        artist_string = artist_string[:y]     \n",
    "        \n",
    "    return artist_string"
   ]
  },
  {
   "cell_type": "code",
   "execution_count": 201,
   "id": "2248e9e2",
   "metadata": {},
   "outputs": [
    {
     "data": {
      "text/plain": [
       "'Starboy'"
      ]
     },
     "execution_count": 201,
     "metadata": {},
     "output_type": "execute_result"
    }
   ],
   "source": [
    "get_track_name(1)"
   ]
  },
  {
   "cell_type": "code",
   "execution_count": 202,
   "id": "ff4db9b4",
   "metadata": {},
   "outputs": [
    {
     "data": {
      "text/plain": [
       "'The Weeknd'"
      ]
     },
     "execution_count": 202,
     "metadata": {},
     "output_type": "execute_result"
    }
   ],
   "source": [
    "get_track_artist(1)"
   ]
  },
  {
   "cell_type": "markdown",
   "id": "5759f8f6",
   "metadata": {},
   "source": [
    "# Getting URL"
   ]
  },
  {
   "cell_type": "code",
   "execution_count": 240,
   "id": "cfd1124a",
   "metadata": {},
   "outputs": [],
   "source": [
    "def get_url(track_nr):\n",
    "    \n",
    "    track = str(get_track_name(track_nr))\n",
    "    artist = str(get_track_artist(track_nr))\n",
    "    \n",
    "    x = track.find(\" \")\n",
    "    y = artist.find(\" \")\n",
    "    \n",
    "    if (int(artist.find(\" \")) > 0):\n",
    "        artist = artist.replace(\" \", \"-\")\n",
    "        \n",
    "    if (int(track.find(\" \")) > 0):\n",
    "        track = track.replace(\" \", \"-\")\n",
    "        \n",
    "    \n",
    "    \n",
    "    url_string = str('https://genius.com/' + artist + '-' + track + '-lyrics')\n",
    "    \n",
    "    return str(url_string)\n",
    "    "
   ]
  },
  {
   "cell_type": "code",
   "execution_count": 241,
   "id": "526163ef",
   "metadata": {},
   "outputs": [
    {
     "data": {
      "text/plain": [
       "'https://genius.com/The-Weeknd-Starboy-lyrics'"
      ]
     },
     "execution_count": 241,
     "metadata": {},
     "output_type": "execute_result"
    }
   ],
   "source": [
    "get_url(1)"
   ]
  },
  {
   "cell_type": "markdown",
   "id": "cc36759d",
   "metadata": {},
   "source": [
    "# Scraping credits"
   ]
  },
  {
   "cell_type": "code",
   "execution_count": 262,
   "id": "9614e9bd",
   "metadata": {},
   "outputs": [],
   "source": [
    "def extract_credits(URL):\n",
    "    \n",
    "    # \"https://genius.com/Shakia-chantaje-lyrics\" <- url to check for raised exception\n",
    "    \n",
    "    r = requests.get(URL)\n",
    "    \n",
    "    if (int(r.status_code) == 200):\n",
    "\n",
    "\n",
    "        # Parsing the HTML\n",
    "        soup = BeautifulSoup(r.content, 'html.parser')\n",
    "        s = soup.find('div', class_='SongInfo__Columns-nekw6x-2 lgBflw')\n",
    "\n",
    "\n",
    "        featur = []\n",
    "        writer = []\n",
    "        label = []\n",
    "        producer = []\n",
    "\n",
    "        for line in s:\n",
    "            div = line.find('div').text\n",
    "            an = line.find_all('a')\n",
    "\n",
    "\n",
    "            if 'Featuring' in div: \n",
    "                extract = [x.text for x in an]\n",
    "                for x in extract:\n",
    "                    featur.append(x)\n",
    "\n",
    "\n",
    "\n",
    "            if 'Written By' in div:\n",
    "                extract = [x.text for x in an]\n",
    "                for x in extract:\n",
    "                    writer.append(x)\n",
    "\n",
    "\n",
    "\n",
    "            if 'Label' in div:\n",
    "                extract = [x.text for x in an]\n",
    "                for x in extract:\n",
    "                    label.append(x)\n",
    "\n",
    "            if 'Produced By' in div:\n",
    "                extract = [x.text for x in an]\n",
    "                for x in extract:\n",
    "                    producer.append(x)\n",
    "\n",
    "    else:\n",
    "        raise Exception(\"Sorry, no numbers below zero\") \n",
    "\n",
    "    collection = {\"Feature\":featur, \"Writer\":writer, \"Label\":label, \"Producer\":producer}        \n",
    "        \n",
    "        \n",
    "    return collection"
   ]
  },
  {
   "cell_type": "code",
   "execution_count": 266,
   "id": "f63b3aa1",
   "metadata": {},
   "outputs": [],
   "source": [
    "extLis = extract_credits(get_url(1))"
   ]
  },
  {
   "cell_type": "markdown",
   "id": "3a7814a9",
   "metadata": {},
   "source": [
    "# Dict to csv"
   ]
  },
  {
   "cell_type": "code",
   "execution_count": 267,
   "id": "81d9a308",
   "metadata": {},
   "outputs": [],
   "source": [
    "credit_list = pd.DataFrame.from_dict(extLis, orient='index').T"
   ]
  },
  {
   "cell_type": "code",
   "execution_count": 305,
   "id": "75849772",
   "metadata": {},
   "outputs": [],
   "source": [
    "df = pd.DataFrame.from_dict(credit_list) \n",
    "df.to_csv (r'C:\\Users\\Nmtur\\.Neo4jDesktop\\relate-data\\dbmss\\dbms-20b18527-223b-4ada-8e62-429ad982fc9b\\import\\test8.csv', index = False, header=True)"
   ]
  },
  {
   "cell_type": "markdown",
   "id": "c3796ccc",
   "metadata": {},
   "source": [
    "***"
   ]
  },
  {
   "cell_type": "markdown",
   "id": "935fc1fc",
   "metadata": {},
   "source": [
    "# Neo4j"
   ]
  },
  {
   "cell_type": "code",
   "execution_count": 285,
   "id": "f127c3e9",
   "metadata": {},
   "outputs": [],
   "source": [
    "# Create connection to database\n",
    "\n",
    "class neo4jConnection:\n",
    "    \n",
    "    def __init__(self, uri, user, pwd):\n",
    "        self.__uri = uri\n",
    "        self.__user = user\n",
    "        self.__pwd = pwd\n",
    "        self.__driver = None\n",
    "        try:\n",
    "            self.__driver = GraphDatabase.driver(self.__uri, auth=(self.__user, self.__pwd))\n",
    "        except Exception as e:\n",
    "                print(\"Failed to create the driver: \", e)\n",
    "                \n",
    "    def query(self, query, db=None):\n",
    "        assert self.__driver is not None, \"Driver not initialized!\"\n",
    "        session = None\n",
    "        response = None\n",
    "        try:\n",
    "            session = self.__driver.session(database=db) if db is not None else self.__driver.session()\n",
    "            response = list(session.run(query))\n",
    "        except Exception as e:\n",
    "            print(\"Query failed!\", e)\n",
    "        finally:\n",
    "            if session is not None:\n",
    "                session.close()\n",
    "        return response\n",
    "    \n",
    "    def close(self):\n",
    "        if self.__driver is not None:\n",
    "            self.__driver.close()"
   ]
  },
  {
   "cell_type": "code",
   "execution_count": 295,
   "id": "a8abd589",
   "metadata": {},
   "outputs": [],
   "source": [
    "# Connecting to database\n",
    "conn = neo4jConnection(uri=\"bolt://localhost:7687\", user=\"neo4j\", pwd=\"test123\")\n"
   ]
  },
  {
   "cell_type": "code",
   "execution_count": 296,
   "id": "e7614138",
   "metadata": {},
   "outputs": [
    {
     "data": {
      "text/plain": [
       "[<Record n=<Node id=0 labels=frozenset({'Person'}) properties={'name': 'Maluma', 'title': 'Artist'}>>,\n",
       " <Record n=<Node id=1 labels=frozenset({'Person'}) properties={'name': 'Ricky Martin', 'title': 'Artist'}>>,\n",
       " <Record n=<Node id=2 labels=frozenset({'Label'}) properties={'name': 'Sony Music'}>>,\n",
       " <Record n=<Node id=3 labels=frozenset({'Song'}) properties={'name': \"Vente Pa' Ca\"}>>,\n",
       " <Record n=<Node id=4 labels=frozenset({'Label'}) properties={'name': 'Sony Music'}>>,\n",
       " <Record n=<Node id=5 labels=frozenset({'Song'}) properties={'name': \"Vente Pa' Ca\", 'writers': 'Ronny Svendsen'}>>]"
      ]
     },
     "execution_count": 296,
     "metadata": {},
     "output_type": "execute_result"
    }
   ],
   "source": [
    "conn.query('''MATCH (n) RETURN n;''')"
   ]
  },
  {
   "cell_type": "code",
   "execution_count": 302,
   "id": "f7fcef9e",
   "metadata": {},
   "outputs": [
    {
     "data": {
      "text/plain": [
       "str"
      ]
     },
     "execution_count": 302,
     "metadata": {},
     "output_type": "execute_result"
    }
   ],
   "source": [
    "artist = get_track_artist(1)\n",
    "track = get_track_name(1)\n"
   ]
  },
  {
   "cell_type": "code",
   "execution_count": 306,
   "id": "06ddccbc",
   "metadata": {},
   "outputs": [
    {
     "data": {
      "text/plain": [
       "[]"
      ]
     },
     "execution_count": 306,
     "metadata": {},
     "output_type": "execute_result"
    }
   ],
   "source": [
    "conn.query('''LOAD CSV WITH HEADERS FROM \"file:///test8.csv\" AS row\n",
    "WITH row WHERE row.Feature IS NOT NULL\n",
    "MERGE (a:Person {name:row.Feature, title:\"Artist\"})\n",
    "MERGE (a1:Person {name:\"''' + artist + '''\", title:\"Artist\"})\n",
    "CREATE (l:Label {name:row.Label})\n",
    "CREATE (s:Song {name:\"''' + track + '''\"})\n",
    "MERGE (a)-[:COLLABORATED]-(a1)\n",
    "MERGE (a)-[:FEATURED]->(s)<-[:SANG]-(a1)\n",
    "MERGE (l)-[:RELEASED]->(s)\n",
    "''')"
   ]
  },
  {
   "cell_type": "code",
   "execution_count": null,
   "id": "28012146",
   "metadata": {},
   "outputs": [],
   "source": []
  }
 ],
 "metadata": {
  "kernelspec": {
   "display_name": "Python 3 (ipykernel)",
   "language": "python",
   "name": "python3"
  },
  "language_info": {
   "codemirror_mode": {
    "name": "ipython",
    "version": 3
   },
   "file_extension": ".py",
   "mimetype": "text/x-python",
   "name": "python",
   "nbconvert_exporter": "python",
   "pygments_lexer": "ipython3",
   "version": "3.9.7"
  }
 },
 "nbformat": 4,
 "nbformat_minor": 5
}
