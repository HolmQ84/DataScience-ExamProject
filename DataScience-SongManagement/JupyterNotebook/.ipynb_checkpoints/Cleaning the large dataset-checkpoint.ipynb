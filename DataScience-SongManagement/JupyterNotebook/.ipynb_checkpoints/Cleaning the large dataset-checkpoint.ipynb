{
 "cells": [
  {
   "cell_type": "markdown",
   "id": "1a402eb4",
   "metadata": {},
   "source": [
    "# This is for cleaning the big dataset from spotify."
   ]
  },
  {
   "cell_type": "markdown",
   "id": "84b8f643",
   "metadata": {},
   "source": [
    "## Importing large dataset"
   ]
  },
  {
   "cell_type": "code",
   "execution_count": 1,
   "id": "ccbc86b2",
   "metadata": {},
   "outputs": [],
   "source": [
    "import numpy as np\n",
    "import pandas as pd\n",
    "import matplotlib.pyplot as plt\n",
    "import seaborn as sns\n",
    "\n",
    "from sklearn.linear_model import LinearRegression\n",
    "from sklearn import linear_model\n",
    "from sklearn.preprocessing import PolynomialFeatures\n",
    "import sklearn.metrics as sm\n",
    "\n",
    "\n",
    "import re\n",
    "\n",
    "import spotipy\n",
    "from spotipy.oauth2 import SpotifyClientCredentials\n",
    "\n",
    "import csv\n",
    "import requests\n",
    "import json\n",
    "from pandas.io.json import json_normalize\n",
    "from urllib.request import urlopen"
   ]
  },
  {
   "cell_type": "code",
   "execution_count": 2,
   "id": "7499392b",
   "metadata": {},
   "outputs": [],
   "source": [
    "data = pd.read_csv(\"charts/charts.csv\")"
   ]
  },
  {
   "cell_type": "markdown",
   "id": "f4e5d781",
   "metadata": {},
   "source": [
    "## Inspecting the data"
   ]
  },
  {
   "cell_type": "code",
   "execution_count": 3,
   "id": "b3804888",
   "metadata": {},
   "outputs": [
    {
     "data": {
      "text/plain": [
       "(26173514, 9)"
      ]
     },
     "execution_count": 3,
     "metadata": {},
     "output_type": "execute_result"
    }
   ],
   "source": [
    "data.shape"
   ]
  },
  {
   "cell_type": "code",
   "execution_count": 4,
   "id": "cb737107",
   "metadata": {},
   "outputs": [
    {
     "data": {
      "text/plain": [
       "Index(['title', 'rank', 'date', 'artist', 'url', 'region', 'chart', 'trend',\n",
       "       'streams'],\n",
       "      dtype='object')"
      ]
     },
     "execution_count": 4,
     "metadata": {},
     "output_type": "execute_result"
    }
   ],
   "source": [
    "data.columns"
   ]
  },
  {
   "cell_type": "code",
   "execution_count": 5,
   "id": "e8e9dfd7",
   "metadata": {},
   "outputs": [
    {
     "data": {
      "text/plain": [
       "['title',\n",
       " 'rank',\n",
       " 'date',\n",
       " 'artist',\n",
       " 'url',\n",
       " 'region',\n",
       " 'chart',\n",
       " 'trend',\n",
       " 'streams']"
      ]
     },
     "execution_count": 5,
     "metadata": {},
     "output_type": "execute_result"
    }
   ],
   "source": [
    "#See the attribute labels\n",
    "list(data)"
   ]
  },
  {
   "cell_type": "markdown",
   "id": "a5da0b2b",
   "metadata": {},
   "source": [
    "## Data Exploration"
   ]
  },
  {
   "cell_type": "code",
   "execution_count": 6,
   "id": "b6a37e32",
   "metadata": {},
   "outputs": [
    {
     "data": {
      "text/plain": [
       "title       object\n",
       "rank         int64\n",
       "date        object\n",
       "artist      object\n",
       "url         object\n",
       "region      object\n",
       "chart       object\n",
       "trend       object\n",
       "streams    float64\n",
       "dtype: object"
      ]
     },
     "execution_count": 6,
     "metadata": {},
     "output_type": "execute_result"
    }
   ],
   "source": [
    "#Attribute types\n",
    "data.dtypes"
   ]
  },
  {
   "cell_type": "code",
   "execution_count": 7,
   "id": "6354cc95",
   "metadata": {},
   "outputs": [
    {
     "data": {
      "text/html": [
       "<div>\n",
       "<style scoped>\n",
       "    .dataframe tbody tr th:only-of-type {\n",
       "        vertical-align: middle;\n",
       "    }\n",
       "\n",
       "    .dataframe tbody tr th {\n",
       "        vertical-align: top;\n",
       "    }\n",
       "\n",
       "    .dataframe thead th {\n",
       "        text-align: right;\n",
       "    }\n",
       "</style>\n",
       "<table border=\"1\" class=\"dataframe\">\n",
       "  <thead>\n",
       "    <tr style=\"text-align: right;\">\n",
       "      <th></th>\n",
       "      <th>rank</th>\n",
       "      <th>streams</th>\n",
       "    </tr>\n",
       "  </thead>\n",
       "  <tbody>\n",
       "    <tr>\n",
       "      <th>count</th>\n",
       "      <td>2.617351e+07</td>\n",
       "      <td>2.032190e+07</td>\n",
       "    </tr>\n",
       "    <tr>\n",
       "      <th>mean</th>\n",
       "      <td>8.092314e+01</td>\n",
       "      <td>5.526131e+04</td>\n",
       "    </tr>\n",
       "    <tr>\n",
       "      <th>std</th>\n",
       "      <td>5.918601e+01</td>\n",
       "      <td>2.095872e+05</td>\n",
       "    </tr>\n",
       "    <tr>\n",
       "      <th>min</th>\n",
       "      <td>1.000000e+00</td>\n",
       "      <td>1.001000e+03</td>\n",
       "    </tr>\n",
       "    <tr>\n",
       "      <th>25%</th>\n",
       "      <td>2.900000e+01</td>\n",
       "      <td>3.546000e+03</td>\n",
       "    </tr>\n",
       "    <tr>\n",
       "      <th>50%</th>\n",
       "      <td>6.700000e+01</td>\n",
       "      <td>9.565000e+03</td>\n",
       "    </tr>\n",
       "    <tr>\n",
       "      <th>75%</th>\n",
       "      <td>1.310000e+02</td>\n",
       "      <td>3.540900e+04</td>\n",
       "    </tr>\n",
       "    <tr>\n",
       "      <th>max</th>\n",
       "      <td>2.000000e+02</td>\n",
       "      <td>1.974970e+07</td>\n",
       "    </tr>\n",
       "  </tbody>\n",
       "</table>\n",
       "</div>"
      ],
      "text/plain": [
       "               rank       streams\n",
       "count  2.617351e+07  2.032190e+07\n",
       "mean   8.092314e+01  5.526131e+04\n",
       "std    5.918601e+01  2.095872e+05\n",
       "min    1.000000e+00  1.001000e+03\n",
       "25%    2.900000e+01  3.546000e+03\n",
       "50%    6.700000e+01  9.565000e+03\n",
       "75%    1.310000e+02  3.540900e+04\n",
       "max    2.000000e+02  1.974970e+07"
      ]
     },
     "execution_count": 7,
     "metadata": {},
     "output_type": "execute_result"
    }
   ],
   "source": [
    "# Getting some insights of the value scope\n",
    "\n",
    "data.describe()"
   ]
  },
  {
   "cell_type": "code",
   "execution_count": 8,
   "id": "950ea327",
   "metadata": {},
   "outputs": [
    {
     "data": {
      "text/html": [
       "<div>\n",
       "<style scoped>\n",
       "    .dataframe tbody tr th:only-of-type {\n",
       "        vertical-align: middle;\n",
       "    }\n",
       "\n",
       "    .dataframe tbody tr th {\n",
       "        vertical-align: top;\n",
       "    }\n",
       "\n",
       "    .dataframe thead th {\n",
       "        text-align: right;\n",
       "    }\n",
       "</style>\n",
       "<table border=\"1\" class=\"dataframe\">\n",
       "  <thead>\n",
       "    <tr style=\"text-align: right;\">\n",
       "      <th></th>\n",
       "      <th>title</th>\n",
       "      <th>rank</th>\n",
       "      <th>date</th>\n",
       "      <th>artist</th>\n",
       "      <th>url</th>\n",
       "      <th>region</th>\n",
       "      <th>chart</th>\n",
       "      <th>trend</th>\n",
       "      <th>streams</th>\n",
       "    </tr>\n",
       "  </thead>\n",
       "  <tbody>\n",
       "    <tr>\n",
       "      <th>0</th>\n",
       "      <td>Chantaje (feat. Maluma)</td>\n",
       "      <td>1</td>\n",
       "      <td>2017-01-01</td>\n",
       "      <td>Shakira</td>\n",
       "      <td>https://open.spotify.com/track/6mICuAdrwEjh6Y6...</td>\n",
       "      <td>Argentina</td>\n",
       "      <td>top200</td>\n",
       "      <td>SAME_POSITION</td>\n",
       "      <td>253019.0</td>\n",
       "    </tr>\n",
       "    <tr>\n",
       "      <th>1</th>\n",
       "      <td>Vente Pa' Ca (feat. Maluma)</td>\n",
       "      <td>2</td>\n",
       "      <td>2017-01-01</td>\n",
       "      <td>Ricky Martin</td>\n",
       "      <td>https://open.spotify.com/track/7DM4BPaS7uofFul...</td>\n",
       "      <td>Argentina</td>\n",
       "      <td>top200</td>\n",
       "      <td>MOVE_UP</td>\n",
       "      <td>223988.0</td>\n",
       "    </tr>\n",
       "    <tr>\n",
       "      <th>2</th>\n",
       "      <td>Reggaetón Lento (Bailemos)</td>\n",
       "      <td>3</td>\n",
       "      <td>2017-01-01</td>\n",
       "      <td>CNCO</td>\n",
       "      <td>https://open.spotify.com/track/3AEZUABDXNtecAO...</td>\n",
       "      <td>Argentina</td>\n",
       "      <td>top200</td>\n",
       "      <td>MOVE_DOWN</td>\n",
       "      <td>210943.0</td>\n",
       "    </tr>\n",
       "    <tr>\n",
       "      <th>3</th>\n",
       "      <td>Safari</td>\n",
       "      <td>4</td>\n",
       "      <td>2017-01-01</td>\n",
       "      <td>J Balvin, Pharrell Williams, BIA, Sky</td>\n",
       "      <td>https://open.spotify.com/track/6rQSrBHf7HlZjtc...</td>\n",
       "      <td>Argentina</td>\n",
       "      <td>top200</td>\n",
       "      <td>SAME_POSITION</td>\n",
       "      <td>173865.0</td>\n",
       "    </tr>\n",
       "    <tr>\n",
       "      <th>4</th>\n",
       "      <td>Shaky Shaky</td>\n",
       "      <td>5</td>\n",
       "      <td>2017-01-01</td>\n",
       "      <td>Daddy Yankee</td>\n",
       "      <td>https://open.spotify.com/track/58IL315gMSTD37D...</td>\n",
       "      <td>Argentina</td>\n",
       "      <td>top200</td>\n",
       "      <td>MOVE_UP</td>\n",
       "      <td>153956.0</td>\n",
       "    </tr>\n",
       "  </tbody>\n",
       "</table>\n",
       "</div>"
      ],
      "text/plain": [
       "                         title  rank        date  \\\n",
       "0      Chantaje (feat. Maluma)     1  2017-01-01   \n",
       "1  Vente Pa' Ca (feat. Maluma)     2  2017-01-01   \n",
       "2   Reggaetón Lento (Bailemos)     3  2017-01-01   \n",
       "3                       Safari     4  2017-01-01   \n",
       "4                  Shaky Shaky     5  2017-01-01   \n",
       "\n",
       "                                  artist  \\\n",
       "0                                Shakira   \n",
       "1                           Ricky Martin   \n",
       "2                                   CNCO   \n",
       "3  J Balvin, Pharrell Williams, BIA, Sky   \n",
       "4                           Daddy Yankee   \n",
       "\n",
       "                                                 url     region   chart  \\\n",
       "0  https://open.spotify.com/track/6mICuAdrwEjh6Y6...  Argentina  top200   \n",
       "1  https://open.spotify.com/track/7DM4BPaS7uofFul...  Argentina  top200   \n",
       "2  https://open.spotify.com/track/3AEZUABDXNtecAO...  Argentina  top200   \n",
       "3  https://open.spotify.com/track/6rQSrBHf7HlZjtc...  Argentina  top200   \n",
       "4  https://open.spotify.com/track/58IL315gMSTD37D...  Argentina  top200   \n",
       "\n",
       "           trend   streams  \n",
       "0  SAME_POSITION  253019.0  \n",
       "1        MOVE_UP  223988.0  \n",
       "2      MOVE_DOWN  210943.0  \n",
       "3  SAME_POSITION  173865.0  \n",
       "4        MOVE_UP  153956.0  "
      ]
     },
     "execution_count": 8,
     "metadata": {},
     "output_type": "execute_result"
    }
   ],
   "source": [
    "data.head()"
   ]
  },
  {
   "cell_type": "code",
   "execution_count": 9,
   "id": "4775710e",
   "metadata": {},
   "outputs": [
    {
     "data": {
      "text/html": [
       "<div>\n",
       "<style scoped>\n",
       "    .dataframe tbody tr th:only-of-type {\n",
       "        vertical-align: middle;\n",
       "    }\n",
       "\n",
       "    .dataframe tbody tr th {\n",
       "        vertical-align: top;\n",
       "    }\n",
       "\n",
       "    .dataframe thead th {\n",
       "        text-align: right;\n",
       "    }\n",
       "</style>\n",
       "<table border=\"1\" class=\"dataframe\">\n",
       "  <thead>\n",
       "    <tr style=\"text-align: right;\">\n",
       "      <th></th>\n",
       "      <th>title</th>\n",
       "      <th>rank</th>\n",
       "      <th>date</th>\n",
       "      <th>artist</th>\n",
       "      <th>url</th>\n",
       "      <th>region</th>\n",
       "      <th>chart</th>\n",
       "      <th>trend</th>\n",
       "      <th>streams</th>\n",
       "    </tr>\n",
       "  </thead>\n",
       "  <tbody>\n",
       "    <tr>\n",
       "      <th>26173509</th>\n",
       "      <td>BYE</td>\n",
       "      <td>46</td>\n",
       "      <td>2021-07-31</td>\n",
       "      <td>Jaden</td>\n",
       "      <td>https://open.spotify.com/track/3OUyyDN7EZrL7i0...</td>\n",
       "      <td>Vietnam</td>\n",
       "      <td>viral50</td>\n",
       "      <td>MOVE_UP</td>\n",
       "      <td>NaN</td>\n",
       "    </tr>\n",
       "    <tr>\n",
       "      <th>26173510</th>\n",
       "      <td>Pillars</td>\n",
       "      <td>47</td>\n",
       "      <td>2021-07-31</td>\n",
       "      <td>My Anh</td>\n",
       "      <td>https://open.spotify.com/track/6eky30oFiQbHUAT...</td>\n",
       "      <td>Vietnam</td>\n",
       "      <td>viral50</td>\n",
       "      <td>NEW_ENTRY</td>\n",
       "      <td>NaN</td>\n",
       "    </tr>\n",
       "    <tr>\n",
       "      <th>26173511</th>\n",
       "      <td>Gái Độc Thân</td>\n",
       "      <td>48</td>\n",
       "      <td>2021-07-31</td>\n",
       "      <td>Tlinh</td>\n",
       "      <td>https://open.spotify.com/track/2klsSb2iTfgDh95...</td>\n",
       "      <td>Vietnam</td>\n",
       "      <td>viral50</td>\n",
       "      <td>MOVE_DOWN</td>\n",
       "      <td>NaN</td>\n",
       "    </tr>\n",
       "    <tr>\n",
       "      <th>26173512</th>\n",
       "      <td>Renegade (feat. Taylor Swift)</td>\n",
       "      <td>49</td>\n",
       "      <td>2021-07-31</td>\n",
       "      <td>Big Red Machine</td>\n",
       "      <td>https://open.spotify.com/track/1aU1wpYBSpP0M6I...</td>\n",
       "      <td>Vietnam</td>\n",
       "      <td>viral50</td>\n",
       "      <td>MOVE_DOWN</td>\n",
       "      <td>NaN</td>\n",
       "    </tr>\n",
       "    <tr>\n",
       "      <th>26173513</th>\n",
       "      <td>Letter to Jarad</td>\n",
       "      <td>50</td>\n",
       "      <td>2021-07-31</td>\n",
       "      <td>LRN Slime, Shiloh Dynasty</td>\n",
       "      <td>https://open.spotify.com/track/508QhA2SncMbh5C...</td>\n",
       "      <td>Vietnam</td>\n",
       "      <td>viral50</td>\n",
       "      <td>MOVE_DOWN</td>\n",
       "      <td>NaN</td>\n",
       "    </tr>\n",
       "  </tbody>\n",
       "</table>\n",
       "</div>"
      ],
      "text/plain": [
       "                                  title  rank        date  \\\n",
       "26173509                            BYE    46  2021-07-31   \n",
       "26173510                        Pillars    47  2021-07-31   \n",
       "26173511                   Gái Độc Thân    48  2021-07-31   \n",
       "26173512  Renegade (feat. Taylor Swift)    49  2021-07-31   \n",
       "26173513                Letter to Jarad    50  2021-07-31   \n",
       "\n",
       "                             artist  \\\n",
       "26173509                      Jaden   \n",
       "26173510                     My Anh   \n",
       "26173511                      Tlinh   \n",
       "26173512            Big Red Machine   \n",
       "26173513  LRN Slime, Shiloh Dynasty   \n",
       "\n",
       "                                                        url   region    chart  \\\n",
       "26173509  https://open.spotify.com/track/3OUyyDN7EZrL7i0...  Vietnam  viral50   \n",
       "26173510  https://open.spotify.com/track/6eky30oFiQbHUAT...  Vietnam  viral50   \n",
       "26173511  https://open.spotify.com/track/2klsSb2iTfgDh95...  Vietnam  viral50   \n",
       "26173512  https://open.spotify.com/track/1aU1wpYBSpP0M6I...  Vietnam  viral50   \n",
       "26173513  https://open.spotify.com/track/508QhA2SncMbh5C...  Vietnam  viral50   \n",
       "\n",
       "              trend  streams  \n",
       "26173509    MOVE_UP      NaN  \n",
       "26173510  NEW_ENTRY      NaN  \n",
       "26173511  MOVE_DOWN      NaN  \n",
       "26173512  MOVE_DOWN      NaN  \n",
       "26173513  MOVE_DOWN      NaN  "
      ]
     },
     "execution_count": 9,
     "metadata": {},
     "output_type": "execute_result"
    }
   ],
   "source": [
    "data.tail()"
   ]
  },
  {
   "cell_type": "code",
   "execution_count": 12,
   "id": "aa7b9a20",
   "metadata": {},
   "outputs": [
    {
     "data": {
      "text/plain": [
       "array(['top200', 'viral50'], dtype=object)"
      ]
     },
     "execution_count": 12,
     "metadata": {},
     "output_type": "execute_result"
    }
   ],
   "source": [
    "# Finding unique types in chart\n",
    "data.chart.unique()"
   ]
  },
  {
   "cell_type": "markdown",
   "id": "c4b43302",
   "metadata": {},
   "source": [
    "**There are two different values in \"Chart\", top200 and viral50.**\n",
    "\n",
    "In this project we are interested in inspecting and operating on data for the top chart of spotify. This is in our opinion the 'top200'-list, as the 'viral50'-list is a list determinated by Social media. The more talk and chatting on a specific track, determine the probability of ending up on the 'viral50'-list.\n",
    "This is the reason we  remove this from the dataset."
   ]
  },
  {
   "cell_type": "code",
   "execution_count": 14,
   "id": "1673af52",
   "metadata": {},
   "outputs": [
    {
     "data": {
      "text/plain": [
       "top200     20321904\n",
       "viral50     5851610\n",
       "Name: chart, dtype: int64"
      ]
     },
     "execution_count": 14,
     "metadata": {},
     "output_type": "execute_result"
    }
   ],
   "source": [
    "#How many entries in the 'viral50'\n",
    "data.chart.value_counts()"
   ]
  },
  {
   "cell_type": "code",
   "execution_count": 19,
   "id": "57a94517",
   "metadata": {},
   "outputs": [],
   "source": [
    "data = data[data.chart.str.contains(\"viral50\") == False]"
   ]
  },
  {
   "cell_type": "code",
   "execution_count": 20,
   "id": "a8a9725a",
   "metadata": {},
   "outputs": [
    {
     "data": {
      "text/plain": [
       "top200    20321904\n",
       "Name: chart, dtype: int64"
      ]
     },
     "execution_count": 20,
     "metadata": {},
     "output_type": "execute_result"
    }
   ],
   "source": [
    "data.chart.value_counts()"
   ]
  },
  {
   "cell_type": "code",
   "execution_count": 21,
   "id": "6f49ea47",
   "metadata": {},
   "outputs": [
    {
     "data": {
      "text/plain": [
       "(20321904, 9)"
      ]
     },
     "execution_count": 21,
     "metadata": {},
     "output_type": "execute_result"
    }
   ],
   "source": [
    "data.shape"
   ]
  },
  {
   "cell_type": "markdown",
   "id": "e6459492",
   "metadata": {},
   "source": [
    "The dataset has beed reduced by the 5851610 'viral50' entries "
   ]
  },
  {
   "cell_type": "markdown",
   "id": "7ed6c067",
   "metadata": {},
   "source": [
    "**The dataset has a trend column. This is the movement of a song on the chart, whether it has moved up or down the chart. \n",
    "We know that this dataset is collected weekley, and therefore there are dublicates of the songs on different positions. We are not interested in the same song multiple times, so we will try to remove these dublicates so we can get a much cleaner dataset."
   ]
  },
  {
   "cell_type": "code",
   "execution_count": null,
   "id": "4e35a1e7",
   "metadata": {},
   "outputs": [],
   "source": []
  }
 ],
 "metadata": {
  "kernelspec": {
   "display_name": "Python 3 (ipykernel)",
   "language": "python",
   "name": "python3"
  },
  "language_info": {
   "codemirror_mode": {
    "name": "ipython",
    "version": 3
   },
   "file_extension": ".py",
   "mimetype": "text/x-python",
   "name": "python",
   "nbconvert_exporter": "python",
   "pygments_lexer": "ipython3",
   "version": "3.9.7"
  }
 },
 "nbformat": 4,
 "nbformat_minor": 5
}
