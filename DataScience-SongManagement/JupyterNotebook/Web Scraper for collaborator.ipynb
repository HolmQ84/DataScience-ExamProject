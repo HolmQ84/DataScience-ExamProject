{
 "cells": [
  {
   "cell_type": "markdown",
   "id": "19eb40ce",
   "metadata": {},
   "source": [
    "# Creating the web scraper"
   ]
  },
  {
   "cell_type": "code",
   "execution_count": 19,
   "id": "fa213622",
   "metadata": {},
   "outputs": [],
   "source": [
    "import pandas as pd\n",
    "import numpy as np\n",
    "import matplotlib.pyplot as plt\n",
    "import seaborn as sns\n",
    "%matplotlib inline\n",
    "import requests\n",
    "from urllib.request import urlopen\n",
    "from bs4 import BeautifulSoup"
   ]
  },
  {
   "cell_type": "code",
   "execution_count": 20,
   "id": "e9483ca4",
   "metadata": {},
   "outputs": [],
   "source": [
    "def scraper(artist, track):\n",
    "    #r = requests.get('https://genius.com/' + artist + '-' + track + '-lyrics')\n",
    "    r = str('https://genius.com/' + artist + '-' + track + '-lyrics')\n",
    "\n",
    "    return str(r)"
   ]
  },
  {
   "cell_type": "code",
   "execution_count": 21,
   "id": "3b478946",
   "metadata": {},
   "outputs": [
    {
     "data": {
      "text/plain": [
       "'https://genius.com/some-th-lyrics'"
      ]
     },
     "execution_count": 21,
     "metadata": {},
     "output_type": "execute_result"
    }
   ],
   "source": [
    "arg1 = \"some\"\n",
    "arg2 = \"th\"\n",
    "\n",
    "scraper(arg1, arg2)"
   ]
  },
  {
   "cell_type": "code",
   "execution_count": null,
   "id": "2a4c3e6c",
   "metadata": {},
   "outputs": [],
   "source": []
  }
 ],
 "metadata": {
  "kernelspec": {
   "display_name": "Python 3 (ipykernel)",
   "language": "python",
   "name": "python3"
  },
  "language_info": {
   "codemirror_mode": {
    "name": "ipython",
    "version": 3
   },
   "file_extension": ".py",
   "mimetype": "text/x-python",
   "name": "python",
   "nbconvert_exporter": "python",
   "pygments_lexer": "ipython3",
   "version": "3.9.7"
  }
 },
 "nbformat": 4,
 "nbformat_minor": 5
}
