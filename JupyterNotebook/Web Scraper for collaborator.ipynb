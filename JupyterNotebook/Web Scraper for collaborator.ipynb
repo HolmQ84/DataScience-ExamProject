{
 "cells": [
  {
   "cell_type": "markdown",
   "id": "19eb40ce",
   "metadata": {},
   "source": [
    "# Creating the web scraper"
   ]
  },
  {
   "cell_type": "code",
   "execution_count": 12,
   "id": "fa213622",
   "metadata": {},
   "outputs": [],
   "source": [
    "import pandas as pd\n",
    "import numpy as np\n",
    "import matplotlib.pyplot as plt\n",
    "import seaborn as sns\n",
    "%matplotlib inline\n",
    "import requests\n",
    "from urllib.request import urlopen\n",
    "from bs4 import BeautifulSoup"
   ]
  },
  {
   "cell_type": "code",
   "execution_count": 13,
   "id": "e9483ca4",
   "metadata": {},
   "outputs": [],
   "source": [
    "def extract_credits(URL):\n",
    "    \n",
    "    r = requests.get(URL)\n",
    "    # Parsing the HTML\n",
    "    soup = BeautifulSoup(r.content, 'html.parser')\n",
    "    s = soup.find('div', class_='SongInfo__Columns-nekw6x-2 lgBflw')\n",
    "    \n",
    "    featur = []\n",
    "    writer = []\n",
    "    label = []\n",
    "    producer = []\n",
    "    \n",
    "    for line in s:\n",
    "        div = line.find('div').text\n",
    "        an = line.find_all('a')\n",
    "\n",
    "\n",
    "        if 'Featuring' in div: \n",
    "            extract = [x.text for x in an]\n",
    "            for x in extract:\n",
    "                featur.append(x)\n",
    "            \n",
    "       \n",
    "            \n",
    "        if 'Written By' in div:\n",
    "            extract = [x.text for x in an]\n",
    "            for x in extract:\n",
    "                writer.append(x)\n",
    "\n",
    "\n",
    "         \n",
    "        if 'Label' in div:\n",
    "            extract = [x.text for x in an]\n",
    "            for x in extract:\n",
    "                label.append(x)\n",
    "         \n",
    "        if 'Produced By' in div:\n",
    "            extract = [x.text for x in an]\n",
    "            for x in extract:\n",
    "                producer.append(x)\n",
    "\n",
    "            \n",
    "            \n",
    "    collection = {\"Feature\":featur, \"Writer\":writer, \"Label\":label, \"Producer\":producer}        \n",
    "        \n",
    "        \n",
    "    return collection\n"
   ]
  },
  {
   "cell_type": "code",
   "execution_count": 14,
   "id": "3b478946",
   "metadata": {},
   "outputs": [],
   "source": [
    "#URL =  'https://genius.com/Eminem-killshot-lyrics'\n",
    "#URL =  'https://genius.com/Rammstein-sonne-lyrics'\n",
    "URL = 'https://genius.com/Ricky-martin-vente-pa-ca-lyrics'\n",
    "\n",
    "\n",
    "list_ext = extract_credits(URL)"
   ]
  },
  {
   "cell_type": "code",
   "execution_count": 20,
   "id": "2a4c3e6c",
   "metadata": {},
   "outputs": [
    {
     "data": {
      "text/plain": [
       "{'Feature': ['Maluma'],\n",
       " 'Writer': ['Ronny Svendsen',\n",
       "  'Chief 1',\n",
       "  'Justin Jesso',\n",
       "  'Anne Judith Wik',\n",
       "  'Maluma',\n",
       "  'Carl Ryden',\n",
       "  'Nermin Harambašić',\n",
       "  'Ricky Martin',\n",
       "  'Mauricio Sebastián Montaner',\n",
       "  'Ricardo Andrés Montaner'],\n",
       " 'Label': [],\n",
       " 'Producer': ['Alexander “A.C.” Castillo']}"
      ]
     },
     "execution_count": 20,
     "metadata": {},
     "output_type": "execute_result"
    }
   ],
   "source": [
    "list_ext"
   ]
  },
  {
   "cell_type": "code",
   "execution_count": null,
   "id": "5663e92d",
   "metadata": {},
   "outputs": [],
   "source": []
  }
 ],
 "metadata": {
  "kernelspec": {
   "display_name": "Python 3 (ipykernel)",
   "language": "python",
   "name": "python3"
  },
  "language_info": {
   "codemirror_mode": {
    "name": "ipython",
    "version": 3
   },
   "file_extension": ".py",
   "mimetype": "text/x-python",
   "name": "python",
   "nbconvert_exporter": "python",
   "pygments_lexer": "ipython3",
   "version": "3.9.7"
  }
 },
 "nbformat": 4,
 "nbformat_minor": 5
}
