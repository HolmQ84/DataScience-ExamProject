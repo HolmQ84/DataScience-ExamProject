{
 "cells": [
  {
   "cell_type": "markdown",
   "id": "37913668",
   "metadata": {},
   "source": [
    "# Spotify data api application"
   ]
  },
  {
   "cell_type": "markdown",
   "id": "ed125c5c",
   "metadata": {},
   "source": [
    "## Imports"
   ]
  },
  {
   "cell_type": "code",
   "execution_count": 1,
   "id": "0802f133",
   "metadata": {},
   "outputs": [],
   "source": [
    "#!pip install spotipy\n",
    "#!pip install lyricsgenius\n",
    "\n",
    "import pandas as pd\n",
    "import spotipy\n",
    "from spotipy.oauth2 import SpotifyClientCredentials\n",
    "from lyricsgenius import Genius\n",
    "from bs4 import BeautifulSoup\n",
    "import requests"
   ]
  },
  {
   "cell_type": "markdown",
   "id": "11176fab",
   "metadata": {},
   "source": [
    "## Spotify api credentials"
   ]
  },
  {
   "cell_type": "code",
   "execution_count": 2,
   "id": "ab350082",
   "metadata": {},
   "outputs": [],
   "source": [
    "#Spotify credentials\n",
    "spotify_client_id = \"3a2f65eb20164b24b59b7fdd6876bb51\"\n",
    "spotify_client_secret = \"9f6d3a070cdf4eb8adda14a794d60469\"\n",
    "\n",
    "#Genius credentials\n",
    "genius_token = \"4SoLPv5UHyFZyAe5T-PhxS-bRCRrdNIgMNpeqjjIaWvnRbUmTpoGxd9knxBtlQyg\"\n",
    "\n",
    "#Authentication spotify - without user\n",
    "client_credentials_manager = SpotifyClientCredentials(client_id=\"3a2f65eb20164b24b59b7fdd6876bb51\", client_secret=\"9f6d3a070cdf4eb8adda14a794d60469\")\n",
    "sp = spotipy.Spotify(client_credentials_manager = client_credentials_manager)\n"
   ]
  },
  {
   "cell_type": "markdown",
   "id": "bca207ae",
   "metadata": {},
   "source": [
    "## Exploring the spotify API"
   ]
  },
  {
   "cell_type": "code",
   "execution_count": 3,
   "id": "a0fc0054",
   "metadata": {},
   "outputs": [],
   "source": [
    "#playlist_link = \"https://open.spotify.com/playlist/37i9dQZEVXbMDoHDwVN2tF?si=d0773fb69e964222\"\n",
    "playlist_link =\"https://open.spotify.com/playlist/4XDFklOPJOJp3geewWo6vo?si=97b4324becef4027\"\n",
    "playlist_URI = playlist_link.split(\"/\")[-1].split(\"?\")[0]\n",
    "track_uris = [x[\"track\"][\"uri\"] for x in sp.playlist_tracks(playlist_URI)[\"items\"]]"
   ]
  },
  {
   "cell_type": "code",
   "execution_count": 4,
   "id": "c7fca1cf",
   "metadata": {},
   "outputs": [
    {
     "name": "stdout",
     "output_type": "stream",
     "text": [
      "Goddess \n",
      " Jaira Burns \n",
      " spotify:track:6sOrImz4sRva0mZOrzD6G3\n",
      "Love Like Mine \n",
      " Stela Cole \n",
      " spotify:track:77qTofvKEVEcG49lhRhii4\n",
      "911 \n",
      " Ellise \n",
      " spotify:track:23KVefoON2iEz1dh940quQ\n",
      "Looking at Me \n",
      " Sabrina Carpenter \n",
      " spotify:track:59tskctgqUmjCWAwhzYAFm\n",
      "Don't Matter \n",
      " Derik Fein \n",
      " spotify:track:34MWcFztBH1V2hwzkmuvA6\n"
     ]
    }
   ],
   "source": [
    "for track in sp.playlist_tracks(playlist_URI)[\"items\"]:\n",
    "    \n",
    "    #URI\n",
    "    track_uri = track[\"track\"][\"uri\"]\n",
    "    \n",
    "    #Track name\n",
    "    track_name = track[\"track\"][\"name\"]\n",
    "    \n",
    "    #Main Artist\n",
    "    artist_uri = track[\"track\"][\"artists\"][0][\"uri\"]\n",
    "    artist_info = sp.artist(artist_uri)\n",
    "    \n",
    "    #Name, popularity, genre\n",
    "    artist_name = track[\"track\"][\"artists\"][0][\"name\"]\n",
    "    artist_pop = artist_info[\"popularity\"]\n",
    "    artist_genres = artist_info[\"genres\"]\n",
    "    \n",
    "    #Album\n",
    "    album = track[\"track\"][\"album\"][\"name\"]\n",
    "    \n",
    "    \n",
    "    \n",
    "    #Popularity of the track\n",
    "    track_pop = track[\"track\"][\"popularity\"]\n",
    "    \n",
    "    #print(track[\"track\"])\n",
    "    #Printin details\n",
    "    print(track_name,\"\\n\", \n",
    "          artist_name,\"\\n\",\n",
    "          #sp.audio_features(track_uri)[0], \"\\n\", \n",
    "          track_uri\n",
    "         )\n",
    "    "
   ]
  },
  {
   "cell_type": "markdown",
   "id": "fc695ba0",
   "metadata": {},
   "source": [
    "## Fetching song metrics"
   ]
  },
  {
   "cell_type": "code",
   "execution_count": 5,
   "id": "0cdb1126",
   "metadata": {},
   "outputs": [
    {
     "data": {
      "text/plain": [
       "{'danceability': 0.706,\n",
       " 'energy': 0.544,\n",
       " 'key': 1,\n",
       " 'loudness': -8.062,\n",
       " 'mode': 0,\n",
       " 'speechiness': 0.0502,\n",
       " 'acousticness': 0.406,\n",
       " 'instrumentalness': 0,\n",
       " 'liveness': 0.165,\n",
       " 'valence': 0.567,\n",
       " 'tempo': 98.892,\n",
       " 'type': 'audio_features',\n",
       " 'id': '34MWcFztBH1V2hwzkmuvA6',\n",
       " 'uri': 'spotify:track:34MWcFztBH1V2hwzkmuvA6',\n",
       " 'track_href': 'https://api.spotify.com/v1/tracks/34MWcFztBH1V2hwzkmuvA6',\n",
       " 'analysis_url': 'https://api.spotify.com/v1/audio-analysis/34MWcFztBH1V2hwzkmuvA6',\n",
       " 'duration_ms': 200447,\n",
       " 'time_signature': 4}"
      ]
     },
     "execution_count": 5,
     "metadata": {},
     "output_type": "execute_result"
    }
   ],
   "source": [
    "sp.audio_features(track_uri)[0]"
   ]
  },
  {
   "cell_type": "markdown",
   "id": "a0e9466f",
   "metadata": {},
   "source": [
    "# Saving info to Dataframe"
   ]
  },
  {
   "cell_type": "code",
   "execution_count": null,
   "id": "62a0c6d2",
   "metadata": {},
   "outputs": [],
   "source": []
  },
  {
   "cell_type": "markdown",
   "id": "09dfd5a1",
   "metadata": {},
   "source": [
    "## Fetching lyrics from Genius"
   ]
  },
  {
   "cell_type": "code",
   "execution_count": 6,
   "id": "7610821f",
   "metadata": {},
   "outputs": [],
   "source": [
    "import lyricsgenius\n",
    "LyricsGenius = lyricsgenius.Genius(genius_token)"
   ]
  },
  {
   "cell_type": "code",
   "execution_count": 7,
   "id": "7ec63ed4",
   "metadata": {},
   "outputs": [
    {
     "name": "stdout",
     "output_type": "stream",
     "text": [
      "Searching for \"Enemy\" by Imagine Dragons...\n",
      "Done.\n",
      "Enemy Lyrics[Intro: Dan Reynolds]\n",
      "Look out for yourself\n",
      "\n",
      "[Verse 1: Dan Reynolds]\n",
      "I wake up to the sounds of the silence that allows\n",
      "For my mind to run around, with my ear up to the ground\n",
      "I'm searching to behold the stories that are told\n",
      "When my back is to the world that was smiling when I turned\n",
      "\n",
      "[Pre-Chorus: Dan Reynolds]\n",
      "Tell you you're the greatest\n",
      "But once you turn, they hate us\n",
      "\n",
      "[Chorus: Dan Reynolds]\n",
      "Oh, the misery\n",
      "Everybody wants to be my enemy\n",
      "Spare the sympathy\n",
      "Everybody wants to be my enemy-y-y-y-y\n",
      "(Look out for yourself)\n",
      "My enemy-y-y-y-y (Look, look, look, look)\n",
      "(Look out for yourself)\n",
      "But I'm ready\n",
      "[Verse 2: Dan Reynolds]\n",
      "Your words up on thе wall as you're prayin' for my fall\n",
      "And the laughter in thе halls and the names that I've been called\n",
      "I stack it in my mind, and I'm waiting for the time\n",
      "When I show you what it's like to be words spit in a mic\n",
      "\n",
      "[Pre-Chorus: Dan Reynolds]\n",
      "Tell you you're the greatest\n",
      "But once you turn, they hate us (Ha)\n",
      "\n",
      "[Chorus: Dan Reynolds & JID]\n",
      "Oh, the misery\n",
      "Everybody wants to be my enemy\n",
      "Spare the sympathy\n",
      "Everybody wants to be my enemy-y-y-y-y (Look, look, look, look)\n",
      "(Look out for yourself)\n",
      "My enemy-y-y-y-y (Look, look, look, look; yeah)\n",
      "(Look out for yourself)\n",
      "Uh, look, okay\n",
      "\n",
      "[Verse 3: JID]\n",
      "I'm hopin' that somebody pray for me\n",
      "I'm prayin' that somebody hope for me\n",
      "I'm stayin' where nobody 'posed to be p-p-posted\n",
      "Being a wreck of emotions\n",
      "Ready to go whenever, just let me know\n",
      "The road is long, so put the pedal into the floor\n",
      "The enemy on my trail, my energy unavailable\n",
      "I'ma tell 'em, \"Hasta luego\"\n",
      "They wanna plot on my trot to the top\n",
      "I been outta shape, thinkin' out the box, I'm an astronaut\n",
      "I blasted off the planet rock to cause catastrophe\n",
      "And it matters more because I had it not\n",
      "Had I thought about wreaking havoc\n",
      "On an opposition, kinda shockin' they wanted static\n",
      "With precision, I'm automatic quarterback\n",
      "I ain't talkin' sackin', pack it\n",
      "Pack it up, I don't panic, batter-batter up\n",
      "Who the baddest? It don't matter 'cause we at your throat\n",
      "[Chorus: Dan Reynolds]\n",
      "Everybody wants to be my enemy\n",
      "Spare the sympathy (Ah)\n",
      "Everybody wants to be my enemy\n",
      "Oh, the misery (Ah)\n",
      "Everybody wants to be my enemy\n",
      "Spare the sympathy (Ah)\n",
      "Everybody wants to be my enemy\n",
      "\n",
      "[Outro: Dan Reynolds]\n",
      "Pray it away, I swear I'll never be a saint, no way\n",
      "My enemy\n",
      "Pray it away, I swear I'll never be a saint\n",
      "(Look out for yourself)58Embed\n"
     ]
    }
   ],
   "source": [
    "lyric = LyricsGenius.search_song(\"Enemy\", \"Imagine Dragons\").lyrics\n",
    "print(lyric)"
   ]
  },
  {
   "cell_type": "code",
   "execution_count": 8,
   "id": "0a6e8c1d",
   "metadata": {},
   "outputs": [
    {
     "name": "stdout",
     "output_type": "stream",
     "text": [
      "Goddess \n",
      " Jaira Burns \n",
      " spotify:track:6sOrImz4sRva0mZOrzD6G3\n",
      "Love Like Mine \n",
      " Stela Cole \n",
      " spotify:track:77qTofvKEVEcG49lhRhii4\n",
      "911 \n",
      " Ellise \n",
      " spotify:track:23KVefoON2iEz1dh940quQ\n",
      "Looking at Me \n",
      " Sabrina Carpenter \n",
      " spotify:track:59tskctgqUmjCWAwhzYAFm\n",
      "Don't Matter \n",
      " Derik Fein \n",
      " spotify:track:34MWcFztBH1V2hwzkmuvA6\n"
     ]
    }
   ],
   "source": [
    "for track in sp.playlist_tracks(playlist_URI)[\"items\"]:\n",
    "    \n",
    "    #URI\n",
    "    track_uri = track[\"track\"][\"uri\"]\n",
    "    \n",
    "    #Track name\n",
    "    track_name = track[\"track\"][\"name\"]\n",
    "    \n",
    "    #Main Artist\n",
    "    artist_uri = track[\"track\"][\"artists\"][0][\"uri\"]\n",
    "    artist_info = sp.artist(artist_uri)\n",
    "    \n",
    "    #Name, popularity, genre\n",
    "    artist_name = track[\"track\"][\"artists\"][0][\"name\"]\n",
    "    artist_pop = artist_info[\"popularity\"]\n",
    "    artist_genres = artist_info[\"genres\"]\n",
    "    \n",
    "    #Album\n",
    "    album = track[\"track\"][\"album\"][\"name\"]\n",
    "    \n",
    "    \n",
    "    \n",
    "    #Popularity of the track\n",
    "    track_pop = track[\"track\"][\"popularity\"]\n",
    "    \n",
    "    #print(track[\"track\"])\n",
    "    #Printin details\n",
    "    print(track_name,\"\\n\", \n",
    "          artist_name,\"\\n\",\n",
    "          #sp.audio_features(track_uri)[0], \"\\n\", \n",
    "          track_uri\n",
    "         )"
   ]
  },
  {
   "cell_type": "code",
   "execution_count": 9,
   "id": "dc6a2482",
   "metadata": {},
   "outputs": [],
   "source": [
    "def combineSongAndLyric():\n",
    "    trackName = []\n",
    "    artistName = []\n",
    "    lyrics = []\n",
    "    \n",
    "    \n",
    "    for track in sp.playlist_tracks(playlist_URI)[\"items\"]:\n",
    "    \n",
    "        #Track name\n",
    "        track_name = track[\"track\"][\"name\"]\n",
    "        #print(track_name)\n",
    "        \n",
    "        #Artist name\n",
    "        artist_name = track[\"track\"][\"artists\"][0][\"name\"]\n",
    "        #print(artist_name)\n",
    "        \n",
    "        #Songs Lyrics\n",
    "        song_lyric = LyricsGenius.search_song(track_name, artist_name).lyrics\n",
    "        #print(song_lyric)\n",
    "        \n",
    "        trackName.append(track_name)\n",
    "        artistName.append(artist_name)\n",
    "        lyrics.append(song_lyric)\n",
    "        \n",
    "        print(str(track+1) + ' of ' + str() + ' songs iterated.', end='\\r')\n",
    "    \n",
    "    tempDf = pd.DataFrame({\n",
    "    'track':trackName,\n",
    "    'artist':artistName,\n",
    "    'lyrics':lyrics    \n",
    "    })\n",
    "    \n",
    "    \n",
    "    return tempDf"
   ]
  },
  {
   "cell_type": "code",
   "execution_count": 10,
   "id": "54672f9d",
   "metadata": {},
   "outputs": [
    {
     "name": "stdout",
     "output_type": "stream",
     "text": [
      "Searching for \"Goddess\" by Jaira Burns...\n",
      "Done.\n"
     ]
    },
    {
     "ename": "TypeError",
     "evalue": "unsupported operand type(s) for +: 'dict' and 'int'",
     "output_type": "error",
     "traceback": [
      "\u001b[1;31m---------------------------------------------------------------------------\u001b[0m",
      "\u001b[1;31mTypeError\u001b[0m                                 Traceback (most recent call last)",
      "Input \u001b[1;32mIn [10]\u001b[0m, in \u001b[0;36m<module>\u001b[1;34m\u001b[0m\n\u001b[1;32m----> 1\u001b[0m df \u001b[38;5;241m=\u001b[39m \u001b[43mcombineSongAndLyric\u001b[49m\u001b[43m(\u001b[49m\u001b[43m)\u001b[49m\n\u001b[0;32m      2\u001b[0m df\n",
      "Input \u001b[1;32mIn [9]\u001b[0m, in \u001b[0;36mcombineSongAndLyric\u001b[1;34m()\u001b[0m\n\u001b[0;32m     22\u001b[0m     artistName\u001b[38;5;241m.\u001b[39mappend(artist_name)\n\u001b[0;32m     23\u001b[0m     lyrics\u001b[38;5;241m.\u001b[39mappend(song_lyric)\n\u001b[1;32m---> 25\u001b[0m     \u001b[38;5;28mprint\u001b[39m(\u001b[38;5;28mstr\u001b[39m(\u001b[43mtrack\u001b[49m\u001b[38;5;241;43m+\u001b[39;49m\u001b[38;5;241;43m1\u001b[39;49m) \u001b[38;5;241m+\u001b[39m \u001b[38;5;124m'\u001b[39m\u001b[38;5;124m of \u001b[39m\u001b[38;5;124m'\u001b[39m \u001b[38;5;241m+\u001b[39m \u001b[38;5;28mstr\u001b[39m() \u001b[38;5;241m+\u001b[39m \u001b[38;5;124m'\u001b[39m\u001b[38;5;124m songs iterated.\u001b[39m\u001b[38;5;124m'\u001b[39m, end\u001b[38;5;241m=\u001b[39m\u001b[38;5;124m'\u001b[39m\u001b[38;5;130;01m\\r\u001b[39;00m\u001b[38;5;124m'\u001b[39m)\n\u001b[0;32m     27\u001b[0m tempDf \u001b[38;5;241m=\u001b[39m pd\u001b[38;5;241m.\u001b[39mDataFrame({\n\u001b[0;32m     28\u001b[0m \u001b[38;5;124m'\u001b[39m\u001b[38;5;124mtrack\u001b[39m\u001b[38;5;124m'\u001b[39m:trackName,\n\u001b[0;32m     29\u001b[0m \u001b[38;5;124m'\u001b[39m\u001b[38;5;124martist\u001b[39m\u001b[38;5;124m'\u001b[39m:artistName,\n\u001b[0;32m     30\u001b[0m \u001b[38;5;124m'\u001b[39m\u001b[38;5;124mlyrics\u001b[39m\u001b[38;5;124m'\u001b[39m:lyrics    \n\u001b[0;32m     31\u001b[0m })\n\u001b[0;32m     34\u001b[0m \u001b[38;5;28;01mreturn\u001b[39;00m tempDf\n",
      "\u001b[1;31mTypeError\u001b[0m: unsupported operand type(s) for +: 'dict' and 'int'"
     ]
    }
   ],
   "source": [
    "df = combineSongAndLyric()\n",
    "df"
   ]
  },
  {
   "cell_type": "code",
   "execution_count": 12,
   "id": "30ccab04",
   "metadata": {},
   "outputs": [
    {
     "name": "stdout",
     "output_type": "stream",
     "text": [
      "Searching for \"Goddess\" by Jaira Burns...\n",
      "Done.\n",
      "1 of 5 songs iterated.\n",
      "Searching for \"Love Like Mine\" by Stela Cole...\n",
      "Done.\n",
      "2 of 5 songs iterated.\n",
      "Searching for \"911\" by Ellise...\n",
      "Done.\n",
      "3 of 5 songs iterated.\n",
      "Searching for \"Looking at Me\" by Sabrina Carpenter...\n",
      "Done.\n",
      "4 of 5 songs iterated.\n",
      "Searching for \"Don't Matter\" by Derik Fein...\n",
      "Done.\n",
      "5 of 5 songs iterated.\n"
     ]
    },
    {
     "ename": "ValueError",
     "evalue": "All arrays must be of the same length",
     "output_type": "error",
     "traceback": [
      "\u001b[1;31m---------------------------------------------------------------------------\u001b[0m",
      "\u001b[1;31mValueError\u001b[0m                                Traceback (most recent call last)",
      "Input \u001b[1;32mIn [12]\u001b[0m, in \u001b[0;36m<module>\u001b[1;34m\u001b[0m\n\u001b[0;32m     34\u001b[0m     tempDf \u001b[38;5;241m=\u001b[39m pd\u001b[38;5;241m.\u001b[39mDataFrame({\n\u001b[0;32m     35\u001b[0m     \u001b[38;5;124m'\u001b[39m\u001b[38;5;124mtrack\u001b[39m\u001b[38;5;124m'\u001b[39m:trackName,\n\u001b[0;32m     36\u001b[0m     \u001b[38;5;124m'\u001b[39m\u001b[38;5;124martist\u001b[39m\u001b[38;5;124m'\u001b[39m:artistName,\n\u001b[0;32m     37\u001b[0m     \u001b[38;5;124m'\u001b[39m\u001b[38;5;124mlyrics\u001b[39m\u001b[38;5;124m'\u001b[39m:lyrics    \n\u001b[0;32m     38\u001b[0m     })\n\u001b[0;32m     41\u001b[0m     \u001b[38;5;28;01mreturn\u001b[39;00m tempDf\n\u001b[1;32m---> 43\u001b[0m \u001b[43mtestSongAndLyric\u001b[49m\u001b[43m(\u001b[49m\u001b[43m)\u001b[49m\n",
      "Input \u001b[1;32mIn [12]\u001b[0m, in \u001b[0;36mtestSongAndLyric\u001b[1;34m()\u001b[0m\n\u001b[0;32m     30\u001b[0m     \u001b[38;5;28mprint\u001b[39m(\u001b[38;5;28mstr\u001b[39m(i\u001b[38;5;241m+\u001b[39m\u001b[38;5;241m1\u001b[39m) \u001b[38;5;241m+\u001b[39m \u001b[38;5;124m'\u001b[39m\u001b[38;5;124m of \u001b[39m\u001b[38;5;124m'\u001b[39m \u001b[38;5;241m+\u001b[39m \u001b[38;5;28mstr\u001b[39m(\u001b[38;5;28mlen\u001b[39m(playlist)) \u001b[38;5;241m+\u001b[39m \u001b[38;5;124m'\u001b[39m\u001b[38;5;124m songs iterated.\u001b[39m\u001b[38;5;124m'\u001b[39m)\n\u001b[0;32m     32\u001b[0m     \u001b[38;5;66;03m#print(str(track + 1))\u001b[39;00m\n\u001b[1;32m---> 34\u001b[0m tempDf \u001b[38;5;241m=\u001b[39m \u001b[43mpd\u001b[49m\u001b[38;5;241;43m.\u001b[39;49m\u001b[43mDataFrame\u001b[49m\u001b[43m(\u001b[49m\u001b[43m{\u001b[49m\n\u001b[0;32m     35\u001b[0m \u001b[43m\u001b[49m\u001b[38;5;124;43m'\u001b[39;49m\u001b[38;5;124;43mtrack\u001b[39;49m\u001b[38;5;124;43m'\u001b[39;49m\u001b[43m:\u001b[49m\u001b[43mtrackName\u001b[49m\u001b[43m,\u001b[49m\n\u001b[0;32m     36\u001b[0m \u001b[43m\u001b[49m\u001b[38;5;124;43m'\u001b[39;49m\u001b[38;5;124;43martist\u001b[39;49m\u001b[38;5;124;43m'\u001b[39;49m\u001b[43m:\u001b[49m\u001b[43martistName\u001b[49m\u001b[43m,\u001b[49m\n\u001b[0;32m     37\u001b[0m \u001b[43m\u001b[49m\u001b[38;5;124;43m'\u001b[39;49m\u001b[38;5;124;43mlyrics\u001b[39;49m\u001b[38;5;124;43m'\u001b[39;49m\u001b[43m:\u001b[49m\u001b[43mlyrics\u001b[49m\u001b[43m    \u001b[49m\n\u001b[0;32m     38\u001b[0m \u001b[43m\u001b[49m\u001b[43m}\u001b[49m\u001b[43m)\u001b[49m\n\u001b[0;32m     41\u001b[0m \u001b[38;5;28;01mreturn\u001b[39;00m tempDf\n",
      "File \u001b[1;32mC:\\Python310\\lib\\site-packages\\pandas\\core\\frame.py:636\u001b[0m, in \u001b[0;36mDataFrame.__init__\u001b[1;34m(self, data, index, columns, dtype, copy)\u001b[0m\n\u001b[0;32m    630\u001b[0m     mgr \u001b[38;5;241m=\u001b[39m \u001b[38;5;28mself\u001b[39m\u001b[38;5;241m.\u001b[39m_init_mgr(\n\u001b[0;32m    631\u001b[0m         data, axes\u001b[38;5;241m=\u001b[39m{\u001b[38;5;124m\"\u001b[39m\u001b[38;5;124mindex\u001b[39m\u001b[38;5;124m\"\u001b[39m: index, \u001b[38;5;124m\"\u001b[39m\u001b[38;5;124mcolumns\u001b[39m\u001b[38;5;124m\"\u001b[39m: columns}, dtype\u001b[38;5;241m=\u001b[39mdtype, copy\u001b[38;5;241m=\u001b[39mcopy\n\u001b[0;32m    632\u001b[0m     )\n\u001b[0;32m    634\u001b[0m \u001b[38;5;28;01melif\u001b[39;00m \u001b[38;5;28misinstance\u001b[39m(data, \u001b[38;5;28mdict\u001b[39m):\n\u001b[0;32m    635\u001b[0m     \u001b[38;5;66;03m# GH#38939 de facto copy defaults to False only in non-dict cases\u001b[39;00m\n\u001b[1;32m--> 636\u001b[0m     mgr \u001b[38;5;241m=\u001b[39m \u001b[43mdict_to_mgr\u001b[49m\u001b[43m(\u001b[49m\u001b[43mdata\u001b[49m\u001b[43m,\u001b[49m\u001b[43m \u001b[49m\u001b[43mindex\u001b[49m\u001b[43m,\u001b[49m\u001b[43m \u001b[49m\u001b[43mcolumns\u001b[49m\u001b[43m,\u001b[49m\u001b[43m \u001b[49m\u001b[43mdtype\u001b[49m\u001b[38;5;241;43m=\u001b[39;49m\u001b[43mdtype\u001b[49m\u001b[43m,\u001b[49m\u001b[43m \u001b[49m\u001b[43mcopy\u001b[49m\u001b[38;5;241;43m=\u001b[39;49m\u001b[43mcopy\u001b[49m\u001b[43m,\u001b[49m\u001b[43m \u001b[49m\u001b[43mtyp\u001b[49m\u001b[38;5;241;43m=\u001b[39;49m\u001b[43mmanager\u001b[49m\u001b[43m)\u001b[49m\n\u001b[0;32m    637\u001b[0m \u001b[38;5;28;01melif\u001b[39;00m \u001b[38;5;28misinstance\u001b[39m(data, ma\u001b[38;5;241m.\u001b[39mMaskedArray):\n\u001b[0;32m    638\u001b[0m     \u001b[38;5;28;01mimport\u001b[39;00m \u001b[38;5;21;01mnumpy\u001b[39;00m\u001b[38;5;21;01m.\u001b[39;00m\u001b[38;5;21;01mma\u001b[39;00m\u001b[38;5;21;01m.\u001b[39;00m\u001b[38;5;21;01mmrecords\u001b[39;00m \u001b[38;5;28;01mas\u001b[39;00m \u001b[38;5;21;01mmrecords\u001b[39;00m\n",
      "File \u001b[1;32mC:\\Python310\\lib\\site-packages\\pandas\\core\\internals\\construction.py:502\u001b[0m, in \u001b[0;36mdict_to_mgr\u001b[1;34m(data, index, columns, dtype, typ, copy)\u001b[0m\n\u001b[0;32m    494\u001b[0m     arrays \u001b[38;5;241m=\u001b[39m [\n\u001b[0;32m    495\u001b[0m         x\n\u001b[0;32m    496\u001b[0m         \u001b[38;5;28;01mif\u001b[39;00m \u001b[38;5;129;01mnot\u001b[39;00m \u001b[38;5;28mhasattr\u001b[39m(x, \u001b[38;5;124m\"\u001b[39m\u001b[38;5;124mdtype\u001b[39m\u001b[38;5;124m\"\u001b[39m) \u001b[38;5;129;01mor\u001b[39;00m \u001b[38;5;129;01mnot\u001b[39;00m \u001b[38;5;28misinstance\u001b[39m(x\u001b[38;5;241m.\u001b[39mdtype, ExtensionDtype)\n\u001b[0;32m    497\u001b[0m         \u001b[38;5;28;01melse\u001b[39;00m x\u001b[38;5;241m.\u001b[39mcopy()\n\u001b[0;32m    498\u001b[0m         \u001b[38;5;28;01mfor\u001b[39;00m x \u001b[38;5;129;01min\u001b[39;00m arrays\n\u001b[0;32m    499\u001b[0m     ]\n\u001b[0;32m    500\u001b[0m     \u001b[38;5;66;03m# TODO: can we get rid of the dt64tz special case above?\u001b[39;00m\n\u001b[1;32m--> 502\u001b[0m \u001b[38;5;28;01mreturn\u001b[39;00m \u001b[43marrays_to_mgr\u001b[49m\u001b[43m(\u001b[49m\u001b[43marrays\u001b[49m\u001b[43m,\u001b[49m\u001b[43m \u001b[49m\u001b[43mcolumns\u001b[49m\u001b[43m,\u001b[49m\u001b[43m \u001b[49m\u001b[43mindex\u001b[49m\u001b[43m,\u001b[49m\u001b[43m \u001b[49m\u001b[43mdtype\u001b[49m\u001b[38;5;241;43m=\u001b[39;49m\u001b[43mdtype\u001b[49m\u001b[43m,\u001b[49m\u001b[43m \u001b[49m\u001b[43mtyp\u001b[49m\u001b[38;5;241;43m=\u001b[39;49m\u001b[43mtyp\u001b[49m\u001b[43m,\u001b[49m\u001b[43m \u001b[49m\u001b[43mconsolidate\u001b[49m\u001b[38;5;241;43m=\u001b[39;49m\u001b[43mcopy\u001b[49m\u001b[43m)\u001b[49m\n",
      "File \u001b[1;32mC:\\Python310\\lib\\site-packages\\pandas\\core\\internals\\construction.py:120\u001b[0m, in \u001b[0;36marrays_to_mgr\u001b[1;34m(arrays, columns, index, dtype, verify_integrity, typ, consolidate)\u001b[0m\n\u001b[0;32m    117\u001b[0m \u001b[38;5;28;01mif\u001b[39;00m verify_integrity:\n\u001b[0;32m    118\u001b[0m     \u001b[38;5;66;03m# figure out the index, if necessary\u001b[39;00m\n\u001b[0;32m    119\u001b[0m     \u001b[38;5;28;01mif\u001b[39;00m index \u001b[38;5;129;01mis\u001b[39;00m \u001b[38;5;28;01mNone\u001b[39;00m:\n\u001b[1;32m--> 120\u001b[0m         index \u001b[38;5;241m=\u001b[39m \u001b[43m_extract_index\u001b[49m\u001b[43m(\u001b[49m\u001b[43marrays\u001b[49m\u001b[43m)\u001b[49m\n\u001b[0;32m    121\u001b[0m     \u001b[38;5;28;01melse\u001b[39;00m:\n\u001b[0;32m    122\u001b[0m         index \u001b[38;5;241m=\u001b[39m ensure_index(index)\n",
      "File \u001b[1;32mC:\\Python310\\lib\\site-packages\\pandas\\core\\internals\\construction.py:674\u001b[0m, in \u001b[0;36m_extract_index\u001b[1;34m(data)\u001b[0m\n\u001b[0;32m    672\u001b[0m lengths \u001b[38;5;241m=\u001b[39m \u001b[38;5;28mlist\u001b[39m(\u001b[38;5;28mset\u001b[39m(raw_lengths))\n\u001b[0;32m    673\u001b[0m \u001b[38;5;28;01mif\u001b[39;00m \u001b[38;5;28mlen\u001b[39m(lengths) \u001b[38;5;241m>\u001b[39m \u001b[38;5;241m1\u001b[39m:\n\u001b[1;32m--> 674\u001b[0m     \u001b[38;5;28;01mraise\u001b[39;00m \u001b[38;5;167;01mValueError\u001b[39;00m(\u001b[38;5;124m\"\u001b[39m\u001b[38;5;124mAll arrays must be of the same length\u001b[39m\u001b[38;5;124m\"\u001b[39m)\n\u001b[0;32m    676\u001b[0m \u001b[38;5;28;01mif\u001b[39;00m have_dicts:\n\u001b[0;32m    677\u001b[0m     \u001b[38;5;28;01mraise\u001b[39;00m \u001b[38;5;167;01mValueError\u001b[39;00m(\n\u001b[0;32m    678\u001b[0m         \u001b[38;5;124m\"\u001b[39m\u001b[38;5;124mMixing dicts with non-Series may lead to ambiguous ordering.\u001b[39m\u001b[38;5;124m\"\u001b[39m\n\u001b[0;32m    679\u001b[0m     )\n",
      "\u001b[1;31mValueError\u001b[0m: All arrays must be of the same length"
     ]
    }
   ],
   "source": [
    "playlist = sp.playlist_tracks(playlist_URI)[\"items\"]\n",
    "\n",
    "\n",
    "\n",
    "def testSongAndLyric():\n",
    "    trackName = []\n",
    "    artistName = []\n",
    "    lyrics = []\n",
    "    \n",
    "    \n",
    "    for i, track in enumerate(playlist):\n",
    "        \n",
    "        #Track name\n",
    "        track_name = track[\"track\"][\"name\"]\n",
    "        #print(track_name)\n",
    "        \n",
    "        #Artist name\n",
    "        artist_name = track[\"track\"][\"artists\"][0][\"name\"]\n",
    "        #print(artist_name)\n",
    "        \n",
    "        #Songs Lyrics\n",
    "        song_lyric = LyricsGenius.search_song(track_name, artist_name,False).lyrics\n",
    "        #print(song_lyric)\n",
    "        \n",
    "        trackName.append(track_name)\n",
    "        artistName.append(artist_name)\n",
    "        lyrics.append(song_lyric)\n",
    "        \n",
    "       \n",
    "        print(str(i+1) + ' of ' + str(len(playlist)) + ' songs iterated.')\n",
    "        \n",
    "        #print(str(track + 1))\n",
    "        \n",
    "    tempDf = pd.DataFrame({\n",
    "    'track':trackName,\n",
    "    'artist':artistName,\n",
    "    'lyrics':lyrics    \n",
    "    })\n",
    "    \n",
    "    \n",
    "    return tempDf\n",
    "\n",
    "testSongAndLyric()"
   ]
  },
  {
   "cell_type": "code",
   "execution_count": null,
   "id": "416d8b79",
   "metadata": {},
   "outputs": [],
   "source": []
  }
 ],
 "metadata": {
  "kernelspec": {
   "display_name": "Python 3 (ipykernel)",
   "language": "python",
   "name": "python3"
  },
  "language_info": {
   "codemirror_mode": {
    "name": "ipython",
    "version": 3
   },
   "file_extension": ".py",
   "mimetype": "text/x-python",
   "name": "python",
   "nbconvert_exporter": "python",
   "pygments_lexer": "ipython3",
   "version": "3.10.4"
  }
 },
 "nbformat": 4,
 "nbformat_minor": 5
}
